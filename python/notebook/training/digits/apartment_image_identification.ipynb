{
 "cells": [
  {
   "cell_type": "markdown",
   "metadata": {},
   "source": [
    "# Apartment Image Identification\n",
    "\n",
    "Detects Street and Apartment numbers in the dataset03/ApartmentTraining images.  This identity is necessary for training as well as summarizing results (and also serves as a validation for the digits model)"
   ]
  },
  {
   "cell_type": "code",
   "execution_count": 276,
   "metadata": {},
   "outputs": [
    {
     "data": {
      "text/plain": [
       "<Figure size 432x288 with 0 Axes>"
      ]
     },
     "metadata": {},
     "output_type": "display_data"
    }
   ],
   "source": [
    "import os\n",
    "import os.path as osp\n",
    "import json\n",
    "from cvutils.mrcnn.session import init_keras_session\n",
    "from celldom.dataset import utils as dataset_utils\n",
    "from celldom.preprocessing import apartment_extraction\n",
    "from skimage import io as sk_io\n",
    "from skimage.exposure import rescale_intensity\n",
    "from skimage.color import gray2rgb\n",
    "from skimage.transform import resize\n",
    "import numpy as np\n",
    "import pandas as pd\n",
    "import matplotlib.pyplot as plt\n",
    "import keras\n",
    "\n",
    "init_keras_session()\n",
    "plt.gray()\n",
    "\n",
    "chip_config_path = osp.join(os.environ['CELLDOM_REPO_DIR'], 'config', 'chip_01_config.json')\n",
    "model_path = osp.join(os.environ['CELLDOM_DATA_DIR'], 'model', 'r0.2', 'digit_model', 'tune', 'single_digit_model.h5')\n",
    "data_dir = osp.join(os.environ['CELLDOM_DATA_DIR'], 'dataset', 'dataset03', 'ApartmentTraining')\n",
    "result_dir = osp.join(os.environ['CELLDOM_DATA_DIR'], 'dataset', 'dataset03', 'ApartmentTraining', 'analysis')"
   ]
  },
  {
   "cell_type": "code",
   "execution_count": 70,
   "metadata": {},
   "outputs": [],
   "source": [
    "with open(chip_config_path, 'r') as fd:\n",
    "    chip_config = json.load(fd)"
   ]
  },
  {
   "cell_type": "code",
   "execution_count": 72,
   "metadata": {},
   "outputs": [],
   "source": [
    "digit_model = keras.models.load_model(model_path)"
   ]
  },
  {
   "cell_type": "code",
   "execution_count": 73,
   "metadata": {},
   "outputs": [
    {
     "data": {
      "text/html": [
       "<div>\n",
       "<style scoped>\n",
       "    .dataframe tbody tr th:only-of-type {\n",
       "        vertical-align: middle;\n",
       "    }\n",
       "\n",
       "    .dataframe tbody tr th {\n",
       "        vertical-align: top;\n",
       "    }\n",
       "\n",
       "    .dataframe thead th {\n",
       "        text-align: right;\n",
       "    }\n",
       "</style>\n",
       "<table border=\"1\" class=\"dataframe\">\n",
       "  <thead>\n",
       "    <tr style=\"text-align: right;\">\n",
       "      <th></th>\n",
       "      <th>image_name</th>\n",
       "      <th>image_path</th>\n",
       "      <th>annot_path</th>\n",
       "      <th>annot_exists</th>\n",
       "    </tr>\n",
       "  </thead>\n",
       "  <tbody>\n",
       "    <tr>\n",
       "      <th>2023</th>\n",
       "      <td>BF_ST_006_APT_020-1nMQuiz-02-03-201805311723-z...</td>\n",
       "      <td>/lab/data/celldom/dataset/dataset03/ApartmentT...</td>\n",
       "      <td>/lab/data/celldom/dataset/dataset03/ApartmentT...</td>\n",
       "      <td>True</td>\n",
       "    </tr>\n",
       "    <tr>\n",
       "      <th>1741</th>\n",
       "      <td>BF_ST_006_APT_020-1nMQuiz-02-03-201805311723-z...</td>\n",
       "      <td>/lab/data/celldom/dataset/dataset03/ApartmentT...</td>\n",
       "      <td>/lab/data/celldom/dataset/dataset03/ApartmentT...</td>\n",
       "      <td>True</td>\n",
       "    </tr>\n",
       "    <tr>\n",
       "      <th>1332</th>\n",
       "      <td>BF_ST_006_APT_020-1nMQuiz-02-03-201805311723-z...</td>\n",
       "      <td>/lab/data/celldom/dataset/dataset03/ApartmentT...</td>\n",
       "      <td>/lab/data/celldom/dataset/dataset03/ApartmentT...</td>\n",
       "      <td>True</td>\n",
       "    </tr>\n",
       "    <tr>\n",
       "      <th>2082</th>\n",
       "      <td>BF_ST_006_APT_020-1nMQuiz-02-03-201805311723-z...</td>\n",
       "      <td>/lab/data/celldom/dataset/dataset03/ApartmentT...</td>\n",
       "      <td>/lab/data/celldom/dataset/dataset03/ApartmentT...</td>\n",
       "      <td>True</td>\n",
       "    </tr>\n",
       "    <tr>\n",
       "      <th>748</th>\n",
       "      <td>BF_ST_006_APT_020-1nMQuiz-02-03-201805311723-z...</td>\n",
       "      <td>/lab/data/celldom/dataset/dataset03/ApartmentT...</td>\n",
       "      <td>/lab/data/celldom/dataset/dataset03/ApartmentT...</td>\n",
       "      <td>True</td>\n",
       "    </tr>\n",
       "  </tbody>\n",
       "</table>\n",
       "</div>"
      ],
      "text/plain": [
       "                                             image_name  \\\n",
       "2023  BF_ST_006_APT_020-1nMQuiz-02-03-201805311723-z...   \n",
       "1741  BF_ST_006_APT_020-1nMQuiz-02-03-201805311723-z...   \n",
       "1332  BF_ST_006_APT_020-1nMQuiz-02-03-201805311723-z...   \n",
       "2082  BF_ST_006_APT_020-1nMQuiz-02-03-201805311723-z...   \n",
       "748   BF_ST_006_APT_020-1nMQuiz-02-03-201805311723-z...   \n",
       "\n",
       "                                             image_path  \\\n",
       "2023  /lab/data/celldom/dataset/dataset03/ApartmentT...   \n",
       "1741  /lab/data/celldom/dataset/dataset03/ApartmentT...   \n",
       "1332  /lab/data/celldom/dataset/dataset03/ApartmentT...   \n",
       "2082  /lab/data/celldom/dataset/dataset03/ApartmentT...   \n",
       "748   /lab/data/celldom/dataset/dataset03/ApartmentT...   \n",
       "\n",
       "                                             annot_path  annot_exists  \n",
       "2023  /lab/data/celldom/dataset/dataset03/ApartmentT...          True  \n",
       "1741  /lab/data/celldom/dataset/dataset03/ApartmentT...          True  \n",
       "1332  /lab/data/celldom/dataset/dataset03/ApartmentT...          True  \n",
       "2082  /lab/data/celldom/dataset/dataset03/ApartmentT...          True  \n",
       "748   /lab/data/celldom/dataset/dataset03/ApartmentT...          True  "
      ]
     },
     "execution_count": 73,
     "metadata": {},
     "output_type": "execute_result"
    }
   ],
   "source": [
    "data_files = dataset_utils.get_data_files(data_dir, patterns=['*.jpeg'])\n",
    "data_files.head()"
   ]
  },
  {
   "cell_type": "code",
   "execution_count": 74,
   "metadata": {},
   "outputs": [
    {
     "data": {
      "text/plain": [
       "False    5412\n",
       "True      680\n",
       "Name: annot_exists, dtype: int64"
      ]
     },
     "execution_count": 74,
     "metadata": {},
     "output_type": "execute_result"
    }
   ],
   "source": [
    "data_files.annot_exists.value_counts()"
   ]
  },
  {
   "cell_type": "code",
   "execution_count": 260,
   "metadata": {},
   "outputs": [
    {
     "data": {
      "text/plain": [
       "((310, 235), dtype('uint8'))"
      ]
     },
     "execution_count": 260,
     "metadata": {},
     "output_type": "execute_result"
    }
   ],
   "source": [
    "img = sk_io.imread(data_files['image_path'].iloc[630])\n",
    "img.shape, img.dtype"
   ]
  },
  {
   "cell_type": "code",
   "execution_count": 261,
   "metadata": {},
   "outputs": [
    {
     "data": {
      "text/plain": [
       "<matplotlib.image.AxesImage at 0x7f9b20754780>"
      ]
     },
     "execution_count": 261,
     "metadata": {},
     "output_type": "execute_result"
    },
    {
     "data": {
      "image/png": "[encoded data removed]",
      "text/plain": [
       "<Figure size 432x288 with 1 Axes>"
      ]
     },
     "metadata": {},
     "output_type": "display_data"
    }
   ],
   "source": [
    "plt.imshow(img)"
   ]
  },
  {
   "cell_type": "code",
   "execution_count": 262,
   "metadata": {},
   "outputs": [
    {
     "data": {
      "text/html": [
       "<div>\n",
       "<style scoped>\n",
       "    .dataframe tbody tr th:only-of-type {\n",
       "        vertical-align: middle;\n",
       "    }\n",
       "\n",
       "    .dataframe tbody tr th {\n",
       "        vertical-align: top;\n",
       "    }\n",
       "\n",
       "    .dataframe thead th {\n",
       "        text-align: right;\n",
       "    }\n",
       "</style>\n",
       "<table border=\"1\" class=\"dataframe\">\n",
       "  <thead>\n",
       "    <tr style=\"text-align: right;\">\n",
       "      <th></th>\n",
       "      <th>x</th>\n",
       "      <th>y</th>\n",
       "    </tr>\n",
       "  </thead>\n",
       "  <tbody>\n",
       "    <tr>\n",
       "      <th>0</th>\n",
       "      <td>160</td>\n",
       "      <td>250</td>\n",
       "    </tr>\n",
       "  </tbody>\n",
       "</table>\n",
       "</div>"
      ],
      "text/plain": [
       "     x    y\n",
       "0  160  250"
      ]
     },
     "execution_count": 262,
     "metadata": {},
     "output_type": "execute_result"
    }
   ],
   "source": [
    "marker_y = -chip_config['apt_margins']['top']\n",
    "marker_x = -chip_config['apt_margins']['left']\n",
    "center = pd.DataFrame({'y': [marker_y], 'x': [marker_x]})\n",
    "center"
   ]
  },
  {
   "cell_type": "code",
   "execution_count": 263,
   "metadata": {},
   "outputs": [
    {
     "data": {
      "text/plain": [
       "<module 'celldom.preprocessing.apartment_extraction' from '/lab/repos/celldom/python/source/celldom/preprocessing/apartment_extraction.py'>"
      ]
     },
     "execution_count": 263,
     "metadata": {},
     "output_type": "execute_result"
    }
   ],
   "source": [
    "with open(chip_config_path, 'r') as fd:\n",
    "    chip_config = json.load(fd)\n",
    "import imp\n",
    "imp.reload(apartment_extraction)"
   ]
  },
  {
   "cell_type": "code",
   "execution_count": 264,
   "metadata": {},
   "outputs": [],
   "source": [
    "extractions = apartment_extraction.extract_images(img, center, chip_config)"
   ]
  },
  {
   "cell_type": "code",
   "execution_count": 265,
   "metadata": {},
   "outputs": [
    {
     "data": {
      "text/plain": [
       "1"
      ]
     },
     "execution_count": 265,
     "metadata": {},
     "output_type": "execute_result"
    }
   ],
   "source": [
    "len(extractions)"
   ]
  },
  {
   "cell_type": "code",
   "execution_count": 266,
   "metadata": {},
   "outputs": [
    {
     "data": {
      "image/png": "[encoded data removed]",
      "text/plain": [
       "<Figure size 864x864 with 9 Axes>"
      ]
     },
     "metadata": {},
     "output_type": "display_data"
    }
   ],
   "source": [
    "apartment_extraction.visualize_extraction(extractions[0])"
   ]
  },
  {
   "cell_type": "code",
   "execution_count": 267,
   "metadata": {},
   "outputs": [],
   "source": [
    "def prep_digit_image(img):\n",
    "    # Note that gray2rgb will take care of converting from uint8 to float in 0-1\n",
    "    assert img.dtype == np.uint8\n",
    "    img = gray2rgb(resize(img, (32, 32), mode='constant', anti_aliasing=True)).astype(np.float32)\n",
    "    assert np.all(img <= 1.) and np.all(img >= 0.)\n",
    "    return img\n",
    "\n",
    "def get_digits(digit_imgs, digit_model):\n",
    "    preds = digit_model.predict(np.stack([prep_digit_image(img) for img in digit_imgs]))\n",
    "    digits = np.argmax(preds, axis=1)\n",
    "    scores = np.max(preds, axis=1)\n",
    "    return ''.join([str(d) for d in digits]), scores\n",
    "\n",
    "def get_address(extraction, digit_model):\n",
    "    apt_num, st_num = None, None\n",
    "    \n",
    "    if extraction.get('apartment_num_digit_images') is not None:\n",
    "        apt_num, apt_num_scores = get_digits(extraction['apartment_num_digit_images'], digit_model)    \n",
    "    if extraction.get('street_num_digit_images') is not None:\n",
    "        st_num, st_num_scores = get_digits(extraction['street_num_digit_images'], digit_model)\n",
    "    \n",
    "    return apt_num, apt_num_scores, st_num, st_num_scores"
   ]
  },
  {
   "cell_type": "code",
   "execution_count": 268,
   "metadata": {},
   "outputs": [
    {
     "name": "stderr",
     "output_type": "stream",
     "text": [
      "/usr/local/lib/python3.5/dist-packages/skimage/transform/_warps.py:110: UserWarning: Anti-aliasing will be enabled by default in skimage 0.15 to avoid aliasing artifacts when down-sampling images.\n",
      "  warn(\"Anti-aliasing will be enabled by default in skimage 0.15 to \"\n"
     ]
    },
    {
     "data": {
      "text/plain": [
       "('022',\n",
       " array([0.99999964, 1.        , 1.        ], dtype=float32),\n",
       " '008',\n",
       " array([1.        , 1.        , 0.99999905], dtype=float32))"
      ]
     },
     "execution_count": 268,
     "metadata": {},
     "output_type": "execute_result"
    }
   ],
   "source": [
    "get_address(extractions[0], digit_model)"
   ]
  },
  {
   "cell_type": "code",
   "execution_count": 269,
   "metadata": {},
   "outputs": [
    {
     "name": "stderr",
     "output_type": "stream",
     "text": [
      "/usr/local/lib/python3.5/dist-packages/skimage/transform/_warps.py:110: UserWarning: Anti-aliasing will be enabled by default in skimage 0.15 to avoid aliasing artifacts when down-sampling images.\n",
      "  warn(\"Anti-aliasing will be enabled by default in skimage 0.15 to \"\n"
     ]
    }
   ],
   "source": [
    "def run_identification(data_files):\n",
    "    df = []\n",
    "    for i, r in data_files.copy().iterrows():\n",
    "        img = sk_io.imread(r['image_path'])\n",
    "        extraction = apartment_extraction.extract_images(img, center, chip_config)[0]\n",
    "        apt_num, apt_num_scores, st_num, st_num_scores = get_address(extraction, digit_model)\n",
    "        r['apt_num'] = apt_num\n",
    "        r['st_num'] = st_num\n",
    "        df.append(r)\n",
    "    return pd.DataFrame(df)\n",
    "\n",
    "df_id = run_identification(data_files)"
   ]
  },
  {
   "cell_type": "code",
   "execution_count": 270,
   "metadata": {},
   "outputs": [
    {
     "data": {
      "text/html": [
       "<div>\n",
       "<style scoped>\n",
       "    .dataframe tbody tr th:only-of-type {\n",
       "        vertical-align: middle;\n",
       "    }\n",
       "\n",
       "    .dataframe tbody tr th {\n",
       "        vertical-align: top;\n",
       "    }\n",
       "\n",
       "    .dataframe thead th {\n",
       "        text-align: right;\n",
       "    }\n",
       "</style>\n",
       "<table border=\"1\" class=\"dataframe\">\n",
       "  <thead>\n",
       "    <tr style=\"text-align: right;\">\n",
       "      <th></th>\n",
       "      <th>image_name</th>\n",
       "      <th>image_path</th>\n",
       "      <th>annot_path</th>\n",
       "      <th>annot_exists</th>\n",
       "      <th>apt_num</th>\n",
       "      <th>st_num</th>\n",
       "    </tr>\n",
       "  </thead>\n",
       "  <tbody>\n",
       "    <tr>\n",
       "      <th>2023</th>\n",
       "      <td>BF_ST_006_APT_020-1nMQuiz-02-03-201805311723-z...</td>\n",
       "      <td>/lab/data/celldom/dataset/dataset03/ApartmentT...</td>\n",
       "      <td>/lab/data/celldom/dataset/dataset03/ApartmentT...</td>\n",
       "      <td>True</td>\n",
       "      <td>022</td>\n",
       "      <td>009</td>\n",
       "    </tr>\n",
       "    <tr>\n",
       "      <th>1741</th>\n",
       "      <td>BF_ST_006_APT_020-1nMQuiz-02-03-201805311723-z...</td>\n",
       "      <td>/lab/data/celldom/dataset/dataset03/ApartmentT...</td>\n",
       "      <td>/lab/data/celldom/dataset/dataset03/ApartmentT...</td>\n",
       "      <td>True</td>\n",
       "      <td>022</td>\n",
       "      <td>009</td>\n",
       "    </tr>\n",
       "    <tr>\n",
       "      <th>1332</th>\n",
       "      <td>BF_ST_006_APT_020-1nMQuiz-02-03-201805311723-z...</td>\n",
       "      <td>/lab/data/celldom/dataset/dataset03/ApartmentT...</td>\n",
       "      <td>/lab/data/celldom/dataset/dataset03/ApartmentT...</td>\n",
       "      <td>True</td>\n",
       "      <td>022</td>\n",
       "      <td>009</td>\n",
       "    </tr>\n",
       "    <tr>\n",
       "      <th>2082</th>\n",
       "      <td>BF_ST_006_APT_020-1nMQuiz-02-03-201805311723-z...</td>\n",
       "      <td>/lab/data/celldom/dataset/dataset03/ApartmentT...</td>\n",
       "      <td>/lab/data/celldom/dataset/dataset03/ApartmentT...</td>\n",
       "      <td>True</td>\n",
       "      <td>022</td>\n",
       "      <td>009</td>\n",
       "    </tr>\n",
       "    <tr>\n",
       "      <th>748</th>\n",
       "      <td>BF_ST_006_APT_020-1nMQuiz-02-03-201805311723-z...</td>\n",
       "      <td>/lab/data/celldom/dataset/dataset03/ApartmentT...</td>\n",
       "      <td>/lab/data/celldom/dataset/dataset03/ApartmentT...</td>\n",
       "      <td>True</td>\n",
       "      <td>022</td>\n",
       "      <td>009</td>\n",
       "    </tr>\n",
       "  </tbody>\n",
       "</table>\n",
       "</div>"
      ],
      "text/plain": [
       "                                             image_name  \\\n",
       "2023  BF_ST_006_APT_020-1nMQuiz-02-03-201805311723-z...   \n",
       "1741  BF_ST_006_APT_020-1nMQuiz-02-03-201805311723-z...   \n",
       "1332  BF_ST_006_APT_020-1nMQuiz-02-03-201805311723-z...   \n",
       "2082  BF_ST_006_APT_020-1nMQuiz-02-03-201805311723-z...   \n",
       "748   BF_ST_006_APT_020-1nMQuiz-02-03-201805311723-z...   \n",
       "\n",
       "                                             image_path  \\\n",
       "2023  /lab/data/celldom/dataset/dataset03/ApartmentT...   \n",
       "1741  /lab/data/celldom/dataset/dataset03/ApartmentT...   \n",
       "1332  /lab/data/celldom/dataset/dataset03/ApartmentT...   \n",
       "2082  /lab/data/celldom/dataset/dataset03/ApartmentT...   \n",
       "748   /lab/data/celldom/dataset/dataset03/ApartmentT...   \n",
       "\n",
       "                                             annot_path  annot_exists apt_num  \\\n",
       "2023  /lab/data/celldom/dataset/dataset03/ApartmentT...          True     022   \n",
       "1741  /lab/data/celldom/dataset/dataset03/ApartmentT...          True     022   \n",
       "1332  /lab/data/celldom/dataset/dataset03/ApartmentT...          True     022   \n",
       "2082  /lab/data/celldom/dataset/dataset03/ApartmentT...          True     022   \n",
       "748   /lab/data/celldom/dataset/dataset03/ApartmentT...          True     022   \n",
       "\n",
       "     st_num  \n",
       "2023    009  \n",
       "1741    009  \n",
       "1332    009  \n",
       "2082    009  \n",
       "748     009  "
      ]
     },
     "execution_count": 270,
     "metadata": {},
     "output_type": "execute_result"
    }
   ],
   "source": [
    "df_id.head()"
   ]
  },
  {
   "cell_type": "code",
   "execution_count": 271,
   "metadata": {},
   "outputs": [
    {
     "data": {
      "text/plain": [
       "image_name        BF_ST_006_APT_020-1nMQuiz-02-03-201805311723-z...\n",
       "image_path        /lab/data/celldom/dataset/dataset03/ApartmentT...\n",
       "annot_path        /lab/data/celldom/dataset/dataset03/ApartmentT...\n",
       "annot_exists                                                   True\n",
       "apt_num                                                         022\n",
       "st_num                                                          009\n",
       "approx_address                                    BF_ST_006_APT_020\n",
       "cohort                                                      1nMQuiz\n",
       "date                                                   201805311723\n",
       "z                                                               z_0\n",
       "Name: 2023, dtype: object"
      ]
     },
     "execution_count": 271,
     "metadata": {},
     "output_type": "execute_result"
    }
   ],
   "source": [
    "df_id['approx_address'] = df_id['image_name'].apply(lambda v: v.split('-')[0])\n",
    "df_id['cohort'] = df_id['image_name'].apply(lambda v: v.split('-')[1])\n",
    "df_id['date'] = df_id['image_name'].apply(lambda v: v.split('-')[4])\n",
    "df_id['z'] = df_id['image_name'].apply(lambda v: v.split('-')[5])\n",
    "df_id.iloc[0]"
   ]
  },
  {
   "cell_type": "code",
   "execution_count": 274,
   "metadata": {},
   "outputs": [
    {
     "data": {
      "text/html": [
       "<div>\n",
       "<style scoped>\n",
       "    .dataframe tbody tr th:only-of-type {\n",
       "        vertical-align: middle;\n",
       "    }\n",
       "\n",
       "    .dataframe tbody tr th {\n",
       "        vertical-align: top;\n",
       "    }\n",
       "\n",
       "    .dataframe thead th {\n",
       "        text-align: right;\n",
       "    }\n",
       "</style>\n",
       "<table border=\"1\" class=\"dataframe\">\n",
       "  <thead>\n",
       "    <tr style=\"text-align: right;\">\n",
       "      <th></th>\n",
       "      <th>st_num</th>\n",
       "      <th>apt_num</th>\n",
       "    </tr>\n",
       "  </thead>\n",
       "  <tbody>\n",
       "    <tr>\n",
       "      <th>count</th>\n",
       "      <td>6092</td>\n",
       "      <td>6092</td>\n",
       "    </tr>\n",
       "    <tr>\n",
       "      <th>unique</th>\n",
       "      <td>1</td>\n",
       "      <td>1</td>\n",
       "    </tr>\n",
       "    <tr>\n",
       "      <th>top</th>\n",
       "      <td>False</td>\n",
       "      <td>False</td>\n",
       "    </tr>\n",
       "    <tr>\n",
       "      <th>freq</th>\n",
       "      <td>6092</td>\n",
       "      <td>6092</td>\n",
       "    </tr>\n",
       "  </tbody>\n",
       "</table>\n",
       "</div>"
      ],
      "text/plain": [
       "       st_num apt_num\n",
       "count    6092    6092\n",
       "unique      1       1\n",
       "top     False   False\n",
       "freq     6092    6092"
      ]
     },
     "execution_count": 274,
     "metadata": {},
     "output_type": "execute_result"
    }
   ],
   "source": [
    "df_id[['st_num', 'apt_num']].isnull().describe()"
   ]
  },
  {
   "cell_type": "code",
   "execution_count": 275,
   "metadata": {},
   "outputs": [
    {
     "data": {
      "text/html": [
       "<div>\n",
       "<style scoped>\n",
       "    .dataframe tbody tr th:only-of-type {\n",
       "        vertical-align: middle;\n",
       "    }\n",
       "\n",
       "    .dataframe tbody tr th {\n",
       "        vertical-align: top;\n",
       "    }\n",
       "\n",
       "    .dataframe thead th {\n",
       "        text-align: right;\n",
       "    }\n",
       "</style>\n",
       "<table border=\"1\" class=\"dataframe\">\n",
       "  <thead>\n",
       "    <tr style=\"text-align: right;\">\n",
       "      <th></th>\n",
       "      <th>st_num</th>\n",
       "      <th>apt_num</th>\n",
       "    </tr>\n",
       "  </thead>\n",
       "  <tbody>\n",
       "    <tr>\n",
       "      <th>count</th>\n",
       "      <td>6092.0</td>\n",
       "      <td>6092.0</td>\n",
       "    </tr>\n",
       "    <tr>\n",
       "      <th>mean</th>\n",
       "      <td>3.0</td>\n",
       "      <td>3.0</td>\n",
       "    </tr>\n",
       "    <tr>\n",
       "      <th>std</th>\n",
       "      <td>0.0</td>\n",
       "      <td>0.0</td>\n",
       "    </tr>\n",
       "    <tr>\n",
       "      <th>min</th>\n",
       "      <td>3.0</td>\n",
       "      <td>3.0</td>\n",
       "    </tr>\n",
       "    <tr>\n",
       "      <th>25%</th>\n",
       "      <td>3.0</td>\n",
       "      <td>3.0</td>\n",
       "    </tr>\n",
       "    <tr>\n",
       "      <th>50%</th>\n",
       "      <td>3.0</td>\n",
       "      <td>3.0</td>\n",
       "    </tr>\n",
       "    <tr>\n",
       "      <th>75%</th>\n",
       "      <td>3.0</td>\n",
       "      <td>3.0</td>\n",
       "    </tr>\n",
       "    <tr>\n",
       "      <th>max</th>\n",
       "      <td>3.0</td>\n",
       "      <td>3.0</td>\n",
       "    </tr>\n",
       "  </tbody>\n",
       "</table>\n",
       "</div>"
      ],
      "text/plain": [
       "       st_num  apt_num\n",
       "count  6092.0   6092.0\n",
       "mean      3.0      3.0\n",
       "std       0.0      0.0\n",
       "min       3.0      3.0\n",
       "25%       3.0      3.0\n",
       "50%       3.0      3.0\n",
       "75%       3.0      3.0\n",
       "max       3.0      3.0"
      ]
     },
     "execution_count": 275,
     "metadata": {},
     "output_type": "execute_result"
    }
   ],
   "source": [
    "df_id[['st_num', 'apt_num']].applymap(len).describe()"
   ]
  },
  {
   "cell_type": "code",
   "execution_count": 277,
   "metadata": {},
   "outputs": [
    {
     "data": {
      "text/plain": [
       "'/lab/data/celldom/dataset/dataset03/ApartmentTraining/associations/identities.csv'"
      ]
     },
     "execution_count": 277,
     "metadata": {},
     "output_type": "execute_result"
    }
   ],
   "source": [
    "exp_path = osp.join(result_dir, 'identities.csv')\n",
    "df_id.to_csv(exp_path, index=False)\n",
    "exp_path"
   ]
  }
 ],
 "metadata": {
  "kernelspec": {
   "display_name": "Python 3",
   "language": "python",
   "name": "python3"
  },
  "language_info": {
   "codemirror_mode": {
    "name": "ipython",
    "version": 3
   },
   "file_extension": ".py",
   "mimetype": "text/x-python",
   "name": "python",
   "nbconvert_exporter": "python",
   "pygments_lexer": "ipython3",
   "version": "3.5.2"
  }
 },
 "nbformat": 4,
 "nbformat_minor": 2
}
