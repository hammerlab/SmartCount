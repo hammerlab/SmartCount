{
 "cells": [
  {
   "cell_type": "markdown",
   "metadata": {},
   "source": [
    "## Digit Image Extraction\n",
    "\n",
    "This notebook is used to extract digit image patches from previously cropped and labeled apartment images.  \n",
    "\n",
    "Note that the patch selection is semi-automated and involves using edge detectors + morphological operators to infer where the digit is in an apartment image.  \n",
    "\n",
    "This is then followed by a round of QA where every single image extracted is validated."
   ]
  },
  {
   "cell_type": "code",
   "execution_count": 1,
   "metadata": {},
   "outputs": [
    {
     "data": {
      "text/plain": [
       "('/lab/data/celldom/dataset/dataset02',\n",
       " '/lab/data/celldom/dataset/training/digit/r0.6',\n",
       " '/lab/data/celldom/dataset/training/digit/r0.6/multi',\n",
       " '/lab/data/celldom/dataset/training/digit/r0.6/single')"
      ]
     },
     "execution_count": 1,
     "metadata": {},
     "output_type": "execute_result"
    }
   ],
   "source": [
    "from cvutils.rectlabel import io as rectlabel_io\n",
    "import os\n",
    "import re\n",
    "import os.path as osp\n",
    "import pandas as pd\n",
    "import numpy as np\n",
    "import matplotlib.pyplot as plt\n",
    "from skimage import io as sk_io\n",
    "from skimage.color import rgb2gray\n",
    "from scipy import ndimage as ndi\n",
    "from skimage import morphology\n",
    "from skimage import feature\n",
    "\n",
    "SOURCE_DATA_PATH = osp.join(os.environ['CELLDOM_DATA_DIR'], 'dataset', 'dataset02')\n",
    "#RESULT_DIR = osp.join(os.environ['CELLDOM_DATA_DIR'], 'dataset', 'dataset03', 'DigitTraining')\n",
    "\n",
    "# Image patches are first extracted to RESULT_DIR and then moved to VALIDATED_DIR after QA\n",
    "RESULT_DIR = osp.join(os.environ['CELLDOM_DATA_DIR'], 'dataset', 'training', 'digit', 'r0.6', 'extract')\n",
    "VALIDATED_DIR = osp.join(os.environ['CELLDOM_DATA_DIR'], 'dataset', 'training', 'digit', 'r0.6', 'validated')\n",
    "\n",
    "MULTI_DIGIT_DIR = osp.join(RESULT_DIR, 'multi')\n",
    "SINGLE_DIGIT_DIR = osp.join(RESULT_DIR, 'single')\n",
    "\n",
    "# Initialize directory in which validated images will be stored\n",
    "SINGLE_DIGIT_VALIDATED = osp.join(VALIDATED_DIR, 'single')\n",
    "\n",
    "SOURCE_DATA_PATH, RESULT_DIR, MULTI_DIGIT_DIR, SINGLE_DIGIT_DIR, SINGLE_DIGIT_VALIDATED"
   ]
  },
  {
   "cell_type": "code",
   "execution_count": 2,
   "metadata": {},
   "outputs": [],
   "source": [
    "os.makedirs(MULTI_DIGIT_DIR, exist_ok=True)\n",
    "os.makedirs(SINGLE_DIGIT_DIR, exist_ok=True)"
   ]
  },
  {
   "cell_type": "code",
   "execution_count": 3,
   "metadata": {},
   "outputs": [
    {
     "data": {
      "text/html": [
       "<div>\n",
       "<style scoped>\n",
       "    .dataframe tbody tr th:only-of-type {\n",
       "        vertical-align: middle;\n",
       "    }\n",
       "\n",
       "    .dataframe tbody tr th {\n",
       "        vertical-align: top;\n",
       "    }\n",
       "\n",
       "    .dataframe thead th {\n",
       "        text-align: right;\n",
       "    }\n",
       "</style>\n",
       "<table border=\"1\" class=\"dataframe\">\n",
       "  <thead>\n",
       "    <tr style=\"text-align: right;\">\n",
       "      <th></th>\n",
       "      <th>image_name</th>\n",
       "      <th>image_path</th>\n",
       "      <th>annot_path</th>\n",
       "      <th>annot_exists</th>\n",
       "    </tr>\n",
       "  </thead>\n",
       "  <tbody>\n",
       "    <tr>\n",
       "      <th>0</th>\n",
       "      <td>BF_ST_014_APT_005Day0.jpg</td>\n",
       "      <td>/lab/data/celldom/dataset/dataset02/BF_ST_014_...</td>\n",
       "      <td>/lab/data/celldom/dataset/dataset02/annotation...</td>\n",
       "      <td>False</td>\n",
       "    </tr>\n",
       "    <tr>\n",
       "      <th>1</th>\n",
       "      <td>BF_ST_001_APT_001Day3.jpg</td>\n",
       "      <td>/lab/data/celldom/dataset/dataset02/BF_ST_001_...</td>\n",
       "      <td>/lab/data/celldom/dataset/dataset02/annotation...</td>\n",
       "      <td>True</td>\n",
       "    </tr>\n",
       "    <tr>\n",
       "      <th>2</th>\n",
       "      <td>BF_ST_005_APT_006Day0.jpg</td>\n",
       "      <td>/lab/data/celldom/dataset/dataset02/BF_ST_005_...</td>\n",
       "      <td>/lab/data/celldom/dataset/dataset02/annotation...</td>\n",
       "      <td>False</td>\n",
       "    </tr>\n",
       "    <tr>\n",
       "      <th>3</th>\n",
       "      <td>BF_ST_000_APT_002Day1.jpg</td>\n",
       "      <td>/lab/data/celldom/dataset/dataset02/BF_ST_000_...</td>\n",
       "      <td>/lab/data/celldom/dataset/dataset02/annotation...</td>\n",
       "      <td>True</td>\n",
       "    </tr>\n",
       "    <tr>\n",
       "      <th>4</th>\n",
       "      <td>BF_ST_007_APT_009Day0.jpg</td>\n",
       "      <td>/lab/data/celldom/dataset/dataset02/BF_ST_007_...</td>\n",
       "      <td>/lab/data/celldom/dataset/dataset02/annotation...</td>\n",
       "      <td>False</td>\n",
       "    </tr>\n",
       "  </tbody>\n",
       "</table>\n",
       "</div>"
      ],
      "text/plain": [
       "                  image_name  \\\n",
       "0  BF_ST_014_APT_005Day0.jpg   \n",
       "1  BF_ST_001_APT_001Day3.jpg   \n",
       "2  BF_ST_005_APT_006Day0.jpg   \n",
       "3  BF_ST_000_APT_002Day1.jpg   \n",
       "4  BF_ST_007_APT_009Day0.jpg   \n",
       "\n",
       "                                          image_path  \\\n",
       "0  /lab/data/celldom/dataset/dataset02/BF_ST_014_...   \n",
       "1  /lab/data/celldom/dataset/dataset02/BF_ST_001_...   \n",
       "2  /lab/data/celldom/dataset/dataset02/BF_ST_005_...   \n",
       "3  /lab/data/celldom/dataset/dataset02/BF_ST_000_...   \n",
       "4  /lab/data/celldom/dataset/dataset02/BF_ST_007_...   \n",
       "\n",
       "                                          annot_path  annot_exists  \n",
       "0  /lab/data/celldom/dataset/dataset02/annotation...         False  \n",
       "1  /lab/data/celldom/dataset/dataset02/annotation...          True  \n",
       "2  /lab/data/celldom/dataset/dataset02/annotation...         False  \n",
       "3  /lab/data/celldom/dataset/dataset02/annotation...          True  \n",
       "4  /lab/data/celldom/dataset/dataset02/annotation...         False  "
      ]
     },
     "execution_count": 3,
     "metadata": {},
     "output_type": "execute_result"
    }
   ],
   "source": [
    "df = pd.DataFrame(rectlabel_io.list_dir(SOURCE_DATA_PATH))\n",
    "df.head()"
   ]
  },
  {
   "cell_type": "code",
   "execution_count": 4,
   "metadata": {},
   "outputs": [
    {
     "data": {
      "text/plain": [
       "False    664\n",
       "True     160\n",
       "Name: annot_exists, dtype: int64"
      ]
     },
     "execution_count": 4,
     "metadata": {},
     "output_type": "execute_result"
    }
   ],
   "source": [
    "df.annot_exists.value_counts()"
   ]
  },
  {
   "cell_type": "code",
   "execution_count": 5,
   "metadata": {},
   "outputs": [
    {
     "data": {
      "text/plain": [
       "<matplotlib.image.AxesImage at 0x7fcd5e8f1dd8>"
      ]
     },
     "execution_count": 5,
     "metadata": {},
     "output_type": "execute_result"
    },
    {
     "data": {
      "image/png": "[encoded data removed]",
      "text/plain": [
       "<Figure size 432x288 with 1 Axes>"
      ]
     },
     "metadata": {},
     "output_type": "display_data"
    }
   ],
   "source": [
    "plt.imshow(sk_io.imread(df.iloc[8]['image_path']))"
   ]
  },
  {
   "cell_type": "code",
   "execution_count": 49,
   "metadata": {},
   "outputs": [],
   "source": [
    "from scipy import ndimage as ndi\n",
    "from skimage import morphology\n",
    "from skimage import feature\n",
    "from skimage import measure\n",
    "\n",
    "class InvalidNumberOfDigitsException(Exception):\n",
    "    pass\n",
    "\n",
    "def extract(img, true_digits, pad_y=10, pad_x=10):\n",
    "    assert img.ndim == 2\n",
    "    assert img.dtype == np.uint8\n",
    "    assert isinstance(true_digits, str)\n",
    "    \n",
    "    n_digit = len(true_digits)\n",
    "    \n",
    "    # Define sillouhette of digits\n",
    "    img_obj_raw = feature.canny(img, sigma=1.0)\n",
    "    img_obj_raw = morphology.closing(img_obj_raw)\n",
    "    img_obj_raw = ndi.binary_fill_holes(img_obj_raw)\n",
    "    img_obj = morphology.remove_small_objects(img_obj_raw, min_size=64)\n",
    "    \n",
    "    # Label the objects in the images (which is usually just a hull around digits)\n",
    "    img_obj = morphology.label(img_obj)\n",
    "    \n",
    "    # Restrict to the n_digit largest images\n",
    "    props = measure.regionprops(img_obj)\n",
    "    order = list(np.argsort([p.area for p in props]))[(-n_digit):]\n",
    "    props = [props[i] for i in order]\n",
    "    \n",
    "    # Now sort remainder from left to right\n",
    "    # *According to docs: Centroid coordinate tuple (row, col)\n",
    "    order = list(np.argsort([p.centroid[1] for p in props]))\n",
    "    props = [props[i] for i in order]\n",
    "    \n",
    "    if len(props) != n_digit:\n",
    "        fig, ax = plt.subplots(1, 1)\n",
    "        ax.imshow(img_obj_raw)\n",
    "        ax.set_title('Failed image num objects = {}'.format(len(props)))\n",
    "        raise InvalidNumberOfDigitsException()\n",
    "    \n",
    "    digit_imgs = []\n",
    "    for digit in props:\n",
    "        # (min_row, min_col, max_row, max_col)\n",
    "        bbox = digit.bbox\n",
    "        minr = max(bbox[0] - pad_y, 0)\n",
    "        maxr = min(bbox[2] + pad_y, img.shape[0])\n",
    "        minc = max(bbox[1] - pad_x, 0)\n",
    "        maxc = min(bbox[3] + pad_x, img.shape[1])\n",
    "        digit_imgs.append(img[minr:maxr, minc:maxc])\n",
    "        \n",
    "    return digit_imgs\n",
    "    "
   ]
  },
  {
   "cell_type": "code",
   "execution_count": 50,
   "metadata": {},
   "outputs": [],
   "source": [
    "def prep(img):\n",
    "    assert img.dtype == np.uint8\n",
    "    assert img.ndim == 3\n",
    "    assert img.shape[2] == 3\n",
    "    assert np.all(img[..., 0] == img[..., 1])\n",
    "    assert np.all(img[..., 0] == img[..., 2])\n",
    "    img = img[..., 0]\n",
    "    return img\n",
    "\n",
    "def process(img_path, img_name):\n",
    "    # Extract true st + apt num from file name (like \"BF_ST_014_APT_004Day0.jpg\") and ensure\n",
    "    # that there are exactly 2 digits in each; Note: Ignore the leading 0 because there\n",
    "    # are only 2 actual digits on the chips\n",
    "    st_num, apt_num = re.findall('BF_ST_0(\\d+)_APT_0(\\d+)Day.*', img_name)[0]\n",
    "    n_digit = 2\n",
    "    assert len(st_num) == len(apt_num) == n_digit\n",
    "\n",
    "    # Read in the image\n",
    "    img = prep(sk_io.imread(img_path))\n",
    "\n",
    "    # Crop out generous margins around approximate digit locations\n",
    "    apt_crop = [(50, 120), (240, 310)]\n",
    "    st_crop =  [(160, 230), (20, 90)]\n",
    "    img_apt_num = img[slice(*apt_crop[0]), slice(*apt_crop[1])]\n",
    "    img_st_num = img[slice(*st_crop[0]), slice(*st_crop[1])]\n",
    "\n",
    "    # Extract individual digit images\n",
    "    apt_digit_imgs = extract(img_apt_num, apt_num)\n",
    "    st_digit_imgs = extract(img_st_num, st_num)\n",
    "        \n",
    "    res = []\n",
    "    res += list(zip(apt_num, apt_digit_imgs, ['APT']*n_digit, list(range(n_digit))))\n",
    "    res += list(zip(st_num, st_digit_imgs, ['ST']*n_digit, list(range(n_digit))))\n",
    "    res = pd.DataFrame(res, columns=['digit', 'image', 'type', 'loc'])\n",
    "    return img_apt_num, img_st_num, apt_num, st_num, res"
   ]
  },
  {
   "cell_type": "code",
   "execution_count": 52,
   "metadata": {},
   "outputs": [
    {
     "name": "stdout",
     "output_type": "stream",
     "text": [
      "Failed to extract from /lab/data/celldom/dataset/dataset02/BF_ST_002_APT_004Day4.jpg\n",
      "Failed to extract from /lab/data/celldom/dataset/dataset02/BF_ST_007_APT_010Day0.jpg\n",
      "Failed to extract from /lab/data/celldom/dataset/dataset02/BF_ST_009_APT_009Day4.jpg\n",
      "Failed to extract from /lab/data/celldom/dataset/dataset02/BF_ST_008_APT_004Day1.jpg\n",
      "Failed to extract from /lab/data/celldom/dataset/dataset02/BF_ST_014_APT_007Day1.jpg\n",
      "Failed to extract from /lab/data/celldom/dataset/dataset02/BF_ST_004_APT_003Day0.jpg\n",
      "Processing complete for 824 images\n"
     ]
    },
    {
     "data": {
      "image/png": "[encoded data removed]",
      "text/plain": [
       "<Figure size 432x288 with 1 Axes>"
      ]
     },
     "metadata": {},
     "output_type": "display_data"
    },
    {
     "data": {
      "image/png": "[encoded data removed]",
      "text/plain": [
       "<Figure size 432x288 with 1 Axes>"
      ]
     },
     "metadata": {},
     "output_type": "display_data"
    },
    {
     "data": {
      "image/png": "[encoded data removed]",
      "text/plain": [
       "<Figure size 432x288 with 1 Axes>"
      ]
     },
     "metadata": {},
     "output_type": "display_data"
    },
    {
     "data": {
      "image/png": "[encoded data removed]",
      "text/plain": [
       "<Figure size 432x288 with 1 Axes>"
      ]
     },
     "metadata": {},
     "output_type": "display_data"
    },
    {
     "data": {
      "image/png": "[encoded data removed]",
      "text/plain": [
       "<Figure size 432x288 with 1 Axes>"
      ]
     },
     "metadata": {},
     "output_type": "display_data"
    },
    {
     "data": {
      "image/png": "[encoded data removed]",
      "text/plain": [
       "<Figure size 432x288 with 1 Axes>"
      ]
     },
     "metadata": {},
     "output_type": "display_data"
    }
   ],
   "source": [
    "def process_digit_images(df, save=True, log=True):\n",
    "    \n",
    "    multi_digit_format = '{img_name}-{type}-{digits}.jpeg'\n",
    "    single_digit_format = '{img_name}-{type}-{loc}-{digit}.jpeg'\n",
    "    \n",
    "    for i, r in df.iterrows():\n",
    "        img_path, img_name = r['image_path'], r['image_name']\n",
    "        \n",
    "        # Remove file suffix\n",
    "        if img_name.endswith('.jpg') or img_name.endswith('.jpeg'):\n",
    "            img_name = '.'.join(img_name.split('.')[:-1])\n",
    "        else:\n",
    "            raise ValueError('Not sure how to deal with image named \"{}\"'.format(img_name))\n",
    "        \n",
    "        try:\n",
    "            img_apt_num, img_st_num, apt_num, st_num, res = process(img_path, img_name)\n",
    "        except InvalidNumberOfDigitsException:\n",
    "            print('Failed to extract from', img_path)\n",
    "            continue\n",
    "        \n",
    "        # Save multi-digit images\n",
    "        apt_path = osp.join(MULTI_DIGIT_DIR, multi_digit_format.format(img_name=img_name, type='APT', digits=apt_num))\n",
    "        st_path = osp.join(MULTI_DIGIT_DIR, multi_digit_format.format(img_name=img_name, type='ST', digits=st_num))\n",
    "        if log:\n",
    "            print('Saving apt digit image to \"{}\" (shape = {}, dtype = {})'.format(apt_path, img_apt_num.shape, img_apt_num.dtype))\n",
    "            print('Saving st digit image to \"{}\" (shape = {}, dtype = {})'.format(st_path, img_st_num.shape, img_st_num.dtype))\n",
    "        if save:\n",
    "            sk_io.imsave(apt_path, img_apt_num)\n",
    "            sk_io.imsave(st_path, img_st_num)\n",
    "            \n",
    "        # Save single-digit images\n",
    "        for j, rr in res.iterrows():\n",
    "            img = rr['image']\n",
    "            path = osp.join(SINGLE_DIGIT_DIR, single_digit_format.format(\n",
    "                img_name=img_name, type=rr['type'], loc=rr['loc'], digit=rr['digit']))\n",
    "            if log:\n",
    "                print('Saving digit image to \"{}\" (shape = {}, dtype = {})'.format(path, img.shape, img.dtype))\n",
    "            if save:\n",
    "                sk_io.imsave(path, img)\n",
    "                \n",
    "    print('Processing complete for {} images'.format(len(df)))\n",
    "                \n",
    "process_digit_images(df, save=True, log=False)\n",
    "#process_digit_images(df[df['image_name'] == 'BF_ST_005_APT_008Day1.jpg'], save=False, log=False)"
   ]
  },
  {
   "cell_type": "code",
   "execution_count": 66,
   "metadata": {},
   "outputs": [],
   "source": [
    "#plt.imshow(sk_io.imread('/lab/data/celldom/dataset/dataset02/BF_ST_012_APT_004Day2.jpg'))"
   ]
  },
  {
   "cell_type": "markdown",
   "metadata": {},
   "source": [
    "### Spot Checking"
   ]
  },
  {
   "cell_type": "code",
   "execution_count": 53,
   "metadata": {},
   "outputs": [
    {
     "name": "stdout",
     "output_type": "stream",
     "text": [
      "3272\n"
     ]
    }
   ],
   "source": [
    "!ls $SINGLE_DIGIT_DIR | wc -l"
   ]
  },
  {
   "cell_type": "code",
   "execution_count": 108,
   "metadata": {},
   "outputs": [],
   "source": [
    "import glob\n",
    "files = pd.Series(glob.glob(osp.join(SINGLE_DIGIT_DIR, '*.jpeg')))\n",
    "iterator = iter(files.sample(50))\n",
    "def get_actual_digit(file):\n",
    "    return osp.basename(file).replace('.jpeg', '').split('-')[-1]"
   ]
  },
  {
   "cell_type": "code",
   "execution_count": 109,
   "metadata": {},
   "outputs": [
    {
     "data": {
      "text/plain": [
       "0    1513\n",
       "1     538\n",
       "2     185\n",
       "3     180\n",
       "4     182\n",
       "5     157\n",
       "6     133\n",
       "7     126\n",
       "8     132\n",
       "9     126\n",
       "dtype: int64"
      ]
     },
     "execution_count": 109,
     "metadata": {},
     "output_type": "execute_result"
    }
   ],
   "source": [
    "pd.Series([get_actual_digit(f) for f in files]).value_counts().sort_index()"
   ]
  },
  {
   "cell_type": "code",
   "execution_count": 119,
   "metadata": {},
   "outputs": [
    {
     "name": "stdout",
     "output_type": "stream",
     "text": [
      "Actual: 0 File: /lab/data/celldom/dataset/training/digit/r0.6/single/BF_ST_004_APT_008Day4-ST-0-0.jpeg\n"
     ]
    },
    {
     "data": {
      "text/plain": [
       "<matplotlib.image.AxesImage at 0x7fccfb791400>"
      ]
     },
     "execution_count": 119,
     "metadata": {},
     "output_type": "execute_result"
    },
    {
     "data": {
      "image/png": "[encoded data removed]",
      "text/plain": [
       "<Figure size 432x288 with 1 Axes>"
      ]
     },
     "metadata": {},
     "output_type": "display_data"
    }
   ],
   "source": [
    "file = next(iterator)\n",
    "print('Actual:', get_actual_digit(file), 'File:', file)\n",
    "plt.imshow(sk_io.imread(file))"
   ]
  },
  {
   "cell_type": "markdown",
   "metadata": {},
   "source": [
    "Bad examples:\n",
    "\n",
    "- /lab/data/celldom/dataset/training/digit/r0.6/single/BF_ST_014_APT_010Day1-ST-1-4.jpeg"
   ]
  },
  {
   "cell_type": "markdown",
   "metadata": {},
   "source": [
    "### Single Digit Full Scale QA"
   ]
  },
  {
   "cell_type": "code",
   "execution_count": 125,
   "metadata": {},
   "outputs": [],
   "source": [
    "files = pd.Series(glob.glob(osp.join(SINGLE_DIGIT_DIR, '*.jpeg')))\n",
    "batch_size = 8\n",
    "batches = np.array_split(files, len(files) // batch_size)"
   ]
  },
  {
   "cell_type": "code",
   "execution_count": 136,
   "metadata": {},
   "outputs": [],
   "source": [
    "batch_iter = iter(batches)"
   ]
  },
  {
   "cell_type": "code",
   "execution_count": 319,
   "metadata": {},
   "outputs": [],
   "source": [
    "# idx = files.tolist().index('/lab/data/celldom/dataset/training/digit/r0.6/single/BF_ST_014_APT_009Day1-APT-1-9.jpeg')-0\n",
    "# print(files[idx], get_actual_digit(files[idx]))\n",
    "# plt.imshow(sk_io.imread(files[idx]))"
   ]
  },
  {
   "cell_type": "code",
   "execution_count": 500,
   "metadata": {},
   "outputs": [
    {
     "data": {
      "text/plain": [
       "2799"
      ]
     },
     "execution_count": 500,
     "metadata": {},
     "output_type": "execute_result"
    }
   ],
   "source": [
    "files.tolist().index('/lab/data/celldom/dataset/training/digit/r0.6/single/BF_ST_002_APT_005Day2-ST-0-0.jpeg')"
   ]
  },
  {
   "cell_type": "code",
   "execution_count": 560,
   "metadata": {},
   "outputs": [
    {
     "name": "stdout",
     "output_type": "stream",
     "text": [
      "No more batches to check\n"
     ]
    }
   ],
   "source": [
    "# Repeatedly check 8 images at a time with this cell and record bad examples in the cell below:\n",
    "from cvutils import visualize\n",
    "batch = next(batch_iter, None)\n",
    "if batch is None:\n",
    "    print('No more batches to check')\n",
    "else:\n",
    "    print(batch.values)\n",
    "    visualize.display_images(\n",
    "        [sk_io.imread(f) for f in batch], \n",
    "        titles=['{} ({})'.format(get_actual_digit(f), osp.basename(f)) for f in batch]\n",
    "    )"
   ]
  },
  {
   "cell_type": "code",
   "execution_count": 578,
   "metadata": {},
   "outputs": [],
   "source": [
    "bad_examples = [\n",
    "    '/lab/data/celldom/dataset/training/digit/r0.6/extract/single/BF_ST_006_APT_009Day2-APT-1-9.jpeg',\n",
    "    '/lab/data/celldom/dataset/training/digit/r0.6/extract/single/BF_ST_011_APT_007Day1-APT-0-0.jpeg',\n",
    "    '/lab/data/celldom/dataset/training/digit/r0.6/extract/single/BF_ST_011_APT_007Day1-APT-1-7.jpeg',\n",
    "    '/lab/data/celldom/dataset/training/digit/r0.6/extract/single/BF_ST_002_APT_003Day1-APT-1-3.jpeg',\n",
    "    '/lab/data/celldom/dataset/training/digit/r0.6/extract/single/BF_ST_002_APT_003Day1-ST-0-0.jpeg',\n",
    "    '/lab/data/celldom/dataset/training/digit/r0.6/extract/single/BF_ST_002_APT_003Day1-APT-0-0.jpeg',\n",
    "    '/lab/data/celldom/dataset/training/digit/r0.6/extract/single/BF_ST_008_APT_007Day1-APT-0-0.jpeg',\n",
    "    '/lab/data/celldom/dataset/training/digit/r0.6/extract/single/BF_ST_008_APT_007Day1-APT-1-7.jpeg',\n",
    "    '/lab/data/celldom/dataset/training/digit/r0.6/extract/single/BF_ST_011_APT_001Day1-APT-1-1.jpeg',\n",
    "    '/lab/data/celldom/dataset/training/digit/r0.6/extract/single/BF_ST_011_APT_001Day1-ST-1-1.jpeg',\n",
    "    '/lab/data/celldom/dataset/training/digit/r0.6/extract/single/BF_ST_014_APT_010Day1-ST-1-4.jpeg',\n",
    "    '/lab/data/celldom/dataset/training/digit/r0.6/extract/single/BF_ST_007_APT_003Day1-ST-0-0.jpeg',\n",
    "    '/lab/data/celldom/dataset/training/digit/r0.6/extract/single/BF_ST_014_APT_005Day1-APT-0-0.jpeg',\n",
    "    '/lab/data/celldom/dataset/training/digit/r0.6/extract/single/BF_ST_014_APT_005Day1-APT-1-5.jpeg',\n",
    "    '/lab/data/celldom/dataset/training/digit/r0.6/extract/single/BF_ST_000_APT_010Day2-APT-0-1.jpeg',\n",
    "    '/lab/data/celldom/dataset/training/digit/r0.6/extract/single/BF_ST_000_APT_010Day2-APT-1-0.jpeg',\n",
    "    '/lab/data/celldom/dataset/training/digit/r0.6/extract/single/BF_ST_011_APT_009Day1-APT-0-0.jpeg',\n",
    "    '/lab/data/celldom/dataset/training/digit/r0.6/extract/single/BF_ST_011_APT_009Day1-APT-1-9.jpeg',\n",
    "    '/lab/data/celldom/dataset/training/digit/r0.6/extract/single/BF_ST_014_APT_003Day1-APT-0-0.jpeg',\n",
    "    '/lab/data/celldom/dataset/training/digit/r0.6/extract/single/BF_ST_014_APT_003Day1-APT-1-3.jpeg',\n",
    "    '/lab/data/celldom/dataset/training/digit/r0.6/extract/single/BF_ST_014_APT_003Day1-ST-0-1.jpeg',\n",
    "    '/lab/data/celldom/dataset/training/digit/r0.6/extract/single/BF_ST_008_APT_009Day1-APT-0-0.jpeg',\n",
    "    '/lab/data/celldom/dataset/training/digit/r0.6/extract/single/BF_ST_008_APT_009Day1-APT-1-9.jpeg',\n",
    "    '/lab/data/celldom/dataset/training/digit/r0.6/extract/single/BF_ST_011_APT_001Day1-APT-0-0.jpeg',\n",
    "    '/lab/data/celldom/dataset/training/digit/r0.6/extract/single/BF_ST_014_APT_009Day1-APT-0-0.jpeg',\n",
    "    '/lab/data/celldom/dataset/training/digit/r0.6/extract/single/BF_ST_014_APT_009Day1-APT-1-9.jpeg',\n",
    "    '/lab/data/celldom/dataset/training/digit/r0.6/extract/single/BF_ST_014_APT_009Day1-ST-0-1.jpeg',\n",
    "    '/lab/data/celldom/dataset/training/digit/r0.6/extract/single/BF_ST_011_APT_005Day1-ST-1-1.jpeg',\n",
    "    '/lab/data/celldom/dataset/training/digit/r0.6/extract/single/BF_ST_007_APT_010Day1-APT-1-0.jpeg',\n",
    "    '/lab/data/celldom/dataset/training/digit/r0.6/extract/single/BF_ST_007_APT_010Day2-APT-1-0.jpeg',\n",
    "    '/lab/data/celldom/dataset/training/digit/r0.6/extract/single/BF_ST_007_APT_010Day3-APT-1-0.jpeg',\n",
    "    '/lab/data/celldom/dataset/training/digit/r0.6/extract/single/BF_ST_007_APT_010Day4-APT-1-0.jpeg',\n",
    "    '/lab/data/celldom/dataset/training/digit/r0.6/extract/single/BF_ST_014_APT_001Day1-APT-0-0.jpeg',\n",
    "    '/lab/data/celldom/dataset/training/digit/r0.6/extract/single/BF_ST_014_APT_001Day1-APT-1-1.jpeg',\n",
    "    '/lab/data/celldom/dataset/training/digit/r0.6/extract/single/BF_ST_014_APT_001Day1-ST-0-1.jpeg',\n",
    "    '/lab/data/celldom/dataset/training/digit/r0.6/extract/single/BF_ST_008_APT_001Day1-APT-0-0.jpeg',\n",
    "    '/lab/data/celldom/dataset/training/digit/r0.6/extract/single/BF_ST_008_APT_001Day1-APT-1-1.jpeg',\n",
    "    '/lab/data/celldom/dataset/training/digit/r0.6/extract/single/BF_ST_005_APT_001Day1-APT-0-0.jpeg',\n",
    "    '/lab/data/celldom/dataset/training/digit/r0.6/extract/single/BF_ST_005_APT_001Day1-APT-1-1.jpeg',\n",
    "    '/lab/data/celldom/dataset/training/digit/r0.6/extract/single/BF_ST_003_APT_008Day3-ST-1-3.jpeg',\n",
    "    '/lab/data/celldom/dataset/training/digit/r0.6/extract/single/BF_ST_014_APT_004Day1-APT-1-4.jpeg',\n",
    "    '/lab/data/celldom/dataset/training/digit/r0.6/extract/single/BF_ST_008_APT_003Day1-APT-0-0.jpeg',\n",
    "    '/lab/data/celldom/dataset/training/digit/r0.6/extract/single/BF_ST_005_APT_003Day1-APT-0-0.jpeg',\n",
    "    '/lab/data/celldom/dataset/training/digit/r0.6/extract/single/BF_ST_005_APT_003Day1-APT-1-3.jpeg',\n",
    "    '/lab/data/celldom/dataset/training/digit/r0.6/extract/single/BF_ST_011_APT_003Day1-APT-0-0.jpeg',\n",
    "    '/lab/data/celldom/dataset/training/digit/r0.6/extract/single/BF_ST_011_APT_003Day1-APT-1-3.jpeg',\n",
    "    '/lab/data/celldom/dataset/training/digit/r0.6/extract/single/BF_ST_011_APT_003Day1-ST-0-1.jpeg',\n",
    "    '/lab/data/celldom/dataset/training/digit/r0.6/extract/single/BF_ST_002_APT_005Day1-ST-0-0.jpeg',\n",
    "    '/lab/data/celldom/dataset/training/digit/r0.6/extract/single/BF_ST_002_APT_001Day1-APT-0-0.jpeg',\n",
    "    '/lab/data/celldom/dataset/training/digit/r0.6/extract/single/BF_ST_002_APT_001Day1-APT-1-1.jpeg',\n",
    "    '/lab/data/celldom/dataset/training/digit/r0.6/extract/single/BF_ST_011_APT_005Day1-APT-0-0.jpeg',\n",
    "    '/lab/data/celldom/dataset/training/digit/r0.6/extract/single/BF_ST_011_APT_005Day1-APT-1-5.jpeg',\n",
    "    '/lab/data/celldom/dataset/training/digit/r0.6/extract/single/BF_ST_003_APT_006Day3-ST-1-3.jpeg',\n",
    "    '/lab/data/celldom/dataset/training/digit/r0.6/extract/single/BF_ST_007_APT_003Day1-ST-1-7.jpeg'\n",
    "]"
   ]
  },
  {
   "cell_type": "code",
   "execution_count": 583,
   "metadata": {},
   "outputs": [
    {
     "name": "stdout",
     "output_type": "stream",
     "text": [
      "rm: cannot remove '/lab/data/celldom/dataset/training/digit/r0.6/validated/single/*': No such file or directory\n"
     ]
    }
   ],
   "source": [
    "if not osp.exists(SINGLE_DIGIT_VALIDATED):\n",
    "    os.makedirs(SINGLE_DIGIT_VALIDATED, exist_ok=True)\n",
    "!rm $SINGLE_DIGIT_VALIDATED/*"
   ]
  },
  {
   "cell_type": "code",
   "execution_count": 586,
   "metadata": {},
   "outputs": [
    {
     "name": "stdout",
     "output_type": "stream",
     "text": [
      "Finished copying 3219 validated images (of 3272 raw) to /lab/data/celldom/dataset/training/digit/r0.6/validated/single\n"
     ]
    }
   ],
   "source": [
    "import glob\n",
    "import shutil\n",
    "\n",
    "# Get list of all raw images\n",
    "raw_files = glob.glob(SINGLE_DIGIT_DIR + '/*.jpeg')\n",
    "\n",
    "# Check that the expected number of raw files would be ignored\n",
    "files_ignored = []\n",
    "files_to_copy = []\n",
    "for f in raw_files:\n",
    "    if f in bad_examples:\n",
    "        files_ignored.append(f)\n",
    "    else:\n",
    "        files_to_copy.append(f)\n",
    "assert len(files_ignored) == len(bad_examples), '{} != {}'.format(len(files_ignored), len(bad_examples))\n",
    "\n",
    "# Copy validated images\n",
    "for f in files_to_copy:\n",
    "    dest = osp.join(SINGLE_DIGIT_VALIDATED, osp.basename(f))\n",
    "    shutil.copy(f, dest)\n",
    "    \n",
    "print('Finished copying {} validated images (of {} raw) to {}'.format(len(files_to_copy), len(raw_files), SINGLE_DIGIT_VALIDATED))"
   ]
  }
 ],
 "metadata": {
  "kernelspec": {
   "display_name": "Python 3",
   "language": "python",
   "name": "python3"
  },
  "language_info": {
   "codemirror_mode": {
    "name": "ipython",
    "version": 3
   },
   "file_extension": ".py",
   "mimetype": "text/x-python",
   "name": "python",
   "nbconvert_exporter": "python",
   "pygments_lexer": "ipython3",
   "version": "3.5.2"
  }
 },
 "nbformat": 4,
 "nbformat_minor": 2
}
