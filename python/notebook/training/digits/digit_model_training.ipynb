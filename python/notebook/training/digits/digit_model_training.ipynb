{
 "cells": [
  {
   "cell_type": "code",
   "execution_count": 1,
   "metadata": {},
   "outputs": [
    {
     "name": "stderr",
     "output_type": "stream",
     "text": [
      "Using TensorFlow backend.\n"
     ]
    },
    {
     "data": {
      "text/plain": [
       "('/lab/data/celldom/model/r0.6/digit_model',\n",
       " '/lab/data/celldom/dataset/training/digit/r0.6/validated/single',\n",
       " '/lab/data/celldom/dataset/training/digit/r0.6/manual/single')"
      ]
     },
     "execution_count": 1,
     "metadata": {},
     "output_type": "execute_result"
    }
   ],
   "source": [
    "import os\n",
    "import re\n",
    "import glob\n",
    "import os.path as osp\n",
    "import pandas as pd\n",
    "import numpy as np\n",
    "import matplotlib.pyplot as plt\n",
    "from skimage import io as sk_io\n",
    "from skimage.transform import resize\n",
    "from skimage.color import gray2rgb, rgb2gray\n",
    "from skimage.exposure import rescale_intensity\n",
    "from cvutils.rectlabel import io as rectlabel_io\n",
    "from cvutils.mrcnn.session import init_keras_session\n",
    "from cvutils import visualize\n",
    "from celldom.dataset import utils as dataset_utils\n",
    "from celldom import seed\n",
    "\n",
    "import celldom\n",
    "import keras\n",
    "from keras.preprocessing import image\n",
    "import wandb\n",
    "from wandb.keras import WandbCallback\n",
    "\n",
    "init_keras_session()\n",
    "\n",
    "DATA_DIR_VALIDATED_EXTRACT = osp.join(celldom.get_dataset_dir(), 'training', 'digit', 'r0.6', 'validated', 'single')\n",
    "DATA_DIR_MANUAL_ANNOTATION = osp.join(celldom.get_dataset_dir(), 'training', 'digit', 'r0.6', 'manual', 'single')\n",
    "MODEL_DIR = osp.join(os.environ['CELLDOM_DATA_DIR'], 'model', 'r0.6', 'digit_model')\n",
    "\n",
    "MODEL_PATH_HEAD = osp.join(MODEL_DIR, 'single_digit_model_headonly.h5')\n",
    "MODEL_PATH = osp.join(MODEL_DIR, 'single_digit_model.h5')\n",
    "\n",
    "MODEL_DIR, DATA_DIR_VALIDATED_EXTRACT, DATA_DIR_MANUAL_ANNOTATION"
   ]
  },
  {
   "cell_type": "code",
   "execution_count": 2,
   "metadata": {},
   "outputs": [
    {
     "name": "stdout",
     "output_type": "stream",
     "text": [
      "BF_ST_000_APT_000Day0-APT-0-0.jpeg\n",
      "ls: write error: Broken pipe\n"
     ]
    }
   ],
   "source": [
    "!ls $DATA_DIR_VALIDATED_EXTRACT | head -n 1"
   ]
  },
  {
   "cell_type": "code",
   "execution_count": 3,
   "metadata": {},
   "outputs": [
    {
     "name": "stdout",
     "output_type": "stream",
     "text": [
      "005a70acb8d81adb00b8056f66e1ed2c-0-apt-0-7.png\n",
      "ls: write error: Broken pipe\n"
     ]
    }
   ],
   "source": [
    "!ls $DATA_DIR_MANUAL_ANNOTATION | head -n 1"
   ]
  },
  {
   "cell_type": "code",
   "execution_count": 34,
   "metadata": {},
   "outputs": [],
   "source": [
    "def get_actual_digit(file):\n",
    "    return osp.basename(file).replace('.jpeg', '').split('-')[-1]\n",
    "\n",
    "def load_extracted_images():\n",
    "    res = []\n",
    "    for f in glob.glob(osp.join(DATA_DIR_VALIDATED_EXTRACT, '*.jpeg')):\n",
    "        digit = get_actual_digit(f)\n",
    "        img = sk_io.imread(osp.join(DATA_DIR_VALIDATED_EXTRACT, f))\n",
    "        res.append((int(digit), img, f))\n",
    "    res = pd.DataFrame(res, columns=['digit', 'img', 'file'])\n",
    "    return res\n",
    "\n",
    "def load_annotated_images():\n",
    "    res = []\n",
    "    df = dataset_utils.get_data_files(DATA_DIR_MANUAL_ANNOTATION)\n",
    "    for i, r in df.iterrows():\n",
    "        img_path, annot_path = r['image_path'], r['annot_path']\n",
    "        if r['annot_exists']:\n",
    "            shape, annotations = rectlabel_io.load_annotations(annot_path, assert_masks=False)\n",
    "            assert len(annotations) == 1, 'Found multiple annotations in {}'.format(annot_path)\n",
    "            digit = annotations[0].object_type\n",
    "            if digit == 'NA':\n",
    "                continue\n",
    "            # Read RGB 8-bit image\n",
    "            img = sk_io.imread(img_path)\n",
    "            \n",
    "            # Extract grayscale based on assumption of channel equality\n",
    "            assert img.ndim == 3 and img.shape[-1] == 3\n",
    "            assert np.allclose(img[..., 0], img[..., 1])\n",
    "            assert np.allclose(img[..., 0], img[..., 2])\n",
    "            img = img[..., 0]\n",
    "            \n",
    "            res.append((int(digit), img, img_path))\n",
    "    res = pd.DataFrame(res, columns=['digit', 'img', 'file'])\n",
    "    return res\n"
   ]
  },
  {
   "cell_type": "code",
   "execution_count": 35,
   "metadata": {},
   "outputs": [],
   "source": [
    "df = pd.concat([\n",
    "    load_extracted_images().assign(source='extract'),\n",
    "    load_annotated_images().assign(source='annotated')\n",
    "])"
   ]
  },
  {
   "cell_type": "code",
   "execution_count": 36,
   "metadata": {},
   "outputs": [
    {
     "data": {
      "text/plain": [
       "4201"
      ]
     },
     "execution_count": 36,
     "metadata": {},
     "output_type": "execute_result"
    }
   ],
   "source": [
    "# r0.2 num files = 2372, r0.6 = 3219\n",
    "len(df)"
   ]
  },
  {
   "cell_type": "code",
   "execution_count": 39,
   "metadata": {},
   "outputs": [
    {
     "data": {
      "text/plain": [
       "extract      3218\n",
       "annotated     983\n",
       "Name: source, dtype: int64"
      ]
     },
     "execution_count": 39,
     "metadata": {},
     "output_type": "execute_result"
    }
   ],
   "source": [
    "df['source'].value_counts()"
   ]
  },
  {
   "cell_type": "code",
   "execution_count": 40,
   "metadata": {},
   "outputs": [
    {
     "data": {
      "text/plain": [
       "0    1582\n",
       "1    1066\n",
       "3     302\n",
       "2     227\n",
       "4     227\n",
       "5     196\n",
       "9     160\n",
       "8     152\n",
       "7     146\n",
       "6     143\n",
       "Name: digit, dtype: int64"
      ]
     },
     "execution_count": 40,
     "metadata": {},
     "output_type": "execute_result"
    }
   ],
   "source": [
    "df['digit'].value_counts()"
   ]
  },
  {
   "cell_type": "code",
   "execution_count": 41,
   "metadata": {},
   "outputs": [
    {
     "data": {
      "text/html": [
       "<div>\n",
       "<style scoped>\n",
       "    .dataframe tbody tr th:only-of-type {\n",
       "        vertical-align: middle;\n",
       "    }\n",
       "\n",
       "    .dataframe tbody tr th {\n",
       "        vertical-align: top;\n",
       "    }\n",
       "\n",
       "    .dataframe thead th {\n",
       "        text-align: right;\n",
       "    }\n",
       "</style>\n",
       "<table border=\"1\" class=\"dataframe\">\n",
       "  <thead>\n",
       "    <tr style=\"text-align: right;\">\n",
       "      <th>digit</th>\n",
       "      <th>0</th>\n",
       "      <th>1</th>\n",
       "      <th>2</th>\n",
       "      <th>3</th>\n",
       "      <th>4</th>\n",
       "      <th>5</th>\n",
       "      <th>6</th>\n",
       "      <th>7</th>\n",
       "      <th>8</th>\n",
       "      <th>9</th>\n",
       "    </tr>\n",
       "    <tr>\n",
       "      <th>source</th>\n",
       "      <th></th>\n",
       "      <th></th>\n",
       "      <th></th>\n",
       "      <th></th>\n",
       "      <th></th>\n",
       "      <th></th>\n",
       "      <th></th>\n",
       "      <th></th>\n",
       "      <th></th>\n",
       "      <th></th>\n",
       "    </tr>\n",
       "  </thead>\n",
       "  <tbody>\n",
       "    <tr>\n",
       "      <th>annotated</th>\n",
       "      <td>94</td>\n",
       "      <td>540</td>\n",
       "      <td>42</td>\n",
       "      <td>128</td>\n",
       "      <td>47</td>\n",
       "      <td>41</td>\n",
       "      <td>10</td>\n",
       "      <td>23</td>\n",
       "      <td>20</td>\n",
       "      <td>38</td>\n",
       "    </tr>\n",
       "    <tr>\n",
       "      <th>extract</th>\n",
       "      <td>1488</td>\n",
       "      <td>526</td>\n",
       "      <td>185</td>\n",
       "      <td>174</td>\n",
       "      <td>180</td>\n",
       "      <td>155</td>\n",
       "      <td>133</td>\n",
       "      <td>123</td>\n",
       "      <td>132</td>\n",
       "      <td>122</td>\n",
       "    </tr>\n",
       "  </tbody>\n",
       "</table>\n",
       "</div>"
      ],
      "text/plain": [
       "digit         0    1    2    3    4    5    6    7    8    9\n",
       "source                                                      \n",
       "annotated    94  540   42  128   47   41   10   23   20   38\n",
       "extract    1488  526  185  174  180  155  133  123  132  122"
      ]
     },
     "execution_count": 41,
     "metadata": {},
     "output_type": "execute_result"
    }
   ],
   "source": [
    "df.groupby(['source', 'digit']).size().unstack()"
   ]
  },
  {
   "cell_type": "code",
   "execution_count": 42,
   "metadata": {},
   "outputs": [
    {
     "data": {
      "text/plain": [
       "uint8    4201\n",
       "Name: img, dtype: int64"
      ]
     },
     "execution_count": 42,
     "metadata": {},
     "output_type": "execute_result"
    }
   ],
   "source": [
    "dtypes = df['img'].apply(lambda v: v.dtype)\n",
    "assert np.all(dtypes == np.uint8)\n",
    "dtypes.value_counts()"
   ]
  },
  {
   "cell_type": "code",
   "execution_count": 43,
   "metadata": {},
   "outputs": [
    {
     "data": {
      "text/html": [
       "<div>\n",
       "<style scoped>\n",
       "    .dataframe tbody tr th:only-of-type {\n",
       "        vertical-align: middle;\n",
       "    }\n",
       "\n",
       "    .dataframe tbody tr th {\n",
       "        vertical-align: top;\n",
       "    }\n",
       "\n",
       "    .dataframe thead th {\n",
       "        text-align: right;\n",
       "    }\n",
       "</style>\n",
       "<table border=\"1\" class=\"dataframe\">\n",
       "  <thead>\n",
       "    <tr style=\"text-align: right;\">\n",
       "      <th></th>\n",
       "      <th>0</th>\n",
       "      <th>1</th>\n",
       "    </tr>\n",
       "  </thead>\n",
       "  <tbody>\n",
       "    <tr>\n",
       "      <th>count</th>\n",
       "      <td>4201.000000</td>\n",
       "      <td>4201.000000</td>\n",
       "    </tr>\n",
       "    <tr>\n",
       "      <th>mean</th>\n",
       "      <td>51.243275</td>\n",
       "      <td>36.037372</td>\n",
       "    </tr>\n",
       "    <tr>\n",
       "      <th>std</th>\n",
       "      <td>5.453688</td>\n",
       "      <td>6.341157</td>\n",
       "    </tr>\n",
       "    <tr>\n",
       "      <th>min</th>\n",
       "      <td>22.000000</td>\n",
       "      <td>19.000000</td>\n",
       "    </tr>\n",
       "    <tr>\n",
       "      <th>25%</th>\n",
       "      <td>46.000000</td>\n",
       "      <td>29.000000</td>\n",
       "    </tr>\n",
       "    <tr>\n",
       "      <th>50%</th>\n",
       "      <td>54.000000</td>\n",
       "      <td>38.000000</td>\n",
       "    </tr>\n",
       "    <tr>\n",
       "      <th>75%</th>\n",
       "      <td>55.000000</td>\n",
       "      <td>42.000000</td>\n",
       "    </tr>\n",
       "    <tr>\n",
       "      <th>max</th>\n",
       "      <td>58.000000</td>\n",
       "      <td>46.000000</td>\n",
       "    </tr>\n",
       "  </tbody>\n",
       "</table>\n",
       "</div>"
      ],
      "text/plain": [
       "                 0            1\n",
       "count  4201.000000  4201.000000\n",
       "mean     51.243275    36.037372\n",
       "std       5.453688     6.341157\n",
       "min      22.000000    19.000000\n",
       "25%      46.000000    29.000000\n",
       "50%      54.000000    38.000000\n",
       "75%      55.000000    42.000000\n",
       "max      58.000000    46.000000"
      ]
     },
     "execution_count": 43,
     "metadata": {},
     "output_type": "execute_result"
    }
   ],
   "source": [
    "pd.DataFrame([r['img'].shape for _, r in df.iterrows()]).describe()"
   ]
  },
  {
   "cell_type": "code",
   "execution_count": 44,
   "metadata": {},
   "outputs": [
    {
     "data": {
      "text/plain": [
       "(3360, 841)"
      ]
     },
     "execution_count": 44,
     "metadata": {},
     "output_type": "execute_result"
    }
   ],
   "source": [
    "from sklearn.model_selection import train_test_split\n",
    "idx = np.arange(len(df))\n",
    "\n",
    "# Vary test_size (starting large) to get a sense of accuracy with a bigger sample and then decrease for final model\n",
    "idx_train, idx_test = train_test_split(idx, test_size=.2, random_state=seed, stratify=df['digit'])\n",
    "df_train, df_test = df.iloc[idx_train], df.iloc[idx_test]\n",
    "\n",
    "len(df_train), len(df_test)"
   ]
  },
  {
   "cell_type": "code",
   "execution_count": 45,
   "metadata": {},
   "outputs": [
    {
     "data": {
      "text/html": [
       "<div>\n",
       "<style scoped>\n",
       "    .dataframe tbody tr th:only-of-type {\n",
       "        vertical-align: middle;\n",
       "    }\n",
       "\n",
       "    .dataframe tbody tr th {\n",
       "        vertical-align: top;\n",
       "    }\n",
       "\n",
       "    .dataframe thead th {\n",
       "        text-align: right;\n",
       "    }\n",
       "</style>\n",
       "<table border=\"1\" class=\"dataframe\">\n",
       "  <thead>\n",
       "    <tr style=\"text-align: right;\">\n",
       "      <th></th>\n",
       "      <th>digit</th>\n",
       "      <th>digit</th>\n",
       "    </tr>\n",
       "  </thead>\n",
       "  <tbody>\n",
       "    <tr>\n",
       "      <th>0</th>\n",
       "      <td>0.376488</td>\n",
       "      <td>0.376932</td>\n",
       "    </tr>\n",
       "    <tr>\n",
       "      <th>1</th>\n",
       "      <td>0.253869</td>\n",
       "      <td>0.253270</td>\n",
       "    </tr>\n",
       "    <tr>\n",
       "      <th>2</th>\n",
       "      <td>0.054167</td>\n",
       "      <td>0.053508</td>\n",
       "    </tr>\n",
       "    <tr>\n",
       "      <th>3</th>\n",
       "      <td>0.071726</td>\n",
       "      <td>0.072533</td>\n",
       "    </tr>\n",
       "    <tr>\n",
       "      <th>4</th>\n",
       "      <td>0.053869</td>\n",
       "      <td>0.054697</td>\n",
       "    </tr>\n",
       "    <tr>\n",
       "      <th>5</th>\n",
       "      <td>0.046726</td>\n",
       "      <td>0.046373</td>\n",
       "    </tr>\n",
       "    <tr>\n",
       "      <th>6</th>\n",
       "      <td>0.033929</td>\n",
       "      <td>0.034483</td>\n",
       "    </tr>\n",
       "    <tr>\n",
       "      <th>7</th>\n",
       "      <td>0.034821</td>\n",
       "      <td>0.034483</td>\n",
       "    </tr>\n",
       "    <tr>\n",
       "      <th>8</th>\n",
       "      <td>0.036310</td>\n",
       "      <td>0.035672</td>\n",
       "    </tr>\n",
       "    <tr>\n",
       "      <th>9</th>\n",
       "      <td>0.038095</td>\n",
       "      <td>0.038050</td>\n",
       "    </tr>\n",
       "  </tbody>\n",
       "</table>\n",
       "</div>"
      ],
      "text/plain": [
       "      digit     digit\n",
       "0  0.376488  0.376932\n",
       "1  0.253869  0.253270\n",
       "2  0.054167  0.053508\n",
       "3  0.071726  0.072533\n",
       "4  0.053869  0.054697\n",
       "5  0.046726  0.046373\n",
       "6  0.033929  0.034483\n",
       "7  0.034821  0.034483\n",
       "8  0.036310  0.035672\n",
       "9  0.038095  0.038050"
      ]
     },
     "execution_count": 45,
     "metadata": {},
     "output_type": "execute_result"
    }
   ],
   "source": [
    "pd.concat([df_train['digit'].value_counts(normalize=True), df_test['digit'].value_counts(normalize=True)], axis=1)"
   ]
  },
  {
   "cell_type": "markdown",
   "metadata": {},
   "source": [
    "## Training"
   ]
  },
  {
   "cell_type": "code",
   "execution_count": 46,
   "metadata": {},
   "outputs": [],
   "source": [
    "%run utils.py"
   ]
  },
  {
   "cell_type": "code",
   "execution_count": 47,
   "metadata": {},
   "outputs": [],
   "source": [
    "target_shape = (32, 32)"
   ]
  },
  {
   "cell_type": "code",
   "execution_count": 56,
   "metadata": {},
   "outputs": [],
   "source": [
    "from imgaug import augmenters as iaa\n",
    "from skimage import img_as_ubyte, img_as_float32\n",
    "\n",
    "sometimes = lambda aug: iaa.Sometimes(.2, aug)\n",
    "seq = iaa.Sequential([\n",
    "    # Simulate out-of-focus\n",
    "    sometimes(iaa.GaussianBlur(sigma=.3)),\n",
    "    \n",
    "    # Randomly alter scaling and simulate zooming\n",
    "    sometimes(iaa.CropAndPad(px=(0, 6))),\n",
    "    \n",
    "    # Rotate up to 3 degrees and randomly scale\n",
    "    sometimes(iaa.Affine(\n",
    "        rotate=3., \n",
    "        scale={\"x\": (.8, 1.4), \"y\": (.8, 1.4)}, \n",
    "        translate_px=(0, 10),\n",
    "        mode='constant'\n",
    "    )),\n",
    "    \n",
    "    \n",
    "    # Randomly alter distribution\n",
    "    sometimes(iaa.OneOf([\n",
    "        iaa.Multiply((.8, 1.4)), \n",
    "        iaa.Add((-25, 25)),\n",
    "        iaa.ContrastNormalization((0.8, 1.2))\n",
    "    ]))\n",
    "], random_order=True)\n",
    "\n",
    "def augment(img):\n",
    "    # img should be provided as float in [0, 1]\n",
    "    assert img.min() >= 0 and img.max() <= 1.\n",
    "    img = rescale_intensity(img, out_range=np.uint8).astype(np.uint8)\n",
    "    res = img_as_float32(seq.augment_image(img))\n",
    "    #print(res.shape, res.dtype, res.min(), res.max())\n",
    "    return res"
   ]
  },
  {
   "cell_type": "code",
   "execution_count": 57,
   "metadata": {},
   "outputs": [
    {
     "data": {
      "text/plain": [
       "(dtype('float32'), (3360, 32, 32, 3), (841, 32, 32, 3))"
      ]
     },
     "execution_count": 57,
     "metadata": {},
     "output_type": "execute_result"
    }
   ],
   "source": [
    "def prep_image(img):\n",
    "    # Note that gray2rgb will take care of converting from uint8 to float in 0-1\n",
    "    assert img.dtype == np.uint8\n",
    "    \n",
    "    # Convert to 2D with target height/width\n",
    "    img = gray2rgb(resize(img, target_shape, mode='constant', anti_aliasing=True)).astype(np.float32)\n",
    "    \n",
    "    # Rescale by min/max\n",
    "    img = rescale_intensity(img, out_range=(0, 1))\n",
    "    \n",
    "    assert np.all(img <= 1.) and np.all(img >= 0.)\n",
    "    return img\n",
    "\n",
    "train_x = np.stack([prep_image(v) for v in df_train['img']], 0)\n",
    "train_y = keras.utils.to_categorical(df_train['digit'].values, 10)\n",
    "\n",
    "test_x = np.stack([prep_image(v) for v in df_test['img']], 0)\n",
    "test_y = keras.utils.to_categorical(df_test['digit'].values, 10)\n",
    "\n",
    "train_generator = image.ImageDataGenerator(preprocessing_function=augment)\n",
    "train_batches = train_generator.flow(train_x, y=train_y, seed=seed)\n",
    "\n",
    "test_generator = image.ImageDataGenerator()\n",
    "test_batches = test_generator.flow(test_x, y=test_y, seed=seed)\n",
    "\n",
    "train_x.dtype, train_x.shape, test_x.shape"
   ]
  },
  {
   "cell_type": "code",
   "execution_count": 58,
   "metadata": {},
   "outputs": [
    {
     "data": {
      "image/png": "[encoded data removed]",
      "text/plain": [
       "<Figure size 720x1872 with 160 Axes>"
      ]
     },
     "metadata": {},
     "output_type": "display_data"
    }
   ],
   "source": [
    "# Visualize augmentations\n",
    "aug_imgs = []\n",
    "for img in df_train['img'].sample(n=80):\n",
    "    aug_imgs.append(prep_image(img))\n",
    "    aug_imgs.append(augment(prep_image(img)))\n",
    "visualize.display_images(aug_imgs, cols=8, size=10)"
   ]
  },
  {
   "cell_type": "code",
   "execution_count": 59,
   "metadata": {},
   "outputs": [
    {
     "data": {
      "text/plain": [
       "DescribeResult(nobs=3072, minmax=(0.0, 1.0), mean=0.83838636, variance=0.032320067, skewness=-2.627295970916748, kurtosis=6.8460546482305045)"
      ]
     },
     "execution_count": 59,
     "metadata": {},
     "output_type": "execute_result"
    }
   ],
   "source": [
    "from scipy.stats import describe\n",
    "describe(aug_imgs[0].ravel())"
   ]
  },
  {
   "cell_type": "markdown",
   "metadata": {},
   "source": [
    "### Initialize Modeling"
   ]
  },
  {
   "cell_type": "code",
   "execution_count": 60,
   "metadata": {},
   "outputs": [
    {
     "data": {
      "text/plain": [
       "'/lab/data/celldom/model/r0.6/digit_model'"
      ]
     },
     "execution_count": 60,
     "metadata": {},
     "output_type": "execute_result"
    }
   ],
   "source": [
    "MODEL_DIR"
   ]
  },
  {
   "cell_type": "code",
   "execution_count": 61,
   "metadata": {},
   "outputs": [
    {
     "name": "stdout",
     "output_type": "stream",
     "text": [
      "events.out.tfevents.1536786661.18201d6b5c9f  single_digit_model.h5\n",
      "events.out.tfevents.1536786825.18201d6b5c9f  single_digit_model_headonly.h5\n",
      "events.out.tfevents.1536787039.18201d6b5c9f\n"
     ]
    }
   ],
   "source": [
    "!ls $MODEL_DIR"
   ]
  },
  {
   "cell_type": "code",
   "execution_count": 62,
   "metadata": {},
   "outputs": [],
   "source": [
    "# Clear everything currently in the modeling directory\n",
    "!rm -rf $MODEL_DIR/*"
   ]
  },
  {
   "cell_type": "code",
   "execution_count": 63,
   "metadata": {},
   "outputs": [
    {
     "name": "stderr",
     "output_type": "stream",
     "text": [
      "wandb: ERROR: Not authenticated.  Copy a key from https://app.wandb.ai/profile?message=true\n"
     ]
    },
    {
     "name": "stdin",
     "output_type": "stream",
     "text": [
      "API Key:  ········································\n"
     ]
    },
    {
     "name": "stdout",
     "output_type": "stream",
     "text": [
      "Appending key to your netrc file: /root/.netrc\n",
      "W&B Run: https://app.wandb.ai/hammerlab/celldom/runs/raekzz1g\n",
      "Wrap your training loop with `with wandb.monitor():` to display live results.\n"
     ]
    },
    {
     "data": {
      "text/html": [
       "<iframe src=\"https://app.wandb.ai/hammerlab/celldom/runs/raekzz1g/edit?jupyter=true\" style=\"border:none;width:100%;height:300px\">\n",
       "            </iframe>"
      ],
      "text/plain": [
       "W&B Run https://app.wandb.ai/hammerlab/celldom/runs/raekzz1g"
      ]
     },
     "execution_count": 63,
     "metadata": {},
     "output_type": "execute_result"
    }
   ],
   "source": [
    "wandb.init()"
   ]
  },
  {
   "cell_type": "markdown",
   "metadata": {},
   "source": [
    "### Run Training"
   ]
  },
  {
   "cell_type": "code",
   "execution_count": 64,
   "metadata": {},
   "outputs": [
    {
     "data": {
      "text/plain": [
       "'/lab/data/celldom/model/r0.6/digit_model'"
      ]
     },
     "execution_count": 64,
     "metadata": {},
     "output_type": "execute_result"
    }
   ],
   "source": [
    "MODEL_DIR"
   ]
  },
  {
   "cell_type": "code",
   "execution_count": 65,
   "metadata": {},
   "outputs": [],
   "source": [
    "if not osp.exists(MODEL_DIR):\n",
    "    os.makedirs(MODEL_DIR)"
   ]
  },
  {
   "cell_type": "code",
   "execution_count": 66,
   "metadata": {},
   "outputs": [],
   "source": [
    "!ls $MODEL_DIR"
   ]
  },
  {
   "cell_type": "code",
   "execution_count": 67,
   "metadata": {},
   "outputs": [],
   "source": [
    "model = get_digit_model(input_shape=target_shape + (3,), mode='head')\n",
    "    \n",
    "model.compile(\n",
    "    loss=keras.losses.categorical_crossentropy,\n",
    "    optimizer=keras.optimizers.RMSprop(lr=.001),\n",
    "    metrics=['accuracy']\n",
    ")\n",
    "\n",
    "# Initialize from pre-trained model\n",
    "model.load_weights('/lab/repos/svhn/weights.hdf5')"
   ]
  },
  {
   "cell_type": "code",
   "execution_count": null,
   "metadata": {},
   "outputs": [
    {
     "name": "stdout",
     "output_type": "stream",
     "text": [
      "WARNING:tensorflow:From /usr/local/lib/python3.5/dist-packages/tensorflow/contrib/learn/python/learn/datasets/base.py:198: retry (from tensorflow.contrib.learn.python.learn.datasets.base) is deprecated and will be removed in a future version.\n",
      "Instructions for updating:\n",
      "Use the retry module or similar alternatives.\n",
      "Resuming run: https://app.wandb.ai/hammerlab/celldom/runs/raekzz1g\n"
     ]
    },
    {
     "data": {
      "text/html": [
       "<iframe src=\"https://app.wandb.ai/hammerlab/celldom/runs/raekzz1g?jupyter=true\" style=\"border:none;width:100%;height:420px\">\n",
       "        </iframe>"
      ],
      "text/plain": [
       "<wandb.jupyter.Run at 0x7f76fa071a20>"
      ]
     },
     "metadata": {},
     "output_type": "display_data"
    },
    {
     "name": "stdout",
     "output_type": "stream",
     "text": [
      "Epoch 1/100\n",
      "105/105 [==============================] - 5s 51ms/step - loss: 0.5232 - acc: 0.8693 - val_loss: 0.0541 - val_acc: 0.9857\n",
      "Epoch 2/100\n",
      "105/105 [==============================] - 4s 38ms/step - loss: 0.2404 - acc: 0.9387 - val_loss: 0.0306 - val_acc: 0.9893\n",
      "Epoch 3/100\n",
      "105/105 [==============================] - 4s 42ms/step - loss: 0.1692 - acc: 0.9506 - val_loss: 0.0263 - val_acc: 0.9893\n",
      "Epoch 4/100\n",
      "105/105 [==============================] - 4s 42ms/step - loss: 0.1517 - acc: 0.9568 - val_loss: 0.0187 - val_acc: 0.9929\n",
      "Epoch 5/100\n",
      "105/105 [==============================] - 4s 39ms/step - loss: 0.1182 - acc: 0.9643 - val_loss: 0.0160 - val_acc: 0.9952\n",
      "Epoch 6/100\n",
      "105/105 [==============================] - 4s 41ms/step - loss: 0.1184 - acc: 0.9705 - val_loss: 0.0149 - val_acc: 0.9964\n",
      "Epoch 7/100\n",
      "105/105 [==============================] - 4s 40ms/step - loss: 0.1089 - acc: 0.9708 - val_loss: 0.0124 - val_acc: 0.9964\n",
      "Epoch 8/100\n",
      "105/105 [==============================] - 5s 43ms/step - loss: 0.1002 - acc: 0.9714 - val_loss: 0.0119 - val_acc: 0.9952\n",
      "Epoch 9/100\n",
      "105/105 [==============================] - 4s 42ms/step - loss: 0.0803 - acc: 0.9762 - val_loss: 0.0129 - val_acc: 0.9976\n",
      "Epoch 10/100\n",
      "105/105 [==============================] - 4s 41ms/step - loss: 0.0697 - acc: 0.9783 - val_loss: 0.0142 - val_acc: 0.9964\n",
      "Epoch 11/100\n",
      "105/105 [==============================] - 4s 42ms/step - loss: 0.0739 - acc: 0.9792 - val_loss: 0.0103 - val_acc: 0.9964\n",
      "Epoch 12/100\n",
      "105/105 [==============================] - 4s 41ms/step - loss: 0.0651 - acc: 0.9813 - val_loss: 0.0090 - val_acc: 0.9964\n",
      "Epoch 13/100\n",
      "105/105 [==============================] - 4s 40ms/step - loss: 0.0750 - acc: 0.9810 - val_loss: 0.0067 - val_acc: 0.9964\n",
      "Epoch 14/100\n",
      "105/105 [==============================] - 4s 41ms/step - loss: 0.0633 - acc: 0.9821 - val_loss: 0.0045 - val_acc: 0.9988\n",
      "Epoch 15/100\n",
      "105/105 [==============================] - 4s 41ms/step - loss: 0.0490 - acc: 0.9848 - val_loss: 0.0052 - val_acc: 0.9964\n",
      "Epoch 16/100\n",
      "105/105 [==============================] - 4s 41ms/step - loss: 0.0655 - acc: 0.9821 - val_loss: 0.0063 - val_acc: 0.9976\n",
      "Epoch 17/100\n",
      "105/105 [==============================] - 4s 40ms/step - loss: 0.0443 - acc: 0.9818 - val_loss: 0.0032 - val_acc: 0.9976\n",
      "Epoch 18/100\n",
      "105/105 [==============================] - 4s 41ms/step - loss: 0.0657 - acc: 0.9827 - val_loss: 0.0031 - val_acc: 0.9976\n",
      "Epoch 19/100\n",
      "105/105 [==============================] - 4s 40ms/step - loss: 0.0493 - acc: 0.9836 - val_loss: 0.0045 - val_acc: 0.9976\n",
      "Epoch 20/100\n",
      "105/105 [==============================] - 4s 39ms/step - loss: 0.0498 - acc: 0.9842 - val_loss: 0.0054 - val_acc: 0.9976\n",
      "Epoch 21/100\n",
      " 95/105 [==========================>...] - ETA: 0s - loss: 0.0731 - acc: 0.9809"
     ]
    }
   ],
   "source": [
    "save_model = keras.callbacks.ModelCheckpoint(MODEL_PATH_HEAD, monitor='val_loss', mode='min', verbose=0,\n",
    "                                             save_best_only=True, save_weights_only=False, period=1)\n",
    "early_stopping = keras.callbacks.EarlyStopping(monitor='val_loss', min_delta=0, patience=5, verbose=0, mode='min')\n",
    "tensorboard = keras.callbacks.TensorBoard(log_dir=MODEL_DIR)\n",
    "callbacks = [save_model, early_stopping, tensorboard]\n",
    "\n",
    "with wandb.monitor(display=False):\n",
    "    model.fit_generator(\n",
    "        train_batches, \n",
    "        epochs=100,\n",
    "        callbacks=callbacks + [WandbCallback(save_model=False)],\n",
    "        validation_data=test_batches\n",
    "    )"
   ]
  },
  {
   "cell_type": "markdown",
   "metadata": {},
   "source": [
    "### Fine-Tuning"
   ]
  },
  {
   "cell_type": "code",
   "execution_count": 27,
   "metadata": {},
   "outputs": [],
   "source": [
    "model = get_digit_model(input_shape=target_shape + (3,), mode='tune')\n",
    "    \n",
    "model.compile(\n",
    "    loss=keras.losses.categorical_crossentropy,\n",
    "    optimizer=keras.optimizers.RMSprop(lr=.0001),\n",
    "    metrics=['accuracy']\n",
    ")\n",
    "\n",
    "# Initialize from pre-trained model\n",
    "model.load_weights(MODEL_PATH_HEAD)"
   ]
  },
  {
   "cell_type": "code",
   "execution_count": 29,
   "metadata": {},
   "outputs": [
    {
     "name": "stdout",
     "output_type": "stream",
     "text": [
      "Resuming run: https://app.wandb.ai/hammerlab/celldom/runs/zd10wamk\n"
     ]
    },
    {
     "data": {
      "text/html": [
       "<iframe src=\"https://app.wandb.ai/hammerlab/celldom/runs/zd10wamk?jupyter=true\" style=\"border:none;width:100%;height:420px\">\n",
       "        </iframe>"
      ],
      "text/plain": [
       "<wandb.jupyter.Run at 0x7f2568d24080>"
      ]
     },
     "metadata": {},
     "output_type": "display_data"
    },
    {
     "name": "stdout",
     "output_type": "stream",
     "text": [
      "Epoch 1/50\n",
      "81/81 [==============================] - 4s 48ms/step - loss: 0.0287 - acc: 0.9915 - val_loss: 1.1687e-05 - val_acc: 1.0000\n",
      "Epoch 2/50\n",
      "81/81 [==============================] - 4s 47ms/step - loss: 0.0336 - acc: 0.9915 - val_loss: 1.2508e-05 - val_acc: 1.0000\n",
      "Epoch 3/50\n",
      "81/81 [==============================] - 4s 48ms/step - loss: 0.0340 - acc: 0.9900 - val_loss: 1.1836e-05 - val_acc: 1.0000\n",
      "Epoch 4/50\n",
      "81/81 [==============================] - 4s 48ms/step - loss: 0.0400 - acc: 0.9879 - val_loss: 9.9127e-06 - val_acc: 1.0000\n",
      "Epoch 5/50\n",
      "81/81 [==============================] - 4s 48ms/step - loss: 0.0163 - acc: 0.9946 - val_loss: 9.4697e-06 - val_acc: 1.0000\n",
      "Epoch 6/50\n",
      "81/81 [==============================] - 4s 46ms/step - loss: 0.0302 - acc: 0.9923 - val_loss: 1.0757e-05 - val_acc: 1.0000\n",
      "Epoch 7/50\n",
      "81/81 [==============================] - 4s 48ms/step - loss: 0.0313 - acc: 0.9915 - val_loss: 9.0108e-06 - val_acc: 1.0000\n",
      "Epoch 8/50\n",
      "81/81 [==============================] - 4s 46ms/step - loss: 0.0201 - acc: 0.9923 - val_loss: 8.0923e-06 - val_acc: 1.0000\n",
      "Epoch 9/50\n",
      "81/81 [==============================] - 4s 45ms/step - loss: 0.0299 - acc: 0.9931 - val_loss: 8.1248e-06 - val_acc: 1.0000\n",
      "Epoch 10/50\n",
      "81/81 [==============================] - 4s 46ms/step - loss: 0.0305 - acc: 0.9927 - val_loss: 6.5670e-06 - val_acc: 1.0000\n",
      "Epoch 11/50\n",
      "81/81 [==============================] - 4s 47ms/step - loss: 0.0279 - acc: 0.9915 - val_loss: 6.3202e-06 - val_acc: 1.0000\n",
      "Epoch 12/50\n",
      "81/81 [==============================] - 4s 48ms/step - loss: 0.0300 - acc: 0.9934 - val_loss: 5.2858e-06 - val_acc: 1.0000\n",
      "Epoch 13/50\n",
      "81/81 [==============================] - 4s 47ms/step - loss: 0.0318 - acc: 0.9915 - val_loss: 6.2062e-06 - val_acc: 1.0000\n",
      "Epoch 14/50\n",
      "81/81 [==============================] - 4s 45ms/step - loss: 0.0353 - acc: 0.9927 - val_loss: 6.0244e-06 - val_acc: 1.0000\n",
      "Epoch 15/50\n",
      "81/81 [==============================] - 4s 48ms/step - loss: 0.0218 - acc: 0.9937 - val_loss: 5.9178e-06 - val_acc: 1.0000\n",
      "Epoch 16/50\n",
      "81/81 [==============================] - 4s 48ms/step - loss: 0.0458 - acc: 0.9887 - val_loss: 7.3581e-06 - val_acc: 1.0000\n",
      "Epoch 17/50\n",
      "81/81 [==============================] - 4s 46ms/step - loss: 0.0233 - acc: 0.9946 - val_loss: 4.7800e-06 - val_acc: 1.0000\n",
      "Epoch 18/50\n",
      "81/81 [==============================] - 4s 48ms/step - loss: 0.0177 - acc: 0.9942 - val_loss: 4.3916e-06 - val_acc: 1.0000\n",
      "Epoch 19/50\n",
      "81/81 [==============================] - 4s 47ms/step - loss: 0.0254 - acc: 0.9919 - val_loss: 4.2812e-06 - val_acc: 1.0000\n",
      "Epoch 20/50\n",
      "81/81 [==============================] - 4s 47ms/step - loss: 0.0174 - acc: 0.9950 - val_loss: 4.9125e-06 - val_acc: 1.0000\n",
      "Epoch 21/50\n",
      "81/81 [==============================] - 4s 45ms/step - loss: 0.0248 - acc: 0.9950 - val_loss: 4.0741e-06 - val_acc: 1.0000\n",
      "Epoch 22/50\n",
      "81/81 [==============================] - 4s 47ms/step - loss: 0.0231 - acc: 0.9934 - val_loss: 3.6064e-06 - val_acc: 1.0000\n",
      "Epoch 23/50\n",
      "81/81 [==============================] - 4s 47ms/step - loss: 0.0270 - acc: 0.9941 - val_loss: 3.4375e-06 - val_acc: 1.0000\n",
      "Epoch 24/50\n",
      "81/81 [==============================] - 4s 46ms/step - loss: 0.0345 - acc: 0.9911 - val_loss: 3.9615e-06 - val_acc: 1.0000\n",
      "Epoch 25/50\n",
      "81/81 [==============================] - 4s 47ms/step - loss: 0.0294 - acc: 0.9927 - val_loss: 3.4569e-06 - val_acc: 1.0000\n",
      "Epoch 26/50\n",
      "81/81 [==============================] - 4s 45ms/step - loss: 0.0289 - acc: 0.9911 - val_loss: 4.0468e-06 - val_acc: 1.0000\n",
      "Epoch 27/50\n",
      "81/81 [==============================] - 4s 47ms/step - loss: 0.0278 - acc: 0.9919 - val_loss: 3.9468e-06 - val_acc: 1.0000\n",
      "Epoch 28/50\n",
      "81/81 [==============================] - 4s 48ms/step - loss: 0.0356 - acc: 0.9911 - val_loss: 3.1609e-06 - val_acc: 1.0000\n",
      "Epoch 29/50\n",
      "81/81 [==============================] - 4s 45ms/step - loss: 0.0266 - acc: 0.9931 - val_loss: 2.6773e-06 - val_acc: 1.0000\n",
      "Epoch 30/50\n",
      "81/81 [==============================] - 4s 48ms/step - loss: 0.0349 - acc: 0.9931 - val_loss: 2.0710e-06 - val_acc: 1.0000\n",
      "Epoch 31/50\n",
      "81/81 [==============================] - 4s 47ms/step - loss: 0.0252 - acc: 0.9934 - val_loss: 2.2980e-06 - val_acc: 1.0000\n",
      "Epoch 32/50\n",
      "81/81 [==============================] - 4s 47ms/step - loss: 0.0320 - acc: 0.9915 - val_loss: 2.3721e-06 - val_acc: 1.0000\n",
      "Epoch 33/50\n",
      "81/81 [==============================] - 4s 46ms/step - loss: 0.0168 - acc: 0.9942 - val_loss: 2.4627e-06 - val_acc: 1.0000\n",
      "Epoch 34/50\n",
      "81/81 [==============================] - 4s 52ms/step - loss: 0.0173 - acc: 0.9942 - val_loss: 2.2657e-06 - val_acc: 1.0000\n",
      "Epoch 35/50\n",
      "81/81 [==============================] - 4s 46ms/step - loss: 0.0143 - acc: 0.9969 - val_loss: 2.0858e-06 - val_acc: 1.0000\n"
     ]
    }
   ],
   "source": [
    "save_model = keras.callbacks.ModelCheckpoint(MODEL_PATH, monitor='val_loss', mode='min', verbose=0,\n",
    "                                             save_best_only=True, save_weights_only=False, period=1)\n",
    "early_stopping = keras.callbacks.EarlyStopping(monitor='val_loss', min_delta=0, patience=5, verbose=0, mode='min')\n",
    "tensorboard = keras.callbacks.TensorBoard(log_dir=MODEL_DIR)\n",
    "callbacks = [save_model, early_stopping, tensorboard]\n",
    "\n",
    "with wandb.monitor(display=False):\n",
    "    model.fit_generator(\n",
    "        train_batches, \n",
    "        epochs=100,\n",
    "        callbacks=callbacks + [WandbCallback(save_model=False)],\n",
    "        validation_data=test_batches\n",
    "    )"
   ]
  },
  {
   "cell_type": "markdown",
   "metadata": {},
   "source": [
    "## Inference "
   ]
  },
  {
   "cell_type": "code",
   "execution_count": 30,
   "metadata": {},
   "outputs": [],
   "source": [
    "model = keras.models.load_model(MODEL_PATH)"
   ]
  },
  {
   "cell_type": "code",
   "execution_count": 37,
   "metadata": {},
   "outputs": [
    {
     "data": {
      "text/plain": [
       "((644, 32, 32, 3), (644,))"
      ]
     },
     "execution_count": 37,
     "metadata": {},
     "output_type": "execute_result"
    }
   ],
   "source": [
    "inf_x, inf_y = test_x, test_y\n",
    "#inf_x, inf_y = train_x, train_y\n",
    "inf_y = np.argmax(inf_y, axis=1)\n",
    "inf_x.shape, inf_y.shape"
   ]
  },
  {
   "cell_type": "code",
   "execution_count": 38,
   "metadata": {},
   "outputs": [
    {
     "data": {
      "text/plain": [
       "(644,)"
      ]
     },
     "execution_count": 38,
     "metadata": {},
     "output_type": "execute_result"
    }
   ],
   "source": [
    "inf_y_pred = model.predict_classes(inf_x)\n",
    "inf_y_pred.shape"
   ]
  },
  {
   "cell_type": "code",
   "execution_count": 39,
   "metadata": {},
   "outputs": [
    {
     "data": {
      "text/plain": [
       "1.0"
      ]
     },
     "execution_count": 39,
     "metadata": {},
     "output_type": "execute_result"
    }
   ],
   "source": [
    "# Overall accuracy\n",
    "(inf_y_pred == inf_y).mean()"
   ]
  },
  {
   "cell_type": "code",
   "execution_count": 40,
   "metadata": {},
   "outputs": [
    {
     "data": {
      "text/html": [
       "<style  type=\"text/css\" >\n",
       "    #T_9ffc839a_b6d1_11e8_b84b_0242ac110002row0_col0 {\n",
       "            background-color:  #4897c4;\n",
       "        }    #T_9ffc839a_b6d1_11e8_b84b_0242ac110002row0_col1 {\n",
       "            background-color:  #fff7fb;\n",
       "        }    #T_9ffc839a_b6d1_11e8_b84b_0242ac110002row0_col2 {\n",
       "            background-color:  #fff7fb;\n",
       "        }    #T_9ffc839a_b6d1_11e8_b84b_0242ac110002row0_col3 {\n",
       "            background-color:  #fff7fb;\n",
       "        }    #T_9ffc839a_b6d1_11e8_b84b_0242ac110002row0_col4 {\n",
       "            background-color:  #fff7fb;\n",
       "        }    #T_9ffc839a_b6d1_11e8_b84b_0242ac110002row0_col5 {\n",
       "            background-color:  #fff7fb;\n",
       "        }    #T_9ffc839a_b6d1_11e8_b84b_0242ac110002row0_col6 {\n",
       "            background-color:  #fff7fb;\n",
       "        }    #T_9ffc839a_b6d1_11e8_b84b_0242ac110002row0_col7 {\n",
       "            background-color:  #fff7fb;\n",
       "        }    #T_9ffc839a_b6d1_11e8_b84b_0242ac110002row0_col8 {\n",
       "            background-color:  #fff7fb;\n",
       "        }    #T_9ffc839a_b6d1_11e8_b84b_0242ac110002row0_col9 {\n",
       "            background-color:  #fff7fb;\n",
       "        }    #T_9ffc839a_b6d1_11e8_b84b_0242ac110002row1_col0 {\n",
       "            background-color:  #fff7fb;\n",
       "        }    #T_9ffc839a_b6d1_11e8_b84b_0242ac110002row1_col1 {\n",
       "            background-color:  #4897c4;\n",
       "        }    #T_9ffc839a_b6d1_11e8_b84b_0242ac110002row1_col2 {\n",
       "            background-color:  #fff7fb;\n",
       "        }    #T_9ffc839a_b6d1_11e8_b84b_0242ac110002row1_col3 {\n",
       "            background-color:  #fff7fb;\n",
       "        }    #T_9ffc839a_b6d1_11e8_b84b_0242ac110002row1_col4 {\n",
       "            background-color:  #fff7fb;\n",
       "        }    #T_9ffc839a_b6d1_11e8_b84b_0242ac110002row1_col5 {\n",
       "            background-color:  #fff7fb;\n",
       "        }    #T_9ffc839a_b6d1_11e8_b84b_0242ac110002row1_col6 {\n",
       "            background-color:  #fff7fb;\n",
       "        }    #T_9ffc839a_b6d1_11e8_b84b_0242ac110002row1_col7 {\n",
       "            background-color:  #fff7fb;\n",
       "        }    #T_9ffc839a_b6d1_11e8_b84b_0242ac110002row1_col8 {\n",
       "            background-color:  #fff7fb;\n",
       "        }    #T_9ffc839a_b6d1_11e8_b84b_0242ac110002row1_col9 {\n",
       "            background-color:  #fff7fb;\n",
       "        }    #T_9ffc839a_b6d1_11e8_b84b_0242ac110002row2_col0 {\n",
       "            background-color:  #fff7fb;\n",
       "        }    #T_9ffc839a_b6d1_11e8_b84b_0242ac110002row2_col1 {\n",
       "            background-color:  #fff7fb;\n",
       "        }    #T_9ffc839a_b6d1_11e8_b84b_0242ac110002row2_col2 {\n",
       "            background-color:  #4897c4;\n",
       "        }    #T_9ffc839a_b6d1_11e8_b84b_0242ac110002row2_col3 {\n",
       "            background-color:  #fff7fb;\n",
       "        }    #T_9ffc839a_b6d1_11e8_b84b_0242ac110002row2_col4 {\n",
       "            background-color:  #fff7fb;\n",
       "        }    #T_9ffc839a_b6d1_11e8_b84b_0242ac110002row2_col5 {\n",
       "            background-color:  #fff7fb;\n",
       "        }    #T_9ffc839a_b6d1_11e8_b84b_0242ac110002row2_col6 {\n",
       "            background-color:  #fff7fb;\n",
       "        }    #T_9ffc839a_b6d1_11e8_b84b_0242ac110002row2_col7 {\n",
       "            background-color:  #fff7fb;\n",
       "        }    #T_9ffc839a_b6d1_11e8_b84b_0242ac110002row2_col8 {\n",
       "            background-color:  #fff7fb;\n",
       "        }    #T_9ffc839a_b6d1_11e8_b84b_0242ac110002row2_col9 {\n",
       "            background-color:  #fff7fb;\n",
       "        }    #T_9ffc839a_b6d1_11e8_b84b_0242ac110002row3_col0 {\n",
       "            background-color:  #fff7fb;\n",
       "        }    #T_9ffc839a_b6d1_11e8_b84b_0242ac110002row3_col1 {\n",
       "            background-color:  #fff7fb;\n",
       "        }    #T_9ffc839a_b6d1_11e8_b84b_0242ac110002row3_col2 {\n",
       "            background-color:  #fff7fb;\n",
       "        }    #T_9ffc839a_b6d1_11e8_b84b_0242ac110002row3_col3 {\n",
       "            background-color:  #4897c4;\n",
       "        }    #T_9ffc839a_b6d1_11e8_b84b_0242ac110002row3_col4 {\n",
       "            background-color:  #fff7fb;\n",
       "        }    #T_9ffc839a_b6d1_11e8_b84b_0242ac110002row3_col5 {\n",
       "            background-color:  #fff7fb;\n",
       "        }    #T_9ffc839a_b6d1_11e8_b84b_0242ac110002row3_col6 {\n",
       "            background-color:  #fff7fb;\n",
       "        }    #T_9ffc839a_b6d1_11e8_b84b_0242ac110002row3_col7 {\n",
       "            background-color:  #fff7fb;\n",
       "        }    #T_9ffc839a_b6d1_11e8_b84b_0242ac110002row3_col8 {\n",
       "            background-color:  #fff7fb;\n",
       "        }    #T_9ffc839a_b6d1_11e8_b84b_0242ac110002row3_col9 {\n",
       "            background-color:  #fff7fb;\n",
       "        }    #T_9ffc839a_b6d1_11e8_b84b_0242ac110002row4_col0 {\n",
       "            background-color:  #fff7fb;\n",
       "        }    #T_9ffc839a_b6d1_11e8_b84b_0242ac110002row4_col1 {\n",
       "            background-color:  #fff7fb;\n",
       "        }    #T_9ffc839a_b6d1_11e8_b84b_0242ac110002row4_col2 {\n",
       "            background-color:  #fff7fb;\n",
       "        }    #T_9ffc839a_b6d1_11e8_b84b_0242ac110002row4_col3 {\n",
       "            background-color:  #fff7fb;\n",
       "        }    #T_9ffc839a_b6d1_11e8_b84b_0242ac110002row4_col4 {\n",
       "            background-color:  #4897c4;\n",
       "        }    #T_9ffc839a_b6d1_11e8_b84b_0242ac110002row4_col5 {\n",
       "            background-color:  #fff7fb;\n",
       "        }    #T_9ffc839a_b6d1_11e8_b84b_0242ac110002row4_col6 {\n",
       "            background-color:  #fff7fb;\n",
       "        }    #T_9ffc839a_b6d1_11e8_b84b_0242ac110002row4_col7 {\n",
       "            background-color:  #fff7fb;\n",
       "        }    #T_9ffc839a_b6d1_11e8_b84b_0242ac110002row4_col8 {\n",
       "            background-color:  #fff7fb;\n",
       "        }    #T_9ffc839a_b6d1_11e8_b84b_0242ac110002row4_col9 {\n",
       "            background-color:  #fff7fb;\n",
       "        }    #T_9ffc839a_b6d1_11e8_b84b_0242ac110002row5_col0 {\n",
       "            background-color:  #fff7fb;\n",
       "        }    #T_9ffc839a_b6d1_11e8_b84b_0242ac110002row5_col1 {\n",
       "            background-color:  #fff7fb;\n",
       "        }    #T_9ffc839a_b6d1_11e8_b84b_0242ac110002row5_col2 {\n",
       "            background-color:  #fff7fb;\n",
       "        }    #T_9ffc839a_b6d1_11e8_b84b_0242ac110002row5_col3 {\n",
       "            background-color:  #fff7fb;\n",
       "        }    #T_9ffc839a_b6d1_11e8_b84b_0242ac110002row5_col4 {\n",
       "            background-color:  #fff7fb;\n",
       "        }    #T_9ffc839a_b6d1_11e8_b84b_0242ac110002row5_col5 {\n",
       "            background-color:  #4897c4;\n",
       "        }    #T_9ffc839a_b6d1_11e8_b84b_0242ac110002row5_col6 {\n",
       "            background-color:  #fff7fb;\n",
       "        }    #T_9ffc839a_b6d1_11e8_b84b_0242ac110002row5_col7 {\n",
       "            background-color:  #fff7fb;\n",
       "        }    #T_9ffc839a_b6d1_11e8_b84b_0242ac110002row5_col8 {\n",
       "            background-color:  #fff7fb;\n",
       "        }    #T_9ffc839a_b6d1_11e8_b84b_0242ac110002row5_col9 {\n",
       "            background-color:  #fff7fb;\n",
       "        }    #T_9ffc839a_b6d1_11e8_b84b_0242ac110002row6_col0 {\n",
       "            background-color:  #fff7fb;\n",
       "        }    #T_9ffc839a_b6d1_11e8_b84b_0242ac110002row6_col1 {\n",
       "            background-color:  #fff7fb;\n",
       "        }    #T_9ffc839a_b6d1_11e8_b84b_0242ac110002row6_col2 {\n",
       "            background-color:  #fff7fb;\n",
       "        }    #T_9ffc839a_b6d1_11e8_b84b_0242ac110002row6_col3 {\n",
       "            background-color:  #fff7fb;\n",
       "        }    #T_9ffc839a_b6d1_11e8_b84b_0242ac110002row6_col4 {\n",
       "            background-color:  #fff7fb;\n",
       "        }    #T_9ffc839a_b6d1_11e8_b84b_0242ac110002row6_col5 {\n",
       "            background-color:  #fff7fb;\n",
       "        }    #T_9ffc839a_b6d1_11e8_b84b_0242ac110002row6_col6 {\n",
       "            background-color:  #4897c4;\n",
       "        }    #T_9ffc839a_b6d1_11e8_b84b_0242ac110002row6_col7 {\n",
       "            background-color:  #fff7fb;\n",
       "        }    #T_9ffc839a_b6d1_11e8_b84b_0242ac110002row6_col8 {\n",
       "            background-color:  #fff7fb;\n",
       "        }    #T_9ffc839a_b6d1_11e8_b84b_0242ac110002row6_col9 {\n",
       "            background-color:  #fff7fb;\n",
       "        }    #T_9ffc839a_b6d1_11e8_b84b_0242ac110002row7_col0 {\n",
       "            background-color:  #fff7fb;\n",
       "        }    #T_9ffc839a_b6d1_11e8_b84b_0242ac110002row7_col1 {\n",
       "            background-color:  #fff7fb;\n",
       "        }    #T_9ffc839a_b6d1_11e8_b84b_0242ac110002row7_col2 {\n",
       "            background-color:  #fff7fb;\n",
       "        }    #T_9ffc839a_b6d1_11e8_b84b_0242ac110002row7_col3 {\n",
       "            background-color:  #fff7fb;\n",
       "        }    #T_9ffc839a_b6d1_11e8_b84b_0242ac110002row7_col4 {\n",
       "            background-color:  #fff7fb;\n",
       "        }    #T_9ffc839a_b6d1_11e8_b84b_0242ac110002row7_col5 {\n",
       "            background-color:  #fff7fb;\n",
       "        }    #T_9ffc839a_b6d1_11e8_b84b_0242ac110002row7_col6 {\n",
       "            background-color:  #fff7fb;\n",
       "        }    #T_9ffc839a_b6d1_11e8_b84b_0242ac110002row7_col7 {\n",
       "            background-color:  #4897c4;\n",
       "        }    #T_9ffc839a_b6d1_11e8_b84b_0242ac110002row7_col8 {\n",
       "            background-color:  #fff7fb;\n",
       "        }    #T_9ffc839a_b6d1_11e8_b84b_0242ac110002row7_col9 {\n",
       "            background-color:  #fff7fb;\n",
       "        }    #T_9ffc839a_b6d1_11e8_b84b_0242ac110002row8_col0 {\n",
       "            background-color:  #fff7fb;\n",
       "        }    #T_9ffc839a_b6d1_11e8_b84b_0242ac110002row8_col1 {\n",
       "            background-color:  #fff7fb;\n",
       "        }    #T_9ffc839a_b6d1_11e8_b84b_0242ac110002row8_col2 {\n",
       "            background-color:  #fff7fb;\n",
       "        }    #T_9ffc839a_b6d1_11e8_b84b_0242ac110002row8_col3 {\n",
       "            background-color:  #fff7fb;\n",
       "        }    #T_9ffc839a_b6d1_11e8_b84b_0242ac110002row8_col4 {\n",
       "            background-color:  #fff7fb;\n",
       "        }    #T_9ffc839a_b6d1_11e8_b84b_0242ac110002row8_col5 {\n",
       "            background-color:  #fff7fb;\n",
       "        }    #T_9ffc839a_b6d1_11e8_b84b_0242ac110002row8_col6 {\n",
       "            background-color:  #fff7fb;\n",
       "        }    #T_9ffc839a_b6d1_11e8_b84b_0242ac110002row8_col7 {\n",
       "            background-color:  #fff7fb;\n",
       "        }    #T_9ffc839a_b6d1_11e8_b84b_0242ac110002row8_col8 {\n",
       "            background-color:  #4897c4;\n",
       "        }    #T_9ffc839a_b6d1_11e8_b84b_0242ac110002row8_col9 {\n",
       "            background-color:  #fff7fb;\n",
       "        }    #T_9ffc839a_b6d1_11e8_b84b_0242ac110002row9_col0 {\n",
       "            background-color:  #fff7fb;\n",
       "        }    #T_9ffc839a_b6d1_11e8_b84b_0242ac110002row9_col1 {\n",
       "            background-color:  #fff7fb;\n",
       "        }    #T_9ffc839a_b6d1_11e8_b84b_0242ac110002row9_col2 {\n",
       "            background-color:  #fff7fb;\n",
       "        }    #T_9ffc839a_b6d1_11e8_b84b_0242ac110002row9_col3 {\n",
       "            background-color:  #fff7fb;\n",
       "        }    #T_9ffc839a_b6d1_11e8_b84b_0242ac110002row9_col4 {\n",
       "            background-color:  #fff7fb;\n",
       "        }    #T_9ffc839a_b6d1_11e8_b84b_0242ac110002row9_col5 {\n",
       "            background-color:  #fff7fb;\n",
       "        }    #T_9ffc839a_b6d1_11e8_b84b_0242ac110002row9_col6 {\n",
       "            background-color:  #fff7fb;\n",
       "        }    #T_9ffc839a_b6d1_11e8_b84b_0242ac110002row9_col7 {\n",
       "            background-color:  #fff7fb;\n",
       "        }    #T_9ffc839a_b6d1_11e8_b84b_0242ac110002row9_col8 {\n",
       "            background-color:  #fff7fb;\n",
       "        }    #T_9ffc839a_b6d1_11e8_b84b_0242ac110002row9_col9 {\n",
       "            background-color:  #4897c4;\n",
       "        }</style>  \n",
       "<table id=\"T_9ffc839a_b6d1_11e8_b84b_0242ac110002\" > \n",
       "<thead>    <tr> \n",
       "        <th class=\"index_name level0\" >true</th> \n",
       "        <th class=\"col_heading level0 col0\" >0</th> \n",
       "        <th class=\"col_heading level0 col1\" >1</th> \n",
       "        <th class=\"col_heading level0 col2\" >2</th> \n",
       "        <th class=\"col_heading level0 col3\" >3</th> \n",
       "        <th class=\"col_heading level0 col4\" >4</th> \n",
       "        <th class=\"col_heading level0 col5\" >5</th> \n",
       "        <th class=\"col_heading level0 col6\" >6</th> \n",
       "        <th class=\"col_heading level0 col7\" >7</th> \n",
       "        <th class=\"col_heading level0 col8\" >8</th> \n",
       "        <th class=\"col_heading level0 col9\" >9</th> \n",
       "    </tr>    <tr> \n",
       "        <th class=\"index_name level0\" >pred</th> \n",
       "        <th class=\"blank\" ></th> \n",
       "        <th class=\"blank\" ></th> \n",
       "        <th class=\"blank\" ></th> \n",
       "        <th class=\"blank\" ></th> \n",
       "        <th class=\"blank\" ></th> \n",
       "        <th class=\"blank\" ></th> \n",
       "        <th class=\"blank\" ></th> \n",
       "        <th class=\"blank\" ></th> \n",
       "        <th class=\"blank\" ></th> \n",
       "        <th class=\"blank\" ></th> \n",
       "    </tr></thead> \n",
       "<tbody>    <tr> \n",
       "        <th id=\"T_9ffc839a_b6d1_11e8_b84b_0242ac110002level0_row0\" class=\"row_heading level0 row0\" >0</th> \n",
       "        <td id=\"T_9ffc839a_b6d1_11e8_b84b_0242ac110002row0_col0\" class=\"data row0 col0\" >298</td> \n",
       "        <td id=\"T_9ffc839a_b6d1_11e8_b84b_0242ac110002row0_col1\" class=\"data row0 col1\" >0</td> \n",
       "        <td id=\"T_9ffc839a_b6d1_11e8_b84b_0242ac110002row0_col2\" class=\"data row0 col2\" >0</td> \n",
       "        <td id=\"T_9ffc839a_b6d1_11e8_b84b_0242ac110002row0_col3\" class=\"data row0 col3\" >0</td> \n",
       "        <td id=\"T_9ffc839a_b6d1_11e8_b84b_0242ac110002row0_col4\" class=\"data row0 col4\" >0</td> \n",
       "        <td id=\"T_9ffc839a_b6d1_11e8_b84b_0242ac110002row0_col5\" class=\"data row0 col5\" >0</td> \n",
       "        <td id=\"T_9ffc839a_b6d1_11e8_b84b_0242ac110002row0_col6\" class=\"data row0 col6\" >0</td> \n",
       "        <td id=\"T_9ffc839a_b6d1_11e8_b84b_0242ac110002row0_col7\" class=\"data row0 col7\" >0</td> \n",
       "        <td id=\"T_9ffc839a_b6d1_11e8_b84b_0242ac110002row0_col8\" class=\"data row0 col8\" >0</td> \n",
       "        <td id=\"T_9ffc839a_b6d1_11e8_b84b_0242ac110002row0_col9\" class=\"data row0 col9\" >0</td> \n",
       "    </tr>    <tr> \n",
       "        <th id=\"T_9ffc839a_b6d1_11e8_b84b_0242ac110002level0_row1\" class=\"row_heading level0 row1\" >1</th> \n",
       "        <td id=\"T_9ffc839a_b6d1_11e8_b84b_0242ac110002row1_col0\" class=\"data row1 col0\" >0</td> \n",
       "        <td id=\"T_9ffc839a_b6d1_11e8_b84b_0242ac110002row1_col1\" class=\"data row1 col1\" >105</td> \n",
       "        <td id=\"T_9ffc839a_b6d1_11e8_b84b_0242ac110002row1_col2\" class=\"data row1 col2\" >0</td> \n",
       "        <td id=\"T_9ffc839a_b6d1_11e8_b84b_0242ac110002row1_col3\" class=\"data row1 col3\" >0</td> \n",
       "        <td id=\"T_9ffc839a_b6d1_11e8_b84b_0242ac110002row1_col4\" class=\"data row1 col4\" >0</td> \n",
       "        <td id=\"T_9ffc839a_b6d1_11e8_b84b_0242ac110002row1_col5\" class=\"data row1 col5\" >0</td> \n",
       "        <td id=\"T_9ffc839a_b6d1_11e8_b84b_0242ac110002row1_col6\" class=\"data row1 col6\" >0</td> \n",
       "        <td id=\"T_9ffc839a_b6d1_11e8_b84b_0242ac110002row1_col7\" class=\"data row1 col7\" >0</td> \n",
       "        <td id=\"T_9ffc839a_b6d1_11e8_b84b_0242ac110002row1_col8\" class=\"data row1 col8\" >0</td> \n",
       "        <td id=\"T_9ffc839a_b6d1_11e8_b84b_0242ac110002row1_col9\" class=\"data row1 col9\" >0</td> \n",
       "    </tr>    <tr> \n",
       "        <th id=\"T_9ffc839a_b6d1_11e8_b84b_0242ac110002level0_row2\" class=\"row_heading level0 row2\" >2</th> \n",
       "        <td id=\"T_9ffc839a_b6d1_11e8_b84b_0242ac110002row2_col0\" class=\"data row2 col0\" >0</td> \n",
       "        <td id=\"T_9ffc839a_b6d1_11e8_b84b_0242ac110002row2_col1\" class=\"data row2 col1\" >0</td> \n",
       "        <td id=\"T_9ffc839a_b6d1_11e8_b84b_0242ac110002row2_col2\" class=\"data row2 col2\" >37</td> \n",
       "        <td id=\"T_9ffc839a_b6d1_11e8_b84b_0242ac110002row2_col3\" class=\"data row2 col3\" >0</td> \n",
       "        <td id=\"T_9ffc839a_b6d1_11e8_b84b_0242ac110002row2_col4\" class=\"data row2 col4\" >0</td> \n",
       "        <td id=\"T_9ffc839a_b6d1_11e8_b84b_0242ac110002row2_col5\" class=\"data row2 col5\" >0</td> \n",
       "        <td id=\"T_9ffc839a_b6d1_11e8_b84b_0242ac110002row2_col6\" class=\"data row2 col6\" >0</td> \n",
       "        <td id=\"T_9ffc839a_b6d1_11e8_b84b_0242ac110002row2_col7\" class=\"data row2 col7\" >0</td> \n",
       "        <td id=\"T_9ffc839a_b6d1_11e8_b84b_0242ac110002row2_col8\" class=\"data row2 col8\" >0</td> \n",
       "        <td id=\"T_9ffc839a_b6d1_11e8_b84b_0242ac110002row2_col9\" class=\"data row2 col9\" >0</td> \n",
       "    </tr>    <tr> \n",
       "        <th id=\"T_9ffc839a_b6d1_11e8_b84b_0242ac110002level0_row3\" class=\"row_heading level0 row3\" >3</th> \n",
       "        <td id=\"T_9ffc839a_b6d1_11e8_b84b_0242ac110002row3_col0\" class=\"data row3 col0\" >0</td> \n",
       "        <td id=\"T_9ffc839a_b6d1_11e8_b84b_0242ac110002row3_col1\" class=\"data row3 col1\" >0</td> \n",
       "        <td id=\"T_9ffc839a_b6d1_11e8_b84b_0242ac110002row3_col2\" class=\"data row3 col2\" >0</td> \n",
       "        <td id=\"T_9ffc839a_b6d1_11e8_b84b_0242ac110002row3_col3\" class=\"data row3 col3\" >35</td> \n",
       "        <td id=\"T_9ffc839a_b6d1_11e8_b84b_0242ac110002row3_col4\" class=\"data row3 col4\" >0</td> \n",
       "        <td id=\"T_9ffc839a_b6d1_11e8_b84b_0242ac110002row3_col5\" class=\"data row3 col5\" >0</td> \n",
       "        <td id=\"T_9ffc839a_b6d1_11e8_b84b_0242ac110002row3_col6\" class=\"data row3 col6\" >0</td> \n",
       "        <td id=\"T_9ffc839a_b6d1_11e8_b84b_0242ac110002row3_col7\" class=\"data row3 col7\" >0</td> \n",
       "        <td id=\"T_9ffc839a_b6d1_11e8_b84b_0242ac110002row3_col8\" class=\"data row3 col8\" >0</td> \n",
       "        <td id=\"T_9ffc839a_b6d1_11e8_b84b_0242ac110002row3_col9\" class=\"data row3 col9\" >0</td> \n",
       "    </tr>    <tr> \n",
       "        <th id=\"T_9ffc839a_b6d1_11e8_b84b_0242ac110002level0_row4\" class=\"row_heading level0 row4\" >4</th> \n",
       "        <td id=\"T_9ffc839a_b6d1_11e8_b84b_0242ac110002row4_col0\" class=\"data row4 col0\" >0</td> \n",
       "        <td id=\"T_9ffc839a_b6d1_11e8_b84b_0242ac110002row4_col1\" class=\"data row4 col1\" >0</td> \n",
       "        <td id=\"T_9ffc839a_b6d1_11e8_b84b_0242ac110002row4_col2\" class=\"data row4 col2\" >0</td> \n",
       "        <td id=\"T_9ffc839a_b6d1_11e8_b84b_0242ac110002row4_col3\" class=\"data row4 col3\" >0</td> \n",
       "        <td id=\"T_9ffc839a_b6d1_11e8_b84b_0242ac110002row4_col4\" class=\"data row4 col4\" >36</td> \n",
       "        <td id=\"T_9ffc839a_b6d1_11e8_b84b_0242ac110002row4_col5\" class=\"data row4 col5\" >0</td> \n",
       "        <td id=\"T_9ffc839a_b6d1_11e8_b84b_0242ac110002row4_col6\" class=\"data row4 col6\" >0</td> \n",
       "        <td id=\"T_9ffc839a_b6d1_11e8_b84b_0242ac110002row4_col7\" class=\"data row4 col7\" >0</td> \n",
       "        <td id=\"T_9ffc839a_b6d1_11e8_b84b_0242ac110002row4_col8\" class=\"data row4 col8\" >0</td> \n",
       "        <td id=\"T_9ffc839a_b6d1_11e8_b84b_0242ac110002row4_col9\" class=\"data row4 col9\" >0</td> \n",
       "    </tr>    <tr> \n",
       "        <th id=\"T_9ffc839a_b6d1_11e8_b84b_0242ac110002level0_row5\" class=\"row_heading level0 row5\" >5</th> \n",
       "        <td id=\"T_9ffc839a_b6d1_11e8_b84b_0242ac110002row5_col0\" class=\"data row5 col0\" >0</td> \n",
       "        <td id=\"T_9ffc839a_b6d1_11e8_b84b_0242ac110002row5_col1\" class=\"data row5 col1\" >0</td> \n",
       "        <td id=\"T_9ffc839a_b6d1_11e8_b84b_0242ac110002row5_col2\" class=\"data row5 col2\" >0</td> \n",
       "        <td id=\"T_9ffc839a_b6d1_11e8_b84b_0242ac110002row5_col3\" class=\"data row5 col3\" >0</td> \n",
       "        <td id=\"T_9ffc839a_b6d1_11e8_b84b_0242ac110002row5_col4\" class=\"data row5 col4\" >0</td> \n",
       "        <td id=\"T_9ffc839a_b6d1_11e8_b84b_0242ac110002row5_col5\" class=\"data row5 col5\" >31</td> \n",
       "        <td id=\"T_9ffc839a_b6d1_11e8_b84b_0242ac110002row5_col6\" class=\"data row5 col6\" >0</td> \n",
       "        <td id=\"T_9ffc839a_b6d1_11e8_b84b_0242ac110002row5_col7\" class=\"data row5 col7\" >0</td> \n",
       "        <td id=\"T_9ffc839a_b6d1_11e8_b84b_0242ac110002row5_col8\" class=\"data row5 col8\" >0</td> \n",
       "        <td id=\"T_9ffc839a_b6d1_11e8_b84b_0242ac110002row5_col9\" class=\"data row5 col9\" >0</td> \n",
       "    </tr>    <tr> \n",
       "        <th id=\"T_9ffc839a_b6d1_11e8_b84b_0242ac110002level0_row6\" class=\"row_heading level0 row6\" >6</th> \n",
       "        <td id=\"T_9ffc839a_b6d1_11e8_b84b_0242ac110002row6_col0\" class=\"data row6 col0\" >0</td> \n",
       "        <td id=\"T_9ffc839a_b6d1_11e8_b84b_0242ac110002row6_col1\" class=\"data row6 col1\" >0</td> \n",
       "        <td id=\"T_9ffc839a_b6d1_11e8_b84b_0242ac110002row6_col2\" class=\"data row6 col2\" >0</td> \n",
       "        <td id=\"T_9ffc839a_b6d1_11e8_b84b_0242ac110002row6_col3\" class=\"data row6 col3\" >0</td> \n",
       "        <td id=\"T_9ffc839a_b6d1_11e8_b84b_0242ac110002row6_col4\" class=\"data row6 col4\" >0</td> \n",
       "        <td id=\"T_9ffc839a_b6d1_11e8_b84b_0242ac110002row6_col5\" class=\"data row6 col5\" >0</td> \n",
       "        <td id=\"T_9ffc839a_b6d1_11e8_b84b_0242ac110002row6_col6\" class=\"data row6 col6\" >27</td> \n",
       "        <td id=\"T_9ffc839a_b6d1_11e8_b84b_0242ac110002row6_col7\" class=\"data row6 col7\" >0</td> \n",
       "        <td id=\"T_9ffc839a_b6d1_11e8_b84b_0242ac110002row6_col8\" class=\"data row6 col8\" >0</td> \n",
       "        <td id=\"T_9ffc839a_b6d1_11e8_b84b_0242ac110002row6_col9\" class=\"data row6 col9\" >0</td> \n",
       "    </tr>    <tr> \n",
       "        <th id=\"T_9ffc839a_b6d1_11e8_b84b_0242ac110002level0_row7\" class=\"row_heading level0 row7\" >7</th> \n",
       "        <td id=\"T_9ffc839a_b6d1_11e8_b84b_0242ac110002row7_col0\" class=\"data row7 col0\" >0</td> \n",
       "        <td id=\"T_9ffc839a_b6d1_11e8_b84b_0242ac110002row7_col1\" class=\"data row7 col1\" >0</td> \n",
       "        <td id=\"T_9ffc839a_b6d1_11e8_b84b_0242ac110002row7_col2\" class=\"data row7 col2\" >0</td> \n",
       "        <td id=\"T_9ffc839a_b6d1_11e8_b84b_0242ac110002row7_col3\" class=\"data row7 col3\" >0</td> \n",
       "        <td id=\"T_9ffc839a_b6d1_11e8_b84b_0242ac110002row7_col4\" class=\"data row7 col4\" >0</td> \n",
       "        <td id=\"T_9ffc839a_b6d1_11e8_b84b_0242ac110002row7_col5\" class=\"data row7 col5\" >0</td> \n",
       "        <td id=\"T_9ffc839a_b6d1_11e8_b84b_0242ac110002row7_col6\" class=\"data row7 col6\" >0</td> \n",
       "        <td id=\"T_9ffc839a_b6d1_11e8_b84b_0242ac110002row7_col7\" class=\"data row7 col7\" >25</td> \n",
       "        <td id=\"T_9ffc839a_b6d1_11e8_b84b_0242ac110002row7_col8\" class=\"data row7 col8\" >0</td> \n",
       "        <td id=\"T_9ffc839a_b6d1_11e8_b84b_0242ac110002row7_col9\" class=\"data row7 col9\" >0</td> \n",
       "    </tr>    <tr> \n",
       "        <th id=\"T_9ffc839a_b6d1_11e8_b84b_0242ac110002level0_row8\" class=\"row_heading level0 row8\" >8</th> \n",
       "        <td id=\"T_9ffc839a_b6d1_11e8_b84b_0242ac110002row8_col0\" class=\"data row8 col0\" >0</td> \n",
       "        <td id=\"T_9ffc839a_b6d1_11e8_b84b_0242ac110002row8_col1\" class=\"data row8 col1\" >0</td> \n",
       "        <td id=\"T_9ffc839a_b6d1_11e8_b84b_0242ac110002row8_col2\" class=\"data row8 col2\" >0</td> \n",
       "        <td id=\"T_9ffc839a_b6d1_11e8_b84b_0242ac110002row8_col3\" class=\"data row8 col3\" >0</td> \n",
       "        <td id=\"T_9ffc839a_b6d1_11e8_b84b_0242ac110002row8_col4\" class=\"data row8 col4\" >0</td> \n",
       "        <td id=\"T_9ffc839a_b6d1_11e8_b84b_0242ac110002row8_col5\" class=\"data row8 col5\" >0</td> \n",
       "        <td id=\"T_9ffc839a_b6d1_11e8_b84b_0242ac110002row8_col6\" class=\"data row8 col6\" >0</td> \n",
       "        <td id=\"T_9ffc839a_b6d1_11e8_b84b_0242ac110002row8_col7\" class=\"data row8 col7\" >0</td> \n",
       "        <td id=\"T_9ffc839a_b6d1_11e8_b84b_0242ac110002row8_col8\" class=\"data row8 col8\" >26</td> \n",
       "        <td id=\"T_9ffc839a_b6d1_11e8_b84b_0242ac110002row8_col9\" class=\"data row8 col9\" >0</td> \n",
       "    </tr>    <tr> \n",
       "        <th id=\"T_9ffc839a_b6d1_11e8_b84b_0242ac110002level0_row9\" class=\"row_heading level0 row9\" >9</th> \n",
       "        <td id=\"T_9ffc839a_b6d1_11e8_b84b_0242ac110002row9_col0\" class=\"data row9 col0\" >0</td> \n",
       "        <td id=\"T_9ffc839a_b6d1_11e8_b84b_0242ac110002row9_col1\" class=\"data row9 col1\" >0</td> \n",
       "        <td id=\"T_9ffc839a_b6d1_11e8_b84b_0242ac110002row9_col2\" class=\"data row9 col2\" >0</td> \n",
       "        <td id=\"T_9ffc839a_b6d1_11e8_b84b_0242ac110002row9_col3\" class=\"data row9 col3\" >0</td> \n",
       "        <td id=\"T_9ffc839a_b6d1_11e8_b84b_0242ac110002row9_col4\" class=\"data row9 col4\" >0</td> \n",
       "        <td id=\"T_9ffc839a_b6d1_11e8_b84b_0242ac110002row9_col5\" class=\"data row9 col5\" >0</td> \n",
       "        <td id=\"T_9ffc839a_b6d1_11e8_b84b_0242ac110002row9_col6\" class=\"data row9 col6\" >0</td> \n",
       "        <td id=\"T_9ffc839a_b6d1_11e8_b84b_0242ac110002row9_col7\" class=\"data row9 col7\" >0</td> \n",
       "        <td id=\"T_9ffc839a_b6d1_11e8_b84b_0242ac110002row9_col8\" class=\"data row9 col8\" >0</td> \n",
       "        <td id=\"T_9ffc839a_b6d1_11e8_b84b_0242ac110002row9_col9\" class=\"data row9 col9\" >24</td> \n",
       "    </tr></tbody> \n",
       "</table> "
      ],
      "text/plain": [
       "<pandas.io.formats.style.Styler at 0x7f2566be8940>"
      ]
     },
     "execution_count": 40,
     "metadata": {},
     "output_type": "execute_result"
    }
   ],
   "source": [
    "pd.DataFrame(dict(pred=inf_y_pred, true=inf_y)).groupby(['pred', 'true']).size().unstack().fillna(0)\\\n",
    "    .style.background_gradient(high=.7)"
   ]
  },
  {
   "cell_type": "markdown",
   "metadata": {},
   "source": [
    "#### Show Misclassified Instances (if any)"
   ]
  },
  {
   "cell_type": "code",
   "execution_count": 41,
   "metadata": {},
   "outputs": [],
   "source": [
    "misclassified = np.argwhere(inf_y_pred != inf_y).ravel()"
   ]
  },
  {
   "cell_type": "code",
   "execution_count": 42,
   "metadata": {},
   "outputs": [
    {
     "data": {
      "text/plain": [
       "0"
      ]
     },
     "execution_count": 42,
     "metadata": {},
     "output_type": "execute_result"
    }
   ],
   "source": [
    "len(misclassified)"
   ]
  },
  {
   "cell_type": "code",
   "execution_count": 48,
   "metadata": {},
   "outputs": [
    {
     "data": {
      "text/plain": [
       "array([ 183,  338, 1991])"
      ]
     },
     "execution_count": 48,
     "metadata": {},
     "output_type": "execute_result"
    }
   ],
   "source": [
    "misclassified"
   ]
  },
  {
   "cell_type": "code",
   "execution_count": 50,
   "metadata": {},
   "outputs": [
    {
     "data": {
      "image/png": "[encoded data removed]",
      "text/plain": [
       "<Figure size 288x864 with 3 Axes>"
      ]
     },
     "metadata": {},
     "output_type": "display_data"
    }
   ],
   "source": [
    "#n_samp = 10\n",
    "#indexes = pd.Series(list(range(len(pred_y_class)))).sample(n_samp)\n",
    "\n",
    "n_samp = len(misclassified)\n",
    "indexes = misclassified\n",
    "\n",
    "fig, ax = plt.subplots(n_samp, 1)\n",
    "if n_samp == 1:\n",
    "    ax = [ax]\n",
    "fig.set_size_inches(4, n_samp * 4)\n",
    "for i, idx in enumerate(indexes):\n",
    "    ax[i].imshow(inf_x[idx])\n",
    "    ax[i].set_title('Pred: {} - True: {} (idx {})'.format(inf_y_pred[idx], inf_y[idx], idx))"
   ]
  },
  {
   "cell_type": "code",
   "execution_count": 43,
   "metadata": {},
   "outputs": [],
   "source": [
    "# Use the \"idx\" above to get the file the example came from\n",
    "#df.iloc[idx_train[338]]['file']"
   ]
  },
  {
   "cell_type": "code",
   "execution_count": 44,
   "metadata": {},
   "outputs": [
    {
     "data": {
      "text/plain": [
       "'/lab/data/celldom/model/r0.6/digit_model/single_digit_model.h5'"
      ]
     },
     "execution_count": 44,
     "metadata": {},
     "output_type": "execute_result"
    }
   ],
   "source": [
    "MODEL_PATH"
   ]
  },
  {
   "cell_type": "code",
   "execution_count": 45,
   "metadata": {},
   "outputs": [],
   "source": [
    "# Overwrite model in cache to avoid needing to redownload from google storage\n",
    "!cp /lab/data/celldom/model/r0.6/digit_model/single_digit_model.h5 /lab/data/celldom/.celldom/cache/models/single_digit_model.h5"
   ]
  }
 ],
 "metadata": {
  "kernelspec": {
   "display_name": "Python 3",
   "language": "python",
   "name": "python3"
  },
  "language_info": {
   "codemirror_mode": {
    "name": "ipython",
    "version": 3
   },
   "file_extension": ".py",
   "mimetype": "text/x-python",
   "name": "python",
   "nbconvert_exporter": "python",
   "pygments_lexer": "ipython3",
   "version": "3.5.2"
  }
 },
 "nbformat": 4,
 "nbformat_minor": 2
}
