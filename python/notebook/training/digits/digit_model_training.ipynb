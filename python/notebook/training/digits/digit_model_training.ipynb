{
 "cells": [
  {
   "cell_type": "code",
   "execution_count": 1,
   "metadata": {},
   "outputs": [
    {
     "name": "stderr",
     "output_type": "stream",
     "text": [
      "Using TensorFlow backend.\n"
     ]
    },
    {
     "data": {
      "text/plain": [
       "('/lab/data/celldom/model/r0.6/digit_model',\n",
       " '/lab/data/celldom/dataset/training/digit/r0.6/validated/single',\n",
       " '/lab/data/celldom/dataset/training/digit/r0.6/manual/single')"
      ]
     },
     "execution_count": 1,
     "metadata": {},
     "output_type": "execute_result"
    }
   ],
   "source": [
    "import os\n",
    "import re\n",
    "import glob\n",
    "import os.path as osp\n",
    "import pandas as pd\n",
    "import numpy as np\n",
    "import matplotlib.pyplot as plt\n",
    "from skimage import io as sk_io\n",
    "from skimage.transform import resize\n",
    "from skimage.color import gray2rgb, rgb2gray\n",
    "from skimage.exposure import rescale_intensity\n",
    "from cvutils.rectlabel import io as rectlabel_io\n",
    "from cvutils.mrcnn.session import init_keras_session\n",
    "from cvutils import visualize\n",
    "from celldom.dataset import utils as dataset_utils\n",
    "from celldom import seed\n",
    "\n",
    "import celldom\n",
    "import keras\n",
    "from keras.preprocessing import image\n",
    "import wandb\n",
    "from wandb.keras import WandbCallback\n",
    "\n",
    "init_keras_session()\n",
    "\n",
    "DATA_DIR_VALIDATED_EXTRACT = osp.join(celldom.get_dataset_dir(), 'training', 'digit', 'r0.6', 'validated', 'single')\n",
    "DATA_DIR_MANUAL_ANNOTATION = osp.join(celldom.get_dataset_dir(), 'training', 'digit', 'r0.6', 'manual', 'single')\n",
    "DATA_DIR_MANUAL_PARTITIONS = ['pt1', 'pt2', 'pt3']\n",
    "MODEL_DIR = osp.join(os.environ['CELLDOM_DATA_DIR'], 'model', 'r0.6', 'digit_model')\n",
    "\n",
    "MODEL_PATH_HEAD = osp.join(MODEL_DIR, 'single_digit_model_headonly.h5')\n",
    "MODEL_PATH = osp.join(MODEL_DIR, 'single_digit_model.h5')\n",
    "\n",
    "MODEL_DIR, DATA_DIR_VALIDATED_EXTRACT, DATA_DIR_MANUAL_ANNOTATION"
   ]
  },
  {
   "cell_type": "code",
   "execution_count": 2,
   "metadata": {},
   "outputs": [
    {
     "name": "stdout",
     "output_type": "stream",
     "text": [
      "BF_ST_000_APT_000Day0-APT-0-0.jpeg\n",
      "ls: write error: Broken pipe\n"
     ]
    }
   ],
   "source": [
    "!ls $DATA_DIR_VALIDATED_EXTRACT | head -n 1"
   ]
  },
  {
   "cell_type": "code",
   "execution_count": 3,
   "metadata": {},
   "outputs": [],
   "source": [
    "def get_actual_digit(file):\n",
    "    return osp.basename(file).replace('.jpeg', '').split('-')[-1]\n",
    "\n",
    "def load_extracted_images():\n",
    "    res = []\n",
    "    for f in glob.glob(osp.join(DATA_DIR_VALIDATED_EXTRACT, '*.jpeg')):\n",
    "        digit = get_actual_digit(f)\n",
    "        img = sk_io.imread(osp.join(DATA_DIR_VALIDATED_EXTRACT, f))\n",
    "        res.append((int(digit), img, f))\n",
    "    res = pd.DataFrame(res, columns=['digit', 'img', 'file'])\n",
    "    return res\n",
    "\n",
    "def load_annotated_images():\n",
    "    res = []\n",
    "    for pt in DATA_DIR_MANUAL_PARTITIONS:\n",
    "        df = dataset_utils.get_data_files(osp.join(DATA_DIR_MANUAL_ANNOTATION, pt))\n",
    "        for i, r in df.iterrows():\n",
    "            img_path, annot_path = r['image_path'], r['annot_path']\n",
    "            if r['annot_exists']:\n",
    "                try:\n",
    "                    shape, annotations = rectlabel_io.load_annotations(annot_path, assert_masks=False)\n",
    "                    assert len(annotations) == 1, 'Found multiple annotations in {}'.format(annot_path)\n",
    "                    digit = annotations[0].object_type\n",
    "                    if digit == 'NA':\n",
    "                        continue\n",
    "                    # Read RGB 8-bit image\n",
    "                    img = sk_io.imread(img_path)\n",
    "\n",
    "                    # Extract grayscale based on assumption of channel equality\n",
    "                    assert img.ndim == 3 and img.shape[-1] == 3\n",
    "                    assert np.allclose(img[..., 0], img[..., 1])\n",
    "                    assert np.allclose(img[..., 0], img[..., 2])\n",
    "                    img = img[..., 0]\n",
    "                    digit = int(digit)\n",
    "                except:\n",
    "                    print('Failure occurred for annotation file {}'.format(annot_path))\n",
    "                    raise\n",
    "                res.append((digit, img, img_path, pt))\n",
    "    res = pd.DataFrame(res, columns=['digit', 'img', 'file', 'partition'])\n",
    "    return res\n"
   ]
  },
  {
   "cell_type": "code",
   "execution_count": 4,
   "metadata": {},
   "outputs": [],
   "source": [
    "df = pd.concat([\n",
    "    load_extracted_images().assign(source='extract'),\n",
    "    load_annotated_images().assign(source='annotated')\n",
    "])"
   ]
  },
  {
   "cell_type": "code",
   "execution_count": 5,
   "metadata": {},
   "outputs": [
    {
     "data": {
      "text/plain": [
       "8067"
      ]
     },
     "execution_count": 5,
     "metadata": {},
     "output_type": "execute_result"
    }
   ],
   "source": [
    "# r0.2 num files = 2372, r0.6 = 3219\n",
    "len(df)"
   ]
  },
  {
   "cell_type": "code",
   "execution_count": 6,
   "metadata": {},
   "outputs": [
    {
     "data": {
      "text/plain": [
       "annotated    4849\n",
       "extract      3218\n",
       "Name: source, dtype: int64"
      ]
     },
     "execution_count": 6,
     "metadata": {},
     "output_type": "execute_result"
    }
   ],
   "source": [
    "df['source'].value_counts()"
   ]
  },
  {
   "cell_type": "code",
   "execution_count": 7,
   "metadata": {},
   "outputs": [
    {
     "data": {
      "text/plain": [
       "source     partition\n",
       "annotated  pt1          2415\n",
       "           pt2           440\n",
       "           pt3          1994\n",
       "dtype: int64"
      ]
     },
     "execution_count": 7,
     "metadata": {},
     "output_type": "execute_result"
    }
   ],
   "source": [
    "df.groupby(['source', 'partition']).size()"
   ]
  },
  {
   "cell_type": "code",
   "execution_count": 8,
   "metadata": {},
   "outputs": [
    {
     "data": {
      "text/plain": [
       "0    2612\n",
       "1    2314\n",
       "3     709\n",
       "2     594\n",
       "4     480\n",
       "5     317\n",
       "6     275\n",
       "7     256\n",
       "9     256\n",
       "8     254\n",
       "Name: digit, dtype: int64"
      ]
     },
     "execution_count": 8,
     "metadata": {},
     "output_type": "execute_result"
    }
   ],
   "source": [
    "df['digit'].value_counts()"
   ]
  },
  {
   "cell_type": "code",
   "execution_count": 9,
   "metadata": {},
   "outputs": [
    {
     "data": {
      "text/html": [
       "<div>\n",
       "<style scoped>\n",
       "    .dataframe tbody tr th:only-of-type {\n",
       "        vertical-align: middle;\n",
       "    }\n",
       "\n",
       "    .dataframe tbody tr th {\n",
       "        vertical-align: top;\n",
       "    }\n",
       "\n",
       "    .dataframe thead th {\n",
       "        text-align: right;\n",
       "    }\n",
       "</style>\n",
       "<table border=\"1\" class=\"dataframe\">\n",
       "  <thead>\n",
       "    <tr style=\"text-align: right;\">\n",
       "      <th>digit</th>\n",
       "      <th>0</th>\n",
       "      <th>1</th>\n",
       "      <th>2</th>\n",
       "      <th>3</th>\n",
       "      <th>4</th>\n",
       "      <th>5</th>\n",
       "      <th>6</th>\n",
       "      <th>7</th>\n",
       "      <th>8</th>\n",
       "      <th>9</th>\n",
       "    </tr>\n",
       "    <tr>\n",
       "      <th>source</th>\n",
       "      <th></th>\n",
       "      <th></th>\n",
       "      <th></th>\n",
       "      <th></th>\n",
       "      <th></th>\n",
       "      <th></th>\n",
       "      <th></th>\n",
       "      <th></th>\n",
       "      <th></th>\n",
       "      <th></th>\n",
       "    </tr>\n",
       "  </thead>\n",
       "  <tbody>\n",
       "    <tr>\n",
       "      <th>annotated</th>\n",
       "      <td>1124</td>\n",
       "      <td>1788</td>\n",
       "      <td>409</td>\n",
       "      <td>535</td>\n",
       "      <td>300</td>\n",
       "      <td>162</td>\n",
       "      <td>142</td>\n",
       "      <td>133</td>\n",
       "      <td>122</td>\n",
       "      <td>134</td>\n",
       "    </tr>\n",
       "    <tr>\n",
       "      <th>extract</th>\n",
       "      <td>1488</td>\n",
       "      <td>526</td>\n",
       "      <td>185</td>\n",
       "      <td>174</td>\n",
       "      <td>180</td>\n",
       "      <td>155</td>\n",
       "      <td>133</td>\n",
       "      <td>123</td>\n",
       "      <td>132</td>\n",
       "      <td>122</td>\n",
       "    </tr>\n",
       "  </tbody>\n",
       "</table>\n",
       "</div>"
      ],
      "text/plain": [
       "digit         0     1    2    3    4    5    6    7    8    9\n",
       "source                                                       \n",
       "annotated  1124  1788  409  535  300  162  142  133  122  134\n",
       "extract    1488   526  185  174  180  155  133  123  132  122"
      ]
     },
     "execution_count": 9,
     "metadata": {},
     "output_type": "execute_result"
    }
   ],
   "source": [
    "df.groupby(['source', 'digit']).size().unstack()"
   ]
  },
  {
   "cell_type": "code",
   "execution_count": 10,
   "metadata": {},
   "outputs": [
    {
     "data": {
      "text/plain": [
       "uint8    8067\n",
       "Name: img, dtype: int64"
      ]
     },
     "execution_count": 10,
     "metadata": {},
     "output_type": "execute_result"
    }
   ],
   "source": [
    "dtypes = df['img'].apply(lambda v: v.dtype)\n",
    "assert np.all(dtypes == np.uint8)\n",
    "dtypes.value_counts()"
   ]
  },
  {
   "cell_type": "code",
   "execution_count": 11,
   "metadata": {},
   "outputs": [
    {
     "data": {
      "text/html": [
       "<div>\n",
       "<style scoped>\n",
       "    .dataframe tbody tr th:only-of-type {\n",
       "        vertical-align: middle;\n",
       "    }\n",
       "\n",
       "    .dataframe tbody tr th {\n",
       "        vertical-align: top;\n",
       "    }\n",
       "\n",
       "    .dataframe thead th {\n",
       "        text-align: right;\n",
       "    }\n",
       "</style>\n",
       "<table border=\"1\" class=\"dataframe\">\n",
       "  <thead>\n",
       "    <tr style=\"text-align: right;\">\n",
       "      <th></th>\n",
       "      <th>0</th>\n",
       "      <th>1</th>\n",
       "    </tr>\n",
       "  </thead>\n",
       "  <tbody>\n",
       "    <tr>\n",
       "      <th>count</th>\n",
       "      <td>8067.000000</td>\n",
       "      <td>8067.000000</td>\n",
       "    </tr>\n",
       "    <tr>\n",
       "      <th>mean</th>\n",
       "      <td>44.552746</td>\n",
       "      <td>30.952151</td>\n",
       "    </tr>\n",
       "    <tr>\n",
       "      <th>std</th>\n",
       "      <td>9.231131</td>\n",
       "      <td>7.308286</td>\n",
       "    </tr>\n",
       "    <tr>\n",
       "      <th>min</th>\n",
       "      <td>22.000000</td>\n",
       "      <td>19.000000</td>\n",
       "    </tr>\n",
       "    <tr>\n",
       "      <th>25%</th>\n",
       "      <td>36.000000</td>\n",
       "      <td>26.000000</td>\n",
       "    </tr>\n",
       "    <tr>\n",
       "      <th>50%</th>\n",
       "      <td>46.000000</td>\n",
       "      <td>29.000000</td>\n",
       "    </tr>\n",
       "    <tr>\n",
       "      <th>75%</th>\n",
       "      <td>55.000000</td>\n",
       "      <td>39.000000</td>\n",
       "    </tr>\n",
       "    <tr>\n",
       "      <th>max</th>\n",
       "      <td>58.000000</td>\n",
       "      <td>46.000000</td>\n",
       "    </tr>\n",
       "  </tbody>\n",
       "</table>\n",
       "</div>"
      ],
      "text/plain": [
       "                 0            1\n",
       "count  8067.000000  8067.000000\n",
       "mean     44.552746    30.952151\n",
       "std       9.231131     7.308286\n",
       "min      22.000000    19.000000\n",
       "25%      36.000000    26.000000\n",
       "50%      46.000000    29.000000\n",
       "75%      55.000000    39.000000\n",
       "max      58.000000    46.000000"
      ]
     },
     "execution_count": 11,
     "metadata": {},
     "output_type": "execute_result"
    }
   ],
   "source": [
    "pd.DataFrame([r['img'].shape for _, r in df.iterrows()]).describe()"
   ]
  },
  {
   "cell_type": "code",
   "execution_count": 12,
   "metadata": {},
   "outputs": [
    {
     "data": {
      "text/plain": [
       "(6453, 1614)"
      ]
     },
     "execution_count": 12,
     "metadata": {},
     "output_type": "execute_result"
    }
   ],
   "source": [
    "from sklearn.model_selection import train_test_split\n",
    "idx = np.arange(len(df))\n",
    "\n",
    "# Vary test_size (starting large) to get a sense of accuracy with a bigger sample and then decrease for final model\n",
    "idx_train, idx_test = train_test_split(idx, test_size=.2, random_state=seed, stratify=df['digit'])\n",
    "df_train, df_test = df.iloc[idx_train], df.iloc[idx_test]\n",
    "\n",
    "len(df_train), len(df_test)"
   ]
  },
  {
   "cell_type": "code",
   "execution_count": 13,
   "metadata": {},
   "outputs": [
    {
     "data": {
      "text/html": [
       "<div>\n",
       "<style scoped>\n",
       "    .dataframe tbody tr th:only-of-type {\n",
       "        vertical-align: middle;\n",
       "    }\n",
       "\n",
       "    .dataframe tbody tr th {\n",
       "        vertical-align: top;\n",
       "    }\n",
       "\n",
       "    .dataframe thead th {\n",
       "        text-align: right;\n",
       "    }\n",
       "</style>\n",
       "<table border=\"1\" class=\"dataframe\">\n",
       "  <thead>\n",
       "    <tr style=\"text-align: right;\">\n",
       "      <th></th>\n",
       "      <th>digit</th>\n",
       "      <th>digit</th>\n",
       "    </tr>\n",
       "  </thead>\n",
       "  <tbody>\n",
       "    <tr>\n",
       "      <th>0</th>\n",
       "      <td>0.323725</td>\n",
       "      <td>0.324040</td>\n",
       "    </tr>\n",
       "    <tr>\n",
       "      <th>1</th>\n",
       "      <td>0.286843</td>\n",
       "      <td>0.286865</td>\n",
       "    </tr>\n",
       "    <tr>\n",
       "      <th>2</th>\n",
       "      <td>0.073609</td>\n",
       "      <td>0.073730</td>\n",
       "    </tr>\n",
       "    <tr>\n",
       "      <th>3</th>\n",
       "      <td>0.087866</td>\n",
       "      <td>0.087980</td>\n",
       "    </tr>\n",
       "    <tr>\n",
       "      <th>4</th>\n",
       "      <td>0.059507</td>\n",
       "      <td>0.059480</td>\n",
       "    </tr>\n",
       "    <tr>\n",
       "      <th>5</th>\n",
       "      <td>0.039362</td>\n",
       "      <td>0.039033</td>\n",
       "    </tr>\n",
       "    <tr>\n",
       "      <th>6</th>\n",
       "      <td>0.034093</td>\n",
       "      <td>0.034077</td>\n",
       "    </tr>\n",
       "    <tr>\n",
       "      <th>7</th>\n",
       "      <td>0.031768</td>\n",
       "      <td>0.031599</td>\n",
       "    </tr>\n",
       "    <tr>\n",
       "      <th>8</th>\n",
       "      <td>0.031458</td>\n",
       "      <td>0.031599</td>\n",
       "    </tr>\n",
       "    <tr>\n",
       "      <th>9</th>\n",
       "      <td>0.031768</td>\n",
       "      <td>0.031599</td>\n",
       "    </tr>\n",
       "  </tbody>\n",
       "</table>\n",
       "</div>"
      ],
      "text/plain": [
       "      digit     digit\n",
       "0  0.323725  0.324040\n",
       "1  0.286843  0.286865\n",
       "2  0.073609  0.073730\n",
       "3  0.087866  0.087980\n",
       "4  0.059507  0.059480\n",
       "5  0.039362  0.039033\n",
       "6  0.034093  0.034077\n",
       "7  0.031768  0.031599\n",
       "8  0.031458  0.031599\n",
       "9  0.031768  0.031599"
      ]
     },
     "execution_count": 13,
     "metadata": {},
     "output_type": "execute_result"
    }
   ],
   "source": [
    "pd.concat([df_train['digit'].value_counts(normalize=True), df_test['digit'].value_counts(normalize=True)], axis=1)"
   ]
  },
  {
   "cell_type": "markdown",
   "metadata": {},
   "source": [
    "## Training"
   ]
  },
  {
   "cell_type": "code",
   "execution_count": 14,
   "metadata": {},
   "outputs": [],
   "source": [
    "%run utils.py"
   ]
  },
  {
   "cell_type": "code",
   "execution_count": 15,
   "metadata": {},
   "outputs": [],
   "source": [
    "target_shape = (32, 32)"
   ]
  },
  {
   "cell_type": "code",
   "execution_count": 16,
   "metadata": {},
   "outputs": [],
   "source": [
    "from imgaug import augmenters as iaa\n",
    "from skimage import img_as_ubyte, img_as_float32\n",
    "\n",
    "sometimes = lambda aug: iaa.Sometimes(.2, aug)\n",
    "seq = iaa.Sequential([\n",
    "    # Simulate out-of-focus\n",
    "    sometimes(iaa.GaussianBlur(sigma=.3)),\n",
    "    \n",
    "    # Randomly alter scaling and simulate zooming\n",
    "    sometimes(iaa.CropAndPad(px=(0, 5))),\n",
    "    \n",
    "    # Rotate up to 3 degrees and randomly scale\n",
    "    sometimes(iaa.Affine(\n",
    "        rotate=3., \n",
    "        scale={\"x\": (.8, 1.4), \"y\": (.8, 1.4)}, \n",
    "        translate_px=(0, 5),\n",
    "        mode='constant'\n",
    "    )),\n",
    "    \n",
    "    \n",
    "    # Randomly alter distribution\n",
    "    sometimes(iaa.OneOf([\n",
    "        iaa.Multiply((.8, 1.4)), \n",
    "        iaa.Add((-25, 25)),\n",
    "        iaa.ContrastNormalization((0.8, 1.2))\n",
    "    ]))\n",
    "], random_order=True)\n",
    "\n",
    "def augment(img):\n",
    "    # img should be provided as float in [0, 1]\n",
    "    assert img.min() >= 0 and img.max() <= 1.\n",
    "    img = rescale_intensity(img, out_range=np.uint8).astype(np.uint8)\n",
    "    res = img_as_float32(seq.augment_image(img))\n",
    "    #print(res.shape, res.dtype, res.min(), res.max())\n",
    "    return res"
   ]
  },
  {
   "cell_type": "code",
   "execution_count": 17,
   "metadata": {},
   "outputs": [
    {
     "data": {
      "text/plain": [
       "(dtype('float32'), (6453, 32, 32, 3), (1614, 32, 32, 3))"
      ]
     },
     "execution_count": 17,
     "metadata": {},
     "output_type": "execute_result"
    }
   ],
   "source": [
    "def prep_image(img):\n",
    "    # Note that gray2rgb will take care of converting from uint8 to float in 0-1\n",
    "    assert img.dtype == np.uint8\n",
    "    \n",
    "    # Convert to 2D with target height/width\n",
    "    img = gray2rgb(resize(img, target_shape, mode='constant', anti_aliasing=True)).astype(np.float32)\n",
    "    \n",
    "    # Rescale by min/max\n",
    "    img = rescale_intensity(img, out_range=(0, 1))\n",
    "    \n",
    "    assert np.all(img <= 1.) and np.all(img >= 0.)\n",
    "    return img\n",
    "\n",
    "train_x = np.stack([prep_image(v) for v in df_train['img']], 0)\n",
    "train_y = keras.utils.to_categorical(df_train['digit'].values, 10)\n",
    "\n",
    "test_x = np.stack([prep_image(v) for v in df_test['img']], 0)\n",
    "test_y = keras.utils.to_categorical(df_test['digit'].values, 10)\n",
    "\n",
    "train_generator = image.ImageDataGenerator(preprocessing_function=augment)\n",
    "train_batches = train_generator.flow(train_x, y=train_y, seed=seed)\n",
    "\n",
    "test_generator = image.ImageDataGenerator()\n",
    "test_batches = test_generator.flow(test_x, y=test_y, seed=seed)\n",
    "\n",
    "train_x.dtype, train_x.shape, test_x.shape"
   ]
  },
  {
   "cell_type": "code",
   "execution_count": 18,
   "metadata": {},
   "outputs": [
    {
     "data": {
      "image/png": "[encoded data removed]",
      "text/plain": [
       "<Figure size 720x1872 with 160 Axes>"
      ]
     },
     "metadata": {},
     "output_type": "display_data"
    }
   ],
   "source": [
    "# Visualize augmentations\n",
    "aug_imgs = []\n",
    "for img in df_train['img'].sample(n=80):\n",
    "    aug_imgs.append(prep_image(img))\n",
    "    aug_imgs.append(augment(prep_image(img)))\n",
    "visualize.display_images(aug_imgs, cols=8, size=10)"
   ]
  },
  {
   "cell_type": "code",
   "execution_count": 24,
   "metadata": {},
   "outputs": [
    {
     "data": {
      "text/plain": [
       "DescribeResult(nobs=3072, minmax=(0.0, 1.0), mean=0.61696345, variance=0.0212578, skewness=-1.8418840169906616, kurtosis=2.9954855990356624)"
      ]
     },
     "execution_count": 24,
     "metadata": {},
     "output_type": "execute_result"
    }
   ],
   "source": [
    "from scipy.stats import describe\n",
    "describe(aug_imgs[0].ravel())"
   ]
  },
  {
   "cell_type": "markdown",
   "metadata": {},
   "source": [
    "### Initialize Modeling"
   ]
  },
  {
   "cell_type": "code",
   "execution_count": 25,
   "metadata": {},
   "outputs": [
    {
     "data": {
      "text/plain": [
       "'/lab/data/celldom/model/r0.6/digit_model'"
      ]
     },
     "execution_count": 25,
     "metadata": {},
     "output_type": "execute_result"
    }
   ],
   "source": [
    "MODEL_DIR"
   ]
  },
  {
   "cell_type": "code",
   "execution_count": 26,
   "metadata": {},
   "outputs": [],
   "source": [
    "!ls $MODEL_DIR"
   ]
  },
  {
   "cell_type": "code",
   "execution_count": 27,
   "metadata": {},
   "outputs": [],
   "source": [
    "# Clear everything currently in the modeling directory\n",
    "!rm -rf $MODEL_DIR/*"
   ]
  },
  {
   "cell_type": "code",
   "execution_count": 28,
   "metadata": {},
   "outputs": [
    {
     "name": "stdout",
     "output_type": "stream",
     "text": [
      "W&B Run: https://app.wandb.ai/hammerlab/celldom/runs/tls2xdvf\n",
      "Wrap your training loop with `with wandb.monitor():` to display live results.\n"
     ]
    },
    {
     "data": {
      "text/html": [
       "<iframe src=\"https://app.wandb.ai/hammerlab/celldom/runs/tls2xdvf/edit?jupyter=true\" style=\"border:none;width:100%;height:300px\">\n",
       "            </iframe>"
      ],
      "text/plain": [
       "W&B Run https://app.wandb.ai/hammerlab/celldom/runs/tls2xdvf"
      ]
     },
     "execution_count": 28,
     "metadata": {},
     "output_type": "execute_result"
    }
   ],
   "source": [
    "wandb.init()"
   ]
  },
  {
   "cell_type": "markdown",
   "metadata": {},
   "source": [
    "### Run Training"
   ]
  },
  {
   "cell_type": "code",
   "execution_count": 29,
   "metadata": {},
   "outputs": [
    {
     "data": {
      "text/plain": [
       "'/lab/data/celldom/model/r0.6/digit_model'"
      ]
     },
     "execution_count": 29,
     "metadata": {},
     "output_type": "execute_result"
    }
   ],
   "source": [
    "MODEL_DIR"
   ]
  },
  {
   "cell_type": "code",
   "execution_count": 30,
   "metadata": {},
   "outputs": [],
   "source": [
    "if not osp.exists(MODEL_DIR):\n",
    "    os.makedirs(MODEL_DIR)"
   ]
  },
  {
   "cell_type": "code",
   "execution_count": 31,
   "metadata": {},
   "outputs": [],
   "source": [
    "!ls $MODEL_DIR"
   ]
  },
  {
   "cell_type": "code",
   "execution_count": 32,
   "metadata": {},
   "outputs": [],
   "source": [
    "model = get_digit_model(input_shape=target_shape + (3,), mode='head')\n",
    "    \n",
    "model.compile(\n",
    "    loss=keras.losses.categorical_crossentropy,\n",
    "    optimizer=keras.optimizers.RMSprop(lr=.001),\n",
    "    metrics=['accuracy']\n",
    ")\n",
    "\n",
    "# Initialize from pre-trained model\n",
    "model.load_weights('/lab/repos/svhn/weights.hdf5')"
   ]
  },
  {
   "cell_type": "code",
   "execution_count": 33,
   "metadata": {},
   "outputs": [
    {
     "name": "stdout",
     "output_type": "stream",
     "text": [
      "Resuming run: https://app.wandb.ai/hammerlab/celldom/runs/tls2xdvf\n"
     ]
    },
    {
     "data": {
      "text/html": [
       "<iframe src=\"https://app.wandb.ai/hammerlab/celldom/runs/tls2xdvf?jupyter=true\" style=\"border:none;width:100%;height:420px\">\n",
       "        </iframe>"
      ],
      "text/plain": [
       "<wandb.jupyter.Run at 0x7f543f849358>"
      ]
     },
     "metadata": {},
     "output_type": "display_data"
    },
    {
     "name": "stdout",
     "output_type": "stream",
     "text": [
      "Epoch 1/250\n",
      "202/202 [==============================] - 9s 46ms/step - loss: 0.3538 - acc: 0.8978 - val_loss: 0.0684 - val_acc: 0.9820\n",
      "Epoch 2/250\n",
      "202/202 [==============================] - 8s 40ms/step - loss: 0.1280 - acc: 0.9623 - val_loss: 0.0381 - val_acc: 0.9901\n",
      "Epoch 3/250\n",
      "202/202 [==============================] - 8s 40ms/step - loss: 0.0966 - acc: 0.9726 - val_loss: 0.0344 - val_acc: 0.9926\n",
      "Epoch 4/250\n",
      "202/202 [==============================] - 8s 40ms/step - loss: 0.0883 - acc: 0.9757 - val_loss: 0.0281 - val_acc: 0.9932\n",
      "Epoch 5/250\n",
      "202/202 [==============================] - 9s 43ms/step - loss: 0.0716 - acc: 0.9797 - val_loss: 0.0283 - val_acc: 0.9932\n",
      "Epoch 6/250\n",
      "202/202 [==============================] - 8s 42ms/step - loss: 0.0536 - acc: 0.9832 - val_loss: 0.0282 - val_acc: 0.9938\n",
      "Epoch 7/250\n",
      "202/202 [==============================] - 8s 40ms/step - loss: 0.0569 - acc: 0.9830 - val_loss: 0.0225 - val_acc: 0.9938\n",
      "Epoch 8/250\n",
      "202/202 [==============================] - 8s 40ms/step - loss: 0.0520 - acc: 0.9847 - val_loss: 0.0217 - val_acc: 0.9950\n",
      "Epoch 9/250\n",
      "202/202 [==============================] - 8s 39ms/step - loss: 0.0400 - acc: 0.9889 - val_loss: 0.0178 - val_acc: 0.9950\n",
      "Epoch 10/250\n",
      "202/202 [==============================] - 9s 44ms/step - loss: 0.0444 - acc: 0.9881 - val_loss: 0.0171 - val_acc: 0.9963\n",
      "Epoch 11/250\n",
      "202/202 [==============================] - 8s 40ms/step - loss: 0.0444 - acc: 0.9899 - val_loss: 0.0200 - val_acc: 0.9944\n",
      "Epoch 12/250\n",
      "202/202 [==============================] - 8s 42ms/step - loss: 0.0505 - acc: 0.9860 - val_loss: 0.0201 - val_acc: 0.9950\n",
      "Epoch 13/250\n",
      "202/202 [==============================] - 8s 40ms/step - loss: 0.0507 - acc: 0.9876 - val_loss: 0.0142 - val_acc: 0.9957\n",
      "Epoch 14/250\n",
      "202/202 [==============================] - 8s 41ms/step - loss: 0.0395 - acc: 0.9899 - val_loss: 0.0141 - val_acc: 0.9963\n",
      "Epoch 15/250\n",
      "202/202 [==============================] - 8s 38ms/step - loss: 0.0289 - acc: 0.9916 - val_loss: 0.0142 - val_acc: 0.9944\n",
      "Epoch 16/250\n",
      "202/202 [==============================] - 8s 38ms/step - loss: 0.0344 - acc: 0.9915 - val_loss: 0.0134 - val_acc: 0.9957\n",
      "Epoch 17/250\n",
      "202/202 [==============================] - 8s 41ms/step - loss: 0.0327 - acc: 0.9910 - val_loss: 0.0140 - val_acc: 0.9957\n",
      "Epoch 18/250\n",
      "202/202 [==============================] - 9s 42ms/step - loss: 0.0388 - acc: 0.9923 - val_loss: 0.0151 - val_acc: 0.9957\n",
      "Epoch 19/250\n",
      "202/202 [==============================] - 8s 40ms/step - loss: 0.0310 - acc: 0.9930 - val_loss: 0.0101 - val_acc: 0.9950\n",
      "Epoch 20/250\n",
      "202/202 [==============================] - 8s 41ms/step - loss: 0.0330 - acc: 0.9915 - val_loss: 0.0099 - val_acc: 0.9963\n",
      "Epoch 21/250\n",
      "202/202 [==============================] - 8s 40ms/step - loss: 0.0380 - acc: 0.9913 - val_loss: 0.0087 - val_acc: 0.9969\n",
      "Epoch 22/250\n",
      "202/202 [==============================] - 9s 42ms/step - loss: 0.0300 - acc: 0.9928 - val_loss: 0.0110 - val_acc: 0.9975\n",
      "Epoch 23/250\n",
      "202/202 [==============================] - 8s 40ms/step - loss: 0.0358 - acc: 0.9904 - val_loss: 0.0093 - val_acc: 0.9963\n",
      "Epoch 24/250\n",
      "202/202 [==============================] - 8s 41ms/step - loss: 0.0263 - acc: 0.9935 - val_loss: 0.0068 - val_acc: 0.9969\n",
      "Epoch 25/250\n",
      "202/202 [==============================] - 8s 39ms/step - loss: 0.0345 - acc: 0.9938 - val_loss: 0.0079 - val_acc: 0.9988\n",
      "Epoch 26/250\n",
      "202/202 [==============================] - 8s 41ms/step - loss: 0.0311 - acc: 0.9931 - val_loss: 0.0101 - val_acc: 0.9969\n",
      "Epoch 27/250\n",
      "202/202 [==============================] - 8s 41ms/step - loss: 0.0307 - acc: 0.9918 - val_loss: 0.0063 - val_acc: 0.9981\n",
      "Epoch 28/250\n",
      "202/202 [==============================] - 8s 41ms/step - loss: 0.0225 - acc: 0.9943 - val_loss: 0.0071 - val_acc: 0.9981\n",
      "Epoch 29/250\n",
      "202/202 [==============================] - 9s 42ms/step - loss: 0.0280 - acc: 0.9926 - val_loss: 0.0089 - val_acc: 0.9969\n",
      "Epoch 30/250\n",
      "202/202 [==============================] - 8s 40ms/step - loss: 0.0331 - acc: 0.9932 - val_loss: 0.0079 - val_acc: 0.9969\n",
      "\n",
      "Epoch 00030: ReduceLROnPlateau reducing learning rate to 0.00010000000474974513.\n",
      "Epoch 31/250\n",
      "202/202 [==============================] - 8s 39ms/step - loss: 0.0323 - acc: 0.9935 - val_loss: 0.0078 - val_acc: 0.9969\n",
      "Epoch 32/250\n",
      "202/202 [==============================] - 8s 41ms/step - loss: 0.0264 - acc: 0.9925 - val_loss: 0.0075 - val_acc: 0.9969\n",
      "Epoch 33/250\n",
      "202/202 [==============================] - 8s 41ms/step - loss: 0.0138 - acc: 0.9964 - val_loss: 0.0071 - val_acc: 0.9975\n",
      "\n",
      "Epoch 00033: ReduceLROnPlateau reducing learning rate to 1.0000000474974514e-05.\n",
      "Epoch 34/250\n",
      "202/202 [==============================] - 8s 40ms/step - loss: 0.0296 - acc: 0.9940 - val_loss: 0.0071 - val_acc: 0.9975\n",
      "Epoch 35/250\n",
      "202/202 [==============================] - 8s 40ms/step - loss: 0.0372 - acc: 0.9923 - val_loss: 0.0071 - val_acc: 0.9975\n",
      "Epoch 36/250\n",
      "202/202 [==============================] - 8s 41ms/step - loss: 0.0276 - acc: 0.9923 - val_loss: 0.0071 - val_acc: 0.9975\n",
      "\n",
      "Epoch 00036: ReduceLROnPlateau reducing learning rate to 1.0000000656873453e-06.\n",
      "Epoch 37/250\n",
      "202/202 [==============================] - 8s 39ms/step - loss: 0.0320 - acc: 0.9943 - val_loss: 0.0071 - val_acc: 0.9975\n"
     ]
    }
   ],
   "source": [
    "save_model = keras.callbacks.ModelCheckpoint(MODEL_PATH_HEAD, monitor='val_loss', mode='min', verbose=0,\n",
    "                                             save_best_only=True, save_weights_only=False, period=1)\n",
    "early_stopping = keras.callbacks.EarlyStopping(monitor='val_loss', min_delta=0, patience=10, verbose=0, mode='min')\n",
    "learning_rate = keras.callbacks.ReduceLROnPlateau(patience=3, monitor='val_loss', mode='min', verbose=1)\n",
    "callbacks = [save_model, early_stopping, learning_rate]\n",
    "\n",
    "# tensorboard = keras.callbacks.TensorBoard(log_dir=MODEL_DIR)\n",
    "# callbacks = [save_model, early_stopping, learning_rate, tensorboard]\n",
    "\n",
    "with wandb.monitor(display=False):\n",
    "    model.fit_generator(\n",
    "        train_batches, \n",
    "        epochs=250,\n",
    "        callbacks=callbacks + [WandbCallback(save_model=False)],\n",
    "        validation_data=test_batches\n",
    "    )"
   ]
  },
  {
   "cell_type": "markdown",
   "metadata": {},
   "source": [
    "### Fine-Tuning"
   ]
  },
  {
   "cell_type": "code",
   "execution_count": 34,
   "metadata": {},
   "outputs": [],
   "source": [
    "#model = get_digit_model(input_shape=target_shape + (3,), mode='tune')\n",
    "model = get_digit_model(input_shape=target_shape + (3,), mode='all')\n",
    "    \n",
    "model.compile(\n",
    "    loss=keras.losses.categorical_crossentropy,\n",
    "    optimizer=keras.optimizers.RMSprop(lr=.0001),\n",
    "    metrics=['accuracy']\n",
    ")\n",
    "\n",
    "# Initialize from pre-trained model\n",
    "model.load_weights(MODEL_PATH_HEAD)"
   ]
  },
  {
   "cell_type": "code",
   "execution_count": 35,
   "metadata": {},
   "outputs": [
    {
     "name": "stdout",
     "output_type": "stream",
     "text": [
      "Resuming run: https://app.wandb.ai/hammerlab/celldom/runs/tls2xdvf\n"
     ]
    },
    {
     "data": {
      "text/html": [
       "<iframe src=\"https://app.wandb.ai/hammerlab/celldom/runs/tls2xdvf?jupyter=true\" style=\"border:none;width:100%;height:420px\">\n",
       "        </iframe>"
      ],
      "text/plain": [
       "<wandb.jupyter.Run at 0x7f54dc0882b0>"
      ]
     },
     "metadata": {},
     "output_type": "display_data"
    },
    {
     "name": "stdout",
     "output_type": "stream",
     "text": [
      "Epoch 1/250\n",
      "202/202 [==============================] - 9s 45ms/step - loss: 0.0233 - acc: 0.9937 - val_loss: 0.0062 - val_acc: 0.9988\n",
      "Epoch 2/250\n",
      "202/202 [==============================] - 8s 41ms/step - loss: 0.0329 - acc: 0.9940 - val_loss: 0.0056 - val_acc: 0.9988\n",
      "Epoch 3/250\n",
      "202/202 [==============================] - 8s 40ms/step - loss: 0.0131 - acc: 0.9962 - val_loss: 0.0052 - val_acc: 0.9988\n",
      "Epoch 4/250\n",
      "202/202 [==============================] - 8s 42ms/step - loss: 0.0234 - acc: 0.9950 - val_loss: 0.0028 - val_acc: 0.9988\n",
      "Epoch 5/250\n",
      "202/202 [==============================] - 8s 41ms/step - loss: 0.0259 - acc: 0.9938 - val_loss: 0.0034 - val_acc: 0.9988\n",
      "Epoch 6/250\n",
      "202/202 [==============================] - 8s 42ms/step - loss: 0.0330 - acc: 0.9937 - val_loss: 0.0033 - val_acc: 0.9988\n",
      "Epoch 7/250\n",
      "202/202 [==============================] - 8s 40ms/step - loss: 0.0234 - acc: 0.9943 - val_loss: 0.0041 - val_acc: 0.9988\n",
      "\n",
      "Epoch 00007: ReduceLROnPlateau reducing learning rate to 9.999999747378752e-06.\n",
      "Epoch 8/250\n",
      "202/202 [==============================] - 8s 39ms/step - loss: 0.0165 - acc: 0.9960 - val_loss: 0.0047 - val_acc: 0.9988\n",
      "Epoch 9/250\n",
      "202/202 [==============================] - 9s 43ms/step - loss: 0.0140 - acc: 0.9960 - val_loss: 0.0048 - val_acc: 0.9988\n",
      "Epoch 10/250\n",
      "202/202 [==============================] - 8s 42ms/step - loss: 0.0268 - acc: 0.9958 - val_loss: 0.0048 - val_acc: 0.9988\n",
      "\n",
      "Epoch 00010: ReduceLROnPlateau reducing learning rate to 9.999999747378752e-07.\n",
      "Epoch 11/250\n",
      "202/202 [==============================] - 8s 40ms/step - loss: 0.0148 - acc: 0.9963 - val_loss: 0.0048 - val_acc: 0.9988\n",
      "Epoch 12/250\n",
      "202/202 [==============================] - 8s 41ms/step - loss: 0.0158 - acc: 0.9971 - val_loss: 0.0048 - val_acc: 0.9988\n",
      "Epoch 13/250\n",
      "202/202 [==============================] - 8s 40ms/step - loss: 0.0191 - acc: 0.9957 - val_loss: 0.0048 - val_acc: 0.9988\n",
      "\n",
      "Epoch 00013: ReduceLROnPlateau reducing learning rate to 9.999999974752428e-08.\n",
      "Epoch 14/250\n",
      "202/202 [==============================] - 9s 43ms/step - loss: 0.0202 - acc: 0.9955 - val_loss: 0.0047 - val_acc: 0.9988\n"
     ]
    }
   ],
   "source": [
    "save_model = keras.callbacks.ModelCheckpoint(MODEL_PATH, monitor='val_loss', mode='min', verbose=0,\n",
    "                                             save_best_only=True, save_weights_only=False, period=1)\n",
    "early_stopping = keras.callbacks.EarlyStopping(monitor='val_loss', min_delta=0, patience=10, mode='min')\n",
    "learning_rate = keras.callbacks.ReduceLROnPlateau(patience=3, monitor='val_loss', mode='min', verbose=1)\n",
    "callbacks = [save_model, early_stopping, learning_rate]\n",
    "\n",
    "# tensorboard = keras.callbacks.TensorBoard(log_dir=MODEL_DIR)\n",
    "# callbacks = [save_model, early_stopping, learning_rate, tensorboard]\n",
    "\n",
    "with wandb.monitor(display=False):\n",
    "    model.fit_generator(\n",
    "        train_batches, \n",
    "        epochs=250,\n",
    "        callbacks=callbacks + [WandbCallback(save_model=False)],\n",
    "        validation_data=test_batches\n",
    "    )"
   ]
  },
  {
   "cell_type": "markdown",
   "metadata": {},
   "source": [
    "## Inference "
   ]
  },
  {
   "cell_type": "code",
   "execution_count": 36,
   "metadata": {},
   "outputs": [],
   "source": [
    "model = keras.models.load_model(MODEL_PATH)"
   ]
  },
  {
   "cell_type": "code",
   "execution_count": 45,
   "metadata": {},
   "outputs": [
    {
     "data": {
      "text/plain": [
       "((6453, 32, 32, 3), (6453,))"
      ]
     },
     "execution_count": 45,
     "metadata": {},
     "output_type": "execute_result"
    }
   ],
   "source": [
    "#inf_x, inf_y = test_x, test_y\n",
    "inf_x, inf_y = train_x, train_y\n",
    "inf_y = np.argmax(inf_y, axis=1)\n",
    "inf_x.shape, inf_y.shape"
   ]
  },
  {
   "cell_type": "code",
   "execution_count": 46,
   "metadata": {},
   "outputs": [
    {
     "data": {
      "text/plain": [
       "(6453,)"
      ]
     },
     "execution_count": 46,
     "metadata": {},
     "output_type": "execute_result"
    }
   ],
   "source": [
    "inf_y_pred = model.predict_classes(inf_x)\n",
    "inf_y_pred.shape"
   ]
  },
  {
   "cell_type": "code",
   "execution_count": 47,
   "metadata": {},
   "outputs": [
    {
     "data": {
      "text/plain": [
       "1.0"
      ]
     },
     "execution_count": 47,
     "metadata": {},
     "output_type": "execute_result"
    }
   ],
   "source": [
    "# Overall accuracy\n",
    "(inf_y_pred == inf_y).mean()"
   ]
  },
  {
   "cell_type": "code",
   "execution_count": 48,
   "metadata": {},
   "outputs": [
    {
     "data": {
      "text/html": [
       "<style  type=\"text/css\" >\n",
       "    #T_237d6782_bb89_11e8_ab6b_0242ac110002row0_col0 {\n",
       "            background-color:  #4897c4;\n",
       "        }    #T_237d6782_bb89_11e8_ab6b_0242ac110002row0_col1 {\n",
       "            background-color:  #fff7fb;\n",
       "        }    #T_237d6782_bb89_11e8_ab6b_0242ac110002row0_col2 {\n",
       "            background-color:  #fff7fb;\n",
       "        }    #T_237d6782_bb89_11e8_ab6b_0242ac110002row0_col3 {\n",
       "            background-color:  #fff7fb;\n",
       "        }    #T_237d6782_bb89_11e8_ab6b_0242ac110002row0_col4 {\n",
       "            background-color:  #fff7fb;\n",
       "        }    #T_237d6782_bb89_11e8_ab6b_0242ac110002row0_col5 {\n",
       "            background-color:  #fff7fb;\n",
       "        }    #T_237d6782_bb89_11e8_ab6b_0242ac110002row0_col6 {\n",
       "            background-color:  #fff7fb;\n",
       "        }    #T_237d6782_bb89_11e8_ab6b_0242ac110002row0_col7 {\n",
       "            background-color:  #fff7fb;\n",
       "        }    #T_237d6782_bb89_11e8_ab6b_0242ac110002row0_col8 {\n",
       "            background-color:  #fff7fb;\n",
       "        }    #T_237d6782_bb89_11e8_ab6b_0242ac110002row0_col9 {\n",
       "            background-color:  #fff7fb;\n",
       "        }    #T_237d6782_bb89_11e8_ab6b_0242ac110002row1_col0 {\n",
       "            background-color:  #fff7fb;\n",
       "        }    #T_237d6782_bb89_11e8_ab6b_0242ac110002row1_col1 {\n",
       "            background-color:  #4897c4;\n",
       "        }    #T_237d6782_bb89_11e8_ab6b_0242ac110002row1_col2 {\n",
       "            background-color:  #fff7fb;\n",
       "        }    #T_237d6782_bb89_11e8_ab6b_0242ac110002row1_col3 {\n",
       "            background-color:  #fff7fb;\n",
       "        }    #T_237d6782_bb89_11e8_ab6b_0242ac110002row1_col4 {\n",
       "            background-color:  #fff7fb;\n",
       "        }    #T_237d6782_bb89_11e8_ab6b_0242ac110002row1_col5 {\n",
       "            background-color:  #fff7fb;\n",
       "        }    #T_237d6782_bb89_11e8_ab6b_0242ac110002row1_col6 {\n",
       "            background-color:  #fff7fb;\n",
       "        }    #T_237d6782_bb89_11e8_ab6b_0242ac110002row1_col7 {\n",
       "            background-color:  #fff7fb;\n",
       "        }    #T_237d6782_bb89_11e8_ab6b_0242ac110002row1_col8 {\n",
       "            background-color:  #fff7fb;\n",
       "        }    #T_237d6782_bb89_11e8_ab6b_0242ac110002row1_col9 {\n",
       "            background-color:  #fff7fb;\n",
       "        }    #T_237d6782_bb89_11e8_ab6b_0242ac110002row2_col0 {\n",
       "            background-color:  #fff7fb;\n",
       "        }    #T_237d6782_bb89_11e8_ab6b_0242ac110002row2_col1 {\n",
       "            background-color:  #fff7fb;\n",
       "        }    #T_237d6782_bb89_11e8_ab6b_0242ac110002row2_col2 {\n",
       "            background-color:  #4897c4;\n",
       "        }    #T_237d6782_bb89_11e8_ab6b_0242ac110002row2_col3 {\n",
       "            background-color:  #fff7fb;\n",
       "        }    #T_237d6782_bb89_11e8_ab6b_0242ac110002row2_col4 {\n",
       "            background-color:  #fff7fb;\n",
       "        }    #T_237d6782_bb89_11e8_ab6b_0242ac110002row2_col5 {\n",
       "            background-color:  #fff7fb;\n",
       "        }    #T_237d6782_bb89_11e8_ab6b_0242ac110002row2_col6 {\n",
       "            background-color:  #fff7fb;\n",
       "        }    #T_237d6782_bb89_11e8_ab6b_0242ac110002row2_col7 {\n",
       "            background-color:  #fff7fb;\n",
       "        }    #T_237d6782_bb89_11e8_ab6b_0242ac110002row2_col8 {\n",
       "            background-color:  #fff7fb;\n",
       "        }    #T_237d6782_bb89_11e8_ab6b_0242ac110002row2_col9 {\n",
       "            background-color:  #fff7fb;\n",
       "        }    #T_237d6782_bb89_11e8_ab6b_0242ac110002row3_col0 {\n",
       "            background-color:  #fff7fb;\n",
       "        }    #T_237d6782_bb89_11e8_ab6b_0242ac110002row3_col1 {\n",
       "            background-color:  #fff7fb;\n",
       "        }    #T_237d6782_bb89_11e8_ab6b_0242ac110002row3_col2 {\n",
       "            background-color:  #fff7fb;\n",
       "        }    #T_237d6782_bb89_11e8_ab6b_0242ac110002row3_col3 {\n",
       "            background-color:  #4897c4;\n",
       "        }    #T_237d6782_bb89_11e8_ab6b_0242ac110002row3_col4 {\n",
       "            background-color:  #fff7fb;\n",
       "        }    #T_237d6782_bb89_11e8_ab6b_0242ac110002row3_col5 {\n",
       "            background-color:  #fff7fb;\n",
       "        }    #T_237d6782_bb89_11e8_ab6b_0242ac110002row3_col6 {\n",
       "            background-color:  #fff7fb;\n",
       "        }    #T_237d6782_bb89_11e8_ab6b_0242ac110002row3_col7 {\n",
       "            background-color:  #fff7fb;\n",
       "        }    #T_237d6782_bb89_11e8_ab6b_0242ac110002row3_col8 {\n",
       "            background-color:  #fff7fb;\n",
       "        }    #T_237d6782_bb89_11e8_ab6b_0242ac110002row3_col9 {\n",
       "            background-color:  #fff7fb;\n",
       "        }    #T_237d6782_bb89_11e8_ab6b_0242ac110002row4_col0 {\n",
       "            background-color:  #fff7fb;\n",
       "        }    #T_237d6782_bb89_11e8_ab6b_0242ac110002row4_col1 {\n",
       "            background-color:  #fff7fb;\n",
       "        }    #T_237d6782_bb89_11e8_ab6b_0242ac110002row4_col2 {\n",
       "            background-color:  #fff7fb;\n",
       "        }    #T_237d6782_bb89_11e8_ab6b_0242ac110002row4_col3 {\n",
       "            background-color:  #fff7fb;\n",
       "        }    #T_237d6782_bb89_11e8_ab6b_0242ac110002row4_col4 {\n",
       "            background-color:  #4897c4;\n",
       "        }    #T_237d6782_bb89_11e8_ab6b_0242ac110002row4_col5 {\n",
       "            background-color:  #fff7fb;\n",
       "        }    #T_237d6782_bb89_11e8_ab6b_0242ac110002row4_col6 {\n",
       "            background-color:  #fff7fb;\n",
       "        }    #T_237d6782_bb89_11e8_ab6b_0242ac110002row4_col7 {\n",
       "            background-color:  #fff7fb;\n",
       "        }    #T_237d6782_bb89_11e8_ab6b_0242ac110002row4_col8 {\n",
       "            background-color:  #fff7fb;\n",
       "        }    #T_237d6782_bb89_11e8_ab6b_0242ac110002row4_col9 {\n",
       "            background-color:  #fff7fb;\n",
       "        }    #T_237d6782_bb89_11e8_ab6b_0242ac110002row5_col0 {\n",
       "            background-color:  #fff7fb;\n",
       "        }    #T_237d6782_bb89_11e8_ab6b_0242ac110002row5_col1 {\n",
       "            background-color:  #fff7fb;\n",
       "        }    #T_237d6782_bb89_11e8_ab6b_0242ac110002row5_col2 {\n",
       "            background-color:  #fff7fb;\n",
       "        }    #T_237d6782_bb89_11e8_ab6b_0242ac110002row5_col3 {\n",
       "            background-color:  #fff7fb;\n",
       "        }    #T_237d6782_bb89_11e8_ab6b_0242ac110002row5_col4 {\n",
       "            background-color:  #fff7fb;\n",
       "        }    #T_237d6782_bb89_11e8_ab6b_0242ac110002row5_col5 {\n",
       "            background-color:  #4897c4;\n",
       "        }    #T_237d6782_bb89_11e8_ab6b_0242ac110002row5_col6 {\n",
       "            background-color:  #fff7fb;\n",
       "        }    #T_237d6782_bb89_11e8_ab6b_0242ac110002row5_col7 {\n",
       "            background-color:  #fff7fb;\n",
       "        }    #T_237d6782_bb89_11e8_ab6b_0242ac110002row5_col8 {\n",
       "            background-color:  #fff7fb;\n",
       "        }    #T_237d6782_bb89_11e8_ab6b_0242ac110002row5_col9 {\n",
       "            background-color:  #fff7fb;\n",
       "        }    #T_237d6782_bb89_11e8_ab6b_0242ac110002row6_col0 {\n",
       "            background-color:  #fff7fb;\n",
       "        }    #T_237d6782_bb89_11e8_ab6b_0242ac110002row6_col1 {\n",
       "            background-color:  #fff7fb;\n",
       "        }    #T_237d6782_bb89_11e8_ab6b_0242ac110002row6_col2 {\n",
       "            background-color:  #fff7fb;\n",
       "        }    #T_237d6782_bb89_11e8_ab6b_0242ac110002row6_col3 {\n",
       "            background-color:  #fff7fb;\n",
       "        }    #T_237d6782_bb89_11e8_ab6b_0242ac110002row6_col4 {\n",
       "            background-color:  #fff7fb;\n",
       "        }    #T_237d6782_bb89_11e8_ab6b_0242ac110002row6_col5 {\n",
       "            background-color:  #fff7fb;\n",
       "        }    #T_237d6782_bb89_11e8_ab6b_0242ac110002row6_col6 {\n",
       "            background-color:  #4897c4;\n",
       "        }    #T_237d6782_bb89_11e8_ab6b_0242ac110002row6_col7 {\n",
       "            background-color:  #fff7fb;\n",
       "        }    #T_237d6782_bb89_11e8_ab6b_0242ac110002row6_col8 {\n",
       "            background-color:  #fff7fb;\n",
       "        }    #T_237d6782_bb89_11e8_ab6b_0242ac110002row6_col9 {\n",
       "            background-color:  #fff7fb;\n",
       "        }    #T_237d6782_bb89_11e8_ab6b_0242ac110002row7_col0 {\n",
       "            background-color:  #fff7fb;\n",
       "        }    #T_237d6782_bb89_11e8_ab6b_0242ac110002row7_col1 {\n",
       "            background-color:  #fff7fb;\n",
       "        }    #T_237d6782_bb89_11e8_ab6b_0242ac110002row7_col2 {\n",
       "            background-color:  #fff7fb;\n",
       "        }    #T_237d6782_bb89_11e8_ab6b_0242ac110002row7_col3 {\n",
       "            background-color:  #fff7fb;\n",
       "        }    #T_237d6782_bb89_11e8_ab6b_0242ac110002row7_col4 {\n",
       "            background-color:  #fff7fb;\n",
       "        }    #T_237d6782_bb89_11e8_ab6b_0242ac110002row7_col5 {\n",
       "            background-color:  #fff7fb;\n",
       "        }    #T_237d6782_bb89_11e8_ab6b_0242ac110002row7_col6 {\n",
       "            background-color:  #fff7fb;\n",
       "        }    #T_237d6782_bb89_11e8_ab6b_0242ac110002row7_col7 {\n",
       "            background-color:  #4897c4;\n",
       "        }    #T_237d6782_bb89_11e8_ab6b_0242ac110002row7_col8 {\n",
       "            background-color:  #fff7fb;\n",
       "        }    #T_237d6782_bb89_11e8_ab6b_0242ac110002row7_col9 {\n",
       "            background-color:  #fff7fb;\n",
       "        }    #T_237d6782_bb89_11e8_ab6b_0242ac110002row8_col0 {\n",
       "            background-color:  #fff7fb;\n",
       "        }    #T_237d6782_bb89_11e8_ab6b_0242ac110002row8_col1 {\n",
       "            background-color:  #fff7fb;\n",
       "        }    #T_237d6782_bb89_11e8_ab6b_0242ac110002row8_col2 {\n",
       "            background-color:  #fff7fb;\n",
       "        }    #T_237d6782_bb89_11e8_ab6b_0242ac110002row8_col3 {\n",
       "            background-color:  #fff7fb;\n",
       "        }    #T_237d6782_bb89_11e8_ab6b_0242ac110002row8_col4 {\n",
       "            background-color:  #fff7fb;\n",
       "        }    #T_237d6782_bb89_11e8_ab6b_0242ac110002row8_col5 {\n",
       "            background-color:  #fff7fb;\n",
       "        }    #T_237d6782_bb89_11e8_ab6b_0242ac110002row8_col6 {\n",
       "            background-color:  #fff7fb;\n",
       "        }    #T_237d6782_bb89_11e8_ab6b_0242ac110002row8_col7 {\n",
       "            background-color:  #fff7fb;\n",
       "        }    #T_237d6782_bb89_11e8_ab6b_0242ac110002row8_col8 {\n",
       "            background-color:  #4897c4;\n",
       "        }    #T_237d6782_bb89_11e8_ab6b_0242ac110002row8_col9 {\n",
       "            background-color:  #fff7fb;\n",
       "        }    #T_237d6782_bb89_11e8_ab6b_0242ac110002row9_col0 {\n",
       "            background-color:  #fff7fb;\n",
       "        }    #T_237d6782_bb89_11e8_ab6b_0242ac110002row9_col1 {\n",
       "            background-color:  #fff7fb;\n",
       "        }    #T_237d6782_bb89_11e8_ab6b_0242ac110002row9_col2 {\n",
       "            background-color:  #fff7fb;\n",
       "        }    #T_237d6782_bb89_11e8_ab6b_0242ac110002row9_col3 {\n",
       "            background-color:  #fff7fb;\n",
       "        }    #T_237d6782_bb89_11e8_ab6b_0242ac110002row9_col4 {\n",
       "            background-color:  #fff7fb;\n",
       "        }    #T_237d6782_bb89_11e8_ab6b_0242ac110002row9_col5 {\n",
       "            background-color:  #fff7fb;\n",
       "        }    #T_237d6782_bb89_11e8_ab6b_0242ac110002row9_col6 {\n",
       "            background-color:  #fff7fb;\n",
       "        }    #T_237d6782_bb89_11e8_ab6b_0242ac110002row9_col7 {\n",
       "            background-color:  #fff7fb;\n",
       "        }    #T_237d6782_bb89_11e8_ab6b_0242ac110002row9_col8 {\n",
       "            background-color:  #fff7fb;\n",
       "        }    #T_237d6782_bb89_11e8_ab6b_0242ac110002row9_col9 {\n",
       "            background-color:  #4897c4;\n",
       "        }</style>  \n",
       "<table id=\"T_237d6782_bb89_11e8_ab6b_0242ac110002\" > \n",
       "<thead>    <tr> \n",
       "        <th class=\"index_name level0\" >true</th> \n",
       "        <th class=\"col_heading level0 col0\" >0</th> \n",
       "        <th class=\"col_heading level0 col1\" >1</th> \n",
       "        <th class=\"col_heading level0 col2\" >2</th> \n",
       "        <th class=\"col_heading level0 col3\" >3</th> \n",
       "        <th class=\"col_heading level0 col4\" >4</th> \n",
       "        <th class=\"col_heading level0 col5\" >5</th> \n",
       "        <th class=\"col_heading level0 col6\" >6</th> \n",
       "        <th class=\"col_heading level0 col7\" >7</th> \n",
       "        <th class=\"col_heading level0 col8\" >8</th> \n",
       "        <th class=\"col_heading level0 col9\" >9</th> \n",
       "    </tr>    <tr> \n",
       "        <th class=\"index_name level0\" >pred</th> \n",
       "        <th class=\"blank\" ></th> \n",
       "        <th class=\"blank\" ></th> \n",
       "        <th class=\"blank\" ></th> \n",
       "        <th class=\"blank\" ></th> \n",
       "        <th class=\"blank\" ></th> \n",
       "        <th class=\"blank\" ></th> \n",
       "        <th class=\"blank\" ></th> \n",
       "        <th class=\"blank\" ></th> \n",
       "        <th class=\"blank\" ></th> \n",
       "        <th class=\"blank\" ></th> \n",
       "    </tr></thead> \n",
       "<tbody>    <tr> \n",
       "        <th id=\"T_237d6782_bb89_11e8_ab6b_0242ac110002level0_row0\" class=\"row_heading level0 row0\" >0</th> \n",
       "        <td id=\"T_237d6782_bb89_11e8_ab6b_0242ac110002row0_col0\" class=\"data row0 col0\" >2089</td> \n",
       "        <td id=\"T_237d6782_bb89_11e8_ab6b_0242ac110002row0_col1\" class=\"data row0 col1\" >0</td> \n",
       "        <td id=\"T_237d6782_bb89_11e8_ab6b_0242ac110002row0_col2\" class=\"data row0 col2\" >0</td> \n",
       "        <td id=\"T_237d6782_bb89_11e8_ab6b_0242ac110002row0_col3\" class=\"data row0 col3\" >0</td> \n",
       "        <td id=\"T_237d6782_bb89_11e8_ab6b_0242ac110002row0_col4\" class=\"data row0 col4\" >0</td> \n",
       "        <td id=\"T_237d6782_bb89_11e8_ab6b_0242ac110002row0_col5\" class=\"data row0 col5\" >0</td> \n",
       "        <td id=\"T_237d6782_bb89_11e8_ab6b_0242ac110002row0_col6\" class=\"data row0 col6\" >0</td> \n",
       "        <td id=\"T_237d6782_bb89_11e8_ab6b_0242ac110002row0_col7\" class=\"data row0 col7\" >0</td> \n",
       "        <td id=\"T_237d6782_bb89_11e8_ab6b_0242ac110002row0_col8\" class=\"data row0 col8\" >0</td> \n",
       "        <td id=\"T_237d6782_bb89_11e8_ab6b_0242ac110002row0_col9\" class=\"data row0 col9\" >0</td> \n",
       "    </tr>    <tr> \n",
       "        <th id=\"T_237d6782_bb89_11e8_ab6b_0242ac110002level0_row1\" class=\"row_heading level0 row1\" >1</th> \n",
       "        <td id=\"T_237d6782_bb89_11e8_ab6b_0242ac110002row1_col0\" class=\"data row1 col0\" >0</td> \n",
       "        <td id=\"T_237d6782_bb89_11e8_ab6b_0242ac110002row1_col1\" class=\"data row1 col1\" >1851</td> \n",
       "        <td id=\"T_237d6782_bb89_11e8_ab6b_0242ac110002row1_col2\" class=\"data row1 col2\" >0</td> \n",
       "        <td id=\"T_237d6782_bb89_11e8_ab6b_0242ac110002row1_col3\" class=\"data row1 col3\" >0</td> \n",
       "        <td id=\"T_237d6782_bb89_11e8_ab6b_0242ac110002row1_col4\" class=\"data row1 col4\" >0</td> \n",
       "        <td id=\"T_237d6782_bb89_11e8_ab6b_0242ac110002row1_col5\" class=\"data row1 col5\" >0</td> \n",
       "        <td id=\"T_237d6782_bb89_11e8_ab6b_0242ac110002row1_col6\" class=\"data row1 col6\" >0</td> \n",
       "        <td id=\"T_237d6782_bb89_11e8_ab6b_0242ac110002row1_col7\" class=\"data row1 col7\" >0</td> \n",
       "        <td id=\"T_237d6782_bb89_11e8_ab6b_0242ac110002row1_col8\" class=\"data row1 col8\" >0</td> \n",
       "        <td id=\"T_237d6782_bb89_11e8_ab6b_0242ac110002row1_col9\" class=\"data row1 col9\" >0</td> \n",
       "    </tr>    <tr> \n",
       "        <th id=\"T_237d6782_bb89_11e8_ab6b_0242ac110002level0_row2\" class=\"row_heading level0 row2\" >2</th> \n",
       "        <td id=\"T_237d6782_bb89_11e8_ab6b_0242ac110002row2_col0\" class=\"data row2 col0\" >0</td> \n",
       "        <td id=\"T_237d6782_bb89_11e8_ab6b_0242ac110002row2_col1\" class=\"data row2 col1\" >0</td> \n",
       "        <td id=\"T_237d6782_bb89_11e8_ab6b_0242ac110002row2_col2\" class=\"data row2 col2\" >475</td> \n",
       "        <td id=\"T_237d6782_bb89_11e8_ab6b_0242ac110002row2_col3\" class=\"data row2 col3\" >0</td> \n",
       "        <td id=\"T_237d6782_bb89_11e8_ab6b_0242ac110002row2_col4\" class=\"data row2 col4\" >0</td> \n",
       "        <td id=\"T_237d6782_bb89_11e8_ab6b_0242ac110002row2_col5\" class=\"data row2 col5\" >0</td> \n",
       "        <td id=\"T_237d6782_bb89_11e8_ab6b_0242ac110002row2_col6\" class=\"data row2 col6\" >0</td> \n",
       "        <td id=\"T_237d6782_bb89_11e8_ab6b_0242ac110002row2_col7\" class=\"data row2 col7\" >0</td> \n",
       "        <td id=\"T_237d6782_bb89_11e8_ab6b_0242ac110002row2_col8\" class=\"data row2 col8\" >0</td> \n",
       "        <td id=\"T_237d6782_bb89_11e8_ab6b_0242ac110002row2_col9\" class=\"data row2 col9\" >0</td> \n",
       "    </tr>    <tr> \n",
       "        <th id=\"T_237d6782_bb89_11e8_ab6b_0242ac110002level0_row3\" class=\"row_heading level0 row3\" >3</th> \n",
       "        <td id=\"T_237d6782_bb89_11e8_ab6b_0242ac110002row3_col0\" class=\"data row3 col0\" >0</td> \n",
       "        <td id=\"T_237d6782_bb89_11e8_ab6b_0242ac110002row3_col1\" class=\"data row3 col1\" >0</td> \n",
       "        <td id=\"T_237d6782_bb89_11e8_ab6b_0242ac110002row3_col2\" class=\"data row3 col2\" >0</td> \n",
       "        <td id=\"T_237d6782_bb89_11e8_ab6b_0242ac110002row3_col3\" class=\"data row3 col3\" >567</td> \n",
       "        <td id=\"T_237d6782_bb89_11e8_ab6b_0242ac110002row3_col4\" class=\"data row3 col4\" >0</td> \n",
       "        <td id=\"T_237d6782_bb89_11e8_ab6b_0242ac110002row3_col5\" class=\"data row3 col5\" >0</td> \n",
       "        <td id=\"T_237d6782_bb89_11e8_ab6b_0242ac110002row3_col6\" class=\"data row3 col6\" >0</td> \n",
       "        <td id=\"T_237d6782_bb89_11e8_ab6b_0242ac110002row3_col7\" class=\"data row3 col7\" >0</td> \n",
       "        <td id=\"T_237d6782_bb89_11e8_ab6b_0242ac110002row3_col8\" class=\"data row3 col8\" >0</td> \n",
       "        <td id=\"T_237d6782_bb89_11e8_ab6b_0242ac110002row3_col9\" class=\"data row3 col9\" >0</td> \n",
       "    </tr>    <tr> \n",
       "        <th id=\"T_237d6782_bb89_11e8_ab6b_0242ac110002level0_row4\" class=\"row_heading level0 row4\" >4</th> \n",
       "        <td id=\"T_237d6782_bb89_11e8_ab6b_0242ac110002row4_col0\" class=\"data row4 col0\" >0</td> \n",
       "        <td id=\"T_237d6782_bb89_11e8_ab6b_0242ac110002row4_col1\" class=\"data row4 col1\" >0</td> \n",
       "        <td id=\"T_237d6782_bb89_11e8_ab6b_0242ac110002row4_col2\" class=\"data row4 col2\" >0</td> \n",
       "        <td id=\"T_237d6782_bb89_11e8_ab6b_0242ac110002row4_col3\" class=\"data row4 col3\" >0</td> \n",
       "        <td id=\"T_237d6782_bb89_11e8_ab6b_0242ac110002row4_col4\" class=\"data row4 col4\" >384</td> \n",
       "        <td id=\"T_237d6782_bb89_11e8_ab6b_0242ac110002row4_col5\" class=\"data row4 col5\" >0</td> \n",
       "        <td id=\"T_237d6782_bb89_11e8_ab6b_0242ac110002row4_col6\" class=\"data row4 col6\" >0</td> \n",
       "        <td id=\"T_237d6782_bb89_11e8_ab6b_0242ac110002row4_col7\" class=\"data row4 col7\" >0</td> \n",
       "        <td id=\"T_237d6782_bb89_11e8_ab6b_0242ac110002row4_col8\" class=\"data row4 col8\" >0</td> \n",
       "        <td id=\"T_237d6782_bb89_11e8_ab6b_0242ac110002row4_col9\" class=\"data row4 col9\" >0</td> \n",
       "    </tr>    <tr> \n",
       "        <th id=\"T_237d6782_bb89_11e8_ab6b_0242ac110002level0_row5\" class=\"row_heading level0 row5\" >5</th> \n",
       "        <td id=\"T_237d6782_bb89_11e8_ab6b_0242ac110002row5_col0\" class=\"data row5 col0\" >0</td> \n",
       "        <td id=\"T_237d6782_bb89_11e8_ab6b_0242ac110002row5_col1\" class=\"data row5 col1\" >0</td> \n",
       "        <td id=\"T_237d6782_bb89_11e8_ab6b_0242ac110002row5_col2\" class=\"data row5 col2\" >0</td> \n",
       "        <td id=\"T_237d6782_bb89_11e8_ab6b_0242ac110002row5_col3\" class=\"data row5 col3\" >0</td> \n",
       "        <td id=\"T_237d6782_bb89_11e8_ab6b_0242ac110002row5_col4\" class=\"data row5 col4\" >0</td> \n",
       "        <td id=\"T_237d6782_bb89_11e8_ab6b_0242ac110002row5_col5\" class=\"data row5 col5\" >254</td> \n",
       "        <td id=\"T_237d6782_bb89_11e8_ab6b_0242ac110002row5_col6\" class=\"data row5 col6\" >0</td> \n",
       "        <td id=\"T_237d6782_bb89_11e8_ab6b_0242ac110002row5_col7\" class=\"data row5 col7\" >0</td> \n",
       "        <td id=\"T_237d6782_bb89_11e8_ab6b_0242ac110002row5_col8\" class=\"data row5 col8\" >0</td> \n",
       "        <td id=\"T_237d6782_bb89_11e8_ab6b_0242ac110002row5_col9\" class=\"data row5 col9\" >0</td> \n",
       "    </tr>    <tr> \n",
       "        <th id=\"T_237d6782_bb89_11e8_ab6b_0242ac110002level0_row6\" class=\"row_heading level0 row6\" >6</th> \n",
       "        <td id=\"T_237d6782_bb89_11e8_ab6b_0242ac110002row6_col0\" class=\"data row6 col0\" >0</td> \n",
       "        <td id=\"T_237d6782_bb89_11e8_ab6b_0242ac110002row6_col1\" class=\"data row6 col1\" >0</td> \n",
       "        <td id=\"T_237d6782_bb89_11e8_ab6b_0242ac110002row6_col2\" class=\"data row6 col2\" >0</td> \n",
       "        <td id=\"T_237d6782_bb89_11e8_ab6b_0242ac110002row6_col3\" class=\"data row6 col3\" >0</td> \n",
       "        <td id=\"T_237d6782_bb89_11e8_ab6b_0242ac110002row6_col4\" class=\"data row6 col4\" >0</td> \n",
       "        <td id=\"T_237d6782_bb89_11e8_ab6b_0242ac110002row6_col5\" class=\"data row6 col5\" >0</td> \n",
       "        <td id=\"T_237d6782_bb89_11e8_ab6b_0242ac110002row6_col6\" class=\"data row6 col6\" >220</td> \n",
       "        <td id=\"T_237d6782_bb89_11e8_ab6b_0242ac110002row6_col7\" class=\"data row6 col7\" >0</td> \n",
       "        <td id=\"T_237d6782_bb89_11e8_ab6b_0242ac110002row6_col8\" class=\"data row6 col8\" >0</td> \n",
       "        <td id=\"T_237d6782_bb89_11e8_ab6b_0242ac110002row6_col9\" class=\"data row6 col9\" >0</td> \n",
       "    </tr>    <tr> \n",
       "        <th id=\"T_237d6782_bb89_11e8_ab6b_0242ac110002level0_row7\" class=\"row_heading level0 row7\" >7</th> \n",
       "        <td id=\"T_237d6782_bb89_11e8_ab6b_0242ac110002row7_col0\" class=\"data row7 col0\" >0</td> \n",
       "        <td id=\"T_237d6782_bb89_11e8_ab6b_0242ac110002row7_col1\" class=\"data row7 col1\" >0</td> \n",
       "        <td id=\"T_237d6782_bb89_11e8_ab6b_0242ac110002row7_col2\" class=\"data row7 col2\" >0</td> \n",
       "        <td id=\"T_237d6782_bb89_11e8_ab6b_0242ac110002row7_col3\" class=\"data row7 col3\" >0</td> \n",
       "        <td id=\"T_237d6782_bb89_11e8_ab6b_0242ac110002row7_col4\" class=\"data row7 col4\" >0</td> \n",
       "        <td id=\"T_237d6782_bb89_11e8_ab6b_0242ac110002row7_col5\" class=\"data row7 col5\" >0</td> \n",
       "        <td id=\"T_237d6782_bb89_11e8_ab6b_0242ac110002row7_col6\" class=\"data row7 col6\" >0</td> \n",
       "        <td id=\"T_237d6782_bb89_11e8_ab6b_0242ac110002row7_col7\" class=\"data row7 col7\" >205</td> \n",
       "        <td id=\"T_237d6782_bb89_11e8_ab6b_0242ac110002row7_col8\" class=\"data row7 col8\" >0</td> \n",
       "        <td id=\"T_237d6782_bb89_11e8_ab6b_0242ac110002row7_col9\" class=\"data row7 col9\" >0</td> \n",
       "    </tr>    <tr> \n",
       "        <th id=\"T_237d6782_bb89_11e8_ab6b_0242ac110002level0_row8\" class=\"row_heading level0 row8\" >8</th> \n",
       "        <td id=\"T_237d6782_bb89_11e8_ab6b_0242ac110002row8_col0\" class=\"data row8 col0\" >0</td> \n",
       "        <td id=\"T_237d6782_bb89_11e8_ab6b_0242ac110002row8_col1\" class=\"data row8 col1\" >0</td> \n",
       "        <td id=\"T_237d6782_bb89_11e8_ab6b_0242ac110002row8_col2\" class=\"data row8 col2\" >0</td> \n",
       "        <td id=\"T_237d6782_bb89_11e8_ab6b_0242ac110002row8_col3\" class=\"data row8 col3\" >0</td> \n",
       "        <td id=\"T_237d6782_bb89_11e8_ab6b_0242ac110002row8_col4\" class=\"data row8 col4\" >0</td> \n",
       "        <td id=\"T_237d6782_bb89_11e8_ab6b_0242ac110002row8_col5\" class=\"data row8 col5\" >0</td> \n",
       "        <td id=\"T_237d6782_bb89_11e8_ab6b_0242ac110002row8_col6\" class=\"data row8 col6\" >0</td> \n",
       "        <td id=\"T_237d6782_bb89_11e8_ab6b_0242ac110002row8_col7\" class=\"data row8 col7\" >0</td> \n",
       "        <td id=\"T_237d6782_bb89_11e8_ab6b_0242ac110002row8_col8\" class=\"data row8 col8\" >203</td> \n",
       "        <td id=\"T_237d6782_bb89_11e8_ab6b_0242ac110002row8_col9\" class=\"data row8 col9\" >0</td> \n",
       "    </tr>    <tr> \n",
       "        <th id=\"T_237d6782_bb89_11e8_ab6b_0242ac110002level0_row9\" class=\"row_heading level0 row9\" >9</th> \n",
       "        <td id=\"T_237d6782_bb89_11e8_ab6b_0242ac110002row9_col0\" class=\"data row9 col0\" >0</td> \n",
       "        <td id=\"T_237d6782_bb89_11e8_ab6b_0242ac110002row9_col1\" class=\"data row9 col1\" >0</td> \n",
       "        <td id=\"T_237d6782_bb89_11e8_ab6b_0242ac110002row9_col2\" class=\"data row9 col2\" >0</td> \n",
       "        <td id=\"T_237d6782_bb89_11e8_ab6b_0242ac110002row9_col3\" class=\"data row9 col3\" >0</td> \n",
       "        <td id=\"T_237d6782_bb89_11e8_ab6b_0242ac110002row9_col4\" class=\"data row9 col4\" >0</td> \n",
       "        <td id=\"T_237d6782_bb89_11e8_ab6b_0242ac110002row9_col5\" class=\"data row9 col5\" >0</td> \n",
       "        <td id=\"T_237d6782_bb89_11e8_ab6b_0242ac110002row9_col6\" class=\"data row9 col6\" >0</td> \n",
       "        <td id=\"T_237d6782_bb89_11e8_ab6b_0242ac110002row9_col7\" class=\"data row9 col7\" >0</td> \n",
       "        <td id=\"T_237d6782_bb89_11e8_ab6b_0242ac110002row9_col8\" class=\"data row9 col8\" >0</td> \n",
       "        <td id=\"T_237d6782_bb89_11e8_ab6b_0242ac110002row9_col9\" class=\"data row9 col9\" >205</td> \n",
       "    </tr></tbody> \n",
       "</table> "
      ],
      "text/plain": [
       "<pandas.io.formats.style.Styler at 0x7f53e70ed438>"
      ]
     },
     "execution_count": 48,
     "metadata": {},
     "output_type": "execute_result"
    }
   ],
   "source": [
    "pd.DataFrame(dict(pred=inf_y_pred, true=inf_y)).groupby(['pred', 'true']).size().unstack().fillna(0)\\\n",
    "    .style.background_gradient(high=.7)"
   ]
  },
  {
   "cell_type": "markdown",
   "metadata": {},
   "source": [
    "#### Show Misclassified Instances (if any)"
   ]
  },
  {
   "cell_type": "code",
   "execution_count": 49,
   "metadata": {},
   "outputs": [],
   "source": [
    "misclassified = np.argwhere(inf_y_pred != inf_y).ravel()"
   ]
  },
  {
   "cell_type": "code",
   "execution_count": 50,
   "metadata": {},
   "outputs": [
    {
     "data": {
      "text/plain": [
       "0"
      ]
     },
     "execution_count": 50,
     "metadata": {},
     "output_type": "execute_result"
    }
   ],
   "source": [
    "len(misclassified)"
   ]
  },
  {
   "cell_type": "code",
   "execution_count": 51,
   "metadata": {},
   "outputs": [
    {
     "data": {
      "text/plain": [
       "array([], dtype=int64)"
      ]
     },
     "execution_count": 51,
     "metadata": {},
     "output_type": "execute_result"
    }
   ],
   "source": [
    "misclassified"
   ]
  },
  {
   "cell_type": "code",
   "execution_count": 44,
   "metadata": {},
   "outputs": [
    {
     "data": {
      "image/png": "[encoded data removed]",
      "text/plain": [
       "<Figure size 288x576 with 2 Axes>"
      ]
     },
     "metadata": {},
     "output_type": "display_data"
    }
   ],
   "source": [
    "#n_samp = 10\n",
    "#indexes = pd.Series(list(range(len(pred_y_class)))).sample(n_samp)\n",
    "\n",
    "n_samp = len(misclassified)\n",
    "indexes = misclassified\n",
    "\n",
    "fig, ax = plt.subplots(n_samp, 1)\n",
    "if n_samp == 1:\n",
    "    ax = [ax]\n",
    "fig.set_size_inches(4, n_samp * 4)\n",
    "for i, idx in enumerate(indexes):\n",
    "    ax[i].imshow(inf_x[idx])\n",
    "    ax[i].set_title('Pred: {} - True: {} (idx {})'.format(inf_y_pred[idx], inf_y[idx], idx))"
   ]
  },
  {
   "cell_type": "code",
   "execution_count": 68,
   "metadata": {},
   "outputs": [
    {
     "data": {
      "text/plain": [
       "'/lab/data/celldom/dataset/training/digit/r0.6/manual/single/pt3/chip_01-9afff6da4531832f02d8bd6b3e33a9d1-4-st-0-0.png'"
      ]
     },
     "execution_count": 68,
     "metadata": {},
     "output_type": "execute_result"
    }
   ],
   "source": [
    "# Use the \"idx\" above to get the file the example came from\n",
    "df.iloc[idx_train[5931]]['file']"
   ]
  },
  {
   "cell_type": "code",
   "execution_count": 52,
   "metadata": {},
   "outputs": [
    {
     "data": {
      "text/plain": [
       "'/lab/data/celldom/model/r0.6/digit_model/single_digit_model.h5'"
      ]
     },
     "execution_count": 52,
     "metadata": {},
     "output_type": "execute_result"
    }
   ],
   "source": [
    "MODEL_PATH"
   ]
  },
  {
   "cell_type": "code",
   "execution_count": 53,
   "metadata": {},
   "outputs": [],
   "source": [
    "# Overwrite model in cache to avoid needing to redownload from google storage\n",
    "!cp /lab/data/celldom/model/r0.6/digit_model/single_digit_model.h5 /lab/data/celldom/.celldom/cache/models/single_digit_model.h5"
   ]
  }
 ],
 "metadata": {
  "kernelspec": {
   "display_name": "Python 3",
   "language": "python",
   "name": "python3"
  },
  "language_info": {
   "codemirror_mode": {
    "name": "ipython",
    "version": 3
   },
   "file_extension": ".py",
   "mimetype": "text/x-python",
   "name": "python",
   "nbconvert_exporter": "python",
   "pygments_lexer": "ipython3",
   "version": "3.5.2"
  }
 },
 "nbformat": 4,
 "nbformat_minor": 2
}
