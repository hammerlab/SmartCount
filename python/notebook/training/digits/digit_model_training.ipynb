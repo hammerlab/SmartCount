{
 "cells": [
  {
   "cell_type": "code",
   "execution_count": 1,
   "metadata": {},
   "outputs": [
    {
     "name": "stderr",
     "output_type": "stream",
     "text": [
      "Using TensorFlow backend.\n"
     ]
    },
    {
     "data": {
      "text/plain": [
       "('/lab/data/celldom/model/r0.7/digit_model',\n",
       " '/lab/data/celldom/dataset/training/digit/r0.6/validated/single',\n",
       " '/lab/data/celldom/dataset/training/digit/r0.6/manual/single')"
      ]
     },
     "execution_count": 1,
     "metadata": {},
     "output_type": "execute_result"
    }
   ],
   "source": [
    "import os\n",
    "import re\n",
    "import glob\n",
    "import os.path as osp\n",
    "import pandas as pd\n",
    "import numpy as np\n",
    "import tqdm\n",
    "import matplotlib.pyplot as plt\n",
    "from skimage import io as sk_io\n",
    "from skimage.transform import resize\n",
    "from skimage.color import gray2rgb, rgb2gray\n",
    "from skimage.exposure import rescale_intensity\n",
    "from cvutils.rectlabel import io as rectlabel_io\n",
    "from cvutils.mrcnn.session import init_keras_session\n",
    "from cvutils import visualize\n",
    "from celldom.dataset import utils as dataset_utils\n",
    "from celldom import seed\n",
    "\n",
    "import celldom\n",
    "import keras\n",
    "from keras.preprocessing import image\n",
    "import wandb\n",
    "from wandb.keras import WandbCallback\n",
    "\n",
    "init_keras_session()\n",
    "\n",
    "DATA_DIR_VALIDATED_EXTRACT = osp.join(celldom.get_dataset_dir(), 'training', 'digit', 'r0.6', 'validated', 'single')\n",
    "DATA_DIR_MANUAL_ANNOTATION = osp.join(celldom.get_dataset_dir(), 'training', 'digit', 'r0.6', 'manual', 'single')\n",
    "DATA_DIR_MANUAL_PARTITIONS = ['pt1', 'pt2', 'pt3', 'pt4']\n",
    "#MODEL_DIR = osp.join(os.environ['CELLDOM_DATA_DIR'], 'model', 'r0.6', 'digit_model')\n",
    "MODEL_DIR = osp.join(os.environ['CELLDOM_DATA_DIR'], 'model', 'r0.7', 'digit_model')\n",
    "\n",
    "MODEL_PATH_HEAD = osp.join(MODEL_DIR, 'single_digit_model_headonly.h5')\n",
    "MODEL_PATH = osp.join(MODEL_DIR, 'single_digit_model.h5')\n",
    "\n",
    "MODEL_DIR, DATA_DIR_VALIDATED_EXTRACT, DATA_DIR_MANUAL_ANNOTATION"
   ]
  },
  {
   "cell_type": "code",
   "execution_count": 2,
   "metadata": {},
   "outputs": [
    {
     "name": "stdout",
     "output_type": "stream",
     "text": [
      "BF_ST_000_APT_000Day0-APT-0-0.jpeg\n",
      "ls: write error: Broken pipe\n"
     ]
    }
   ],
   "source": [
    "!ls $DATA_DIR_VALIDATED_EXTRACT | head -n 1"
   ]
  },
  {
   "cell_type": "code",
   "execution_count": 3,
   "metadata": {},
   "outputs": [],
   "source": [
    "def get_actual_digit(file):\n",
    "    return osp.basename(file).replace('.jpeg', '').split('-')[-1]\n",
    "\n",
    "def load_extracted_images():\n",
    "    res = []\n",
    "    for f in glob.glob(osp.join(DATA_DIR_VALIDATED_EXTRACT, '*.jpeg')):\n",
    "        digit = get_actual_digit(f)\n",
    "        img = sk_io.imread(osp.join(DATA_DIR_VALIDATED_EXTRACT, f))\n",
    "        res.append((int(digit), img, f))\n",
    "    res = pd.DataFrame(res, columns=['digit', 'img', 'file'])\n",
    "    return res\n",
    "\n",
    "def load_annotated_images():\n",
    "    res = []\n",
    "    for pt in DATA_DIR_MANUAL_PARTITIONS:\n",
    "        df = dataset_utils.get_data_files(osp.join(DATA_DIR_MANUAL_ANNOTATION, pt))\n",
    "        for i, r in tqdm.tqdm(df.iterrows(), desc='partition=' + pt):\n",
    "            img_path, annot_path = r['image_path'], r['annot_path']\n",
    "            if r['annot_exists']:\n",
    "                try:\n",
    "                    shape, annotations = rectlabel_io.load_annotations(annot_path, assert_masks=False)\n",
    "                    assert len(annotations) == 1, 'Found multiple annotations in {}'.format(annot_path)\n",
    "                    digit = annotations[0].object_type\n",
    "                    if digit == 'NA':\n",
    "                        continue\n",
    "                    # Read RGB 8-bit image\n",
    "                    img = sk_io.imread(img_path)\n",
    "\n",
    "                    # Extract grayscale based on assumption of channel equality\n",
    "                    assert img.ndim == 3 and img.shape[-1] == 3\n",
    "                    assert np.allclose(img[..., 0], img[..., 1])\n",
    "                    assert np.allclose(img[..., 0], img[..., 2])\n",
    "                    img = img[..., 0]\n",
    "                    digit = int(digit)\n",
    "                except:\n",
    "                    print('Failure occurred for annotation file {}'.format(annot_path))\n",
    "                    raise\n",
    "                res.append((digit, img, img_path, pt))\n",
    "    res = pd.DataFrame(res, columns=['digit', 'img', 'file', 'partition'])\n",
    "    return res\n"
   ]
  },
  {
   "cell_type": "code",
   "execution_count": 4,
   "metadata": {},
   "outputs": [
    {
     "name": "stderr",
     "output_type": "stream",
     "text": [
      "partition=pt1: 2492it [00:02, 959.60it/s]\n",
      "partition=pt2: 456it [00:00, 1061.00it/s]\n",
      "partition=pt3: 2136it [00:02, 1032.98it/s]\n",
      "partition=pt4: 1308it [00:01, 1014.82it/s]"
     ]
    },
    {
     "name": "stdout",
     "output_type": "stream",
     "text": [
      "CPU times: user 5.78 s, sys: 1.21 s, total: 6.99 s\n",
      "Wall time: 8.23 s\n"
     ]
    },
    {
     "name": "stderr",
     "output_type": "stream",
     "text": [
      "\n"
     ]
    }
   ],
   "source": [
    "%%time\n",
    "df = pd.concat([\n",
    "    load_extracted_images().assign(source='extract'),\n",
    "    load_annotated_images().assign(source='annotated')\n",
    "])"
   ]
  },
  {
   "cell_type": "code",
   "execution_count": 5,
   "metadata": {},
   "outputs": [
    {
     "data": {
      "text/plain": [
       "9375"
      ]
     },
     "execution_count": 5,
     "metadata": {},
     "output_type": "execute_result"
    }
   ],
   "source": [
    "# r0.2 num files = 2372, r0.6 = 8067, r0.7 = 9375\n",
    "len(df)"
   ]
  },
  {
   "cell_type": "code",
   "execution_count": 6,
   "metadata": {},
   "outputs": [
    {
     "data": {
      "text/plain": [
       "annotated    6157\n",
       "extract      3218\n",
       "Name: source, dtype: int64"
      ]
     },
     "execution_count": 6,
     "metadata": {},
     "output_type": "execute_result"
    }
   ],
   "source": [
    "df['source'].value_counts()"
   ]
  },
  {
   "cell_type": "code",
   "execution_count": 7,
   "metadata": {},
   "outputs": [
    {
     "data": {
      "text/plain": [
       "source     partition\n",
       "annotated  pt1          2415\n",
       "           pt2           440\n",
       "           pt3          1994\n",
       "           pt4          1308\n",
       "dtype: int64"
      ]
     },
     "execution_count": 7,
     "metadata": {},
     "output_type": "execute_result"
    }
   ],
   "source": [
    "df.groupby(['source', 'partition']).size()"
   ]
  },
  {
   "cell_type": "code",
   "execution_count": 8,
   "metadata": {},
   "outputs": [
    {
     "data": {
      "text/plain": [
       "0    2773\n",
       "1    2673\n",
       "3     810\n",
       "2     770\n",
       "4     605\n",
       "5     359\n",
       "9     351\n",
       "7     348\n",
       "6     345\n",
       "8     341\n",
       "Name: digit, dtype: int64"
      ]
     },
     "execution_count": 8,
     "metadata": {},
     "output_type": "execute_result"
    }
   ],
   "source": [
    "df['digit'].value_counts()"
   ]
  },
  {
   "cell_type": "code",
   "execution_count": 9,
   "metadata": {},
   "outputs": [
    {
     "data": {
      "text/html": [
       "<div>\n",
       "<style scoped>\n",
       "    .dataframe tbody tr th:only-of-type {\n",
       "        vertical-align: middle;\n",
       "    }\n",
       "\n",
       "    .dataframe tbody tr th {\n",
       "        vertical-align: top;\n",
       "    }\n",
       "\n",
       "    .dataframe thead th {\n",
       "        text-align: right;\n",
       "    }\n",
       "</style>\n",
       "<table border=\"1\" class=\"dataframe\">\n",
       "  <thead>\n",
       "    <tr style=\"text-align: right;\">\n",
       "      <th>digit</th>\n",
       "      <th>0</th>\n",
       "      <th>1</th>\n",
       "      <th>2</th>\n",
       "      <th>3</th>\n",
       "      <th>4</th>\n",
       "      <th>5</th>\n",
       "      <th>6</th>\n",
       "      <th>7</th>\n",
       "      <th>8</th>\n",
       "      <th>9</th>\n",
       "    </tr>\n",
       "    <tr>\n",
       "      <th>source</th>\n",
       "      <th></th>\n",
       "      <th></th>\n",
       "      <th></th>\n",
       "      <th></th>\n",
       "      <th></th>\n",
       "      <th></th>\n",
       "      <th></th>\n",
       "      <th></th>\n",
       "      <th></th>\n",
       "      <th></th>\n",
       "    </tr>\n",
       "  </thead>\n",
       "  <tbody>\n",
       "    <tr>\n",
       "      <th>annotated</th>\n",
       "      <td>1285</td>\n",
       "      <td>2147</td>\n",
       "      <td>585</td>\n",
       "      <td>636</td>\n",
       "      <td>425</td>\n",
       "      <td>204</td>\n",
       "      <td>212</td>\n",
       "      <td>225</td>\n",
       "      <td>209</td>\n",
       "      <td>229</td>\n",
       "    </tr>\n",
       "    <tr>\n",
       "      <th>extract</th>\n",
       "      <td>1488</td>\n",
       "      <td>526</td>\n",
       "      <td>185</td>\n",
       "      <td>174</td>\n",
       "      <td>180</td>\n",
       "      <td>155</td>\n",
       "      <td>133</td>\n",
       "      <td>123</td>\n",
       "      <td>132</td>\n",
       "      <td>122</td>\n",
       "    </tr>\n",
       "  </tbody>\n",
       "</table>\n",
       "</div>"
      ],
      "text/plain": [
       "digit         0     1    2    3    4    5    6    7    8    9\n",
       "source                                                       \n",
       "annotated  1285  2147  585  636  425  204  212  225  209  229\n",
       "extract    1488   526  185  174  180  155  133  123  132  122"
      ]
     },
     "execution_count": 9,
     "metadata": {},
     "output_type": "execute_result"
    }
   ],
   "source": [
    "df.groupby(['source', 'digit']).size().unstack()"
   ]
  },
  {
   "cell_type": "code",
   "execution_count": 10,
   "metadata": {},
   "outputs": [
    {
     "data": {
      "text/plain": [
       "uint8    9375\n",
       "Name: img, dtype: int64"
      ]
     },
     "execution_count": 10,
     "metadata": {},
     "output_type": "execute_result"
    }
   ],
   "source": [
    "dtypes = df['img'].apply(lambda v: v.dtype)\n",
    "assert np.all(dtypes == np.uint8)\n",
    "dtypes.value_counts()"
   ]
  },
  {
   "cell_type": "code",
   "execution_count": 11,
   "metadata": {},
   "outputs": [
    {
     "data": {
      "text/html": [
       "<div>\n",
       "<style scoped>\n",
       "    .dataframe tbody tr th:only-of-type {\n",
       "        vertical-align: middle;\n",
       "    }\n",
       "\n",
       "    .dataframe tbody tr th {\n",
       "        vertical-align: top;\n",
       "    }\n",
       "\n",
       "    .dataframe thead th {\n",
       "        text-align: right;\n",
       "    }\n",
       "</style>\n",
       "<table border=\"1\" class=\"dataframe\">\n",
       "  <thead>\n",
       "    <tr style=\"text-align: right;\">\n",
       "      <th></th>\n",
       "      <th>0</th>\n",
       "      <th>1</th>\n",
       "    </tr>\n",
       "  </thead>\n",
       "  <tbody>\n",
       "    <tr>\n",
       "      <th>count</th>\n",
       "      <td>9375.000000</td>\n",
       "      <td>9375.000000</td>\n",
       "    </tr>\n",
       "    <tr>\n",
       "      <th>mean</th>\n",
       "      <td>42.103787</td>\n",
       "      <td>29.493867</td>\n",
       "    </tr>\n",
       "    <tr>\n",
       "      <th>std</th>\n",
       "      <td>10.503142</td>\n",
       "      <td>7.688318</td>\n",
       "    </tr>\n",
       "    <tr>\n",
       "      <th>min</th>\n",
       "      <td>22.000000</td>\n",
       "      <td>19.000000</td>\n",
       "    </tr>\n",
       "    <tr>\n",
       "      <th>25%</th>\n",
       "      <td>31.000000</td>\n",
       "      <td>22.000000</td>\n",
       "    </tr>\n",
       "    <tr>\n",
       "      <th>50%</th>\n",
       "      <td>42.000000</td>\n",
       "      <td>27.000000</td>\n",
       "    </tr>\n",
       "    <tr>\n",
       "      <th>75%</th>\n",
       "      <td>53.000000</td>\n",
       "      <td>36.000000</td>\n",
       "    </tr>\n",
       "    <tr>\n",
       "      <th>max</th>\n",
       "      <td>58.000000</td>\n",
       "      <td>46.000000</td>\n",
       "    </tr>\n",
       "  </tbody>\n",
       "</table>\n",
       "</div>"
      ],
      "text/plain": [
       "                 0            1\n",
       "count  9375.000000  9375.000000\n",
       "mean     42.103787    29.493867\n",
       "std      10.503142     7.688318\n",
       "min      22.000000    19.000000\n",
       "25%      31.000000    22.000000\n",
       "50%      42.000000    27.000000\n",
       "75%      53.000000    36.000000\n",
       "max      58.000000    46.000000"
      ]
     },
     "execution_count": 11,
     "metadata": {},
     "output_type": "execute_result"
    }
   ],
   "source": [
    "pd.DataFrame([r['img'].shape for _, r in df.iterrows()]).describe()"
   ]
  },
  {
   "cell_type": "code",
   "execution_count": 12,
   "metadata": {},
   "outputs": [
    {
     "data": {
      "text/plain": [
       "(7500, 1875)"
      ]
     },
     "execution_count": 12,
     "metadata": {},
     "output_type": "execute_result"
    }
   ],
   "source": [
    "from sklearn.model_selection import train_test_split\n",
    "idx = np.arange(len(df))\n",
    "\n",
    "# Vary test_size (starting large) to get a sense of accuracy with a bigger sample and then decrease for final model\n",
    "idx_train, idx_test = train_test_split(idx, test_size=.2, random_state=seed, stratify=df['digit'])\n",
    "df_train, df_test = df.iloc[idx_train], df.iloc[idx_test]\n",
    "\n",
    "len(df_train), len(df_test)"
   ]
  },
  {
   "cell_type": "code",
   "execution_count": 13,
   "metadata": {},
   "outputs": [
    {
     "data": {
      "text/html": [
       "<div>\n",
       "<style scoped>\n",
       "    .dataframe tbody tr th:only-of-type {\n",
       "        vertical-align: middle;\n",
       "    }\n",
       "\n",
       "    .dataframe tbody tr th {\n",
       "        vertical-align: top;\n",
       "    }\n",
       "\n",
       "    .dataframe thead th {\n",
       "        text-align: right;\n",
       "    }\n",
       "</style>\n",
       "<table border=\"1\" class=\"dataframe\">\n",
       "  <thead>\n",
       "    <tr style=\"text-align: right;\">\n",
       "      <th></th>\n",
       "      <th>digit</th>\n",
       "      <th>digit</th>\n",
       "    </tr>\n",
       "  </thead>\n",
       "  <tbody>\n",
       "    <tr>\n",
       "      <th>0</th>\n",
       "      <td>0.295867</td>\n",
       "      <td>0.295467</td>\n",
       "    </tr>\n",
       "    <tr>\n",
       "      <th>1</th>\n",
       "      <td>0.285067</td>\n",
       "      <td>0.285333</td>\n",
       "    </tr>\n",
       "    <tr>\n",
       "      <th>3</th>\n",
       "      <td>0.086400</td>\n",
       "      <td>0.086400</td>\n",
       "    </tr>\n",
       "    <tr>\n",
       "      <th>2</th>\n",
       "      <td>0.082133</td>\n",
       "      <td>0.082133</td>\n",
       "    </tr>\n",
       "    <tr>\n",
       "      <th>4</th>\n",
       "      <td>0.064533</td>\n",
       "      <td>0.064533</td>\n",
       "    </tr>\n",
       "    <tr>\n",
       "      <th>5</th>\n",
       "      <td>0.038267</td>\n",
       "      <td>0.038400</td>\n",
       "    </tr>\n",
       "    <tr>\n",
       "      <th>9</th>\n",
       "      <td>0.037467</td>\n",
       "      <td>0.037333</td>\n",
       "    </tr>\n",
       "    <tr>\n",
       "      <th>7</th>\n",
       "      <td>0.037067</td>\n",
       "      <td>0.037333</td>\n",
       "    </tr>\n",
       "    <tr>\n",
       "      <th>6</th>\n",
       "      <td>0.036800</td>\n",
       "      <td>0.036800</td>\n",
       "    </tr>\n",
       "    <tr>\n",
       "      <th>8</th>\n",
       "      <td>0.036400</td>\n",
       "      <td>0.036267</td>\n",
       "    </tr>\n",
       "  </tbody>\n",
       "</table>\n",
       "</div>"
      ],
      "text/plain": [
       "      digit     digit\n",
       "0  0.295867  0.295467\n",
       "1  0.285067  0.285333\n",
       "3  0.086400  0.086400\n",
       "2  0.082133  0.082133\n",
       "4  0.064533  0.064533\n",
       "5  0.038267  0.038400\n",
       "9  0.037467  0.037333\n",
       "7  0.037067  0.037333\n",
       "6  0.036800  0.036800\n",
       "8  0.036400  0.036267"
      ]
     },
     "execution_count": 13,
     "metadata": {},
     "output_type": "execute_result"
    }
   ],
   "source": [
    "pd.concat([df_train['digit'].value_counts(normalize=True), df_test['digit'].value_counts(normalize=True)], axis=1)"
   ]
  },
  {
   "cell_type": "markdown",
   "metadata": {},
   "source": [
    "## Training"
   ]
  },
  {
   "cell_type": "code",
   "execution_count": 14,
   "metadata": {},
   "outputs": [],
   "source": [
    "%run utils.py"
   ]
  },
  {
   "cell_type": "code",
   "execution_count": 15,
   "metadata": {},
   "outputs": [],
   "source": [
    "target_shape = (32, 32)"
   ]
  },
  {
   "cell_type": "code",
   "execution_count": 17,
   "metadata": {},
   "outputs": [],
   "source": [
    "from imgaug import augmenters as iaa\n",
    "from skimage import img_as_ubyte, img_as_float32\n",
    "\n",
    "sometimes = lambda aug: iaa.Sometimes(.2, aug)\n",
    "seq = iaa.Sequential([\n",
    "    # Simulate out-of-focus\n",
    "    sometimes(iaa.GaussianBlur(sigma=.3)),\n",
    "    \n",
    "    # Randomly alter scaling and simulate zooming\n",
    "    sometimes(iaa.OneOf([\n",
    "        iaa.CropAndPad(px=(0, 12)),\n",
    "        iaa.Crop(px=(0, 12))\n",
    "    ])),\n",
    "    \n",
    "    # Rotate up to 3 degrees and randomly scale\n",
    "    sometimes(iaa.Affine(\n",
    "        rotate=3., \n",
    "        scale={\"x\": (.8, 1.4), \"y\": (.8, 1.4)}, \n",
    "        translate_px=(0, 5),\n",
    "        mode='constant'\n",
    "    )),    \n",
    "    \n",
    "    # Randomly alter distribution\n",
    "    sometimes(iaa.OneOf([\n",
    "        iaa.Multiply((.8, 1.4)), \n",
    "        iaa.Add((-25, 25)),\n",
    "        iaa.ContrastNormalization((0.8, 1.2))\n",
    "    ]))\n",
    "], random_order=True)\n",
    "\n",
    "def augment(img):\n",
    "    # img should be provided as float in [0, 1]\n",
    "    assert img.min() >= 0 and img.max() <= 1.\n",
    "    img = rescale_intensity(img, out_range=np.uint8).astype(np.uint8)\n",
    "    res = img_as_float32(seq.augment_image(img))\n",
    "    #print(res.shape, res.dtype, res.min(), res.max())\n",
    "    return res"
   ]
  },
  {
   "cell_type": "code",
   "execution_count": 18,
   "metadata": {},
   "outputs": [
    {
     "data": {
      "text/plain": [
       "(dtype('float32'), (7500, 32, 32, 3), (1875, 32, 32, 3))"
      ]
     },
     "execution_count": 18,
     "metadata": {},
     "output_type": "execute_result"
    }
   ],
   "source": [
    "def prep_image(img):\n",
    "    # Note that gray2rgb will take care of converting from uint8 to float in 0-1\n",
    "    assert img.dtype == np.uint8\n",
    "    \n",
    "    # Convert to 2D with target height/width\n",
    "    img = gray2rgb(resize(img, target_shape, mode='constant', anti_aliasing=True)).astype(np.float32)\n",
    "    \n",
    "    # Rescale by min/max\n",
    "    img = rescale_intensity(img, out_range=(0, 1))\n",
    "    \n",
    "    assert np.all(img <= 1.) and np.all(img >= 0.)\n",
    "    return img\n",
    "\n",
    "train_x = np.stack([prep_image(v) for v in df_train['img']], 0)\n",
    "train_y = keras.utils.to_categorical(df_train['digit'].values, 10)\n",
    "\n",
    "test_x = np.stack([prep_image(v) for v in df_test['img']], 0)\n",
    "test_y = keras.utils.to_categorical(df_test['digit'].values, 10)\n",
    "\n",
    "train_generator = image.ImageDataGenerator(preprocessing_function=augment)\n",
    "train_batches = train_generator.flow(train_x, y=train_y, seed=seed)\n",
    "\n",
    "test_generator = image.ImageDataGenerator()\n",
    "test_batches = test_generator.flow(test_x, y=test_y, seed=seed)\n",
    "\n",
    "train_x.dtype, train_x.shape, test_x.shape"
   ]
  },
  {
   "cell_type": "code",
   "execution_count": 19,
   "metadata": {},
   "outputs": [
    {
     "data": {
      "image/png": "[encoded data removed]",
      "text/plain": [
       "<Figure size 720x1872 with 160 Axes>"
      ]
     },
     "metadata": {},
     "output_type": "display_data"
    }
   ],
   "source": [
    "# Visualize augmentations\n",
    "aug_imgs = []\n",
    "for img in df_train['img'].sample(n=80):\n",
    "    aug_imgs.append(prep_image(img))\n",
    "    aug_imgs.append(augment(prep_image(img)))\n",
    "visualize.display_images(aug_imgs, cols=8, size=10)"
   ]
  },
  {
   "cell_type": "code",
   "execution_count": 20,
   "metadata": {},
   "outputs": [
    {
     "data": {
      "text/plain": [
       "DescribeResult(nobs=3072, minmax=(0.0, 1.0), mean=0.40714803, variance=0.020912908, skewness=-0.2574825882911682, kurtosis=2.4543907329458623)"
      ]
     },
     "execution_count": 20,
     "metadata": {},
     "output_type": "execute_result"
    }
   ],
   "source": [
    "from scipy.stats import describe\n",
    "describe(aug_imgs[0].ravel())"
   ]
  },
  {
   "cell_type": "markdown",
   "metadata": {},
   "source": [
    "### Initialize Modeling"
   ]
  },
  {
   "cell_type": "code",
   "execution_count": 21,
   "metadata": {},
   "outputs": [
    {
     "data": {
      "text/plain": [
       "'/lab/data/celldom/model/r0.7/digit_model'"
      ]
     },
     "execution_count": 21,
     "metadata": {},
     "output_type": "execute_result"
    }
   ],
   "source": [
    "MODEL_DIR"
   ]
  },
  {
   "cell_type": "code",
   "execution_count": 22,
   "metadata": {},
   "outputs": [
    {
     "name": "stdout",
     "output_type": "stream",
     "text": [
      "single_digit_model.h5  single_digit_model_headonly.h5\n"
     ]
    }
   ],
   "source": [
    "!ls $MODEL_DIR"
   ]
  },
  {
   "cell_type": "code",
   "execution_count": 23,
   "metadata": {},
   "outputs": [],
   "source": [
    "# Clear everything currently in the modeling directory\n",
    "!rm -rf $MODEL_DIR/*"
   ]
  },
  {
   "cell_type": "code",
   "execution_count": 24,
   "metadata": {},
   "outputs": [
    {
     "name": "stdout",
     "output_type": "stream",
     "text": [
      "W&B Run: https://app.wandb.ai/hammerlab/celldom/runs/c8ywa03w\n",
      "Wrap your training loop with `with wandb.monitor():` to display live results.\n"
     ]
    },
    {
     "data": {
      "text/html": [
       "<iframe src=\"https://app.wandb.ai/hammerlab/celldom/runs/c8ywa03w/edit?jupyter=true\" style=\"border:none;width:100%;height:300px\">\n",
       "            </iframe>"
      ],
      "text/plain": [
       "W&B Run https://app.wandb.ai/hammerlab/celldom/runs/c8ywa03w"
      ]
     },
     "execution_count": 24,
     "metadata": {},
     "output_type": "execute_result"
    }
   ],
   "source": [
    "wandb.init()"
   ]
  },
  {
   "cell_type": "markdown",
   "metadata": {},
   "source": [
    "### Run Training"
   ]
  },
  {
   "cell_type": "code",
   "execution_count": 25,
   "metadata": {},
   "outputs": [
    {
     "data": {
      "text/plain": [
       "'/lab/data/celldom/model/r0.7/digit_model'"
      ]
     },
     "execution_count": 25,
     "metadata": {},
     "output_type": "execute_result"
    }
   ],
   "source": [
    "MODEL_DIR"
   ]
  },
  {
   "cell_type": "code",
   "execution_count": 26,
   "metadata": {},
   "outputs": [],
   "source": [
    "if not osp.exists(MODEL_DIR):\n",
    "    os.makedirs(MODEL_DIR)"
   ]
  },
  {
   "cell_type": "code",
   "execution_count": 27,
   "metadata": {},
   "outputs": [],
   "source": [
    "!ls $MODEL_DIR"
   ]
  },
  {
   "cell_type": "code",
   "execution_count": 28,
   "metadata": {},
   "outputs": [],
   "source": [
    "model = get_digit_model(input_shape=target_shape + (3,), mode='head')\n",
    "    \n",
    "model.compile(\n",
    "    loss=keras.losses.categorical_crossentropy,\n",
    "    optimizer=keras.optimizers.RMSprop(lr=.001),\n",
    "    metrics=['accuracy']\n",
    ")\n",
    "\n",
    "# Initialize from pre-trained model\n",
    "model.load_weights('/lab/repos/svhn/weights.hdf5')"
   ]
  },
  {
   "cell_type": "code",
   "execution_count": 29,
   "metadata": {},
   "outputs": [
    {
     "name": "stdout",
     "output_type": "stream",
     "text": [
      "Resuming run: https://app.wandb.ai/hammerlab/celldom/runs/c8ywa03w\n"
     ]
    },
    {
     "data": {
      "text/html": [
       "<iframe src=\"https://app.wandb.ai/hammerlab/celldom/runs/c8ywa03w?jupyter=true\" style=\"border:none;width:100%;height:420px\">\n",
       "        </iframe>"
      ],
      "text/plain": [
       "<wandb.jupyter.Run at 0x7f8298864c50>"
      ]
     },
     "metadata": {},
     "output_type": "display_data"
    },
    {
     "name": "stdout",
     "output_type": "stream",
     "text": [
      "Epoch 1/250\n",
      "235/235 [==============================] - 11s 48ms/step - loss: 0.5663 - acc: 0.8475 - val_loss: 0.0773 - val_acc: 0.9776\n",
      "Epoch 2/250\n",
      "235/235 [==============================] - 10s 42ms/step - loss: 0.2982 - acc: 0.9145 - val_loss: 0.0458 - val_acc: 0.9824\n",
      "Epoch 3/250\n",
      "235/235 [==============================] - 10s 44ms/step - loss: 0.2578 - acc: 0.9325 - val_loss: 0.0311 - val_acc: 0.9893\n",
      "Epoch 4/250\n",
      "235/235 [==============================] - 10s 43ms/step - loss: 0.2344 - acc: 0.9364 - val_loss: 0.0260 - val_acc: 0.9936\n",
      "Epoch 5/250\n",
      "235/235 [==============================] - 10s 42ms/step - loss: 0.1992 - acc: 0.9465 - val_loss: 0.0219 - val_acc: 0.9952\n",
      "Epoch 6/250\n",
      "235/235 [==============================] - 10s 42ms/step - loss: 0.1910 - acc: 0.9501 - val_loss: 0.0189 - val_acc: 0.9941\n",
      "Epoch 7/250\n",
      "235/235 [==============================] - 11s 45ms/step - loss: 0.1745 - acc: 0.9560 - val_loss: 0.0173 - val_acc: 0.9947\n",
      "Epoch 8/250\n",
      "235/235 [==============================] - 10s 41ms/step - loss: 0.1674 - acc: 0.9547 - val_loss: 0.0171 - val_acc: 0.9952\n",
      "Epoch 9/250\n",
      "235/235 [==============================] - 10s 42ms/step - loss: 0.1501 - acc: 0.9564 - val_loss: 0.0180 - val_acc: 0.9936\n",
      "Epoch 10/250\n",
      "235/235 [==============================] - 11s 46ms/step - loss: 0.1555 - acc: 0.9576 - val_loss: 0.0186 - val_acc: 0.9936\n",
      "Epoch 11/250\n",
      "235/235 [==============================] - 9s 40ms/step - loss: 0.1717 - acc: 0.9547 - val_loss: 0.0141 - val_acc: 0.9963\n",
      "Epoch 12/250\n",
      "235/235 [==============================] - 10s 42ms/step - loss: 0.1645 - acc: 0.9618 - val_loss: 0.0138 - val_acc: 0.9957\n",
      "Epoch 13/250\n",
      "235/235 [==============================] - 10s 41ms/step - loss: 0.1591 - acc: 0.9617 - val_loss: 0.0132 - val_acc: 0.9963\n",
      "Epoch 14/250\n",
      "235/235 [==============================] - 10s 42ms/step - loss: 0.1551 - acc: 0.9593 - val_loss: 0.0127 - val_acc: 0.9957\n",
      "Epoch 15/250\n",
      "235/235 [==============================] - 10s 41ms/step - loss: 0.1440 - acc: 0.9614 - val_loss: 0.0116 - val_acc: 0.9963\n",
      "Epoch 16/250\n",
      "235/235 [==============================] - 9s 40ms/step - loss: 0.1428 - acc: 0.9629 - val_loss: 0.0094 - val_acc: 0.9973\n",
      "Epoch 17/250\n",
      "235/235 [==============================] - 10s 41ms/step - loss: 0.1316 - acc: 0.9647 - val_loss: 0.0137 - val_acc: 0.9952\n",
      "Epoch 18/250\n",
      "235/235 [==============================] - 10s 41ms/step - loss: 0.1342 - acc: 0.9666 - val_loss: 0.0098 - val_acc: 0.9952\n",
      "Epoch 19/250\n",
      "235/235 [==============================] - 10s 42ms/step - loss: 0.1342 - acc: 0.9644 - val_loss: 0.0092 - val_acc: 0.9963\n",
      "Epoch 20/250\n",
      "235/235 [==============================] - 10s 42ms/step - loss: 0.1423 - acc: 0.9638 - val_loss: 0.0109 - val_acc: 0.9963\n",
      "Epoch 21/250\n",
      "235/235 [==============================] - 10s 41ms/step - loss: 0.1329 - acc: 0.9669 - val_loss: 0.0102 - val_acc: 0.9957\n",
      "Epoch 22/250\n",
      "235/235 [==============================] - 10s 42ms/step - loss: 0.1344 - acc: 0.9669 - val_loss: 0.0096 - val_acc: 0.9963\n",
      "\n",
      "Epoch 00022: ReduceLROnPlateau reducing learning rate to 0.00010000000474974513.\n",
      "Epoch 23/250\n",
      "235/235 [==============================] - 10s 42ms/step - loss: 0.1191 - acc: 0.9702 - val_loss: 0.0093 - val_acc: 0.9963\n",
      "Epoch 24/250\n",
      "235/235 [==============================] - 10s 43ms/step - loss: 0.1307 - acc: 0.9682 - val_loss: 0.0090 - val_acc: 0.9963\n",
      "Epoch 25/250\n",
      "235/235 [==============================] - 10s 41ms/step - loss: 0.1235 - acc: 0.9665 - val_loss: 0.0086 - val_acc: 0.9963\n",
      "Epoch 26/250\n",
      "235/235 [==============================] - 10s 43ms/step - loss: 0.1272 - acc: 0.9680 - val_loss: 0.0089 - val_acc: 0.9963\n",
      "Epoch 27/250\n",
      "235/235 [==============================] - 10s 41ms/step - loss: 0.1247 - acc: 0.9667 - val_loss: 0.0092 - val_acc: 0.9963\n",
      "Epoch 28/250\n",
      "235/235 [==============================] - 11s 45ms/step - loss: 0.1152 - acc: 0.9711 - val_loss: 0.0087 - val_acc: 0.9963\n",
      "\n",
      "Epoch 00028: ReduceLROnPlateau reducing learning rate to 1.0000000474974514e-05.\n",
      "Epoch 29/250\n",
      "235/235 [==============================] - 10s 44ms/step - loss: 0.1154 - acc: 0.9687 - val_loss: 0.0086 - val_acc: 0.9963\n",
      "Epoch 30/250\n",
      "235/235 [==============================] - 10s 42ms/step - loss: 0.1219 - acc: 0.9677 - val_loss: 0.0086 - val_acc: 0.9963\n",
      "Epoch 31/250\n",
      "235/235 [==============================] - 10s 42ms/step - loss: 0.1250 - acc: 0.9660 - val_loss: 0.0086 - val_acc: 0.9963\n",
      "\n",
      "Epoch 00031: ReduceLROnPlateau reducing learning rate to 1.0000000656873453e-06.\n",
      "Epoch 32/250\n",
      "235/235 [==============================] - 10s 42ms/step - loss: 0.1142 - acc: 0.9711 - val_loss: 0.0086 - val_acc: 0.9963\n",
      "Epoch 33/250\n",
      "235/235 [==============================] - 10s 43ms/step - loss: 0.1557 - acc: 0.9628 - val_loss: 0.0086 - val_acc: 0.9963\n",
      "Epoch 34/250\n",
      "235/235 [==============================] - 10s 43ms/step - loss: 0.1252 - acc: 0.9677 - val_loss: 0.0086 - val_acc: 0.9963\n",
      "\n",
      "Epoch 00034: ReduceLROnPlateau reducing learning rate to 1.0000001111620805e-07.\n",
      "Epoch 35/250\n",
      "235/235 [==============================] - 10s 42ms/step - loss: 0.1048 - acc: 0.9703 - val_loss: 0.0086 - val_acc: 0.9963\n",
      "Epoch 36/250\n",
      "235/235 [==============================] - 10s 42ms/step - loss: 0.1204 - acc: 0.9687 - val_loss: 0.0086 - val_acc: 0.9963\n",
      "Epoch 37/250\n",
      "235/235 [==============================] - 10s 44ms/step - loss: 0.1118 - acc: 0.9705 - val_loss: 0.0086 - val_acc: 0.9963\n",
      "\n",
      "Epoch 00037: ReduceLROnPlateau reducing learning rate to 1.000000082740371e-08.\n",
      "Epoch 38/250\n",
      "235/235 [==============================] - 10s 42ms/step - loss: 0.1232 - acc: 0.9677 - val_loss: 0.0086 - val_acc: 0.9963\n",
      "Epoch 39/250\n",
      "235/235 [==============================] - 10s 43ms/step - loss: 0.1211 - acc: 0.9682 - val_loss: 0.0086 - val_acc: 0.9963\n"
     ]
    }
   ],
   "source": [
    "save_model = keras.callbacks.ModelCheckpoint(MODEL_PATH_HEAD, monitor='val_loss', mode='min', verbose=0,\n",
    "                                             save_best_only=True, save_weights_only=False, period=1)\n",
    "early_stopping = keras.callbacks.EarlyStopping(monitor='val_loss', min_delta=0, patience=10, verbose=0, mode='min')\n",
    "learning_rate = keras.callbacks.ReduceLROnPlateau(patience=3, monitor='val_loss', mode='min', verbose=1)\n",
    "callbacks = [save_model, early_stopping, learning_rate]\n",
    "\n",
    "# tensorboard = keras.callbacks.TensorBoard(log_dir=MODEL_DIR)\n",
    "# callbacks = [save_model, early_stopping, learning_rate, tensorboard]\n",
    "\n",
    "with wandb.monitor(display=False):\n",
    "    model.fit_generator(\n",
    "        train_batches, \n",
    "        epochs=250,\n",
    "        callbacks=callbacks + [WandbCallback(save_model=False)],\n",
    "        validation_data=test_batches\n",
    "    )"
   ]
  },
  {
   "cell_type": "markdown",
   "metadata": {},
   "source": [
    "### Fine-Tuning"
   ]
  },
  {
   "cell_type": "code",
   "execution_count": 30,
   "metadata": {},
   "outputs": [],
   "source": [
    "#model = get_digit_model(input_shape=target_shape + (3,), mode='tune')\n",
    "model = get_digit_model(input_shape=target_shape + (3,), mode='all')\n",
    "    \n",
    "model.compile(\n",
    "    loss=keras.losses.categorical_crossentropy,\n",
    "    optimizer=keras.optimizers.RMSprop(lr=.0001),\n",
    "    metrics=['accuracy']\n",
    ")\n",
    "\n",
    "# Initialize from pre-trained model\n",
    "model.load_weights(MODEL_PATH_HEAD)"
   ]
  },
  {
   "cell_type": "code",
   "execution_count": 31,
   "metadata": {},
   "outputs": [
    {
     "name": "stdout",
     "output_type": "stream",
     "text": [
      "Resuming run: https://app.wandb.ai/hammerlab/celldom/runs/c8ywa03w\n"
     ]
    },
    {
     "data": {
      "text/html": [
       "<iframe src=\"https://app.wandb.ai/hammerlab/celldom/runs/c8ywa03w?jupyter=true\" style=\"border:none;width:100%;height:420px\">\n",
       "        </iframe>"
      ],
      "text/plain": [
       "<wandb.jupyter.Run at 0x7f8298918ef0>"
      ]
     },
     "metadata": {},
     "output_type": "display_data"
    },
    {
     "name": "stdout",
     "output_type": "stream",
     "text": [
      "Epoch 1/250\n",
      "235/235 [==============================] - 11s 46ms/step - loss: 0.1367 - acc: 0.9661 - val_loss: 0.0012 - val_acc: 1.0000\n",
      "Epoch 2/250\n",
      "235/235 [==============================] - 10s 41ms/step - loss: 0.0973 - acc: 0.9730 - val_loss: 8.5180e-04 - val_acc: 1.0000\n",
      "Epoch 3/250\n",
      "235/235 [==============================] - 11s 45ms/step - loss: 0.1033 - acc: 0.9738 - val_loss: 7.9742e-04 - val_acc: 1.0000\n",
      "Epoch 4/250\n",
      "235/235 [==============================] - 10s 42ms/step - loss: 0.0935 - acc: 0.9730 - val_loss: 0.0012 - val_acc: 1.0000\n",
      "Epoch 5/250\n",
      "235/235 [==============================] - 10s 42ms/step - loss: 0.1235 - acc: 0.9688 - val_loss: 0.0014 - val_acc: 0.9989\n",
      "\n",
      "Epoch 00005: ReduceLROnPlateau reducing learning rate to 9.999999747378752e-06.\n",
      "Epoch 6/250\n",
      "235/235 [==============================] - 10s 42ms/step - loss: 0.0893 - acc: 0.9769 - val_loss: 0.0012 - val_acc: 0.9995\n",
      "Epoch 7/250\n",
      "235/235 [==============================] - 10s 42ms/step - loss: 0.0918 - acc: 0.9754 - val_loss: 0.0013 - val_acc: 0.9995\n",
      "Epoch 8/250\n",
      "235/235 [==============================] - 10s 43ms/step - loss: 0.0792 - acc: 0.9783 - val_loss: 0.0011 - val_acc: 0.9995\n",
      "\n",
      "Epoch 00008: ReduceLROnPlateau reducing learning rate to 9.999999747378752e-07.\n",
      "Epoch 9/250\n",
      "235/235 [==============================] - 10s 41ms/step - loss: 0.1157 - acc: 0.9734 - val_loss: 0.0012 - val_acc: 0.9995\n",
      "Epoch 10/250\n",
      "235/235 [==============================] - 10s 43ms/step - loss: 0.0881 - acc: 0.9775 - val_loss: 0.0012 - val_acc: 0.9995\n",
      "Epoch 11/250\n",
      "235/235 [==============================] - 10s 42ms/step - loss: 0.0936 - acc: 0.9757 - val_loss: 0.0011 - val_acc: 0.9995\n",
      "\n",
      "Epoch 00011: ReduceLROnPlateau reducing learning rate to 9.999999974752428e-08.\n",
      "Epoch 12/250\n",
      "235/235 [==============================] - 10s 42ms/step - loss: 0.0976 - acc: 0.9730 - val_loss: 0.0012 - val_acc: 0.9995\n",
      "Epoch 13/250\n",
      "235/235 [==============================] - 10s 44ms/step - loss: 0.0925 - acc: 0.9771 - val_loss: 0.0012 - val_acc: 0.9995\n"
     ]
    }
   ],
   "source": [
    "save_model = keras.callbacks.ModelCheckpoint(MODEL_PATH, monitor='val_loss', mode='min', verbose=0,\n",
    "                                             save_best_only=True, save_weights_only=False, period=1)\n",
    "early_stopping = keras.callbacks.EarlyStopping(monitor='val_loss', min_delta=0, patience=10, mode='min')\n",
    "learning_rate = keras.callbacks.ReduceLROnPlateau(patience=3, monitor='val_loss', mode='min', verbose=1)\n",
    "callbacks = [save_model, early_stopping, learning_rate]\n",
    "\n",
    "# tensorboard = keras.callbacks.TensorBoard(log_dir=MODEL_DIR)\n",
    "# callbacks = [save_model, early_stopping, learning_rate, tensorboard]\n",
    "\n",
    "with wandb.monitor(display=False):\n",
    "    model.fit_generator(\n",
    "        train_batches, \n",
    "        epochs=250,\n",
    "        callbacks=callbacks + [WandbCallback(save_model=False)],\n",
    "        validation_data=test_batches\n",
    "    )"
   ]
  },
  {
   "cell_type": "markdown",
   "metadata": {},
   "source": [
    "## Inference "
   ]
  },
  {
   "cell_type": "code",
   "execution_count": 34,
   "metadata": {},
   "outputs": [],
   "source": [
    "model = keras.models.load_model(MODEL_PATH)"
   ]
  },
  {
   "cell_type": "code",
   "execution_count": 41,
   "metadata": {},
   "outputs": [
    {
     "data": {
      "text/plain": [
       "((7500, 32, 32, 3), (7500,))"
      ]
     },
     "execution_count": 41,
     "metadata": {},
     "output_type": "execute_result"
    }
   ],
   "source": [
    "#inf_x, inf_y = test_x, test_y\n",
    "inf_x, inf_y = train_x, train_y\n",
    "inf_y = np.argmax(inf_y, axis=1)\n",
    "inf_x.shape, inf_y.shape"
   ]
  },
  {
   "cell_type": "code",
   "execution_count": 42,
   "metadata": {},
   "outputs": [
    {
     "data": {
      "text/plain": [
       "(7500,)"
      ]
     },
     "execution_count": 42,
     "metadata": {},
     "output_type": "execute_result"
    }
   ],
   "source": [
    "inf_y_pred = model.predict_classes(inf_x)\n",
    "inf_y_pred.shape"
   ]
  },
  {
   "cell_type": "code",
   "execution_count": 43,
   "metadata": {},
   "outputs": [
    {
     "data": {
      "text/plain": [
       "0.9998666666666667"
      ]
     },
     "execution_count": 43,
     "metadata": {},
     "output_type": "execute_result"
    }
   ],
   "source": [
    "# Overall accuracy\n",
    "(inf_y_pred == inf_y).mean()"
   ]
  },
  {
   "cell_type": "code",
   "execution_count": 44,
   "metadata": {},
   "outputs": [
    {
     "data": {
      "text/html": [
       "<style  type=\"text/css\" >\n",
       "    #T_bd3e6c34_c7ed_11e8_b83a_0242ac110002row0_col0 {\n",
       "            background-color:  #4897c4;\n",
       "        }    #T_bd3e6c34_c7ed_11e8_b83a_0242ac110002row0_col1 {\n",
       "            background-color:  #fff7fb;\n",
       "        }    #T_bd3e6c34_c7ed_11e8_b83a_0242ac110002row0_col2 {\n",
       "            background-color:  #fff7fb;\n",
       "        }    #T_bd3e6c34_c7ed_11e8_b83a_0242ac110002row0_col3 {\n",
       "            background-color:  #fff7fb;\n",
       "        }    #T_bd3e6c34_c7ed_11e8_b83a_0242ac110002row0_col4 {\n",
       "            background-color:  #fff7fb;\n",
       "        }    #T_bd3e6c34_c7ed_11e8_b83a_0242ac110002row0_col5 {\n",
       "            background-color:  #fff7fb;\n",
       "        }    #T_bd3e6c34_c7ed_11e8_b83a_0242ac110002row0_col6 {\n",
       "            background-color:  #fff7fb;\n",
       "        }    #T_bd3e6c34_c7ed_11e8_b83a_0242ac110002row0_col7 {\n",
       "            background-color:  #fff7fb;\n",
       "        }    #T_bd3e6c34_c7ed_11e8_b83a_0242ac110002row0_col8 {\n",
       "            background-color:  #fff7fb;\n",
       "        }    #T_bd3e6c34_c7ed_11e8_b83a_0242ac110002row0_col9 {\n",
       "            background-color:  #fff7fb;\n",
       "        }    #T_bd3e6c34_c7ed_11e8_b83a_0242ac110002row1_col0 {\n",
       "            background-color:  #fff7fb;\n",
       "        }    #T_bd3e6c34_c7ed_11e8_b83a_0242ac110002row1_col1 {\n",
       "            background-color:  #4897c4;\n",
       "        }    #T_bd3e6c34_c7ed_11e8_b83a_0242ac110002row1_col2 {\n",
       "            background-color:  #fff7fb;\n",
       "        }    #T_bd3e6c34_c7ed_11e8_b83a_0242ac110002row1_col3 {\n",
       "            background-color:  #fff7fb;\n",
       "        }    #T_bd3e6c34_c7ed_11e8_b83a_0242ac110002row1_col4 {\n",
       "            background-color:  #fff7fb;\n",
       "        }    #T_bd3e6c34_c7ed_11e8_b83a_0242ac110002row1_col5 {\n",
       "            background-color:  #fff7fb;\n",
       "        }    #T_bd3e6c34_c7ed_11e8_b83a_0242ac110002row1_col6 {\n",
       "            background-color:  #fff7fb;\n",
       "        }    #T_bd3e6c34_c7ed_11e8_b83a_0242ac110002row1_col7 {\n",
       "            background-color:  #fff7fb;\n",
       "        }    #T_bd3e6c34_c7ed_11e8_b83a_0242ac110002row1_col8 {\n",
       "            background-color:  #fff7fb;\n",
       "        }    #T_bd3e6c34_c7ed_11e8_b83a_0242ac110002row1_col9 {\n",
       "            background-color:  #fff7fb;\n",
       "        }    #T_bd3e6c34_c7ed_11e8_b83a_0242ac110002row2_col0 {\n",
       "            background-color:  #fff7fb;\n",
       "        }    #T_bd3e6c34_c7ed_11e8_b83a_0242ac110002row2_col1 {\n",
       "            background-color:  #fff7fb;\n",
       "        }    #T_bd3e6c34_c7ed_11e8_b83a_0242ac110002row2_col2 {\n",
       "            background-color:  #4897c4;\n",
       "        }    #T_bd3e6c34_c7ed_11e8_b83a_0242ac110002row2_col3 {\n",
       "            background-color:  #fff7fb;\n",
       "        }    #T_bd3e6c34_c7ed_11e8_b83a_0242ac110002row2_col4 {\n",
       "            background-color:  #fff7fb;\n",
       "        }    #T_bd3e6c34_c7ed_11e8_b83a_0242ac110002row2_col5 {\n",
       "            background-color:  #fff7fb;\n",
       "        }    #T_bd3e6c34_c7ed_11e8_b83a_0242ac110002row2_col6 {\n",
       "            background-color:  #fff7fb;\n",
       "        }    #T_bd3e6c34_c7ed_11e8_b83a_0242ac110002row2_col7 {\n",
       "            background-color:  #fff7fb;\n",
       "        }    #T_bd3e6c34_c7ed_11e8_b83a_0242ac110002row2_col8 {\n",
       "            background-color:  #fff7fb;\n",
       "        }    #T_bd3e6c34_c7ed_11e8_b83a_0242ac110002row2_col9 {\n",
       "            background-color:  #fff7fb;\n",
       "        }    #T_bd3e6c34_c7ed_11e8_b83a_0242ac110002row3_col0 {\n",
       "            background-color:  #fff7fb;\n",
       "        }    #T_bd3e6c34_c7ed_11e8_b83a_0242ac110002row3_col1 {\n",
       "            background-color:  #fff7fb;\n",
       "        }    #T_bd3e6c34_c7ed_11e8_b83a_0242ac110002row3_col2 {\n",
       "            background-color:  #fff7fb;\n",
       "        }    #T_bd3e6c34_c7ed_11e8_b83a_0242ac110002row3_col3 {\n",
       "            background-color:  #4897c4;\n",
       "        }    #T_bd3e6c34_c7ed_11e8_b83a_0242ac110002row3_col4 {\n",
       "            background-color:  #fff7fb;\n",
       "        }    #T_bd3e6c34_c7ed_11e8_b83a_0242ac110002row3_col5 {\n",
       "            background-color:  #fff7fb;\n",
       "        }    #T_bd3e6c34_c7ed_11e8_b83a_0242ac110002row3_col6 {\n",
       "            background-color:  #fff7fb;\n",
       "        }    #T_bd3e6c34_c7ed_11e8_b83a_0242ac110002row3_col7 {\n",
       "            background-color:  #fff7fb;\n",
       "        }    #T_bd3e6c34_c7ed_11e8_b83a_0242ac110002row3_col8 {\n",
       "            background-color:  #fff7fb;\n",
       "        }    #T_bd3e6c34_c7ed_11e8_b83a_0242ac110002row3_col9 {\n",
       "            background-color:  #fff7fb;\n",
       "        }    #T_bd3e6c34_c7ed_11e8_b83a_0242ac110002row4_col0 {\n",
       "            background-color:  #fff7fb;\n",
       "        }    #T_bd3e6c34_c7ed_11e8_b83a_0242ac110002row4_col1 {\n",
       "            background-color:  #fff7fb;\n",
       "        }    #T_bd3e6c34_c7ed_11e8_b83a_0242ac110002row4_col2 {\n",
       "            background-color:  #fff7fb;\n",
       "        }    #T_bd3e6c34_c7ed_11e8_b83a_0242ac110002row4_col3 {\n",
       "            background-color:  #fff7fb;\n",
       "        }    #T_bd3e6c34_c7ed_11e8_b83a_0242ac110002row4_col4 {\n",
       "            background-color:  #4897c4;\n",
       "        }    #T_bd3e6c34_c7ed_11e8_b83a_0242ac110002row4_col5 {\n",
       "            background-color:  #fff7fb;\n",
       "        }    #T_bd3e6c34_c7ed_11e8_b83a_0242ac110002row4_col6 {\n",
       "            background-color:  #fff7fb;\n",
       "        }    #T_bd3e6c34_c7ed_11e8_b83a_0242ac110002row4_col7 {\n",
       "            background-color:  #fff7fb;\n",
       "        }    #T_bd3e6c34_c7ed_11e8_b83a_0242ac110002row4_col8 {\n",
       "            background-color:  #fff7fb;\n",
       "        }    #T_bd3e6c34_c7ed_11e8_b83a_0242ac110002row4_col9 {\n",
       "            background-color:  #fff7fb;\n",
       "        }    #T_bd3e6c34_c7ed_11e8_b83a_0242ac110002row5_col0 {\n",
       "            background-color:  #fff7fb;\n",
       "        }    #T_bd3e6c34_c7ed_11e8_b83a_0242ac110002row5_col1 {\n",
       "            background-color:  #fff7fb;\n",
       "        }    #T_bd3e6c34_c7ed_11e8_b83a_0242ac110002row5_col2 {\n",
       "            background-color:  #fff7fb;\n",
       "        }    #T_bd3e6c34_c7ed_11e8_b83a_0242ac110002row5_col3 {\n",
       "            background-color:  #fff7fb;\n",
       "        }    #T_bd3e6c34_c7ed_11e8_b83a_0242ac110002row5_col4 {\n",
       "            background-color:  #fff7fb;\n",
       "        }    #T_bd3e6c34_c7ed_11e8_b83a_0242ac110002row5_col5 {\n",
       "            background-color:  #4897c4;\n",
       "        }    #T_bd3e6c34_c7ed_11e8_b83a_0242ac110002row5_col6 {\n",
       "            background-color:  #fff7fb;\n",
       "        }    #T_bd3e6c34_c7ed_11e8_b83a_0242ac110002row5_col7 {\n",
       "            background-color:  #fff7fb;\n",
       "        }    #T_bd3e6c34_c7ed_11e8_b83a_0242ac110002row5_col8 {\n",
       "            background-color:  #fff7fb;\n",
       "        }    #T_bd3e6c34_c7ed_11e8_b83a_0242ac110002row5_col9 {\n",
       "            background-color:  #fff7fb;\n",
       "        }    #T_bd3e6c34_c7ed_11e8_b83a_0242ac110002row6_col0 {\n",
       "            background-color:  #fff7fb;\n",
       "        }    #T_bd3e6c34_c7ed_11e8_b83a_0242ac110002row6_col1 {\n",
       "            background-color:  #fff7fb;\n",
       "        }    #T_bd3e6c34_c7ed_11e8_b83a_0242ac110002row6_col2 {\n",
       "            background-color:  #fff7fb;\n",
       "        }    #T_bd3e6c34_c7ed_11e8_b83a_0242ac110002row6_col3 {\n",
       "            background-color:  #fff7fb;\n",
       "        }    #T_bd3e6c34_c7ed_11e8_b83a_0242ac110002row6_col4 {\n",
       "            background-color:  #fff7fb;\n",
       "        }    #T_bd3e6c34_c7ed_11e8_b83a_0242ac110002row6_col5 {\n",
       "            background-color:  #fff7fb;\n",
       "        }    #T_bd3e6c34_c7ed_11e8_b83a_0242ac110002row6_col6 {\n",
       "            background-color:  #4897c4;\n",
       "        }    #T_bd3e6c34_c7ed_11e8_b83a_0242ac110002row6_col7 {\n",
       "            background-color:  #fff7fb;\n",
       "        }    #T_bd3e6c34_c7ed_11e8_b83a_0242ac110002row6_col8 {\n",
       "            background-color:  #fff7fb;\n",
       "        }    #T_bd3e6c34_c7ed_11e8_b83a_0242ac110002row6_col9 {\n",
       "            background-color:  #fff7fb;\n",
       "        }    #T_bd3e6c34_c7ed_11e8_b83a_0242ac110002row7_col0 {\n",
       "            background-color:  #fff7fb;\n",
       "        }    #T_bd3e6c34_c7ed_11e8_b83a_0242ac110002row7_col1 {\n",
       "            background-color:  #fff7fb;\n",
       "        }    #T_bd3e6c34_c7ed_11e8_b83a_0242ac110002row7_col2 {\n",
       "            background-color:  #fff7fb;\n",
       "        }    #T_bd3e6c34_c7ed_11e8_b83a_0242ac110002row7_col3 {\n",
       "            background-color:  #fff7fb;\n",
       "        }    #T_bd3e6c34_c7ed_11e8_b83a_0242ac110002row7_col4 {\n",
       "            background-color:  #fff7fb;\n",
       "        }    #T_bd3e6c34_c7ed_11e8_b83a_0242ac110002row7_col5 {\n",
       "            background-color:  #fff7fb;\n",
       "        }    #T_bd3e6c34_c7ed_11e8_b83a_0242ac110002row7_col6 {\n",
       "            background-color:  #fff7fb;\n",
       "        }    #T_bd3e6c34_c7ed_11e8_b83a_0242ac110002row7_col7 {\n",
       "            background-color:  #4897c4;\n",
       "        }    #T_bd3e6c34_c7ed_11e8_b83a_0242ac110002row7_col8 {\n",
       "            background-color:  #fff7fb;\n",
       "        }    #T_bd3e6c34_c7ed_11e8_b83a_0242ac110002row7_col9 {\n",
       "            background-color:  #fff7fb;\n",
       "        }    #T_bd3e6c34_c7ed_11e8_b83a_0242ac110002row8_col0 {\n",
       "            background-color:  #fff7fb;\n",
       "        }    #T_bd3e6c34_c7ed_11e8_b83a_0242ac110002row8_col1 {\n",
       "            background-color:  #fff7fb;\n",
       "        }    #T_bd3e6c34_c7ed_11e8_b83a_0242ac110002row8_col2 {\n",
       "            background-color:  #fff7fb;\n",
       "        }    #T_bd3e6c34_c7ed_11e8_b83a_0242ac110002row8_col3 {\n",
       "            background-color:  #fff7fb;\n",
       "        }    #T_bd3e6c34_c7ed_11e8_b83a_0242ac110002row8_col4 {\n",
       "            background-color:  #fff7fb;\n",
       "        }    #T_bd3e6c34_c7ed_11e8_b83a_0242ac110002row8_col5 {\n",
       "            background-color:  #fff7fb;\n",
       "        }    #T_bd3e6c34_c7ed_11e8_b83a_0242ac110002row8_col6 {\n",
       "            background-color:  #fff7fb;\n",
       "        }    #T_bd3e6c34_c7ed_11e8_b83a_0242ac110002row8_col7 {\n",
       "            background-color:  #fff7fb;\n",
       "        }    #T_bd3e6c34_c7ed_11e8_b83a_0242ac110002row8_col8 {\n",
       "            background-color:  #4897c4;\n",
       "        }    #T_bd3e6c34_c7ed_11e8_b83a_0242ac110002row8_col9 {\n",
       "            background-color:  #fff7fb;\n",
       "        }    #T_bd3e6c34_c7ed_11e8_b83a_0242ac110002row9_col0 {\n",
       "            background-color:  #fff7fb;\n",
       "        }    #T_bd3e6c34_c7ed_11e8_b83a_0242ac110002row9_col1 {\n",
       "            background-color:  #fff7fb;\n",
       "        }    #T_bd3e6c34_c7ed_11e8_b83a_0242ac110002row9_col2 {\n",
       "            background-color:  #fff7fb;\n",
       "        }    #T_bd3e6c34_c7ed_11e8_b83a_0242ac110002row9_col3 {\n",
       "            background-color:  #fff7fb;\n",
       "        }    #T_bd3e6c34_c7ed_11e8_b83a_0242ac110002row9_col4 {\n",
       "            background-color:  #fff7fb;\n",
       "        }    #T_bd3e6c34_c7ed_11e8_b83a_0242ac110002row9_col5 {\n",
       "            background-color:  #fff7fb;\n",
       "        }    #T_bd3e6c34_c7ed_11e8_b83a_0242ac110002row9_col6 {\n",
       "            background-color:  #fff7fb;\n",
       "        }    #T_bd3e6c34_c7ed_11e8_b83a_0242ac110002row9_col7 {\n",
       "            background-color:  #fff7fb;\n",
       "        }    #T_bd3e6c34_c7ed_11e8_b83a_0242ac110002row9_col8 {\n",
       "            background-color:  #fff7fb;\n",
       "        }    #T_bd3e6c34_c7ed_11e8_b83a_0242ac110002row9_col9 {\n",
       "            background-color:  #4897c4;\n",
       "        }</style>  \n",
       "<table id=\"T_bd3e6c34_c7ed_11e8_b83a_0242ac110002\" > \n",
       "<thead>    <tr> \n",
       "        <th class=\"index_name level0\" >true</th> \n",
       "        <th class=\"col_heading level0 col0\" >0</th> \n",
       "        <th class=\"col_heading level0 col1\" >1</th> \n",
       "        <th class=\"col_heading level0 col2\" >2</th> \n",
       "        <th class=\"col_heading level0 col3\" >3</th> \n",
       "        <th class=\"col_heading level0 col4\" >4</th> \n",
       "        <th class=\"col_heading level0 col5\" >5</th> \n",
       "        <th class=\"col_heading level0 col6\" >6</th> \n",
       "        <th class=\"col_heading level0 col7\" >7</th> \n",
       "        <th class=\"col_heading level0 col8\" >8</th> \n",
       "        <th class=\"col_heading level0 col9\" >9</th> \n",
       "    </tr>    <tr> \n",
       "        <th class=\"index_name level0\" >pred</th> \n",
       "        <th class=\"blank\" ></th> \n",
       "        <th class=\"blank\" ></th> \n",
       "        <th class=\"blank\" ></th> \n",
       "        <th class=\"blank\" ></th> \n",
       "        <th class=\"blank\" ></th> \n",
       "        <th class=\"blank\" ></th> \n",
       "        <th class=\"blank\" ></th> \n",
       "        <th class=\"blank\" ></th> \n",
       "        <th class=\"blank\" ></th> \n",
       "        <th class=\"blank\" ></th> \n",
       "    </tr></thead> \n",
       "<tbody>    <tr> \n",
       "        <th id=\"T_bd3e6c34_c7ed_11e8_b83a_0242ac110002level0_row0\" class=\"row_heading level0 row0\" >0</th> \n",
       "        <td id=\"T_bd3e6c34_c7ed_11e8_b83a_0242ac110002row0_col0\" class=\"data row0 col0\" >2219</td> \n",
       "        <td id=\"T_bd3e6c34_c7ed_11e8_b83a_0242ac110002row0_col1\" class=\"data row0 col1\" >0</td> \n",
       "        <td id=\"T_bd3e6c34_c7ed_11e8_b83a_0242ac110002row0_col2\" class=\"data row0 col2\" >0</td> \n",
       "        <td id=\"T_bd3e6c34_c7ed_11e8_b83a_0242ac110002row0_col3\" class=\"data row0 col3\" >0</td> \n",
       "        <td id=\"T_bd3e6c34_c7ed_11e8_b83a_0242ac110002row0_col4\" class=\"data row0 col4\" >0</td> \n",
       "        <td id=\"T_bd3e6c34_c7ed_11e8_b83a_0242ac110002row0_col5\" class=\"data row0 col5\" >0</td> \n",
       "        <td id=\"T_bd3e6c34_c7ed_11e8_b83a_0242ac110002row0_col6\" class=\"data row0 col6\" >0</td> \n",
       "        <td id=\"T_bd3e6c34_c7ed_11e8_b83a_0242ac110002row0_col7\" class=\"data row0 col7\" >0</td> \n",
       "        <td id=\"T_bd3e6c34_c7ed_11e8_b83a_0242ac110002row0_col8\" class=\"data row0 col8\" >0</td> \n",
       "        <td id=\"T_bd3e6c34_c7ed_11e8_b83a_0242ac110002row0_col9\" class=\"data row0 col9\" >0</td> \n",
       "    </tr>    <tr> \n",
       "        <th id=\"T_bd3e6c34_c7ed_11e8_b83a_0242ac110002level0_row1\" class=\"row_heading level0 row1\" >1</th> \n",
       "        <td id=\"T_bd3e6c34_c7ed_11e8_b83a_0242ac110002row1_col0\" class=\"data row1 col0\" >0</td> \n",
       "        <td id=\"T_bd3e6c34_c7ed_11e8_b83a_0242ac110002row1_col1\" class=\"data row1 col1\" >2137</td> \n",
       "        <td id=\"T_bd3e6c34_c7ed_11e8_b83a_0242ac110002row1_col2\" class=\"data row1 col2\" >0</td> \n",
       "        <td id=\"T_bd3e6c34_c7ed_11e8_b83a_0242ac110002row1_col3\" class=\"data row1 col3\" >0</td> \n",
       "        <td id=\"T_bd3e6c34_c7ed_11e8_b83a_0242ac110002row1_col4\" class=\"data row1 col4\" >0</td> \n",
       "        <td id=\"T_bd3e6c34_c7ed_11e8_b83a_0242ac110002row1_col5\" class=\"data row1 col5\" >0</td> \n",
       "        <td id=\"T_bd3e6c34_c7ed_11e8_b83a_0242ac110002row1_col6\" class=\"data row1 col6\" >0</td> \n",
       "        <td id=\"T_bd3e6c34_c7ed_11e8_b83a_0242ac110002row1_col7\" class=\"data row1 col7\" >0</td> \n",
       "        <td id=\"T_bd3e6c34_c7ed_11e8_b83a_0242ac110002row1_col8\" class=\"data row1 col8\" >0</td> \n",
       "        <td id=\"T_bd3e6c34_c7ed_11e8_b83a_0242ac110002row1_col9\" class=\"data row1 col9\" >0</td> \n",
       "    </tr>    <tr> \n",
       "        <th id=\"T_bd3e6c34_c7ed_11e8_b83a_0242ac110002level0_row2\" class=\"row_heading level0 row2\" >2</th> \n",
       "        <td id=\"T_bd3e6c34_c7ed_11e8_b83a_0242ac110002row2_col0\" class=\"data row2 col0\" >0</td> \n",
       "        <td id=\"T_bd3e6c34_c7ed_11e8_b83a_0242ac110002row2_col1\" class=\"data row2 col1\" >0</td> \n",
       "        <td id=\"T_bd3e6c34_c7ed_11e8_b83a_0242ac110002row2_col2\" class=\"data row2 col2\" >616</td> \n",
       "        <td id=\"T_bd3e6c34_c7ed_11e8_b83a_0242ac110002row2_col3\" class=\"data row2 col3\" >0</td> \n",
       "        <td id=\"T_bd3e6c34_c7ed_11e8_b83a_0242ac110002row2_col4\" class=\"data row2 col4\" >0</td> \n",
       "        <td id=\"T_bd3e6c34_c7ed_11e8_b83a_0242ac110002row2_col5\" class=\"data row2 col5\" >0</td> \n",
       "        <td id=\"T_bd3e6c34_c7ed_11e8_b83a_0242ac110002row2_col6\" class=\"data row2 col6\" >0</td> \n",
       "        <td id=\"T_bd3e6c34_c7ed_11e8_b83a_0242ac110002row2_col7\" class=\"data row2 col7\" >0</td> \n",
       "        <td id=\"T_bd3e6c34_c7ed_11e8_b83a_0242ac110002row2_col8\" class=\"data row2 col8\" >0</td> \n",
       "        <td id=\"T_bd3e6c34_c7ed_11e8_b83a_0242ac110002row2_col9\" class=\"data row2 col9\" >0</td> \n",
       "    </tr>    <tr> \n",
       "        <th id=\"T_bd3e6c34_c7ed_11e8_b83a_0242ac110002level0_row3\" class=\"row_heading level0 row3\" >3</th> \n",
       "        <td id=\"T_bd3e6c34_c7ed_11e8_b83a_0242ac110002row3_col0\" class=\"data row3 col0\" >0</td> \n",
       "        <td id=\"T_bd3e6c34_c7ed_11e8_b83a_0242ac110002row3_col1\" class=\"data row3 col1\" >0</td> \n",
       "        <td id=\"T_bd3e6c34_c7ed_11e8_b83a_0242ac110002row3_col2\" class=\"data row3 col2\" >0</td> \n",
       "        <td id=\"T_bd3e6c34_c7ed_11e8_b83a_0242ac110002row3_col3\" class=\"data row3 col3\" >648</td> \n",
       "        <td id=\"T_bd3e6c34_c7ed_11e8_b83a_0242ac110002row3_col4\" class=\"data row3 col4\" >0</td> \n",
       "        <td id=\"T_bd3e6c34_c7ed_11e8_b83a_0242ac110002row3_col5\" class=\"data row3 col5\" >0</td> \n",
       "        <td id=\"T_bd3e6c34_c7ed_11e8_b83a_0242ac110002row3_col6\" class=\"data row3 col6\" >0</td> \n",
       "        <td id=\"T_bd3e6c34_c7ed_11e8_b83a_0242ac110002row3_col7\" class=\"data row3 col7\" >0</td> \n",
       "        <td id=\"T_bd3e6c34_c7ed_11e8_b83a_0242ac110002row3_col8\" class=\"data row3 col8\" >0</td> \n",
       "        <td id=\"T_bd3e6c34_c7ed_11e8_b83a_0242ac110002row3_col9\" class=\"data row3 col9\" >0</td> \n",
       "    </tr>    <tr> \n",
       "        <th id=\"T_bd3e6c34_c7ed_11e8_b83a_0242ac110002level0_row4\" class=\"row_heading level0 row4\" >4</th> \n",
       "        <td id=\"T_bd3e6c34_c7ed_11e8_b83a_0242ac110002row4_col0\" class=\"data row4 col0\" >0</td> \n",
       "        <td id=\"T_bd3e6c34_c7ed_11e8_b83a_0242ac110002row4_col1\" class=\"data row4 col1\" >1</td> \n",
       "        <td id=\"T_bd3e6c34_c7ed_11e8_b83a_0242ac110002row4_col2\" class=\"data row4 col2\" >0</td> \n",
       "        <td id=\"T_bd3e6c34_c7ed_11e8_b83a_0242ac110002row4_col3\" class=\"data row4 col3\" >0</td> \n",
       "        <td id=\"T_bd3e6c34_c7ed_11e8_b83a_0242ac110002row4_col4\" class=\"data row4 col4\" >484</td> \n",
       "        <td id=\"T_bd3e6c34_c7ed_11e8_b83a_0242ac110002row4_col5\" class=\"data row4 col5\" >0</td> \n",
       "        <td id=\"T_bd3e6c34_c7ed_11e8_b83a_0242ac110002row4_col6\" class=\"data row4 col6\" >0</td> \n",
       "        <td id=\"T_bd3e6c34_c7ed_11e8_b83a_0242ac110002row4_col7\" class=\"data row4 col7\" >0</td> \n",
       "        <td id=\"T_bd3e6c34_c7ed_11e8_b83a_0242ac110002row4_col8\" class=\"data row4 col8\" >0</td> \n",
       "        <td id=\"T_bd3e6c34_c7ed_11e8_b83a_0242ac110002row4_col9\" class=\"data row4 col9\" >0</td> \n",
       "    </tr>    <tr> \n",
       "        <th id=\"T_bd3e6c34_c7ed_11e8_b83a_0242ac110002level0_row5\" class=\"row_heading level0 row5\" >5</th> \n",
       "        <td id=\"T_bd3e6c34_c7ed_11e8_b83a_0242ac110002row5_col0\" class=\"data row5 col0\" >0</td> \n",
       "        <td id=\"T_bd3e6c34_c7ed_11e8_b83a_0242ac110002row5_col1\" class=\"data row5 col1\" >0</td> \n",
       "        <td id=\"T_bd3e6c34_c7ed_11e8_b83a_0242ac110002row5_col2\" class=\"data row5 col2\" >0</td> \n",
       "        <td id=\"T_bd3e6c34_c7ed_11e8_b83a_0242ac110002row5_col3\" class=\"data row5 col3\" >0</td> \n",
       "        <td id=\"T_bd3e6c34_c7ed_11e8_b83a_0242ac110002row5_col4\" class=\"data row5 col4\" >0</td> \n",
       "        <td id=\"T_bd3e6c34_c7ed_11e8_b83a_0242ac110002row5_col5\" class=\"data row5 col5\" >287</td> \n",
       "        <td id=\"T_bd3e6c34_c7ed_11e8_b83a_0242ac110002row5_col6\" class=\"data row5 col6\" >0</td> \n",
       "        <td id=\"T_bd3e6c34_c7ed_11e8_b83a_0242ac110002row5_col7\" class=\"data row5 col7\" >0</td> \n",
       "        <td id=\"T_bd3e6c34_c7ed_11e8_b83a_0242ac110002row5_col8\" class=\"data row5 col8\" >0</td> \n",
       "        <td id=\"T_bd3e6c34_c7ed_11e8_b83a_0242ac110002row5_col9\" class=\"data row5 col9\" >0</td> \n",
       "    </tr>    <tr> \n",
       "        <th id=\"T_bd3e6c34_c7ed_11e8_b83a_0242ac110002level0_row6\" class=\"row_heading level0 row6\" >6</th> \n",
       "        <td id=\"T_bd3e6c34_c7ed_11e8_b83a_0242ac110002row6_col0\" class=\"data row6 col0\" >0</td> \n",
       "        <td id=\"T_bd3e6c34_c7ed_11e8_b83a_0242ac110002row6_col1\" class=\"data row6 col1\" >0</td> \n",
       "        <td id=\"T_bd3e6c34_c7ed_11e8_b83a_0242ac110002row6_col2\" class=\"data row6 col2\" >0</td> \n",
       "        <td id=\"T_bd3e6c34_c7ed_11e8_b83a_0242ac110002row6_col3\" class=\"data row6 col3\" >0</td> \n",
       "        <td id=\"T_bd3e6c34_c7ed_11e8_b83a_0242ac110002row6_col4\" class=\"data row6 col4\" >0</td> \n",
       "        <td id=\"T_bd3e6c34_c7ed_11e8_b83a_0242ac110002row6_col5\" class=\"data row6 col5\" >0</td> \n",
       "        <td id=\"T_bd3e6c34_c7ed_11e8_b83a_0242ac110002row6_col6\" class=\"data row6 col6\" >276</td> \n",
       "        <td id=\"T_bd3e6c34_c7ed_11e8_b83a_0242ac110002row6_col7\" class=\"data row6 col7\" >0</td> \n",
       "        <td id=\"T_bd3e6c34_c7ed_11e8_b83a_0242ac110002row6_col8\" class=\"data row6 col8\" >0</td> \n",
       "        <td id=\"T_bd3e6c34_c7ed_11e8_b83a_0242ac110002row6_col9\" class=\"data row6 col9\" >0</td> \n",
       "    </tr>    <tr> \n",
       "        <th id=\"T_bd3e6c34_c7ed_11e8_b83a_0242ac110002level0_row7\" class=\"row_heading level0 row7\" >7</th> \n",
       "        <td id=\"T_bd3e6c34_c7ed_11e8_b83a_0242ac110002row7_col0\" class=\"data row7 col0\" >0</td> \n",
       "        <td id=\"T_bd3e6c34_c7ed_11e8_b83a_0242ac110002row7_col1\" class=\"data row7 col1\" >0</td> \n",
       "        <td id=\"T_bd3e6c34_c7ed_11e8_b83a_0242ac110002row7_col2\" class=\"data row7 col2\" >0</td> \n",
       "        <td id=\"T_bd3e6c34_c7ed_11e8_b83a_0242ac110002row7_col3\" class=\"data row7 col3\" >0</td> \n",
       "        <td id=\"T_bd3e6c34_c7ed_11e8_b83a_0242ac110002row7_col4\" class=\"data row7 col4\" >0</td> \n",
       "        <td id=\"T_bd3e6c34_c7ed_11e8_b83a_0242ac110002row7_col5\" class=\"data row7 col5\" >0</td> \n",
       "        <td id=\"T_bd3e6c34_c7ed_11e8_b83a_0242ac110002row7_col6\" class=\"data row7 col6\" >0</td> \n",
       "        <td id=\"T_bd3e6c34_c7ed_11e8_b83a_0242ac110002row7_col7\" class=\"data row7 col7\" >278</td> \n",
       "        <td id=\"T_bd3e6c34_c7ed_11e8_b83a_0242ac110002row7_col8\" class=\"data row7 col8\" >0</td> \n",
       "        <td id=\"T_bd3e6c34_c7ed_11e8_b83a_0242ac110002row7_col9\" class=\"data row7 col9\" >0</td> \n",
       "    </tr>    <tr> \n",
       "        <th id=\"T_bd3e6c34_c7ed_11e8_b83a_0242ac110002level0_row8\" class=\"row_heading level0 row8\" >8</th> \n",
       "        <td id=\"T_bd3e6c34_c7ed_11e8_b83a_0242ac110002row8_col0\" class=\"data row8 col0\" >0</td> \n",
       "        <td id=\"T_bd3e6c34_c7ed_11e8_b83a_0242ac110002row8_col1\" class=\"data row8 col1\" >0</td> \n",
       "        <td id=\"T_bd3e6c34_c7ed_11e8_b83a_0242ac110002row8_col2\" class=\"data row8 col2\" >0</td> \n",
       "        <td id=\"T_bd3e6c34_c7ed_11e8_b83a_0242ac110002row8_col3\" class=\"data row8 col3\" >0</td> \n",
       "        <td id=\"T_bd3e6c34_c7ed_11e8_b83a_0242ac110002row8_col4\" class=\"data row8 col4\" >0</td> \n",
       "        <td id=\"T_bd3e6c34_c7ed_11e8_b83a_0242ac110002row8_col5\" class=\"data row8 col5\" >0</td> \n",
       "        <td id=\"T_bd3e6c34_c7ed_11e8_b83a_0242ac110002row8_col6\" class=\"data row8 col6\" >0</td> \n",
       "        <td id=\"T_bd3e6c34_c7ed_11e8_b83a_0242ac110002row8_col7\" class=\"data row8 col7\" >0</td> \n",
       "        <td id=\"T_bd3e6c34_c7ed_11e8_b83a_0242ac110002row8_col8\" class=\"data row8 col8\" >273</td> \n",
       "        <td id=\"T_bd3e6c34_c7ed_11e8_b83a_0242ac110002row8_col9\" class=\"data row8 col9\" >0</td> \n",
       "    </tr>    <tr> \n",
       "        <th id=\"T_bd3e6c34_c7ed_11e8_b83a_0242ac110002level0_row9\" class=\"row_heading level0 row9\" >9</th> \n",
       "        <td id=\"T_bd3e6c34_c7ed_11e8_b83a_0242ac110002row9_col0\" class=\"data row9 col0\" >0</td> \n",
       "        <td id=\"T_bd3e6c34_c7ed_11e8_b83a_0242ac110002row9_col1\" class=\"data row9 col1\" >0</td> \n",
       "        <td id=\"T_bd3e6c34_c7ed_11e8_b83a_0242ac110002row9_col2\" class=\"data row9 col2\" >0</td> \n",
       "        <td id=\"T_bd3e6c34_c7ed_11e8_b83a_0242ac110002row9_col3\" class=\"data row9 col3\" >0</td> \n",
       "        <td id=\"T_bd3e6c34_c7ed_11e8_b83a_0242ac110002row9_col4\" class=\"data row9 col4\" >0</td> \n",
       "        <td id=\"T_bd3e6c34_c7ed_11e8_b83a_0242ac110002row9_col5\" class=\"data row9 col5\" >0</td> \n",
       "        <td id=\"T_bd3e6c34_c7ed_11e8_b83a_0242ac110002row9_col6\" class=\"data row9 col6\" >0</td> \n",
       "        <td id=\"T_bd3e6c34_c7ed_11e8_b83a_0242ac110002row9_col7\" class=\"data row9 col7\" >0</td> \n",
       "        <td id=\"T_bd3e6c34_c7ed_11e8_b83a_0242ac110002row9_col8\" class=\"data row9 col8\" >0</td> \n",
       "        <td id=\"T_bd3e6c34_c7ed_11e8_b83a_0242ac110002row9_col9\" class=\"data row9 col9\" >281</td> \n",
       "    </tr></tbody> \n",
       "</table> "
      ],
      "text/plain": [
       "<pandas.io.formats.style.Styler at 0x7f8233236ba8>"
      ]
     },
     "execution_count": 44,
     "metadata": {},
     "output_type": "execute_result"
    }
   ],
   "source": [
    "pd.DataFrame(dict(pred=inf_y_pred, true=inf_y)).groupby(['pred', 'true']).size().unstack().fillna(0)\\\n",
    "    .style.background_gradient(high=.7)"
   ]
  },
  {
   "cell_type": "markdown",
   "metadata": {},
   "source": [
    "#### Show Misclassified Instances (if any)"
   ]
  },
  {
   "cell_type": "code",
   "execution_count": 45,
   "metadata": {},
   "outputs": [],
   "source": [
    "misclassified = np.argwhere(inf_y_pred != inf_y).ravel()"
   ]
  },
  {
   "cell_type": "code",
   "execution_count": 46,
   "metadata": {},
   "outputs": [
    {
     "data": {
      "text/plain": [
       "1"
      ]
     },
     "execution_count": 46,
     "metadata": {},
     "output_type": "execute_result"
    }
   ],
   "source": [
    "len(misclassified)"
   ]
  },
  {
   "cell_type": "code",
   "execution_count": 47,
   "metadata": {},
   "outputs": [
    {
     "data": {
      "text/plain": [
       "array([6988])"
      ]
     },
     "execution_count": 47,
     "metadata": {},
     "output_type": "execute_result"
    }
   ],
   "source": [
    "misclassified"
   ]
  },
  {
   "cell_type": "code",
   "execution_count": 48,
   "metadata": {},
   "outputs": [
    {
     "data": {
      "image/png": "[encoded data removed]",
      "text/plain": [
       "<Figure size 288x288 with 1 Axes>"
      ]
     },
     "metadata": {},
     "output_type": "display_data"
    }
   ],
   "source": [
    "#n_samp = 10\n",
    "#indexes = pd.Series(list(range(len(pred_y_class)))).sample(n_samp)\n",
    "\n",
    "n_samp = len(misclassified)\n",
    "indexes = misclassified\n",
    "\n",
    "fig, ax = plt.subplots(n_samp, 1)\n",
    "if n_samp == 1:\n",
    "    ax = [ax]\n",
    "fig.set_size_inches(4, n_samp * 4)\n",
    "for i, idx in enumerate(indexes):\n",
    "    ax[i].imshow(inf_x[idx])\n",
    "    ax[i].set_title('Pred: {} - True: {} (idx {})'.format(inf_y_pred[idx], inf_y[idx], idx))"
   ]
  },
  {
   "cell_type": "code",
   "execution_count": 68,
   "metadata": {},
   "outputs": [
    {
     "data": {
      "text/plain": [
       "'/lab/data/celldom/dataset/training/digit/r0.6/manual/single/pt3/chip_01-9afff6da4531832f02d8bd6b3e33a9d1-4-st-0-0.png'"
      ]
     },
     "execution_count": 68,
     "metadata": {},
     "output_type": "execute_result"
    }
   ],
   "source": [
    "# Use the \"idx\" above to get the file the example came from\n",
    "df.iloc[idx_train[5931]]['file']"
   ]
  },
  {
   "cell_type": "code",
   "execution_count": 49,
   "metadata": {},
   "outputs": [
    {
     "data": {
      "text/plain": [
       "'/lab/data/celldom/model/r0.7/digit_model/single_digit_model.h5'"
      ]
     },
     "execution_count": 49,
     "metadata": {},
     "output_type": "execute_result"
    }
   ],
   "source": [
    "MODEL_PATH"
   ]
  },
  {
   "cell_type": "code",
   "execution_count": 53,
   "metadata": {},
   "outputs": [],
   "source": [
    "# Overwrite model in cache to avoid needing to redownload from google storage\n",
    "!cp /lab/data/celldom/model/r0.6/digit_model/single_digit_model.h5 /lab/data/celldom/.celldom/cache/models/single_digit_model.h5"
   ]
  },
  {
   "cell_type": "code",
   "execution_count": null,
   "metadata": {},
   "outputs": [],
   "source": [
    "# Upload to GS\n",
    "# gsutil cp /data/disk2/celldom/model/r0.7/digit_model/single_digit_model.h5 gs://celldom/models/r0.7/single_digit_model.h5"
   ]
  }
 ],
 "metadata": {
  "kernelspec": {
   "display_name": "Python 3",
   "language": "python",
   "name": "python3"
  },
  "language_info": {
   "codemirror_mode": {
    "name": "ipython",
    "version": 3
   },
   "file_extension": ".py",
   "mimetype": "text/x-python",
   "name": "python",
   "nbconvert_exporter": "python",
   "pygments_lexer": "ipython3",
   "version": "3.5.2"
  }
 },
 "nbformat": 4,
 "nbformat_minor": 2
}
