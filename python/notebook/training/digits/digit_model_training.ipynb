{
 "cells": [
  {
   "cell_type": "code",
   "execution_count": 1,
   "metadata": {},
   "outputs": [
    {
     "name": "stderr",
     "output_type": "stream",
     "text": [
      "/usr/local/lib/python3.5/dist-packages/h5py/__init__.py:36: FutureWarning: Conversion of the second argument of issubdtype from `float` to `np.floating` is deprecated. In future, it will be treated as `np.float64 == np.dtype(float).type`.\n",
      "  from ._conv import register_converters as _register_converters\n",
      "Using TensorFlow backend.\n"
     ]
    },
    {
     "data": {
      "text/plain": [
       "('/lab/data/celldom/dataset/dataset03/DigitTraining/single',\n",
       " '/lab/data/celldom/model/r0.2/digit_model/head')"
      ]
     },
     "execution_count": 1,
     "metadata": {},
     "output_type": "execute_result"
    }
   ],
   "source": [
    "import os\n",
    "import re\n",
    "import glob\n",
    "import os.path as osp\n",
    "import pandas as pd\n",
    "import numpy as np\n",
    "import matplotlib.pyplot as plt\n",
    "from skimage import io as sk_io\n",
    "from skimage.transform import resize\n",
    "from skimage.color import gray2rgb\n",
    "from skimage.exposure import rescale_intensity\n",
    "from cvutils.mrcnn.session import init_keras_session\n",
    "from celldom import seed\n",
    "import keras\n",
    "from keras.preprocessing import image\n",
    "\n",
    "init_keras_session()\n",
    "\n",
    "DATA_DIR = osp.join(os.environ['CELLDOM_DATA_DIR'], 'dataset', 'dataset03', 'DigitTraining', 'single')\n",
    "MODEL_DIR = osp.join(os.environ['CELLDOM_DATA_DIR'], 'model', 'r0.2', 'digit_model', 'head')\n",
    "model_path = osp.join(MODEL_DIR, 'single_digit_model.h5')\n",
    "\n",
    "MODEL_DIR_TUNE = osp.join(os.environ['CELLDOM_DATA_DIR'], 'model', 'r0.2', 'digit_model', 'tune')\n",
    "model_path_tune = osp.join(MODEL_DIR_TUNE, 'single_digit_model.h5')\n",
    "\n",
    "DATA_DIR, MODEL_DIR"
   ]
  },
  {
   "cell_type": "code",
   "execution_count": 2,
   "metadata": {},
   "outputs": [
    {
     "name": "stdout",
     "output_type": "stream",
     "text": [
      "BF_ST_000_APT_000Day0-APT-0-0.jpeg\n",
      "ls: write error: Broken pipe\n"
     ]
    }
   ],
   "source": [
    "!ls $DATA_DIR | head -n 1"
   ]
  },
  {
   "cell_type": "code",
   "execution_count": 3,
   "metadata": {},
   "outputs": [],
   "source": [
    "def get_actual_digit(file):\n",
    "    return osp.basename(file).replace('.jpeg', '').split('-')[-1]\n",
    "\n",
    "def load_images():\n",
    "    res = []\n",
    "    for f in glob.glob(osp.join(DATA_DIR, '*.jpeg')):\n",
    "        digit = get_actual_digit(f)\n",
    "        img = sk_io.imread(osp.join(DATA_DIR, f))\n",
    "        res.append((digit, img))\n",
    "    res = pd.DataFrame(res, columns=['digit', 'img'])\n",
    "    res['digit'] = res['digit'].astype(int)\n",
    "    return res"
   ]
  },
  {
   "cell_type": "code",
   "execution_count": 4,
   "metadata": {},
   "outputs": [],
   "source": [
    "df = load_images()"
   ]
  },
  {
   "cell_type": "code",
   "execution_count": 5,
   "metadata": {},
   "outputs": [
    {
     "data": {
      "text/plain": [
       "2372"
      ]
     },
     "execution_count": 5,
     "metadata": {},
     "output_type": "execute_result"
    }
   ],
   "source": [
    "len(df)"
   ]
  },
  {
   "cell_type": "code",
   "execution_count": 6,
   "metadata": {},
   "outputs": [
    {
     "data": {
      "text/plain": [
       "0    1126\n",
       "1     391\n",
       "2     130\n",
       "4     116\n",
       "3     112\n",
       "6     112\n",
       "8     107\n",
       "9      97\n",
       "7      94\n",
       "5      87\n",
       "Name: digit, dtype: int64"
      ]
     },
     "execution_count": 6,
     "metadata": {},
     "output_type": "execute_result"
    }
   ],
   "source": [
    "df['digit'].value_counts()"
   ]
  },
  {
   "cell_type": "code",
   "execution_count": 7,
   "metadata": {},
   "outputs": [
    {
     "data": {
      "text/plain": [
       "uint8    2372\n",
       "Name: img, dtype: int64"
      ]
     },
     "execution_count": 7,
     "metadata": {},
     "output_type": "execute_result"
    }
   ],
   "source": [
    "dtypes = df['img'].apply(lambda v: v.dtype)\n",
    "assert np.all(dtypes == np.uint8)\n",
    "dtypes.value_counts()"
   ]
  },
  {
   "cell_type": "code",
   "execution_count": 8,
   "metadata": {},
   "outputs": [
    {
     "data": {
      "text/html": [
       "<div>\n",
       "<style scoped>\n",
       "    .dataframe tbody tr th:only-of-type {\n",
       "        vertical-align: middle;\n",
       "    }\n",
       "\n",
       "    .dataframe tbody tr th {\n",
       "        vertical-align: top;\n",
       "    }\n",
       "\n",
       "    .dataframe thead th {\n",
       "        text-align: right;\n",
       "    }\n",
       "</style>\n",
       "<table border=\"1\" class=\"dataframe\">\n",
       "  <thead>\n",
       "    <tr style=\"text-align: right;\">\n",
       "      <th></th>\n",
       "      <th>0</th>\n",
       "      <th>1</th>\n",
       "    </tr>\n",
       "  </thead>\n",
       "  <tbody>\n",
       "    <tr>\n",
       "      <th>count</th>\n",
       "      <td>2372.000000</td>\n",
       "      <td>2372.000000</td>\n",
       "    </tr>\n",
       "    <tr>\n",
       "      <th>mean</th>\n",
       "      <td>53.712479</td>\n",
       "      <td>38.337690</td>\n",
       "    </tr>\n",
       "    <tr>\n",
       "      <th>std</th>\n",
       "      <td>3.704381</td>\n",
       "      <td>5.382952</td>\n",
       "    </tr>\n",
       "    <tr>\n",
       "      <th>min</th>\n",
       "      <td>31.000000</td>\n",
       "      <td>17.000000</td>\n",
       "    </tr>\n",
       "    <tr>\n",
       "      <th>25%</th>\n",
       "      <td>53.000000</td>\n",
       "      <td>35.000000</td>\n",
       "    </tr>\n",
       "    <tr>\n",
       "      <th>50%</th>\n",
       "      <td>55.000000</td>\n",
       "      <td>41.000000</td>\n",
       "    </tr>\n",
       "    <tr>\n",
       "      <th>75%</th>\n",
       "      <td>56.000000</td>\n",
       "      <td>42.000000</td>\n",
       "    </tr>\n",
       "    <tr>\n",
       "      <th>max</th>\n",
       "      <td>58.000000</td>\n",
       "      <td>49.000000</td>\n",
       "    </tr>\n",
       "  </tbody>\n",
       "</table>\n",
       "</div>"
      ],
      "text/plain": [
       "                 0            1\n",
       "count  2372.000000  2372.000000\n",
       "mean     53.712479    38.337690\n",
       "std       3.704381     5.382952\n",
       "min      31.000000    17.000000\n",
       "25%      53.000000    35.000000\n",
       "50%      55.000000    41.000000\n",
       "75%      56.000000    42.000000\n",
       "max      58.000000    49.000000"
      ]
     },
     "execution_count": 8,
     "metadata": {},
     "output_type": "execute_result"
    }
   ],
   "source": [
    "pd.DataFrame([r['img'].shape for _, r in df.iterrows()]).describe()"
   ]
  },
  {
   "cell_type": "code",
   "execution_count": 9,
   "metadata": {},
   "outputs": [
    {
     "data": {
      "text/plain": [
       "(1589, 783)"
      ]
     },
     "execution_count": 9,
     "metadata": {},
     "output_type": "execute_result"
    }
   ],
   "source": [
    "from sklearn.model_selection import train_test_split\n",
    "idx = np.arange(len(df))\n",
    "idx_train, idx_test = train_test_split(idx, test_size=.33, random_state=seed, stratify=df['digit'])\n",
    "df_train, df_test = df.iloc[idx_train], df.iloc[idx_test]\n",
    "len(df_train), len(df_test)"
   ]
  },
  {
   "cell_type": "code",
   "execution_count": 10,
   "metadata": {},
   "outputs": [
    {
     "data": {
      "text/html": [
       "<div>\n",
       "<style scoped>\n",
       "    .dataframe tbody tr th:only-of-type {\n",
       "        vertical-align: middle;\n",
       "    }\n",
       "\n",
       "    .dataframe tbody tr th {\n",
       "        vertical-align: top;\n",
       "    }\n",
       "\n",
       "    .dataframe thead th {\n",
       "        text-align: right;\n",
       "    }\n",
       "</style>\n",
       "<table border=\"1\" class=\"dataframe\">\n",
       "  <thead>\n",
       "    <tr style=\"text-align: right;\">\n",
       "      <th></th>\n",
       "      <th>digit</th>\n",
       "      <th>digit</th>\n",
       "    </tr>\n",
       "  </thead>\n",
       "  <tbody>\n",
       "    <tr>\n",
       "      <th>0</th>\n",
       "      <td>0.474512</td>\n",
       "      <td>0.475096</td>\n",
       "    </tr>\n",
       "    <tr>\n",
       "      <th>1</th>\n",
       "      <td>0.164884</td>\n",
       "      <td>0.164751</td>\n",
       "    </tr>\n",
       "    <tr>\n",
       "      <th>2</th>\n",
       "      <td>0.054751</td>\n",
       "      <td>0.054917</td>\n",
       "    </tr>\n",
       "    <tr>\n",
       "      <th>4</th>\n",
       "      <td>0.049087</td>\n",
       "      <td>0.048531</td>\n",
       "    </tr>\n",
       "    <tr>\n",
       "      <th>6</th>\n",
       "      <td>0.047199</td>\n",
       "      <td>0.047254</td>\n",
       "    </tr>\n",
       "    <tr>\n",
       "      <th>3</th>\n",
       "      <td>0.047199</td>\n",
       "      <td>0.047254</td>\n",
       "    </tr>\n",
       "    <tr>\n",
       "      <th>8</th>\n",
       "      <td>0.045312</td>\n",
       "      <td>0.044700</td>\n",
       "    </tr>\n",
       "    <tr>\n",
       "      <th>9</th>\n",
       "      <td>0.040906</td>\n",
       "      <td>0.040868</td>\n",
       "    </tr>\n",
       "    <tr>\n",
       "      <th>7</th>\n",
       "      <td>0.039648</td>\n",
       "      <td>0.039591</td>\n",
       "    </tr>\n",
       "    <tr>\n",
       "      <th>5</th>\n",
       "      <td>0.036501</td>\n",
       "      <td>0.037037</td>\n",
       "    </tr>\n",
       "  </tbody>\n",
       "</table>\n",
       "</div>"
      ],
      "text/plain": [
       "      digit     digit\n",
       "0  0.474512  0.475096\n",
       "1  0.164884  0.164751\n",
       "2  0.054751  0.054917\n",
       "4  0.049087  0.048531\n",
       "6  0.047199  0.047254\n",
       "3  0.047199  0.047254\n",
       "8  0.045312  0.044700\n",
       "9  0.040906  0.040868\n",
       "7  0.039648  0.039591\n",
       "5  0.036501  0.037037"
      ]
     },
     "execution_count": 10,
     "metadata": {},
     "output_type": "execute_result"
    }
   ],
   "source": [
    "pd.concat([df_train['digit'].value_counts(normalize=True), df_test['digit'].value_counts(normalize=True)], axis=1)"
   ]
  },
  {
   "cell_type": "markdown",
   "metadata": {},
   "source": [
    "## Training"
   ]
  },
  {
   "cell_type": "code",
   "execution_count": 11,
   "metadata": {},
   "outputs": [],
   "source": [
    "%run utils.py"
   ]
  },
  {
   "cell_type": "code",
   "execution_count": 12,
   "metadata": {},
   "outputs": [],
   "source": [
    "target_shape = (32, 32)"
   ]
  },
  {
   "cell_type": "code",
   "execution_count": 13,
   "metadata": {},
   "outputs": [],
   "source": [
    "model = get_digit_model(input_shape=target_shape + (3,), mode='head')\n",
    "    \n",
    "model.compile(\n",
    "    loss=keras.losses.categorical_crossentropy,\n",
    "    optimizer=keras.optimizers.RMSprop(lr=.001),\n",
    "    metrics=['accuracy']\n",
    ")"
   ]
  },
  {
   "cell_type": "code",
   "execution_count": 14,
   "metadata": {},
   "outputs": [],
   "source": [
    "model.load_weights('/lab/repos/svhn/weights.hdf5')"
   ]
  },
  {
   "cell_type": "code",
   "execution_count": 15,
   "metadata": {},
   "outputs": [],
   "source": [
    "from imgaug import augmenters as iaa\n",
    "from skimage import img_as_ubyte, img_as_float32\n",
    "\n",
    "sometimes = lambda aug: iaa.Sometimes(.3, aug)\n",
    "seq = iaa.Sequential([\n",
    "    # Simulate out-of-focus\n",
    "    sometimes(iaa.GaussianBlur(sigma=1.5)),\n",
    "    \n",
    "    # Randomly alter scaling and simulate zooming\n",
    "    sometimes(iaa.Crop(5)),\n",
    "    \n",
    "    # Rotate up to 5 degrees\n",
    "    sometimes(iaa.Affine(rotate=3., scale={\"x\": (1., 1.5), \"y\": (1., 1.5)}, mode='reflect')),\n",
    "    \n",
    "    # Randomly alter distribution\n",
    "    sometimes(iaa.OneOf([iaa.Multiply((.8, 1.4)), iaa.Add((-25, 25))])),\n",
    "], random_order=True)\n",
    "\n",
    "def augment(img):\n",
    "    # img should be provided as float in [0, 1]\n",
    "    assert img.min() >= 0 and img.max() <= 1.\n",
    "    img = rescale_intensity(img, out_range=np.uint8).astype(np.uint8)\n",
    "    res = img_as_float32(seq.augment_image(img))\n",
    "    #print(res.shape, res.dtype, res.min(), res.max())\n",
    "    return res"
   ]
  },
  {
   "cell_type": "code",
   "execution_count": 16,
   "metadata": {},
   "outputs": [
    {
     "data": {
      "text/plain": [
       "(dtype('float32'), (1589, 32, 32, 3), (783, 32, 32, 3))"
      ]
     },
     "execution_count": 16,
     "metadata": {},
     "output_type": "execute_result"
    }
   ],
   "source": [
    "def prep_image(img):\n",
    "    # Note that gray2rgb will take care of converting from uint8 to float in 0-1\n",
    "    assert img.dtype == np.uint8\n",
    "    img = gray2rgb(resize(img, target_shape, mode='constant', anti_aliasing=True)).astype(np.float32)\n",
    "    assert np.all(img <= 1.) and np.all(img >= 0.)\n",
    "    return img\n",
    "\n",
    "train_x = np.stack([prep_image(v) for v in df_train['img']], 0)\n",
    "train_y = keras.utils.to_categorical(df_train['digit'].values, 10)\n",
    "\n",
    "test_x = np.stack([prep_image(v) for v in df_test['img']], 0)\n",
    "test_y = keras.utils.to_categorical(df_test['digit'].values, 10)\n",
    "\n",
    "# train_generator = image.ImageDataGenerator(\n",
    "#     rotation_range=5, zoom_range=.2, width_shift_range=.05,\n",
    "#     height_shift_range=.05, brightness_range=(.6, 1.)\n",
    "# )\n",
    "train_generator = image.ImageDataGenerator(preprocessing_function=augment)\n",
    "#train_batches = train_generator.flow(train_x, y=train_y, seed=seed, save_to_dir='/tmp/train_images')\n",
    "train_batches = train_generator.flow(train_x, y=train_y, seed=seed)\n",
    "\n",
    "test_generator = image.ImageDataGenerator()\n",
    "test_batches = test_generator.flow(test_x, y=test_y, seed=seed)\n",
    "\n",
    "train_x.dtype, train_x.shape, test_x.shape"
   ]
  },
  {
   "cell_type": "code",
   "execution_count": 17,
   "metadata": {},
   "outputs": [
    {
     "name": "stdout",
     "output_type": "stream",
     "text": [
      "/bin/sh: 1: rm: Argument list too long\n"
     ]
    }
   ],
   "source": [
    "# Clear everything currently in the modeling directory\n",
    "!rm $MODEL_DIR/*\n",
    "!rm /tmp/train_images/*"
   ]
  },
  {
   "cell_type": "code",
   "execution_count": 18,
   "metadata": {},
   "outputs": [
    {
     "name": "stdout",
     "output_type": "stream",
     "text": [
      "WARNING:tensorflow:From /usr/local/lib/python3.5/dist-packages/tensorflow/contrib/learn/python/learn/datasets/base.py:198: retry (from tensorflow.contrib.learn.python.learn.datasets.base) is deprecated and will be removed in a future version.\n",
      "Instructions for updating:\n",
      "Use the retry module or similar alternatives.\n",
      "Epoch 1/50\n",
      "50/50 [==============================] - 4s 84ms/step - loss: 0.3919 - acc: 0.8846 - val_loss: 0.0488 - val_acc: 0.9885\n",
      "Epoch 2/50\n",
      "50/50 [==============================] - 3s 56ms/step - loss: 0.1142 - acc: 0.9665 - val_loss: 0.0260 - val_acc: 0.9949\n",
      "Epoch 3/50\n",
      "50/50 [==============================] - 3s 65ms/step - loss: 0.0953 - acc: 0.9709 - val_loss: 0.0237 - val_acc: 0.9936\n",
      "Epoch 4/50\n",
      "50/50 [==============================] - 3s 64ms/step - loss: 0.0565 - acc: 0.9841 - val_loss: 0.0191 - val_acc: 0.9949\n",
      "Epoch 5/50\n",
      "50/50 [==============================] - 3s 57ms/step - loss: 0.0412 - acc: 0.9856 - val_loss: 0.0180 - val_acc: 0.9949\n",
      "Epoch 6/50\n",
      "50/50 [==============================] - 3s 65ms/step - loss: 0.0240 - acc: 0.9931 - val_loss: 0.0183 - val_acc: 0.9949\n",
      "Epoch 7/50\n",
      "50/50 [==============================] - 3s 68ms/step - loss: 0.0324 - acc: 0.9875 - val_loss: 0.0185 - val_acc: 0.9949\n",
      "Epoch 8/50\n",
      "50/50 [==============================] - 3s 64ms/step - loss: 0.0349 - acc: 0.9900 - val_loss: 0.0188 - val_acc: 0.9949\n",
      "Epoch 9/50\n",
      "50/50 [==============================] - 3s 64ms/step - loss: 0.0218 - acc: 0.9944 - val_loss: 0.0192 - val_acc: 0.9962\n",
      "Epoch 10/50\n",
      "50/50 [==============================] - 3s 65ms/step - loss: 0.0235 - acc: 0.9931 - val_loss: 0.0197 - val_acc: 0.9962\n",
      "Epoch 11/50\n",
      "50/50 [==============================] - 3s 68ms/step - loss: 0.0165 - acc: 0.9956 - val_loss: 0.0178 - val_acc: 0.9962\n",
      "Epoch 12/50\n",
      "50/50 [==============================] - 3s 69ms/step - loss: 0.0127 - acc: 0.9962 - val_loss: 0.0188 - val_acc: 0.9962\n",
      "Epoch 13/50\n",
      "50/50 [==============================] - 3s 66ms/step - loss: 0.0315 - acc: 0.9931 - val_loss: 0.0216 - val_acc: 0.9962\n",
      "Epoch 14/50\n",
      "50/50 [==============================] - 3s 62ms/step - loss: 0.0262 - acc: 0.9941 - val_loss: 0.0195 - val_acc: 0.9962\n",
      "Epoch 15/50\n",
      "50/50 [==============================] - 3s 66ms/step - loss: 0.0120 - acc: 0.9975 - val_loss: 0.0222 - val_acc: 0.9962\n",
      "Epoch 16/50\n",
      "50/50 [==============================] - 3s 64ms/step - loss: 0.0122 - acc: 0.9962 - val_loss: 0.0235 - val_acc: 0.9962\n",
      "Epoch 17/50\n",
      "50/50 [==============================] - 3s 65ms/step - loss: 0.0054 - acc: 0.9981 - val_loss: 0.0224 - val_acc: 0.9962\n",
      "Epoch 18/50\n",
      "50/50 [==============================] - 3s 65ms/step - loss: 0.0229 - acc: 0.9944 - val_loss: 0.0201 - val_acc: 0.9962\n",
      "Epoch 19/50\n",
      "50/50 [==============================] - 3s 67ms/step - loss: 0.0062 - acc: 0.9975 - val_loss: 0.0164 - val_acc: 0.9962\n"
     ]
    },
    {
     "data": {
      "text/plain": [
       "<keras.callbacks.History at 0x7f91cc6f1a58>"
      ]
     },
     "execution_count": 18,
     "metadata": {},
     "output_type": "execute_result"
    }
   ],
   "source": [
    "save_model = keras.callbacks.ModelCheckpoint(model_path, monitor='val_acc', mode='max', verbose=0,\n",
    "                                             save_best_only=True, save_weights_only=False, period=1)\n",
    "early_stopping = keras.callbacks.EarlyStopping(monitor='val_acc', min_delta=0, patience=10, verbose=0, mode='max')\n",
    "tensorboard = keras.callbacks.TensorBoard(log_dir=MODEL_DIR)\n",
    "callbacks = [save_model, early_stopping, tensorboard]\n",
    "#callbacks = [save_model, tensorboard]\n",
    "\n",
    "model.fit_generator(\n",
    "    train_batches, \n",
    "    epochs=50,\n",
    "    callbacks=callbacks,\n",
    "    validation_data=test_batches\n",
    ")"
   ]
  },
  {
   "cell_type": "code",
   "execution_count": 51,
   "metadata": {},
   "outputs": [
    {
     "data": {
      "image/png": "[encoded data removed]",
      "text/plain": [
       "<Figure size 288x2160 with 15 Axes>"
      ]
     },
     "metadata": {},
     "output_type": "display_data"
    }
   ],
   "source": [
    "tfiles = os.listdir('/tmp/train_images')\n",
    "np.random.shuffle(tfiles)\n",
    "fig, ax = plt.subplots(15, 1)\n",
    "fig.set_size_inches(4, 15*2)\n",
    "for i in range(15):\n",
    "    ax[i].imshow(sk_io.imread('/tmp/train_images/' + tfiles[i]))\n",
    "    "
   ]
  },
  {
   "cell_type": "code",
   "execution_count": 19,
   "metadata": {},
   "outputs": [
    {
     "name": "stdout",
     "output_type": "stream",
     "text": [
      "Epoch 1/30\n",
      "50/50 [==============================] - 3s 67ms/step - loss: 0.0167 - acc: 0.9937 - val_loss: 0.0198 - val_acc: 0.9962\n",
      "\n",
      "Epoch 00001: val_acc improved from -inf to 0.99617, saving model to /lab/data/celldom/model/r0.2/digit_model/tune/single_digit_model.h5\n",
      "Epoch 2/30\n",
      "50/50 [==============================] - 3s 53ms/step - loss: 0.0132 - acc: 0.9956 - val_loss: 0.0228 - val_acc: 0.9962\n",
      "\n",
      "Epoch 00002: val_acc did not improve from 0.99617\n",
      "Epoch 3/30\n",
      "50/50 [==============================] - 3s 65ms/step - loss: 0.0137 - acc: 0.9969 - val_loss: 0.0238 - val_acc: 0.9974\n",
      "\n",
      "Epoch 00003: val_acc improved from 0.99617 to 0.99745, saving model to /lab/data/celldom/model/r0.2/digit_model/tune/single_digit_model.h5\n",
      "Epoch 4/30\n",
      "50/50 [==============================] - 3s 63ms/step - loss: 0.0135 - acc: 0.9987 - val_loss: 0.0236 - val_acc: 0.9974\n",
      "\n",
      "Epoch 00004: val_acc did not improve from 0.99745\n",
      "Epoch 5/30\n",
      "50/50 [==============================] - 3s 69ms/step - loss: 0.0062 - acc: 0.9975 - val_loss: 0.0231 - val_acc: 0.9974\n",
      "\n",
      "Epoch 00005: val_acc did not improve from 0.99745\n",
      "Epoch 6/30\n",
      "50/50 [==============================] - 3s 65ms/step - loss: 0.0059 - acc: 0.9981 - val_loss: 0.0166 - val_acc: 0.9974\n",
      "\n",
      "Epoch 00006: val_acc did not improve from 0.99745\n",
      "Epoch 7/30\n",
      "50/50 [==============================] - 3s 65ms/step - loss: 0.0029 - acc: 0.9994 - val_loss: 0.0174 - val_acc: 0.9987\n",
      "\n",
      "Epoch 00007: val_acc improved from 0.99745 to 0.99872, saving model to /lab/data/celldom/model/r0.2/digit_model/tune/single_digit_model.h5\n",
      "Epoch 8/30\n",
      "50/50 [==============================] - 4s 72ms/step - loss: 3.6079e-04 - acc: 1.0000 - val_loss: 0.0202 - val_acc: 0.9974\n",
      "\n",
      "Epoch 00008: val_acc did not improve from 0.99872\n",
      "Epoch 9/30\n",
      "50/50 [==============================] - 3s 64ms/step - loss: 0.0079 - acc: 0.9981 - val_loss: 0.0187 - val_acc: 0.9987\n",
      "\n",
      "Epoch 00009: val_acc did not improve from 0.99872\n",
      "Epoch 10/30\n",
      "50/50 [==============================] - 3s 68ms/step - loss: 0.0023 - acc: 0.9987 - val_loss: 0.0198 - val_acc: 0.9987\n",
      "\n",
      "Epoch 00010: val_acc did not improve from 0.99872\n",
      "Epoch 11/30\n",
      "50/50 [==============================] - 3s 64ms/step - loss: 2.9501e-04 - acc: 1.0000 - val_loss: 0.0221 - val_acc: 0.9974\n",
      "\n",
      "Epoch 00011: val_acc did not improve from 0.99872\n",
      "Epoch 12/30\n",
      "50/50 [==============================] - 3s 64ms/step - loss: 0.0030 - acc: 0.9987 - val_loss: 0.0224 - val_acc: 0.9974\n",
      "\n",
      "Epoch 00012: val_acc did not improve from 0.99872\n",
      "Epoch 13/30\n",
      "50/50 [==============================] - 3s 67ms/step - loss: 0.0235 - acc: 0.9975 - val_loss: 0.0211 - val_acc: 0.9987\n",
      "\n",
      "Epoch 00013: val_acc did not improve from 0.99872\n",
      "Epoch 14/30\n",
      "50/50 [==============================] - 3s 70ms/step - loss: 0.0045 - acc: 0.9994 - val_loss: 0.0216 - val_acc: 0.9987\n",
      "\n",
      "Epoch 00014: val_acc did not improve from 0.99872\n",
      "Epoch 15/30\n",
      "50/50 [==============================] - 3s 62ms/step - loss: 0.0017 - acc: 0.9994 - val_loss: 0.0212 - val_acc: 0.9987\n",
      "\n",
      "Epoch 00015: val_acc did not improve from 0.99872\n",
      "Epoch 16/30\n",
      "50/50 [==============================] - 3s 65ms/step - loss: 0.0040 - acc: 0.9987 - val_loss: 0.0183 - val_acc: 0.9987\n",
      "\n",
      "Epoch 00016: val_acc did not improve from 0.99872\n",
      "Epoch 17/30\n",
      "50/50 [==============================] - 3s 64ms/step - loss: 1.2186e-05 - acc: 1.0000 - val_loss: 0.0221 - val_acc: 0.9974\n",
      "\n",
      "Epoch 00017: val_acc did not improve from 0.99872\n"
     ]
    },
    {
     "data": {
      "text/plain": [
       "<keras.callbacks.History at 0x7f90a1f34b00>"
      ]
     },
     "execution_count": 19,
     "metadata": {},
     "output_type": "execute_result"
    }
   ],
   "source": [
    "# Fine-tuning\n",
    "!rm $MODEL_DIR_TUNE/*\n",
    "\n",
    "model = get_digit_model(input_shape=target_shape + (3,), mode='tune')\n",
    "model.load_weights(model_path)\n",
    "model.compile(\n",
    "    loss=keras.losses.categorical_crossentropy,\n",
    "    optimizer=keras.optimizers.RMSprop(lr=.001),\n",
    "    metrics=['accuracy']\n",
    ")\n",
    "\n",
    "save_model = keras.callbacks.ModelCheckpoint(model_path_tune, monitor='val_acc', mode='max', verbose=1,\n",
    "                                             save_best_only=True, save_weights_only=False, period=1)\n",
    "early_stopping = keras.callbacks.EarlyStopping(monitor='val_acc', min_delta=0, patience=10, verbose=0, mode='max')\n",
    "tensorboard = keras.callbacks.TensorBoard(log_dir=MODEL_DIR_TUNE)\n",
    "callbacks = [save_model, early_stopping, tensorboard]\n",
    "model.fit_generator(\n",
    "    train_batches, \n",
    "    epochs=30,\n",
    "    callbacks=callbacks,\n",
    "    validation_data=test_batches\n",
    ")"
   ]
  },
  {
   "cell_type": "markdown",
   "metadata": {},
   "source": [
    "## Inference"
   ]
  },
  {
   "cell_type": "code",
   "execution_count": 20,
   "metadata": {},
   "outputs": [],
   "source": [
    "model = keras.models.load_model(model_path_tune)"
   ]
  },
  {
   "cell_type": "code",
   "execution_count": 21,
   "metadata": {},
   "outputs": [
    {
     "data": {
      "text/plain": [
       "((783, 32, 32, 3), (783,))"
      ]
     },
     "execution_count": 21,
     "metadata": {},
     "output_type": "execute_result"
    }
   ],
   "source": [
    "inf_x, inf_y = test_x, test_y\n",
    "inf_y = np.argmax(inf_y, axis=1)\n",
    "inf_x.shape, inf_y.shape"
   ]
  },
  {
   "cell_type": "code",
   "execution_count": 22,
   "metadata": {},
   "outputs": [
    {
     "data": {
      "text/plain": [
       "(783,)"
      ]
     },
     "execution_count": 22,
     "metadata": {},
     "output_type": "execute_result"
    }
   ],
   "source": [
    "inf_y_pred = model.predict_classes(inf_x)\n",
    "inf_y_pred.shape"
   ]
  },
  {
   "cell_type": "code",
   "execution_count": 23,
   "metadata": {},
   "outputs": [
    {
     "data": {
      "text/plain": [
       "0.9987228607918263"
      ]
     },
     "execution_count": 23,
     "metadata": {},
     "output_type": "execute_result"
    }
   ],
   "source": [
    "# Overall accuracy\n",
    "(inf_y_pred == inf_y).mean()"
   ]
  },
  {
   "cell_type": "code",
   "execution_count": 24,
   "metadata": {},
   "outputs": [
    {
     "data": {
      "text/html": [
       "<style  type=\"text/css\" >\n",
       "    #T_8077a116_70a5_11e8_8a0b_0242ac110002row0_col0 {\n",
       "            background-color:  #4897c4;\n",
       "        }    #T_8077a116_70a5_11e8_8a0b_0242ac110002row0_col1 {\n",
       "            background-color:  #fff7fb;\n",
       "        }    #T_8077a116_70a5_11e8_8a0b_0242ac110002row0_col2 {\n",
       "            background-color:  #fff7fb;\n",
       "        }    #T_8077a116_70a5_11e8_8a0b_0242ac110002row0_col3 {\n",
       "            background-color:  #fff7fb;\n",
       "        }    #T_8077a116_70a5_11e8_8a0b_0242ac110002row0_col4 {\n",
       "            background-color:  #fff7fb;\n",
       "        }    #T_8077a116_70a5_11e8_8a0b_0242ac110002row0_col5 {\n",
       "            background-color:  #fff7fb;\n",
       "        }    #T_8077a116_70a5_11e8_8a0b_0242ac110002row0_col6 {\n",
       "            background-color:  #fff7fb;\n",
       "        }    #T_8077a116_70a5_11e8_8a0b_0242ac110002row0_col7 {\n",
       "            background-color:  #fff7fb;\n",
       "        }    #T_8077a116_70a5_11e8_8a0b_0242ac110002row0_col8 {\n",
       "            background-color:  #fff7fb;\n",
       "        }    #T_8077a116_70a5_11e8_8a0b_0242ac110002row0_col9 {\n",
       "            background-color:  #fff7fb;\n",
       "        }    #T_8077a116_70a5_11e8_8a0b_0242ac110002row1_col0 {\n",
       "            background-color:  #fff7fb;\n",
       "        }    #T_8077a116_70a5_11e8_8a0b_0242ac110002row1_col1 {\n",
       "            background-color:  #4897c4;\n",
       "        }    #T_8077a116_70a5_11e8_8a0b_0242ac110002row1_col2 {\n",
       "            background-color:  #fff7fb;\n",
       "        }    #T_8077a116_70a5_11e8_8a0b_0242ac110002row1_col3 {\n",
       "            background-color:  #fff7fb;\n",
       "        }    #T_8077a116_70a5_11e8_8a0b_0242ac110002row1_col4 {\n",
       "            background-color:  #fff7fb;\n",
       "        }    #T_8077a116_70a5_11e8_8a0b_0242ac110002row1_col5 {\n",
       "            background-color:  #fff7fb;\n",
       "        }    #T_8077a116_70a5_11e8_8a0b_0242ac110002row1_col6 {\n",
       "            background-color:  #fff7fb;\n",
       "        }    #T_8077a116_70a5_11e8_8a0b_0242ac110002row1_col7 {\n",
       "            background-color:  #fff7fb;\n",
       "        }    #T_8077a116_70a5_11e8_8a0b_0242ac110002row1_col8 {\n",
       "            background-color:  #fff7fb;\n",
       "        }    #T_8077a116_70a5_11e8_8a0b_0242ac110002row1_col9 {\n",
       "            background-color:  #fff7fb;\n",
       "        }    #T_8077a116_70a5_11e8_8a0b_0242ac110002row2_col0 {\n",
       "            background-color:  #fff7fb;\n",
       "        }    #T_8077a116_70a5_11e8_8a0b_0242ac110002row2_col1 {\n",
       "            background-color:  #fff7fb;\n",
       "        }    #T_8077a116_70a5_11e8_8a0b_0242ac110002row2_col2 {\n",
       "            background-color:  #4897c4;\n",
       "        }    #T_8077a116_70a5_11e8_8a0b_0242ac110002row2_col3 {\n",
       "            background-color:  #fff7fb;\n",
       "        }    #T_8077a116_70a5_11e8_8a0b_0242ac110002row2_col4 {\n",
       "            background-color:  #fff7fb;\n",
       "        }    #T_8077a116_70a5_11e8_8a0b_0242ac110002row2_col5 {\n",
       "            background-color:  #fff7fb;\n",
       "        }    #T_8077a116_70a5_11e8_8a0b_0242ac110002row2_col6 {\n",
       "            background-color:  #fff7fb;\n",
       "        }    #T_8077a116_70a5_11e8_8a0b_0242ac110002row2_col7 {\n",
       "            background-color:  #fff7fb;\n",
       "        }    #T_8077a116_70a5_11e8_8a0b_0242ac110002row2_col8 {\n",
       "            background-color:  #fff7fb;\n",
       "        }    #T_8077a116_70a5_11e8_8a0b_0242ac110002row2_col9 {\n",
       "            background-color:  #fff7fb;\n",
       "        }    #T_8077a116_70a5_11e8_8a0b_0242ac110002row3_col0 {\n",
       "            background-color:  #fff7fb;\n",
       "        }    #T_8077a116_70a5_11e8_8a0b_0242ac110002row3_col1 {\n",
       "            background-color:  #fff7fb;\n",
       "        }    #T_8077a116_70a5_11e8_8a0b_0242ac110002row3_col2 {\n",
       "            background-color:  #fff7fb;\n",
       "        }    #T_8077a116_70a5_11e8_8a0b_0242ac110002row3_col3 {\n",
       "            background-color:  #4897c4;\n",
       "        }    #T_8077a116_70a5_11e8_8a0b_0242ac110002row3_col4 {\n",
       "            background-color:  #fff7fb;\n",
       "        }    #T_8077a116_70a5_11e8_8a0b_0242ac110002row3_col5 {\n",
       "            background-color:  #fff7fb;\n",
       "        }    #T_8077a116_70a5_11e8_8a0b_0242ac110002row3_col6 {\n",
       "            background-color:  #fff7fb;\n",
       "        }    #T_8077a116_70a5_11e8_8a0b_0242ac110002row3_col7 {\n",
       "            background-color:  #fff7fb;\n",
       "        }    #T_8077a116_70a5_11e8_8a0b_0242ac110002row3_col8 {\n",
       "            background-color:  #fff7fb;\n",
       "        }    #T_8077a116_70a5_11e8_8a0b_0242ac110002row3_col9 {\n",
       "            background-color:  #fff7fb;\n",
       "        }    #T_8077a116_70a5_11e8_8a0b_0242ac110002row4_col0 {\n",
       "            background-color:  #fff7fb;\n",
       "        }    #T_8077a116_70a5_11e8_8a0b_0242ac110002row4_col1 {\n",
       "            background-color:  #fff7fb;\n",
       "        }    #T_8077a116_70a5_11e8_8a0b_0242ac110002row4_col2 {\n",
       "            background-color:  #fff7fb;\n",
       "        }    #T_8077a116_70a5_11e8_8a0b_0242ac110002row4_col3 {\n",
       "            background-color:  #fff7fb;\n",
       "        }    #T_8077a116_70a5_11e8_8a0b_0242ac110002row4_col4 {\n",
       "            background-color:  #4897c4;\n",
       "        }    #T_8077a116_70a5_11e8_8a0b_0242ac110002row4_col5 {\n",
       "            background-color:  #fff7fb;\n",
       "        }    #T_8077a116_70a5_11e8_8a0b_0242ac110002row4_col6 {\n",
       "            background-color:  #fff7fb;\n",
       "        }    #T_8077a116_70a5_11e8_8a0b_0242ac110002row4_col7 {\n",
       "            background-color:  #fff7fb;\n",
       "        }    #T_8077a116_70a5_11e8_8a0b_0242ac110002row4_col8 {\n",
       "            background-color:  #fff7fb;\n",
       "        }    #T_8077a116_70a5_11e8_8a0b_0242ac110002row4_col9 {\n",
       "            background-color:  #fff7fb;\n",
       "        }    #T_8077a116_70a5_11e8_8a0b_0242ac110002row5_col0 {\n",
       "            background-color:  #fff7fb;\n",
       "        }    #T_8077a116_70a5_11e8_8a0b_0242ac110002row5_col1 {\n",
       "            background-color:  #fff7fb;\n",
       "        }    #T_8077a116_70a5_11e8_8a0b_0242ac110002row5_col2 {\n",
       "            background-color:  #fdf5fa;\n",
       "        }    #T_8077a116_70a5_11e8_8a0b_0242ac110002row5_col3 {\n",
       "            background-color:  #fff7fb;\n",
       "        }    #T_8077a116_70a5_11e8_8a0b_0242ac110002row5_col4 {\n",
       "            background-color:  #fff7fb;\n",
       "        }    #T_8077a116_70a5_11e8_8a0b_0242ac110002row5_col5 {\n",
       "            background-color:  #4897c4;\n",
       "        }    #T_8077a116_70a5_11e8_8a0b_0242ac110002row5_col6 {\n",
       "            background-color:  #fff7fb;\n",
       "        }    #T_8077a116_70a5_11e8_8a0b_0242ac110002row5_col7 {\n",
       "            background-color:  #fff7fb;\n",
       "        }    #T_8077a116_70a5_11e8_8a0b_0242ac110002row5_col8 {\n",
       "            background-color:  #fff7fb;\n",
       "        }    #T_8077a116_70a5_11e8_8a0b_0242ac110002row5_col9 {\n",
       "            background-color:  #fff7fb;\n",
       "        }    #T_8077a116_70a5_11e8_8a0b_0242ac110002row6_col0 {\n",
       "            background-color:  #fff7fb;\n",
       "        }    #T_8077a116_70a5_11e8_8a0b_0242ac110002row6_col1 {\n",
       "            background-color:  #fff7fb;\n",
       "        }    #T_8077a116_70a5_11e8_8a0b_0242ac110002row6_col2 {\n",
       "            background-color:  #fff7fb;\n",
       "        }    #T_8077a116_70a5_11e8_8a0b_0242ac110002row6_col3 {\n",
       "            background-color:  #fff7fb;\n",
       "        }    #T_8077a116_70a5_11e8_8a0b_0242ac110002row6_col4 {\n",
       "            background-color:  #fff7fb;\n",
       "        }    #T_8077a116_70a5_11e8_8a0b_0242ac110002row6_col5 {\n",
       "            background-color:  #fff7fb;\n",
       "        }    #T_8077a116_70a5_11e8_8a0b_0242ac110002row6_col6 {\n",
       "            background-color:  #4897c4;\n",
       "        }    #T_8077a116_70a5_11e8_8a0b_0242ac110002row6_col7 {\n",
       "            background-color:  #fff7fb;\n",
       "        }    #T_8077a116_70a5_11e8_8a0b_0242ac110002row6_col8 {\n",
       "            background-color:  #fff7fb;\n",
       "        }    #T_8077a116_70a5_11e8_8a0b_0242ac110002row6_col9 {\n",
       "            background-color:  #fff7fb;\n",
       "        }    #T_8077a116_70a5_11e8_8a0b_0242ac110002row7_col0 {\n",
       "            background-color:  #fff7fb;\n",
       "        }    #T_8077a116_70a5_11e8_8a0b_0242ac110002row7_col1 {\n",
       "            background-color:  #fff7fb;\n",
       "        }    #T_8077a116_70a5_11e8_8a0b_0242ac110002row7_col2 {\n",
       "            background-color:  #fff7fb;\n",
       "        }    #T_8077a116_70a5_11e8_8a0b_0242ac110002row7_col3 {\n",
       "            background-color:  #fff7fb;\n",
       "        }    #T_8077a116_70a5_11e8_8a0b_0242ac110002row7_col4 {\n",
       "            background-color:  #fff7fb;\n",
       "        }    #T_8077a116_70a5_11e8_8a0b_0242ac110002row7_col5 {\n",
       "            background-color:  #fff7fb;\n",
       "        }    #T_8077a116_70a5_11e8_8a0b_0242ac110002row7_col6 {\n",
       "            background-color:  #fff7fb;\n",
       "        }    #T_8077a116_70a5_11e8_8a0b_0242ac110002row7_col7 {\n",
       "            background-color:  #4897c4;\n",
       "        }    #T_8077a116_70a5_11e8_8a0b_0242ac110002row7_col8 {\n",
       "            background-color:  #fff7fb;\n",
       "        }    #T_8077a116_70a5_11e8_8a0b_0242ac110002row7_col9 {\n",
       "            background-color:  #fff7fb;\n",
       "        }    #T_8077a116_70a5_11e8_8a0b_0242ac110002row8_col0 {\n",
       "            background-color:  #fff7fb;\n",
       "        }    #T_8077a116_70a5_11e8_8a0b_0242ac110002row8_col1 {\n",
       "            background-color:  #fff7fb;\n",
       "        }    #T_8077a116_70a5_11e8_8a0b_0242ac110002row8_col2 {\n",
       "            background-color:  #fff7fb;\n",
       "        }    #T_8077a116_70a5_11e8_8a0b_0242ac110002row8_col3 {\n",
       "            background-color:  #fff7fb;\n",
       "        }    #T_8077a116_70a5_11e8_8a0b_0242ac110002row8_col4 {\n",
       "            background-color:  #fff7fb;\n",
       "        }    #T_8077a116_70a5_11e8_8a0b_0242ac110002row8_col5 {\n",
       "            background-color:  #fff7fb;\n",
       "        }    #T_8077a116_70a5_11e8_8a0b_0242ac110002row8_col6 {\n",
       "            background-color:  #fff7fb;\n",
       "        }    #T_8077a116_70a5_11e8_8a0b_0242ac110002row8_col7 {\n",
       "            background-color:  #fff7fb;\n",
       "        }    #T_8077a116_70a5_11e8_8a0b_0242ac110002row8_col8 {\n",
       "            background-color:  #4897c4;\n",
       "        }    #T_8077a116_70a5_11e8_8a0b_0242ac110002row8_col9 {\n",
       "            background-color:  #fff7fb;\n",
       "        }    #T_8077a116_70a5_11e8_8a0b_0242ac110002row9_col0 {\n",
       "            background-color:  #fff7fb;\n",
       "        }    #T_8077a116_70a5_11e8_8a0b_0242ac110002row9_col1 {\n",
       "            background-color:  #fff7fb;\n",
       "        }    #T_8077a116_70a5_11e8_8a0b_0242ac110002row9_col2 {\n",
       "            background-color:  #fff7fb;\n",
       "        }    #T_8077a116_70a5_11e8_8a0b_0242ac110002row9_col3 {\n",
       "            background-color:  #fff7fb;\n",
       "        }    #T_8077a116_70a5_11e8_8a0b_0242ac110002row9_col4 {\n",
       "            background-color:  #fff7fb;\n",
       "        }    #T_8077a116_70a5_11e8_8a0b_0242ac110002row9_col5 {\n",
       "            background-color:  #fff7fb;\n",
       "        }    #T_8077a116_70a5_11e8_8a0b_0242ac110002row9_col6 {\n",
       "            background-color:  #fff7fb;\n",
       "        }    #T_8077a116_70a5_11e8_8a0b_0242ac110002row9_col7 {\n",
       "            background-color:  #fff7fb;\n",
       "        }    #T_8077a116_70a5_11e8_8a0b_0242ac110002row9_col8 {\n",
       "            background-color:  #fff7fb;\n",
       "        }    #T_8077a116_70a5_11e8_8a0b_0242ac110002row9_col9 {\n",
       "            background-color:  #4897c4;\n",
       "        }</style>  \n",
       "<table id=\"T_8077a116_70a5_11e8_8a0b_0242ac110002\" > \n",
       "<thead>    <tr> \n",
       "        <th class=\"index_name level0\" >true</th> \n",
       "        <th class=\"col_heading level0 col0\" >0</th> \n",
       "        <th class=\"col_heading level0 col1\" >1</th> \n",
       "        <th class=\"col_heading level0 col2\" >2</th> \n",
       "        <th class=\"col_heading level0 col3\" >3</th> \n",
       "        <th class=\"col_heading level0 col4\" >4</th> \n",
       "        <th class=\"col_heading level0 col5\" >5</th> \n",
       "        <th class=\"col_heading level0 col6\" >6</th> \n",
       "        <th class=\"col_heading level0 col7\" >7</th> \n",
       "        <th class=\"col_heading level0 col8\" >8</th> \n",
       "        <th class=\"col_heading level0 col9\" >9</th> \n",
       "    </tr>    <tr> \n",
       "        <th class=\"index_name level0\" >pred</th> \n",
       "        <th class=\"blank\" ></th> \n",
       "        <th class=\"blank\" ></th> \n",
       "        <th class=\"blank\" ></th> \n",
       "        <th class=\"blank\" ></th> \n",
       "        <th class=\"blank\" ></th> \n",
       "        <th class=\"blank\" ></th> \n",
       "        <th class=\"blank\" ></th> \n",
       "        <th class=\"blank\" ></th> \n",
       "        <th class=\"blank\" ></th> \n",
       "        <th class=\"blank\" ></th> \n",
       "    </tr></thead> \n",
       "<tbody>    <tr> \n",
       "        <th id=\"T_8077a116_70a5_11e8_8a0b_0242ac110002level0_row0\" class=\"row_heading level0 row0\" >0</th> \n",
       "        <td id=\"T_8077a116_70a5_11e8_8a0b_0242ac110002row0_col0\" class=\"data row0 col0\" >372</td> \n",
       "        <td id=\"T_8077a116_70a5_11e8_8a0b_0242ac110002row0_col1\" class=\"data row0 col1\" >0</td> \n",
       "        <td id=\"T_8077a116_70a5_11e8_8a0b_0242ac110002row0_col2\" class=\"data row0 col2\" >0</td> \n",
       "        <td id=\"T_8077a116_70a5_11e8_8a0b_0242ac110002row0_col3\" class=\"data row0 col3\" >0</td> \n",
       "        <td id=\"T_8077a116_70a5_11e8_8a0b_0242ac110002row0_col4\" class=\"data row0 col4\" >0</td> \n",
       "        <td id=\"T_8077a116_70a5_11e8_8a0b_0242ac110002row0_col5\" class=\"data row0 col5\" >0</td> \n",
       "        <td id=\"T_8077a116_70a5_11e8_8a0b_0242ac110002row0_col6\" class=\"data row0 col6\" >0</td> \n",
       "        <td id=\"T_8077a116_70a5_11e8_8a0b_0242ac110002row0_col7\" class=\"data row0 col7\" >0</td> \n",
       "        <td id=\"T_8077a116_70a5_11e8_8a0b_0242ac110002row0_col8\" class=\"data row0 col8\" >0</td> \n",
       "        <td id=\"T_8077a116_70a5_11e8_8a0b_0242ac110002row0_col9\" class=\"data row0 col9\" >0</td> \n",
       "    </tr>    <tr> \n",
       "        <th id=\"T_8077a116_70a5_11e8_8a0b_0242ac110002level0_row1\" class=\"row_heading level0 row1\" >1</th> \n",
       "        <td id=\"T_8077a116_70a5_11e8_8a0b_0242ac110002row1_col0\" class=\"data row1 col0\" >0</td> \n",
       "        <td id=\"T_8077a116_70a5_11e8_8a0b_0242ac110002row1_col1\" class=\"data row1 col1\" >129</td> \n",
       "        <td id=\"T_8077a116_70a5_11e8_8a0b_0242ac110002row1_col2\" class=\"data row1 col2\" >0</td> \n",
       "        <td id=\"T_8077a116_70a5_11e8_8a0b_0242ac110002row1_col3\" class=\"data row1 col3\" >0</td> \n",
       "        <td id=\"T_8077a116_70a5_11e8_8a0b_0242ac110002row1_col4\" class=\"data row1 col4\" >0</td> \n",
       "        <td id=\"T_8077a116_70a5_11e8_8a0b_0242ac110002row1_col5\" class=\"data row1 col5\" >0</td> \n",
       "        <td id=\"T_8077a116_70a5_11e8_8a0b_0242ac110002row1_col6\" class=\"data row1 col6\" >0</td> \n",
       "        <td id=\"T_8077a116_70a5_11e8_8a0b_0242ac110002row1_col7\" class=\"data row1 col7\" >0</td> \n",
       "        <td id=\"T_8077a116_70a5_11e8_8a0b_0242ac110002row1_col8\" class=\"data row1 col8\" >0</td> \n",
       "        <td id=\"T_8077a116_70a5_11e8_8a0b_0242ac110002row1_col9\" class=\"data row1 col9\" >0</td> \n",
       "    </tr>    <tr> \n",
       "        <th id=\"T_8077a116_70a5_11e8_8a0b_0242ac110002level0_row2\" class=\"row_heading level0 row2\" >2</th> \n",
       "        <td id=\"T_8077a116_70a5_11e8_8a0b_0242ac110002row2_col0\" class=\"data row2 col0\" >0</td> \n",
       "        <td id=\"T_8077a116_70a5_11e8_8a0b_0242ac110002row2_col1\" class=\"data row2 col1\" >0</td> \n",
       "        <td id=\"T_8077a116_70a5_11e8_8a0b_0242ac110002row2_col2\" class=\"data row2 col2\" >42</td> \n",
       "        <td id=\"T_8077a116_70a5_11e8_8a0b_0242ac110002row2_col3\" class=\"data row2 col3\" >0</td> \n",
       "        <td id=\"T_8077a116_70a5_11e8_8a0b_0242ac110002row2_col4\" class=\"data row2 col4\" >0</td> \n",
       "        <td id=\"T_8077a116_70a5_11e8_8a0b_0242ac110002row2_col5\" class=\"data row2 col5\" >0</td> \n",
       "        <td id=\"T_8077a116_70a5_11e8_8a0b_0242ac110002row2_col6\" class=\"data row2 col6\" >0</td> \n",
       "        <td id=\"T_8077a116_70a5_11e8_8a0b_0242ac110002row2_col7\" class=\"data row2 col7\" >0</td> \n",
       "        <td id=\"T_8077a116_70a5_11e8_8a0b_0242ac110002row2_col8\" class=\"data row2 col8\" >0</td> \n",
       "        <td id=\"T_8077a116_70a5_11e8_8a0b_0242ac110002row2_col9\" class=\"data row2 col9\" >0</td> \n",
       "    </tr>    <tr> \n",
       "        <th id=\"T_8077a116_70a5_11e8_8a0b_0242ac110002level0_row3\" class=\"row_heading level0 row3\" >3</th> \n",
       "        <td id=\"T_8077a116_70a5_11e8_8a0b_0242ac110002row3_col0\" class=\"data row3 col0\" >0</td> \n",
       "        <td id=\"T_8077a116_70a5_11e8_8a0b_0242ac110002row3_col1\" class=\"data row3 col1\" >0</td> \n",
       "        <td id=\"T_8077a116_70a5_11e8_8a0b_0242ac110002row3_col2\" class=\"data row3 col2\" >0</td> \n",
       "        <td id=\"T_8077a116_70a5_11e8_8a0b_0242ac110002row3_col3\" class=\"data row3 col3\" >37</td> \n",
       "        <td id=\"T_8077a116_70a5_11e8_8a0b_0242ac110002row3_col4\" class=\"data row3 col4\" >0</td> \n",
       "        <td id=\"T_8077a116_70a5_11e8_8a0b_0242ac110002row3_col5\" class=\"data row3 col5\" >0</td> \n",
       "        <td id=\"T_8077a116_70a5_11e8_8a0b_0242ac110002row3_col6\" class=\"data row3 col6\" >0</td> \n",
       "        <td id=\"T_8077a116_70a5_11e8_8a0b_0242ac110002row3_col7\" class=\"data row3 col7\" >0</td> \n",
       "        <td id=\"T_8077a116_70a5_11e8_8a0b_0242ac110002row3_col8\" class=\"data row3 col8\" >0</td> \n",
       "        <td id=\"T_8077a116_70a5_11e8_8a0b_0242ac110002row3_col9\" class=\"data row3 col9\" >0</td> \n",
       "    </tr>    <tr> \n",
       "        <th id=\"T_8077a116_70a5_11e8_8a0b_0242ac110002level0_row4\" class=\"row_heading level0 row4\" >4</th> \n",
       "        <td id=\"T_8077a116_70a5_11e8_8a0b_0242ac110002row4_col0\" class=\"data row4 col0\" >0</td> \n",
       "        <td id=\"T_8077a116_70a5_11e8_8a0b_0242ac110002row4_col1\" class=\"data row4 col1\" >0</td> \n",
       "        <td id=\"T_8077a116_70a5_11e8_8a0b_0242ac110002row4_col2\" class=\"data row4 col2\" >0</td> \n",
       "        <td id=\"T_8077a116_70a5_11e8_8a0b_0242ac110002row4_col3\" class=\"data row4 col3\" >0</td> \n",
       "        <td id=\"T_8077a116_70a5_11e8_8a0b_0242ac110002row4_col4\" class=\"data row4 col4\" >38</td> \n",
       "        <td id=\"T_8077a116_70a5_11e8_8a0b_0242ac110002row4_col5\" class=\"data row4 col5\" >0</td> \n",
       "        <td id=\"T_8077a116_70a5_11e8_8a0b_0242ac110002row4_col6\" class=\"data row4 col6\" >0</td> \n",
       "        <td id=\"T_8077a116_70a5_11e8_8a0b_0242ac110002row4_col7\" class=\"data row4 col7\" >0</td> \n",
       "        <td id=\"T_8077a116_70a5_11e8_8a0b_0242ac110002row4_col8\" class=\"data row4 col8\" >0</td> \n",
       "        <td id=\"T_8077a116_70a5_11e8_8a0b_0242ac110002row4_col9\" class=\"data row4 col9\" >0</td> \n",
       "    </tr>    <tr> \n",
       "        <th id=\"T_8077a116_70a5_11e8_8a0b_0242ac110002level0_row5\" class=\"row_heading level0 row5\" >5</th> \n",
       "        <td id=\"T_8077a116_70a5_11e8_8a0b_0242ac110002row5_col0\" class=\"data row5 col0\" >0</td> \n",
       "        <td id=\"T_8077a116_70a5_11e8_8a0b_0242ac110002row5_col1\" class=\"data row5 col1\" >0</td> \n",
       "        <td id=\"T_8077a116_70a5_11e8_8a0b_0242ac110002row5_col2\" class=\"data row5 col2\" >1</td> \n",
       "        <td id=\"T_8077a116_70a5_11e8_8a0b_0242ac110002row5_col3\" class=\"data row5 col3\" >0</td> \n",
       "        <td id=\"T_8077a116_70a5_11e8_8a0b_0242ac110002row5_col4\" class=\"data row5 col4\" >0</td> \n",
       "        <td id=\"T_8077a116_70a5_11e8_8a0b_0242ac110002row5_col5\" class=\"data row5 col5\" >29</td> \n",
       "        <td id=\"T_8077a116_70a5_11e8_8a0b_0242ac110002row5_col6\" class=\"data row5 col6\" >0</td> \n",
       "        <td id=\"T_8077a116_70a5_11e8_8a0b_0242ac110002row5_col7\" class=\"data row5 col7\" >0</td> \n",
       "        <td id=\"T_8077a116_70a5_11e8_8a0b_0242ac110002row5_col8\" class=\"data row5 col8\" >0</td> \n",
       "        <td id=\"T_8077a116_70a5_11e8_8a0b_0242ac110002row5_col9\" class=\"data row5 col9\" >0</td> \n",
       "    </tr>    <tr> \n",
       "        <th id=\"T_8077a116_70a5_11e8_8a0b_0242ac110002level0_row6\" class=\"row_heading level0 row6\" >6</th> \n",
       "        <td id=\"T_8077a116_70a5_11e8_8a0b_0242ac110002row6_col0\" class=\"data row6 col0\" >0</td> \n",
       "        <td id=\"T_8077a116_70a5_11e8_8a0b_0242ac110002row6_col1\" class=\"data row6 col1\" >0</td> \n",
       "        <td id=\"T_8077a116_70a5_11e8_8a0b_0242ac110002row6_col2\" class=\"data row6 col2\" >0</td> \n",
       "        <td id=\"T_8077a116_70a5_11e8_8a0b_0242ac110002row6_col3\" class=\"data row6 col3\" >0</td> \n",
       "        <td id=\"T_8077a116_70a5_11e8_8a0b_0242ac110002row6_col4\" class=\"data row6 col4\" >0</td> \n",
       "        <td id=\"T_8077a116_70a5_11e8_8a0b_0242ac110002row6_col5\" class=\"data row6 col5\" >0</td> \n",
       "        <td id=\"T_8077a116_70a5_11e8_8a0b_0242ac110002row6_col6\" class=\"data row6 col6\" >37</td> \n",
       "        <td id=\"T_8077a116_70a5_11e8_8a0b_0242ac110002row6_col7\" class=\"data row6 col7\" >0</td> \n",
       "        <td id=\"T_8077a116_70a5_11e8_8a0b_0242ac110002row6_col8\" class=\"data row6 col8\" >0</td> \n",
       "        <td id=\"T_8077a116_70a5_11e8_8a0b_0242ac110002row6_col9\" class=\"data row6 col9\" >0</td> \n",
       "    </tr>    <tr> \n",
       "        <th id=\"T_8077a116_70a5_11e8_8a0b_0242ac110002level0_row7\" class=\"row_heading level0 row7\" >7</th> \n",
       "        <td id=\"T_8077a116_70a5_11e8_8a0b_0242ac110002row7_col0\" class=\"data row7 col0\" >0</td> \n",
       "        <td id=\"T_8077a116_70a5_11e8_8a0b_0242ac110002row7_col1\" class=\"data row7 col1\" >0</td> \n",
       "        <td id=\"T_8077a116_70a5_11e8_8a0b_0242ac110002row7_col2\" class=\"data row7 col2\" >0</td> \n",
       "        <td id=\"T_8077a116_70a5_11e8_8a0b_0242ac110002row7_col3\" class=\"data row7 col3\" >0</td> \n",
       "        <td id=\"T_8077a116_70a5_11e8_8a0b_0242ac110002row7_col4\" class=\"data row7 col4\" >0</td> \n",
       "        <td id=\"T_8077a116_70a5_11e8_8a0b_0242ac110002row7_col5\" class=\"data row7 col5\" >0</td> \n",
       "        <td id=\"T_8077a116_70a5_11e8_8a0b_0242ac110002row7_col6\" class=\"data row7 col6\" >0</td> \n",
       "        <td id=\"T_8077a116_70a5_11e8_8a0b_0242ac110002row7_col7\" class=\"data row7 col7\" >31</td> \n",
       "        <td id=\"T_8077a116_70a5_11e8_8a0b_0242ac110002row7_col8\" class=\"data row7 col8\" >0</td> \n",
       "        <td id=\"T_8077a116_70a5_11e8_8a0b_0242ac110002row7_col9\" class=\"data row7 col9\" >0</td> \n",
       "    </tr>    <tr> \n",
       "        <th id=\"T_8077a116_70a5_11e8_8a0b_0242ac110002level0_row8\" class=\"row_heading level0 row8\" >8</th> \n",
       "        <td id=\"T_8077a116_70a5_11e8_8a0b_0242ac110002row8_col0\" class=\"data row8 col0\" >0</td> \n",
       "        <td id=\"T_8077a116_70a5_11e8_8a0b_0242ac110002row8_col1\" class=\"data row8 col1\" >0</td> \n",
       "        <td id=\"T_8077a116_70a5_11e8_8a0b_0242ac110002row8_col2\" class=\"data row8 col2\" >0</td> \n",
       "        <td id=\"T_8077a116_70a5_11e8_8a0b_0242ac110002row8_col3\" class=\"data row8 col3\" >0</td> \n",
       "        <td id=\"T_8077a116_70a5_11e8_8a0b_0242ac110002row8_col4\" class=\"data row8 col4\" >0</td> \n",
       "        <td id=\"T_8077a116_70a5_11e8_8a0b_0242ac110002row8_col5\" class=\"data row8 col5\" >0</td> \n",
       "        <td id=\"T_8077a116_70a5_11e8_8a0b_0242ac110002row8_col6\" class=\"data row8 col6\" >0</td> \n",
       "        <td id=\"T_8077a116_70a5_11e8_8a0b_0242ac110002row8_col7\" class=\"data row8 col7\" >0</td> \n",
       "        <td id=\"T_8077a116_70a5_11e8_8a0b_0242ac110002row8_col8\" class=\"data row8 col8\" >35</td> \n",
       "        <td id=\"T_8077a116_70a5_11e8_8a0b_0242ac110002row8_col9\" class=\"data row8 col9\" >0</td> \n",
       "    </tr>    <tr> \n",
       "        <th id=\"T_8077a116_70a5_11e8_8a0b_0242ac110002level0_row9\" class=\"row_heading level0 row9\" >9</th> \n",
       "        <td id=\"T_8077a116_70a5_11e8_8a0b_0242ac110002row9_col0\" class=\"data row9 col0\" >0</td> \n",
       "        <td id=\"T_8077a116_70a5_11e8_8a0b_0242ac110002row9_col1\" class=\"data row9 col1\" >0</td> \n",
       "        <td id=\"T_8077a116_70a5_11e8_8a0b_0242ac110002row9_col2\" class=\"data row9 col2\" >0</td> \n",
       "        <td id=\"T_8077a116_70a5_11e8_8a0b_0242ac110002row9_col3\" class=\"data row9 col3\" >0</td> \n",
       "        <td id=\"T_8077a116_70a5_11e8_8a0b_0242ac110002row9_col4\" class=\"data row9 col4\" >0</td> \n",
       "        <td id=\"T_8077a116_70a5_11e8_8a0b_0242ac110002row9_col5\" class=\"data row9 col5\" >0</td> \n",
       "        <td id=\"T_8077a116_70a5_11e8_8a0b_0242ac110002row9_col6\" class=\"data row9 col6\" >0</td> \n",
       "        <td id=\"T_8077a116_70a5_11e8_8a0b_0242ac110002row9_col7\" class=\"data row9 col7\" >0</td> \n",
       "        <td id=\"T_8077a116_70a5_11e8_8a0b_0242ac110002row9_col8\" class=\"data row9 col8\" >0</td> \n",
       "        <td id=\"T_8077a116_70a5_11e8_8a0b_0242ac110002row9_col9\" class=\"data row9 col9\" >32</td> \n",
       "    </tr></tbody> \n",
       "</table> "
      ],
      "text/plain": [
       "<pandas.io.formats.style.Styler at 0x7f91cc7b4d30>"
      ]
     },
     "execution_count": 24,
     "metadata": {},
     "output_type": "execute_result"
    }
   ],
   "source": [
    "pd.DataFrame(dict(pred=inf_y_pred, true=inf_y)).groupby(['pred', 'true']).size().unstack().fillna(0)\\\n",
    "    .style.background_gradient(high=.7)"
   ]
  },
  {
   "cell_type": "markdown",
   "metadata": {},
   "source": [
    "#### Show Misclassified Instances"
   ]
  },
  {
   "cell_type": "code",
   "execution_count": 25,
   "metadata": {},
   "outputs": [],
   "source": [
    "misclassified = np.argwhere(inf_y_pred != inf_y).ravel()"
   ]
  },
  {
   "cell_type": "code",
   "execution_count": 26,
   "metadata": {},
   "outputs": [
    {
     "data": {
      "text/plain": [
       "1"
      ]
     },
     "execution_count": 26,
     "metadata": {},
     "output_type": "execute_result"
    }
   ],
   "source": [
    "len(misclassified)"
   ]
  },
  {
   "cell_type": "code",
   "execution_count": 27,
   "metadata": {},
   "outputs": [
    {
     "data": {
      "text/plain": [
       "array([112])"
      ]
     },
     "execution_count": 27,
     "metadata": {},
     "output_type": "execute_result"
    }
   ],
   "source": [
    "misclassified"
   ]
  },
  {
   "cell_type": "code",
   "execution_count": 28,
   "metadata": {},
   "outputs": [
    {
     "data": {
      "image/png": "[encoded data removed]",
      "text/plain": [
       "<Figure size 288x288 with 1 Axes>"
      ]
     },
     "metadata": {},
     "output_type": "display_data"
    }
   ],
   "source": [
    "#n_samp = 10\n",
    "#indexes = pd.Series(list(range(len(pred_y_class)))).sample(n_samp)\n",
    "\n",
    "n_samp = len(misclassified)\n",
    "indexes = misclassified\n",
    "\n",
    "fig, ax = plt.subplots(n_samp, 1)\n",
    "if n_samp == 1:\n",
    "    ax = [ax]\n",
    "fig.set_size_inches(4, n_samp * 4)\n",
    "for i, idx in enumerate(indexes):\n",
    "    ax[i].imshow(inf_x[idx])\n",
    "    ax[i].set_title('Pred: {} - True: {}'.format(inf_y_pred[idx], inf_y[idx]))"
   ]
  }
 ],
 "metadata": {
  "kernelspec": {
   "display_name": "Python 3",
   "language": "python",
   "name": "python3"
  },
  "language_info": {
   "codemirror_mode": {
    "name": "ipython",
    "version": 3
   },
   "file_extension": ".py",
   "mimetype": "text/x-python",
   "name": "python",
   "nbconvert_exporter": "python",
   "pygments_lexer": "ipython3",
   "version": "3.5.2"
  }
 },
 "nbformat": 4,
 "nbformat_minor": 2
}
