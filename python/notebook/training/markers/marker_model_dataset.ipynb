{
 "cells": [
  {
   "cell_type": "markdown",
   "metadata": {},
   "source": [
    "## Marker Model Training Dataset Generator"
   ]
  },
  {
   "cell_type": "code",
   "execution_count": 13,
   "metadata": {},
   "outputs": [],
   "source": [
    "import os\n",
    "import os.path as osp\n",
    "import glob\n",
    "import celldom\n",
    "import pandas as pd\n",
    "from shutil import copyfile"
   ]
  },
  {
   "cell_type": "code",
   "execution_count": 2,
   "metadata": {},
   "outputs": [
    {
     "data": {
      "text/plain": [
       "'/lab/data/celldom/dataset/dataset03/MarkerTraining'"
      ]
     },
     "execution_count": 2,
     "metadata": {},
     "output_type": "execute_result"
    }
   ],
   "source": [
    "# Contains pre-annotated images\n",
    "dir1 = osp.join(celldom.get_dataset_dir(), 'dataset03', 'MarkerTraining')\n",
    "dir1"
   ]
  },
  {
   "cell_type": "code",
   "execution_count": 3,
   "metadata": {},
   "outputs": [
    {
     "data": {
      "text/plain": [
       "'/lab/data/celldom/dataset/dataset05'"
      ]
     },
     "execution_count": 3,
     "metadata": {},
     "output_type": "execute_result"
    }
   ],
   "source": [
    "# Contains raw images to copy and then annotate\n",
    "dir2 = osp.join(celldom.get_dataset_dir(), 'dataset05')\n",
    "dir2"
   ]
  },
  {
   "cell_type": "code",
   "execution_count": 26,
   "metadata": {},
   "outputs": [
    {
     "data": {
      "text/plain": [
       "['/lab/data/celldom/dataset/dataset05/_2018.06.17 EXP SUM Control 0.3uM 0.5uM with 5mL gravity/_2018.06.17 Yellow 1 0.3uM/_2018.06.17 Yellow 1 0.3uM 120 hr/BFF_16X_St_009_Apt_030_201806221839.tif',\n",
       " '/lab/data/celldom/dataset/dataset05/_2018.06.17 EXP SUM Control 0.3uM 0.5uM with 5mL gravity/_2018.06.17 Blue 3 Control/_2018.06.17 Blue 3 Control 48 hr/BFF_16X_St_015_Apt_018_201806192240.tif',\n",
       " '/lab/data/celldom/dataset/dataset05/_2018.06.17 EXP SUM Control 0.3uM 0.5uM with 5mL gravity/_2018.06.17 Yellow 3 0.3uM/_2018.06.17 Yellow 3 0.3uM 48 hr/BFF_16X_St_000_Apt_018_201806192258.tif']"
      ]
     },
     "execution_count": 26,
     "metadata": {},
     "output_type": "execute_result"
    }
   ],
   "source": [
    "# Randomly sample 250 images from second dataset\n",
    "d2_files = !find $dir2 | grep '.tif'\n",
    "d2_files = pd.Series(d2_files).sample(n=250, random_state=1).tolist()\n",
    "d2_files[:3]"
   ]
  },
  {
   "cell_type": "code",
   "execution_count": 17,
   "metadata": {},
   "outputs": [
    {
     "data": {
      "text/plain": [
       "'/lab/data/celldom/dataset/dataset06'"
      ]
     },
     "execution_count": 17,
     "metadata": {},
     "output_type": "execute_result"
    }
   ],
   "source": [
    "# Contains raw (G1) images to copy and then annotate\n",
    "dir3 = osp.join(celldom.get_dataset_dir(), 'dataset06')\n",
    "dir3"
   ]
  },
  {
   "cell_type": "code",
   "execution_count": 18,
   "metadata": {},
   "outputs": [
    {
     "data": {
      "text/plain": [
       "['/lab/data/celldom/dataset/dataset06/2018.02.17 G1 35 K562 Test 2 41 hr 201802181700/BF_16X_St_012_Apt_028_F_000.tif',\n",
       " '/lab/data/celldom/dataset/dataset06/2018.02.17 G1 35 K562 Test 2 88 hr 201802201600/BF_16X_St_030_Apt_028_F_000.tif',\n",
       " '/lab/data/celldom/dataset/dataset06/2018.02.17 G1 35 K562 Test 2 41 hr 201802181700/BF_16X_St_018_Apt_004_F_000.tif']"
      ]
     },
     "execution_count": 18,
     "metadata": {},
     "output_type": "execute_result"
    }
   ],
   "source": [
    "# Randomly sample 250 images from third dataset\n",
    "d3_files = !find $dir3 | grep '.tif'\n",
    "d3_files = pd.Series(d3_files).sample(n=250, random_state=1).tolist()\n",
    "d3_files[:3]"
   ]
  },
  {
   "cell_type": "code",
   "execution_count": 19,
   "metadata": {},
   "outputs": [
    {
     "data": {
      "text/plain": [
       "'/lab/data/celldom/dataset/training/marker/r0.6'"
      ]
     },
     "execution_count": 19,
     "metadata": {},
     "output_type": "execute_result"
    }
   ],
   "source": [
    "# Set destination\n",
    "dest = osp.join(celldom.get_training_dataset_dir(), 'marker', 'r0.6')\n",
    "dest"
   ]
  },
  {
   "cell_type": "markdown",
   "metadata": {},
   "source": [
    "### Copy Files"
   ]
  },
  {
   "cell_type": "markdown",
   "metadata": {},
   "source": [
    "##### G2 Images"
   ]
  },
  {
   "cell_type": "code",
   "execution_count": 14,
   "metadata": {},
   "outputs": [
    {
     "name": "stdout",
     "output_type": "stream",
     "text": [
      "Finished copy for 70 files\n"
     ]
    }
   ],
   "source": [
    "# Move all data in pre-annotated dir but prefix filenames by chip type (G2 in this case)\n",
    "ct = 0\n",
    "for f in os.listdir(dir1):\n",
    "    if not f.endswith('.tif'):\n",
    "        continue\n",
    "    ct += 1\n",
    "    psrc = osp.join(dir1, f)\n",
    "    pdest = osp.join(dest, 'G02_' + f)\n",
    "    #print(psrc, pdest)\n",
    "    #copyfile(psrc, pdest)\n",
    "print('Finished copy for {} files'.format(ct))"
   ]
  },
  {
   "cell_type": "markdown",
   "metadata": {},
   "source": [
    "##### G3 Images"
   ]
  },
  {
   "cell_type": "code",
   "execution_count": 30,
   "metadata": {},
   "outputs": [
    {
     "data": {
      "text/plain": [
       "250"
      ]
     },
     "execution_count": 30,
     "metadata": {},
     "output_type": "execute_result"
    }
   ],
   "source": [
    "len(d2_files)"
   ]
  },
  {
   "cell_type": "code",
   "execution_count": 33,
   "metadata": {},
   "outputs": [
    {
     "data": {
      "text/plain": [
       "'/lab/data/celldom/dataset/dataset05/_2018.06.17 EXP SUM Control 0.3uM 0.5uM with 5mL gravity/_2018.06.17 Yellow 1 0.3uM/_2018.06.17 Yellow 1 0.3uM 120 hr/BFF_16X_St_009_Apt_030_201806221839.tif'"
      ]
     },
     "execution_count": 33,
     "metadata": {},
     "output_type": "execute_result"
    }
   ],
   "source": [
    "d2_files[0]"
   ]
  },
  {
   "cell_type": "code",
   "execution_count": 16,
   "metadata": {},
   "outputs": [],
   "source": [
    "# Move selected images from second dir\n",
    "# * Reflect the results to make them compatible with G2 images (which has flipped annotations as well)\n",
    "# and add chip type (G3) to filenames\n",
    "from skimage import io\n",
    "import numpy as np\n",
    "for f in d2_files:\n",
    "    img = io.imread(f)\n",
    "    assert img.dtype == np.uint8\n",
    "    assert img.ndim == 2\n",
    "    img = img[:,::-1]\n",
    "    path = osp.join(dest, 'G03_' + osp.basename(f))\n",
    "    print(path, img.dtype, img.shape)\n",
    "    #io.imsave(path, img)"
   ]
  },
  {
   "cell_type": "markdown",
   "metadata": {},
   "source": [
    "##### G1 Images"
   ]
  },
  {
   "cell_type": "code",
   "execution_count": 29,
   "metadata": {},
   "outputs": [
    {
     "data": {
      "text/plain": [
       "'/lab/data/celldom/dataset/dataset06/2018.02.17 G1 35 K562 Test 2 41 hr 201802181700/BF_16X_St_012_Apt_028_F_000.tif'"
      ]
     },
     "execution_count": 29,
     "metadata": {},
     "output_type": "execute_result"
    }
   ],
   "source": [
    "# Note that the names are not unique enough unless you include the date in the path\n",
    "d3_files[0]"
   ]
  },
  {
   "cell_type": "code",
   "execution_count": 32,
   "metadata": {},
   "outputs": [],
   "source": [
    "# Move selected images from third dir\n",
    "# * Also reflect these images to conform to G2 images\n",
    "from skimage import io\n",
    "import numpy as np\n",
    "for f in d3_files:\n",
    "    img = io.imread(f)\n",
    "    assert img.dtype == np.uint8\n",
    "    assert img.ndim == 2\n",
    "    img = img[:,::-1]\n",
    "    dt = f.split('/')[-2].split()[-1]\n",
    "    # Add date + time to filename\n",
    "    path = osp.join(dest, 'G01_' + osp.basename(f).replace('.tif', '') + '_' + dt + '.tif')\n",
    "    #print(path, img.dtype, img.shape)\n",
    "    io.imsave(path, img)"
   ]
  },
  {
   "cell_type": "markdown",
   "metadata": {},
   "source": [
    "Now all files in `dest` are ready for review and annotation via RectLabel"
   ]
  }
 ],
 "metadata": {
  "kernelspec": {
   "display_name": "Python 3",
   "language": "python",
   "name": "python3"
  },
  "language_info": {
   "codemirror_mode": {
    "name": "ipython",
    "version": 3
   },
   "file_extension": ".py",
   "mimetype": "text/x-python",
   "name": "python",
   "nbconvert_exporter": "python",
   "pygments_lexer": "ipython3",
   "version": "3.5.2"
  }
 },
 "nbformat": 4,
 "nbformat_minor": 2
}
