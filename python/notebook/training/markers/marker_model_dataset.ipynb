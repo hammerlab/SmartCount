{
 "cells": [
  {
   "cell_type": "markdown",
   "metadata": {},
   "source": [
    "## Marker Model Training Dataset Generator"
   ]
  },
  {
   "cell_type": "code",
   "execution_count": 1,
   "metadata": {},
   "outputs": [],
   "source": [
    "import os\n",
    "import os.path as osp\n",
    "import glob\n",
    "import celldom\n",
    "import pandas as pd"
   ]
  },
  {
   "cell_type": "code",
   "execution_count": 7,
   "metadata": {},
   "outputs": [
    {
     "data": {
      "text/plain": [
       "'/lab/data/celldom/dataset/dataset03/MarkerTraining'"
      ]
     },
     "execution_count": 7,
     "metadata": {},
     "output_type": "execute_result"
    }
   ],
   "source": [
    "# Contains pre-annotated images\n",
    "dir1 = osp.join(celldom.get_dataset_dir(), 'dataset03', 'MarkerTraining')\n",
    "dir1"
   ]
  },
  {
   "cell_type": "code",
   "execution_count": 2,
   "metadata": {},
   "outputs": [
    {
     "data": {
      "text/plain": [
       "'/lab/data/celldom/dataset/dataset05'"
      ]
     },
     "execution_count": 2,
     "metadata": {},
     "output_type": "execute_result"
    }
   ],
   "source": [
    "# Contains raw images to copy and then annotate\n",
    "dir2 = osp.join(celldom.get_dataset_dir(), 'dataset05')\n",
    "dir2"
   ]
  },
  {
   "cell_type": "code",
   "execution_count": 13,
   "metadata": {},
   "outputs": [
    {
     "data": {
      "text/plain": [
       "['/lab/data/celldom/dataset/dataset05/_2018.06.17 EXP SUM Control 0.3uM 0.5uM with 5mL gravity/_2018.06.17 Yellow 1 0.3uM/_2018.06.17 Yellow 1 0.3uM 120 hr/BFF_16X_St_009_Apt_030_201806221839.tif',\n",
       " '/lab/data/celldom/dataset/dataset05/_2018.06.17 EXP SUM Control 0.3uM 0.5uM with 5mL gravity/_2018.06.17 Blue 3 Control/_2018.06.17 Blue 3 Control 48 hr/BFF_16X_St_015_Apt_018_201806192240.tif',\n",
       " '/lab/data/celldom/dataset/dataset05/_2018.06.17 EXP SUM Control 0.3uM 0.5uM with 5mL gravity/_2018.06.17 Yellow 3 0.3uM/_2018.06.17 Yellow 3 0.3uM 48 hr/BFF_16X_St_000_Apt_018_201806192258.tif']"
      ]
     },
     "execution_count": 13,
     "metadata": {},
     "output_type": "execute_result"
    }
   ],
   "source": [
    "# Randomly sample 10 images from second dataset\n",
    "files = !find $dir2 | grep '.tif'\n",
    "files = pd.Series(files).sample(n=250, random_state=1).tolist()\n",
    "files[:3]"
   ]
  },
  {
   "cell_type": "code",
   "execution_count": 11,
   "metadata": {},
   "outputs": [
    {
     "data": {
      "text/plain": [
       "'/lab/data/celldom/dataset/training/marker/r0.6'"
      ]
     },
     "execution_count": 11,
     "metadata": {},
     "output_type": "execute_result"
    }
   ],
   "source": [
    "# Set destination\n",
    "dest = osp.join(celldom.get_training_dataset_dir(), 'marker', 'r0.6')\n",
    "dest"
   ]
  },
  {
   "cell_type": "markdown",
   "metadata": {},
   "source": [
    "### Copy Files"
   ]
  },
  {
   "cell_type": "code",
   "execution_count": 23,
   "metadata": {},
   "outputs": [],
   "source": [
    "# Move all data in pre-annotated dir\n",
    "!cp -r $dir1/* $dest/"
   ]
  },
  {
   "cell_type": "code",
   "execution_count": 5,
   "metadata": {},
   "outputs": [
    {
     "data": {
      "text/plain": [
       "dtype('uint8')"
      ]
     },
     "execution_count": 5,
     "metadata": {},
     "output_type": "execute_result"
    }
   ],
   "source": [
    "from skimage import io\n",
    "io.imread(files[0]).dtype"
   ]
  },
  {
   "cell_type": "code",
   "execution_count": 14,
   "metadata": {},
   "outputs": [],
   "source": [
    "# Move selected images from second dir\n",
    "# * reflect the results to make them compatible with dir1 (which has flipped annotations)\n",
    "from skimage import io\n",
    "import numpy as np\n",
    "for f in files:\n",
    "    img = io.imread(f)\n",
    "    assert img.dtype == np.uint8\n",
    "    assert img.ndim == 2\n",
    "    img = img[:,::-1]\n",
    "    path = osp.join(dest, osp.basename(f))\n",
    "    #print(path, img.dtype, img.shape)\n",
    "    io.imsave(path, img)"
   ]
  },
  {
   "cell_type": "markdown",
   "metadata": {},
   "source": [
    "Now all files in `dest` are ready for review and annotation via RectLabel"
   ]
  }
 ],
 "metadata": {
  "kernelspec": {
   "display_name": "Python 3",
   "language": "python",
   "name": "python3"
  },
  "language_info": {
   "codemirror_mode": {
    "name": "ipython",
    "version": 3
   },
   "file_extension": ".py",
   "mimetype": "text/x-python",
   "name": "python",
   "nbconvert_exporter": "python",
   "pygments_lexer": "ipython3",
   "version": "3.5.2"
  }
 },
 "nbformat": 4,
 "nbformat_minor": 2
}
