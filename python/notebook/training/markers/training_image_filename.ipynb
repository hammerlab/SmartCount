{
 "cells": [
  {
   "cell_type": "markdown",
   "metadata": {},
   "source": [
    "#### Training Image Filename Organization\n",
    "\n",
    "This notebook is used to reflect chip type differences in names of marker model training dataset images"
   ]
  },
  {
   "cell_type": "code",
   "execution_count": 2,
   "metadata": {},
   "outputs": [],
   "source": [
    "import os\n",
    "import os.path as osp\n",
    "import celldom\n",
    "import pandas as pd\n",
    "marker_data_dir = osp.join(celldom.get_dataset_dir(), 'training', 'marker', 'r0.6')"
   ]
  },
  {
   "cell_type": "code",
   "execution_count": 11,
   "metadata": {},
   "outputs": [],
   "source": [
    "#!ls $marker_data_dir/annotations"
   ]
  },
  {
   "cell_type": "code",
   "execution_count": 9,
   "metadata": {},
   "outputs": [],
   "source": [
    "res = []\n",
    "for f in os.listdir(marker_data_dir):\n",
    "    if not f.endswith('.tif'):\n",
    "        continue\n",
    "    path = osp.join(marker_data_dir, f)\n",
    "    annot_file = f.replace('.tif', '.xml')\n",
    "    annot_path = osp.join(marker_data_dir, 'annotations', annot_file)\n",
    "    \n",
    "    ctyp = None\n",
    "    if f.startswith('BFF_'):\n",
    "        ctyp = 'G03_'\n",
    "    elif f.startswith('BF_'):\n",
    "        ctyp = 'G02_'\n",
    "    else:\n",
    "        raise ValueError('No chip type known for file {}'.format(f))\n",
    "        \n",
    "    pdest = osp.join(marker_data_dir, ctyp + f)\n",
    "    res.append('mv {} {}'.format(path, pdest))\n",
    "    if osp.exists(annot_path):\n",
    "        pdest = osp.join(marker_data_dir, 'annotations', ctyp + annot_file)\n",
    "        res.append('mv {} {}'.format(annot_path, pdest))\n",
    "script = '\\n'.join(res)\n",
    "with open('/tmp/renames.sh', 'w') as fd:\n",
    "    fd.write(script)"
   ]
  },
  {
   "cell_type": "code",
   "execution_count": 12,
   "metadata": {},
   "outputs": [],
   "source": [
    "#!cat /tmp/renames.sh"
   ]
  },
  {
   "cell_type": "markdown",
   "metadata": {},
   "source": [
    "#### G1 Chip Files"
   ]
  },
  {
   "cell_type": "code",
   "execution_count": 13,
   "metadata": {},
   "outputs": [
    {
     "data": {
      "text/plain": [
       "'/lab/data/celldom/dataset/dataset06'"
      ]
     },
     "execution_count": 13,
     "metadata": {},
     "output_type": "execute_result"
    }
   ],
   "source": [
    "data_dir = osp.join(celldom.get_dataset_dir(), 'dataset06')\n",
    "data_dir"
   ]
  },
  {
   "cell_type": "code",
   "execution_count": 21,
   "metadata": {},
   "outputs": [],
   "source": [
    "dt = pd.to_datetime('now')"
   ]
  },
  {
   "cell_type": "code",
   "execution_count": 22,
   "metadata": {},
   "outputs": [
    {
     "data": {
      "text/plain": [
       "'2018'"
      ]
     },
     "execution_count": 22,
     "metadata": {},
     "output_type": "execute_result"
    }
   ],
   "source": [
    "dt.strftime('%Y')"
   ]
  },
  {
   "cell_type": "code",
   "execution_count": 27,
   "metadata": {},
   "outputs": [
    {
     "name": "stdout",
     "output_type": "stream",
     "text": [
      "mv \"/lab/data/celldom/dataset/dataset06/2018.02.17 G1 35 K562 Test 2 0 hr\" \"/lab/data/celldom/dataset/dataset06/2018.02.17 G1 35 K562 Test 2 0 hr 201802170000\"\n",
      "mv \"/lab/data/celldom/dataset/dataset06/2018.02.17 G1 35 K562 Test 2 100 hr\" \"/lab/data/celldom/dataset/dataset06/2018.02.17 G1 35 K562 Test 2 100 hr 201802210400\"\n",
      "mv \"/lab/data/celldom/dataset/dataset06/2018.02.17 G1 35 K562 Test 2 117 hr\" \"/lab/data/celldom/dataset/dataset06/2018.02.17 G1 35 K562 Test 2 117 hr 201802212100\"\n",
      "mv \"/lab/data/celldom/dataset/dataset06/2018.02.17 G1 35 K562 Test 2 17 hr\" \"/lab/data/celldom/dataset/dataset06/2018.02.17 G1 35 K562 Test 2 17 hr 201802171700\"\n",
      "mv \"/lab/data/celldom/dataset/dataset06/2018.02.17 G1 35 K562 Test 2 41 hr\" \"/lab/data/celldom/dataset/dataset06/2018.02.17 G1 35 K562 Test 2 41 hr 201802181700\"\n",
      "mv \"/lab/data/celldom/dataset/dataset06/2018.02.17 G1 35 K562 Test 2 63 hr\" \"/lab/data/celldom/dataset/dataset06/2018.02.17 G1 35 K562 Test 2 63 hr 201802191500\"\n",
      "mv \"/lab/data/celldom/dataset/dataset06/2018.02.17 G1 35 K562 Test 2 71 hr\" \"/lab/data/celldom/dataset/dataset06/2018.02.17 G1 35 K562 Test 2 71 hr 201802192300\"\n",
      "mv \"/lab/data/celldom/dataset/dataset06/2018.02.17 G1 35 K562 Test 2 78 hr\" \"/lab/data/celldom/dataset/dataset06/2018.02.17 G1 35 K562 Test 2 78 hr 201802200600\"\n",
      "mv \"/lab/data/celldom/dataset/dataset06/2018.02.17 G1 35 K562 Test 2 88 hr\" \"/lab/data/celldom/dataset/dataset06/2018.02.17 G1 35 K562 Test 2 88 hr 201802201600\"\n"
     ]
    }
   ],
   "source": [
    "res = []\n",
    "for f in os.listdir(data_dir):\n",
    "    if not f.endswith('hr'):\n",
    "        continue\n",
    "    date = f.split()[0].replace('.', '')\n",
    "    hr = int(f.split()[-2])\n",
    "    # Add hours to base date and convert to date string\n",
    "    dt = pd.to_datetime(date) + pd.to_timedelta('{} hr'.format(hr))\n",
    "    dt = dt.strftime('%Y%m%d%H%M')\n",
    "    res.append('mv \"{}\" \"{}\"'.format(osp.join(data_dir, f), osp.join(data_dir, f + ' ' + dt)))\n",
    "script = '\\n'.join(res)\n",
    "print(script)"
   ]
  },
  {
   "cell_type": "markdown",
   "metadata": {},
   "source": [
    "### Training Data"
   ]
  },
  {
   "cell_type": "code",
   "execution_count": 29,
   "metadata": {},
   "outputs": [
    {
     "data": {
      "text/plain": [
       "576"
      ]
     },
     "execution_count": 29,
     "metadata": {},
     "output_type": "execute_result"
    }
   ],
   "source": [
    "import glob\n",
    "files = glob.glob(osp.join(data_dir, '*/*.tif'))\n",
    "len(files)"
   ]
  },
  {
   "cell_type": "code",
   "execution_count": 30,
   "metadata": {},
   "outputs": [
    {
     "data": {
      "text/plain": [
       "['/lab/data/celldom/dataset/dataset06/2018.02.17 G1 35 K562 Test 2 0 hr 201802170000/BF_16X_St_000_Apt_004_F_000.tif',\n",
       " '/lab/data/celldom/dataset/dataset06/2018.02.17 G1 35 K562 Test 2 0 hr 201802170000/BF_16X_St_000_Apt_008_F_000.tif',\n",
       " '/lab/data/celldom/dataset/dataset06/2018.02.17 G1 35 K562 Test 2 0 hr 201802170000/BF_16X_St_000_Apt_020_F_000.tif',\n",
       " '/lab/data/celldom/dataset/dataset06/2018.02.17 G1 35 K562 Test 2 0 hr 201802170000/BF_16X_St_002_Apt_012_F_000.tif',\n",
       " '/lab/data/celldom/dataset/dataset06/2018.02.17 G1 35 K562 Test 2 0 hr 201802170000/BF_16X_St_002_Apt_016_F_000.tif',\n",
       " '/lab/data/celldom/dataset/dataset06/2018.02.17 G1 35 K562 Test 2 0 hr 201802170000/BF_16X_St_002_Apt_024_F_000.tif',\n",
       " '/lab/data/celldom/dataset/dataset06/2018.02.17 G1 35 K562 Test 2 0 hr 201802170000/BF_16X_St_004_Apt_000_F_000.tif',\n",
       " '/lab/data/celldom/dataset/dataset06/2018.02.17 G1 35 K562 Test 2 0 hr 201802170000/BF_16X_St_004_Apt_004_F_000.tif',\n",
       " '/lab/data/celldom/dataset/dataset06/2018.02.17 G1 35 K562 Test 2 0 hr 201802170000/BF_16X_St_006_Apt_004_F_000.tif',\n",
       " '/lab/data/celldom/dataset/dataset06/2018.02.17 G1 35 K562 Test 2 0 hr 201802170000/BF_16X_St_006_Apt_012_F_000.tif']"
      ]
     },
     "execution_count": 30,
     "metadata": {},
     "output_type": "execute_result"
    }
   ],
   "source": [
    "files[:10]"
   ]
  },
  {
   "cell_type": "code",
   "execution_count": 31,
   "metadata": {},
   "outputs": [
    {
     "data": {
      "text/plain": [
       "100"
      ]
     },
     "execution_count": 31,
     "metadata": {},
     "output_type": "execute_result"
    }
   ],
   "source": [
    "rfiles = pd.Series(files).sample(n=100, random_state=1)\n",
    "len(rfiles)"
   ]
  },
  {
   "cell_type": "code",
   "execution_count": null,
   "metadata": {},
   "outputs": [],
   "source": []
  }
 ],
 "metadata": {
  "kernelspec": {
   "display_name": "Python 3",
   "language": "python",
   "name": "python3"
  },
  "language_info": {
   "codemirror_mode": {
    "name": "ipython",
    "version": 3
   },
   "file_extension": ".py",
   "mimetype": "text/x-python",
   "name": "python",
   "nbconvert_exporter": "python",
   "pygments_lexer": "ipython3",
   "version": "3.5.2"
  }
 },
 "nbformat": 4,
 "nbformat_minor": 2
}
