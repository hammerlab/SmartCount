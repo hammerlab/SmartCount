{
 "cells": [
  {
   "cell_type": "markdown",
   "metadata": {},
   "source": [
    "### Processing for G1v2 Imatinib Experiment\n",
    "\n",
    "- Name: exp-20181013-G1v2-K562-imatinib\n",
    "- Configuration: ```/lab/repos/celldom/config/experiment/exp-20181013-G1v2-K562-imatinib.yaml```\n",
    "- Example file path: ```/lab/data/dataset08/2018-10-13-G1-K562-Orange-2-Imatinib-150nM-24hr/BFF_16X_St_050_Apt_008_201810141311.tif```\n",
    "\n",
    "\n",
    "### Processing\n",
    "\n",
    "- Somewhat large random sample:\n",
    "\n",
    "```bash\n",
    "celldom run-processor \\\n",
    "--experiment-config-path=/lab/repos/celldom/config/experiment/exp-20181013-G1v2-K562-imatinib.yaml \\\n",
    "--data-file-patterns=[\"'/lab/data/celldom/dataset/dataset08/*/*.tif'\"] \\\n",
    "--output-dir=/lab/data/celldom/output/20181128-G1v2-test \\\n",
    "--sample-count=10 \\\n",
    "--max-failures=10000 \n",
    "```\n",
    "\n",
    "- Full dataset (~3hrs):\n",
    "\n",
    "```bash\n",
    "celldom run-processor \\\n",
    "--experiment-config-path=/lab/repos/celldom/config/experiment/exp-20181013-G1v2-K562-imatinib.yaml \\\n",
    "--data-file-patterns=[\"'/lab/data/celldom/dataset/dataset08/*/*.tif'\"] \\\n",
    "--output-dir=/lab/data/celldom/output/20181128-G1v2-full \\\n",
    "--max-failures=10000 \n",
    "```\n",
    "\n",
    "\n",
    "### Analysis\n",
    "\n",
    "```bash\n",
    "export APP_ARRAY_CELL_COUNT_FILL=none\n",
    "export APP_REMOVE_OOB_ADDRESS=true\n",
    "export APP_FORCE_VIEW_CALCULATION=false\n",
    "celldom run-overview-app \\\n",
    "--experiment-config-path=/lab/repos/celldom/config/experiment/exp-20181013-G1v2-K562-imatinib.yaml \\\n",
    "--output-dir=/lab/data/celldom/output/20181128-G1v2-full\n",
    "```\n",
    "\n",
    "```bash\n",
    "celldom run_array_analysis \\\n",
    "--experiment-config-path=/lab/repos/celldom/config/experiment/exp-20181013-G1v2-K562-imatinib.yaml \\\n",
    "--output-dir=/lab/data/celldom/output/20181128-G1v2-full\n",
    "```\n"
   ]
  },
  {
   "cell_type": "code",
   "execution_count": null,
   "metadata": {},
   "outputs": [],
   "source": []
  }
 ],
 "metadata": {
  "kernelspec": {
   "display_name": "Python 3",
   "language": "python",
   "name": "python3"
  },
  "language_info": {
   "codemirror_mode": {
    "name": "ipython",
    "version": 3
   },
   "file_extension": ".py",
   "mimetype": "text/x-python",
   "name": "python",
   "nbconvert_exporter": "python",
   "pygments_lexer": "ipython3",
   "version": "3.5.2"
  }
 },
 "nbformat": 4,
 "nbformat_minor": 2
}
