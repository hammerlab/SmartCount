{
 "cells": [
  {
   "cell_type": "markdown",
   "metadata": {},
   "source": [
    "Previous output dir: /lab/data/celldom/output/20180820-G3-full\n",
    "\n",
    "New output dir: /lab/data/celldom/output/20180908-G3-full"
   ]
  },
  {
   "cell_type": "code",
   "execution_count": null,
   "metadata": {},
   "outputs": [],
   "source": [
    "mkdir -p /lab/data/celldom/output/20180908-G3-sample-apt\n",
    "mkdir -p /lab/data/celldom/output/20180908-G3-sample-array\n",
    "mkdir -p /lab/data/celldom/output/20180908-G3-sample-rand\n",
    "mkdir -p /lab/data/celldom/output/20180908-G3-full"
   ]
  },
  {
   "cell_type": "code",
   "execution_count": 12,
   "metadata": {},
   "outputs": [],
   "source": [
    "# Somewhat large random sample\n",
    "celldom run-processor \\\n",
    "--experiment-config-path=/lab/repos/celldom/config/experiment/experiment_example_G3.yaml \\\n",
    "--data-file-patterns=[\"'/lab/data/celldom/dataset/dataset05/*/*/*/*.tif'\"] \\\n",
    "--output-dir=/lab/data/celldom/output/20180908-G3-sample-rand \\\n",
    "--sample-count=1000 \\\n",
    "--enable-focus-scores=False \\\n",
    "--max-failures=10000 "
   ]
  },
  {
   "cell_type": "code",
   "execution_count": 11,
   "metadata": {},
   "outputs": [],
   "source": [
    "# import glob\n",
    "# pattern = '/lab/data/celldom/dataset/dataset05/* EXP SUM Control 0.1uM with 5mL gravity/*/*/BFF_16X_St_000_Apt_000_*.tif'\n",
    "# glob.glob(pattern)"
   ]
  },
  {
   "cell_type": "code",
   "execution_count": null,
   "metadata": {},
   "outputs": [],
   "source": [
    "# Single apartment (several conditions)\n",
    "celldom run-processor \\\n",
    "--experiment-config-path=/lab/repos/celldom/config/experiment/experiment_example_G3.yaml \\\n",
    "--data-file-patterns=[\"'/lab/data/celldom/dataset/dataset05/* EXP SUM Control 0.1uM with 5mL gravity/*/*/BFF_16X_St_000_Apt_000_*.tif'\"] \\\n",
    "--output-dir=/lab/data/celldom/output/20180908-G3-sample-apt \\\n",
    "--sample-count=1000 \\\n",
    "--enable-focus-scores=False \\\n",
    "--max-failures=10000 "
   ]
  },
  {
   "cell_type": "code",
   "execution_count": 30,
   "metadata": {},
   "outputs": [],
   "source": [
    "# import glob\n",
    "# import pandas as pd\n",
    "# files = glob.glob('/lab/data/celldom/dataset/dataset05/* EXP SUM Control 0.1uM with 5mL gravity/*Red 3 Control/*/BFF_16X_St_*_Apt_*.tif')\n",
    "# d = []\n",
    "# for f in files:\n",
    "#     fname = f.split('/')[-1]\n",
    "#     st, apt, dt = int(fname.split('_')[3]), int(fname.split('_')[5]), pd.to_datetime(fname.split('_')[-1].replace('.tif', ''))\n",
    "#     d.append((st, apt, dt))\n",
    "# pd.DataFrame(d, columns=['st', 'apt', 'dt']).groupby(['st', 'apt', 'dt']).size().sort_values().max()"
   ]
  },
  {
   "cell_type": "code",
   "execution_count": null,
   "metadata": {},
   "outputs": [],
   "source": [
    "# Single array, all time points (~30 min)\n",
    "celldom run-processor \\\n",
    "--experiment-config-path=/lab/repos/celldom/config/experiment/experiment_example_G3.yaml \\\n",
    "--data-file-patterns=[\"'/lab/data/celldom/dataset/dataset05/* EXP SUM Control 0.1uM with 5mL gravity/*Red 3 Control/*/BFF_16X_St_*_Apt_*.tif'\"] \\\n",
    "--output-dir=/lab/data/celldom/output/20180908-G3-sample-array \\\n",
    "--sample-count=1000 \\\n",
    "--enable-focus-scores=False \\\n",
    "--max-failures=10000 "
   ]
  },
  {
   "cell_type": "code",
   "execution_count": null,
   "metadata": {},
   "outputs": [],
   "source": [
    "# Full dataset\n",
    "celldom run-processor \\\n",
    "--experiment-config-path=/lab/repos/celldom/config/experiment/experiment_example_G3.yaml \\\n",
    "--data-file-patterns=[\"'/lab/data/celldom/dataset/dataset05/*/*/*/*.tif'\"] \\\n",
    "--output-dir=/lab/data/celldom/output/20180908-G3-full \\\n",
    "--enable-focus-scores=False \\\n",
    "--max-failures=100000"
   ]
  },
  {
   "cell_type": "code",
   "execution_count": null,
   "metadata": {},
   "outputs": [],
   "source": [
    "celldom run-overview-app \\\n",
    "--experiment-config-path=/lab/repos/celldom/config/experiment/experiment_example_G3.yaml \\\n",
    "--output-dir=/lab/data/celldom/output/20180908-G3-full"
   ]
  }
 ],
 "metadata": {
  "kernelspec": {
   "display_name": "Python 3",
   "language": "python",
   "name": "python3"
  },
  "language_info": {
   "codemirror_mode": {
    "name": "ipython",
    "version": 3
   },
   "file_extension": ".py",
   "mimetype": "text/x-python",
   "name": "python",
   "nbconvert_exporter": "python",
   "pygments_lexer": "ipython3",
   "version": "3.5.2"
  }
 },
 "nbformat": 4,
 "nbformat_minor": 2
}
