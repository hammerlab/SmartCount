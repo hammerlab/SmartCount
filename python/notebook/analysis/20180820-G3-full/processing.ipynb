{
 "cells": [
  {
   "cell_type": "code",
   "execution_count": null,
   "metadata": {},
   "outputs": [],
   "source": [
    "mkdir -p /lab/data/celldom/output/20180820-G3-full\n",
    "celldom run-processor \\\n",
    "--experiment-config-path=/lab/repos/celldom/config/experiment/experiment_example_G3.yaml \\\n",
    "--data-file-patterns=[\"'/lab/data/celldom/dataset/dataset05/*/*/*/*.tif'\"] \\\n",
    "--output-dir=/lab/data/celldom/output/20180820-G3-full \\\n",
    "--max-failures=10000 > /lab/data/celldom/output/20180820-G3-full/run_processor_log.txt 2>&1"
   ]
  }
 ],
 "metadata": {
  "kernelspec": {
   "display_name": "Python 3",
   "language": "python",
   "name": "python3"
  },
  "language_info": {
   "codemirror_mode": {
    "name": "ipython",
    "version": 3
   },
   "file_extension": ".py",
   "mimetype": "text/x-python",
   "name": "python",
   "nbconvert_exporter": "python",
   "pygments_lexer": "ipython3",
   "version": "3.5.2"
  }
 },
 "nbformat": 4,
 "nbformat_minor": 2
}
