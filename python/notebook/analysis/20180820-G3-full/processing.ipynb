{
 "cells": [
  {
   "cell_type": "markdown",
   "metadata": {},
   "source": [
    "Previous output dir: /lab/data/celldom/output/20180820-G3-full\n",
    "\n",
    "New output dir: /lab/data/celldom/output/20180908-G3-full"
   ]
  },
  {
   "cell_type": "code",
   "execution_count": null,
   "metadata": {},
   "outputs": [],
   "source": [
    "mkdir -p /lab/data/celldom/output/20180908-G3-full"
   ]
  },
  {
   "cell_type": "code",
   "execution_count": 1,
   "metadata": {},
   "outputs": [
    {
     "ename": "SyntaxError",
     "evalue": "invalid syntax (<ipython-input-1-4604248415b8>, line 2)",
     "output_type": "error",
     "traceback": [
      "\u001b[0;36m  File \u001b[0;32m\"<ipython-input-1-4604248415b8>\"\u001b[0;36m, line \u001b[0;32m2\u001b[0m\n\u001b[0;31m    celldom run-processor --experiment-config-path=/lab/repos/celldom/config/experiment/experiment_example_G3.yaml --data-file-patterns=[\"'/lab/data/celldom/dataset/dataset05/*/*/*/*.tif'\"] --output-dir=/lab/data/celldom/output/20180908-G3-full --sample-count=10 --max-failures=10000\u001b[0m\n\u001b[0m              ^\u001b[0m\n\u001b[0;31mSyntaxError\u001b[0m\u001b[0;31m:\u001b[0m invalid syntax\n"
     ]
    }
   ],
   "source": [
    "# Somewhat large random sample\n",
    "celldom run-processor \\\n",
    "--experiment-config-path=/lab/repos/celldom/config/experiment/experiment_example_G3.yaml \\\n",
    "--data-file-patterns=[\"'/lab/data/celldom/dataset/dataset05/*/*/*/*.tif'\"] \\\n",
    "--output-dir=/lab/data/celldom/output/20180908-G3-full \\\n",
    "--sample-count=1000 \\\n",
    "--enable-focus-scores=False \\\n",
    "--max-failures=10000 "
   ]
  },
  {
   "cell_type": "code",
   "execution_count": 11,
   "metadata": {},
   "outputs": [],
   "source": [
    "# import glob\n",
    "# pattern = '/lab/data/celldom/dataset/dataset05/* EXP SUM Control 0.1uM with 5mL gravity/*/*/BFF_16X_St_000_Apt_000_*.tif'\n",
    "# glob.glob(pattern)"
   ]
  },
  {
   "cell_type": "code",
   "execution_count": null,
   "metadata": {},
   "outputs": [],
   "source": [
    "# Single apartment (several conditions)\n",
    "celldom run-processor \\\n",
    "--experiment-config-path=/lab/repos/celldom/config/experiment/experiment_example_G3.yaml \\\n",
    "--data-file-patterns=[\"'/lab/data/celldom/dataset/dataset05/* EXP SUM Control 0.1uM with 5mL gravity/*/*/BFF_16X_St_000_Apt_000_*.tif'\"] \\\n",
    "--output-dir=/lab/data/celldom/output/20180908-G3-full \\\n",
    "--sample-count=1000 \\\n",
    "--enable-focus-scores=False \\\n",
    "--max-failures=10000 "
   ]
  },
  {
   "cell_type": "code",
   "execution_count": null,
   "metadata": {},
   "outputs": [],
   "source": [
    "# Single array, one time point\n",
    "celldom run-processor \\\n",
    "--experiment-config-path=/lab/repos/celldom/config/experiment/experiment_example_G3.yaml \\\n",
    "--data-file-patterns=[\"'/lab/data/celldom/dataset/dataset05/* EXP SUM Control 0.1uM with 5mL gravity/*/*/BFF_16X_St_000_Apt_000_*.tif'\"] \\\n",
    "--output-dir=/lab/data/celldom/output/20180908-G3-full \\\n",
    "--sample-count=1000 \\\n",
    "--enable-focus-scores=False \\\n",
    "--max-failures=10000 "
   ]
  },
  {
   "cell_type": "code",
   "execution_count": null,
   "metadata": {},
   "outputs": [],
   "source": [
    "celldom run-overview-app \\\n",
    "--experiment-config-path=/lab/repos/celldom/config/experiment/experiment_example_G3.yaml \\\n",
    "--output-dir=/lab/data/celldom/output/20180908-G3-full"
   ]
  }
 ],
 "metadata": {
  "kernelspec": {
   "display_name": "Python 3",
   "language": "python",
   "name": "python3"
  },
  "language_info": {
   "codemirror_mode": {
    "name": "ipython",
    "version": 3
   },
   "file_extension": ".py",
   "mimetype": "text/x-python",
   "name": "python",
   "nbconvert_exporter": "python",
   "pygments_lexer": "ipython3",
   "version": "3.5.2"
  }
 },
 "nbformat": 4,
 "nbformat_minor": 2
}
