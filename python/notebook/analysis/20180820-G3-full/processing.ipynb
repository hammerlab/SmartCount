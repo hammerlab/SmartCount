{
 "cells": [
  {
   "cell_type": "markdown",
   "metadata": {},
   "source": [
    "### Processing Commands for G3 Data\n",
    "\n",
    "Previous output dir: /lab/data/celldom/output/20180820-G3-full\n",
    "\n",
    "last output dir: /lab/data/celldom/output/20180908-G3-full\n",
    "\n",
    "Example file path: /lab/data/celldom/dataset/dataset05/_2018.06.14 EXP SUM Control 0.1uM with 5mL gravity/2018.06.14 Red 3 Control/2018.06.14 Red 3 Control 0 hr/BFF_16X_St_000_Apt_000_201806142326.tif"
   ]
  },
  {
   "cell_type": "code",
   "execution_count": 12,
   "metadata": {},
   "outputs": [],
   "source": [
    "# Somewhat large random sample\n",
    "celldom run-processor \\\n",
    "--experiment-config-path=/lab/repos/celldom/config/experiment/experiment_example_G3.yaml \\\n",
    "--data-file-patterns=[\"'/lab/data/celldom/dataset/dataset05/*/*/*/*.tif'\"] \\\n",
    "--output-dir=/lab/data/celldom/output/20180908-G3-sample-rand \\\n",
    "--sample-count=1000 \\\n",
    "--enable-focus-scores=False \\\n",
    "--max-failures=10000 "
   ]
  },
  {
   "cell_type": "code",
   "execution_count": null,
   "metadata": {},
   "outputs": [],
   "source": [
    "# Single apartment (several conditions)\n",
    "celldom run-processor \\\n",
    "--experiment-config-path=/lab/repos/celldom/config/experiment/experiment_example_G3.yaml \\\n",
    "--data-file-patterns=[\"'/lab/data/celldom/dataset/dataset05/* EXP SUM Control 0.1uM with 5mL gravity/*/*/BFF_16X_St_000_Apt_000_*.tif'\"] \\\n",
    "--output-dir=/lab/data/celldom/output/20180908-G3-sample-apt \\\n",
    "--sample-count=1000 \\\n",
    "--enable-focus-scores=False \\\n",
    "--max-failures=10000 "
   ]
  },
  {
   "cell_type": "code",
   "execution_count": 26,
   "metadata": {},
   "outputs": [
    {
     "data": {
      "text/plain": [
       "['/lab/data/celldom/dataset/dataset05/_2018.06.14 EXP SUM Control 0.1uM with 5mL gravity/2018.06.14 Red 3 Control/2018.06.14 Red 3 Control 0 hr/BFF_16X_St_009_Apt_030_201806142327.tif']"
      ]
     },
     "execution_count": 26,
     "metadata": {},
     "output_type": "execute_result"
    }
   ],
   "source": [
    "glob.glob('/lab/data/celldom/dataset/dataset05/* EXP SUM Control 0.1uM with 5mL gravity/* Red 3 Control/*0 hr/BFF_16X_St_009_Apt_030_*.tif')"
   ]
  },
  {
   "cell_type": "code",
   "execution_count": 35,
   "metadata": {},
   "outputs": [
    {
     "data": {
      "text/plain": [
       "2018-06-15 00:24:00    55\n",
       "2018-06-15 00:25:00    61\n",
       "2018-06-15 00:26:00    58\n",
       "Name: dt, dtype: int64"
      ]
     },
     "execution_count": 35,
     "metadata": {},
     "output_type": "execute_result"
    }
   ],
   "source": [
    "import glob\n",
    "import pandas as pd\n",
    "import matplotlib.pyplot as plt\n",
    "#files = glob.glob('/lab/data/celldom/dataset/dataset05/* EXP SUM Control 0.1uM with 5mL gravity/*Red 3 Control/*/BFF_16X_St_*_Apt_*.tif')\n",
    "#files = glob.glob('/lab/data/celldom/dataset/dataset05/* EXP SUM Control 0.1uM with 5mL gravity/* Red 3 Control/*0 hr/BFF_16X_St_*_Apt_*.tif')\n",
    "files = glob.glob('/lab/data/celldom/dataset/dataset05/* EXP SUM Control 0.1uM with 5mL gravity/* White 3 Control/*0 hr/BFF_16X_St_*_Apt_*.tif')\n",
    "d = []\n",
    "for f in files:\n",
    "    fname = f.split('/')[-1]\n",
    "    st, apt, dt = int(fname.split('_')[3]), int(fname.split('_')[5]), pd.to_datetime(fname.split('_')[-1].replace('.tif', ''))\n",
    "    d.append((st, apt, dt))\n",
    "d = pd.DataFrame(d, columns=['st', 'apt', 'dt'])\n",
    "d['dt'].value_counts().sort_index()\n",
    "#d.groupby(['st', 'apt']).size().sort_index().unstack().index\n",
    "#d.groupby(['st', 'apt', 'dt']).size().sort_values().max()"
   ]
  },
  {
   "cell_type": "code",
   "execution_count": null,
   "metadata": {},
   "outputs": [],
   "source": [
    "# Single array, single time point\n",
    "\n",
    "# --data-file-patterns=[\"'/lab/data/celldom/dataset/dataset05/* EXP SUM Control 0.1uM with 5mL gravity/* Red 3 Control/*0 hr/BFF_16X_St_*_Apt_*.tif'\"] \\\n",
    "# --data-file-patterns=[\"'/lab/data/celldom/dataset/dataset05/* EXP SUM Control 0.1uM with 5mL gravity/* White 3 Control/*0 hr/BFF_16X_St_*_Apt_*.tif'\"] \\\n",
    "\n",
    "celldom run-processor \\\n",
    "--experiment-config-path=/lab/repos/celldom/config/experiment/experiment_example_G3.yaml \\\n",
    "--data-file-patterns=[\"'/lab/data/celldom/dataset/dataset05/* EXP SUM Control 0.1uM with 5mL gravity/* Red 3 Control/*0 hr/BFF_16X_St_*_Apt_*.tif'\"] \\\n",
    "--output-dir=/lab/data/celldom/output/20180908-G3-sample-array-tzero \\\n",
    "--enable-focus-scores=False \\\n",
    "--max-failures=10000 \n",
    "\n",
    "export APP_REMOVE_OOB_ADDRESS=false\n",
    "celldom run-overview-app \\\n",
    "--experiment-config-path=/lab/repos/celldom/config/experiment/experiment_example_G3.yaml \\\n",
    "--output-dir=/lab/data/celldom/output/20180908-G3-sample-array-tzero"
   ]
  },
  {
   "cell_type": "code",
   "execution_count": null,
   "metadata": {},
   "outputs": [],
   "source": [
    "# Single array, all time points (1.5k files --> ~30 min)\n",
    "#--data-file-patterns=[\"'/lab/data/celldom/dataset/dataset05/* EXP SUM Control 0.1uM with 5mL gravity/*Red 3 Control/*/BFF_16X_St_*_Apt_*.tif'\"] \\\n",
    "\n",
    "celldom run-processor \\\n",
    "--experiment-config-path=/lab/repos/celldom/config/experiment/experiment_example_G3.yaml \\\n",
    "--data-file-patterns=[\"'/lab/data/celldom/dataset/dataset05/* EXP SUM Control 0.3uM 0.5uM with 5mL gravity/*Blue 3 Control/*/BFF_16X_St_*_Apt_*.tif'\"] \\\n",
    "--output-dir=/lab/data/celldom/output/20180908-G3-sample-array \\\n",
    "--enable-focus-scores=False \\\n",
    "--max-failures=10000 \n",
    "\n",
    "export APP_ARRAY_CELL_COUNT_FILL=none\n",
    "export APP_REMOVE_OOB_ADDRESS=false\n",
    "celldom run-overview-app \\\n",
    "--experiment-config-path=/lab/repos/celldom/config/experiment/experiment_example_G3.yaml \\\n",
    "--output-dir=/lab/data/celldom/output/20180908-G3-sample-array"
   ]
  },
  {
   "cell_type": "code",
   "execution_count": null,
   "metadata": {},
   "outputs": [],
   "source": [
    "# Many arrays, all time points (3.1k files --> ~2hr)\n",
    "celldom run-processor \\\n",
    "--experiment-config-path=/lab/repos/celldom/config/experiment/experiment_example_G3.yaml \\\n",
    "--data-file-patterns=[\"'/lab/data/celldom/dataset/dataset05/* EXP SUM Control 0.3uM 0.5uM with 5mL gravity/*3 Control/*/BFF_16X_St_*_Apt_*.tif'\"] \\\n",
    "--output-dir=/lab/data/celldom/output/20180917-G3-sample-arrays \\\n",
    "--enable-focus-scores=False \\\n",
    "--max-failures=10000 \n",
    "\n",
    "export APP_ARRAY_CELL_COUNT_FILL=none\n",
    "export APP_REMOVE_OOB_ADDRESS=false\n",
    "celldom run-overview-app \\\n",
    "--experiment-config-path=/lab/repos/celldom/config/experiment/experiment_example_G3.yaml \\\n",
    "--output-dir=/lab/data/celldom/output/20180917-G3-sample-arrays\n",
    "\n",
    "celldom get-apartment-info \\\n",
    "--experiment-config-path=/lab/repos/celldom/config/experiment/experiment_example_G3.yaml \\\n",
    "--output-dir=/lab/data/celldom/output/20180917-G3-sample-arrays \\\n",
    "--keys='gravity:Blue:3:Control:10:12' - \\\n",
    "filter --items=[\"'key'\",\"'raw_image_path'\",\"'acq_datetime'\",\"'cell_count'\"] - to_string"
   ]
  },
  {
   "cell_type": "code",
   "execution_count": null,
   "metadata": {},
   "outputs": [],
   "source": [
    "# Full dataset\n",
    "celldom run-processor \\\n",
    "--experiment-config-path=/lab/repos/celldom/config/experiment/experiment_example_G3.yaml \\\n",
    "--data-file-patterns=[\"'/lab/data/celldom/dataset/dataset05/*/*/*/*.tif'\"] \\\n",
    "--output-dir=/lab/data/celldom/output/20180908-G3-full \\\n",
    "--enable-focus-scores=False \\\n",
    "--max-failures=100000\n",
    "\n",
    "celldom run-overview-app \\\n",
    "--experiment-config-path=/lab/repos/celldom/config/experiment/experiment_example_G3.yaml \\\n",
    "--output-dir=/lab/data/celldom/output/20180908-G3-full"
   ]
  },
  {
   "cell_type": "code",
   "execution_count": null,
   "metadata": {},
   "outputs": [],
   "source": [
    "# EDA on shared dataset\n",
    "export APP_REMOVE_OOB_ADDRESS=false\n",
    "celldom run-overview-app \\\n",
    "--experiment-config-path=/lab/repos/celldom/config/experiment/experiment_example_G3.yaml \\\n",
    "--output-dir=/lab/data/celldom/output/20180911-G3-yl/"
   ]
  }
 ],
 "metadata": {
  "kernelspec": {
   "display_name": "Python 3",
   "language": "python",
   "name": "python3"
  },
  "language_info": {
   "codemirror_mode": {
    "name": "ipython",
    "version": 3
   },
   "file_extension": ".py",
   "mimetype": "text/x-python",
   "name": "python",
   "nbconvert_exporter": "python",
   "pygments_lexer": "ipython3",
   "version": "3.5.2"
  }
 },
 "nbformat": 4,
 "nbformat_minor": 2
}
