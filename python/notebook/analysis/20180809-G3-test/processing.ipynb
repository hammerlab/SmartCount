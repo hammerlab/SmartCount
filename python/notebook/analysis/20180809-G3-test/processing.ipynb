{
 "cells": [
  {
   "cell_type": "markdown",
   "metadata": {},
   "source": [
    "## Processing\n",
    "\n",
    "This notebook shows commands that can be used to analyze data for G3 chip experiments."
   ]
  },
  {
   "cell_type": "code",
   "execution_count": 2,
   "metadata": {},
   "outputs": [
    {
     "name": "stdout",
     "output_type": "stream",
     "text": [
      "INFO:cli:Found 11 raw data files to process\n",
      "INFO:cli:Randomly selecting 100 files to process\n",
      "INFO:cli:Number of raw data files after sample: 11\n",
      "INFO:cli:Loading experiment configuration from path: /lab/repos/celldom/config/experiment/experiment_example_G3.yaml\n",
      "INFO:cli:Running data processor (output dir = /lab/data/celldom/output/experiment_02) ...\n",
      "Using TensorFlow backend.\n",
      "100%|###########################################| 11/11 [00:35<00:00,  3.21s/it]\n",
      "INFO:cli:Processing complete\n"
     ]
    }
   ],
   "source": [
    "# *Note*: To replicate this experiment on a larger dataset, it will likely be necessary\n",
    "# to change the values for every parameter below (except for possibly experiment-config-path)\n",
    "# Each of the directories below should be adjusted to whatever storage conventions you're using\n",
    "# and also note that if you don't want to \"sample\" files, simply remove the \"sample-count\" parameter\n",
    "\n",
    "!celldom run-processor \\\n",
    "--experiment-config-path=/lab/repos/celldom/config/experiment/experiment_example_G3.yaml \\\n",
    "--data-file-patterns=[\"'/lab/data/celldom/dataset/dataset04/20180614Orange1_0_1uM000hr/*.tif'\"] \\\n",
    "--output-dir=/lab/data/celldom/output/experiment_02 \\\n",
    "--sample-count=100"
   ]
  },
  {
   "cell_type": "code",
   "execution_count": 5,
   "metadata": {},
   "outputs": [
    {
     "name": "stdout",
     "output_type": "stream",
     "text": [
      "<class 'pandas.core.frame.DataFrame'>\n",
      "Int64Index: 2164 entries, 0 to 65\n",
      "Data columns (total 23 columns):\n",
      "acq_apartment       2164 non-null object\n",
      "acq_cohort          2164 non-null object\n",
      "acq_condition       2164 non-null object\n",
      "acq_datetime        2164 non-null datetime64[ns]\n",
      "acq_hours           2164 non-null object\n",
      "acq_id              2164 non-null object\n",
      "acq_processed_at    2164 non-null datetime64[ns]\n",
      "acq_street          2164 non-null object\n",
      "apt_id              2164 non-null int64\n",
      "apt_num             2164 non-null object\n",
      "area                2164 non-null int64\n",
      "centroid_x          2164 non-null float64\n",
      "centroid_y          2164 non-null float64\n",
      "eccentricity        2164 non-null float64\n",
      "in_chamber          2164 non-null bool\n",
      "in_trap             2164 non-null bool\n",
      "roi_xmax            2164 non-null int64\n",
      "roi_xmin            2164 non-null int64\n",
      "roi_ymax            2164 non-null int64\n",
      "roi_ymin            2164 non-null int64\n",
      "score               2164 non-null float64\n",
      "solidity            2164 non-null float64\n",
      "st_num              2164 non-null object\n",
      "dtypes: bool(2), datetime64[ns](2), float64(5), int64(6), object(8)\n",
      "memory usage: 376.2+ KB\n"
     ]
    }
   ],
   "source": [
    "# Load the processed data\n",
    "import pandas as pd\n",
    "store = pd.HDFStore('/lab/data/celldom/output/experiment_02/data.h5', 'r')\n",
    "store.get('table_cell').info()"
   ]
  },
  {
   "cell_type": "markdown",
   "metadata": {},
   "source": [
    "## Analysis\n",
    "\n",
    "Run the growth rate analysis notebook template:"
   ]
  },
  {
   "cell_type": "code",
   "execution_count": 4,
   "metadata": {},
   "outputs": [
    {
     "name": "stdout",
     "output_type": "stream",
     "text": [
      "INFO:root:Generating grammar tables from /usr/lib/python3.5/lib2to3/Grammar.txt\n",
      "INFO:root:Generating grammar tables from /usr/lib/python3.5/lib2to3/PatternGrammar.txt\n",
      "INFO:cli:Executing notebook \"/lab/repos/celldom/python/notebook/templates/growth_rate_analysis_01.ipynb\"\n",
      "Input Notebook:  /lab/repos/celldom/python/notebook/templates/growth_rate_analysis_01.ipynb\n",
      "Output Notebook: /lab/data/celldom/output/experiment_02/notebook/growth_rate_analysis_01.ipynb\n",
      "INFO:traitlets:Executing notebook with kernel: python3\n",
      "100%|###########################################| 27/27 [00:05<00:00,  4.90it/s]\n",
      "INFO:cli:Analysis complete; results saved to /lab/data/celldom/output/experiment_02/notebook/growth_rate_analysis_01.ipynb`\n"
     ]
    }
   ],
   "source": [
    "!celldom analyze_growth_rates --data-dir=/lab/data/celldom/output/experiment_02"
   ]
  }
 ],
 "metadata": {
  "kernelspec": {
   "display_name": "Python 3",
   "language": "python",
   "name": "python3"
  },
  "language_info": {
   "codemirror_mode": {
    "name": "ipython",
    "version": 3
   },
   "file_extension": ".py",
   "mimetype": "text/x-python",
   "name": "python",
   "nbconvert_exporter": "python",
   "pygments_lexer": "ipython3",
   "version": "3.5.2"
  }
 },
 "nbformat": 4,
 "nbformat_minor": 2
}
