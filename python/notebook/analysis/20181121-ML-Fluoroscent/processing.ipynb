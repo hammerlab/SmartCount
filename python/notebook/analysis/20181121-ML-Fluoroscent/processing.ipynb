{
 "cells": [
  {
   "cell_type": "markdown",
   "metadata": {},
   "source": [
    "### Processing for MLadder Fluorescent Dataset\n",
    "\n",
    "- Name: exp-20181121-ML-FL-Sample\n",
    "- Configuration: ```/lab/repos/celldom/config/experiment/exp-20181121-ML-FL-Sample.yaml```\n",
    "- Example file path: ```MultiColorDataset/20181121_MOLMGreenRed_Experiments/20181121-Mladder150-MOLM-Day0-Chip1-40mbar-Greenplusred_1000mbarsqueeze/GFP_ST_000_APT_000_20181121141604.tif```\n",
    "- Google Storage: ```https://console.cloud.google.com/storage/browser/celldom/dataset/MultiColorDataset/?project=hammerlab-chs&authuser=2```\n",
    "- Local path: ```/lab/data/celldom/dataset/dataset09```\n",
    "\n",
    "\n",
    "### Processing\n",
    "\n",
    "- Small random sample:\n",
    "\n",
    "```bash\n",
    "celldom run-processor \\\n",
    "--experiment-config-path=/lab/repos/celldom/config/experiment/exp-20181121-ML-FL-Sample.yaml \\\n",
    "--data-file-patterns=[\"'/lab/data/celldom/dataset/dataset09/*/*/*.tif'\"] \\\n",
    "--output-dir=/lab/data/celldom/output/20181218-MLFL-test \\\n",
    "--sample-count=10 \\\n",
    "--max-failures=10000 \n",
    "```\n",
    "\n",
    "- Full dataset (~ 50 mins):\n",
    "\n",
    "```bash\n",
    "celldom run-processor \\\n",
    "--experiment-config-path=/lab/repos/celldom/config/experiment/exp-20181121-ML-FL-Sample.yaml \\\n",
    "--data-file-patterns=[\"'/lab/data/celldom/dataset/dataset09/*/*/*.tif'\"] \\\n",
    "--output-dir=/lab/data/celldom/output/20181218-MLFL-full \\\n",
    "--max-failures=10000 \n",
    "```\n",
    "\n",
    "```bash\n",
    "# Again without registration for comparison\n",
    "celldom run-processor \\\n",
    "--experiment-config-path=/lab/repos/celldom/config/experiment/exp-20181121-ML-FL-Sample.yaml \\\n",
    "--data-file-patterns=[\"'/lab/data/celldom/dataset/dataset09/*/*/*.tif'\"] \\\n",
    "--output-dir=/lab/data/celldom/output/20181218-MLFL-full-noreg \\\n",
    "--enable-registration=False \\\n",
    "--max-failures=10000 \n",
    "```\n",
    "\n",
    "\n",
    "### Analysis\n",
    "\n",
    "```bash\n",
    "export APP_ARRAY_CELL_COUNT_FILL=none\n",
    "export APP_REMOVE_OOB_ADDRESS=false\n",
    "export APP_FORCE_VIEW_CALCULATION=false\n",
    "celldom run-overview-app \\\n",
    "--experiment-config-path=/lab/repos/celldom/config/experiment/exp-20181121-ML-FL-Sample.yaml \\\n",
    "--output-dir=/lab/data/celldom/output/20181218-MLFL-full\n",
    "```\n"
   ]
  }
 ],
 "metadata": {
  "kernelspec": {
   "display_name": "Python 3",
   "language": "python",
   "name": "python3"
  },
  "language_info": {
   "codemirror_mode": {
    "name": "ipython",
    "version": 3
   },
   "file_extension": ".py",
   "mimetype": "text/x-python",
   "name": "python",
   "nbconvert_exporter": "python",
   "pygments_lexer": "ipython3",
   "version": "3.5.2"
  }
 },
 "nbformat": 4,
 "nbformat_minor": 2
}
