{
 "cells": [
  {
   "cell_type": "markdown",
   "metadata": {},
   "source": [
    "### Processing for G1 Control Experiment\n",
    "\n",
    "- Name: exp-20180217-G1-K562-control-01\n",
    "- Configuration: ```/lab/repos/celldom/config/experiment/exp-20180217-G1-K562-control-01.yaml```\n",
    "- Example file path: ```/lab/data/dataset06/2018.02.17 G1 35 K562 Test 2 17 hr 201802171700/BF_16X_St_018_Apt_012_F_000.tif```\n",
    "\n",
    "\n",
    "### Notes\n",
    "\n",
    "- **Numbering**\n",
    "\n",
    "Apartment numbers in raw images go up to 46 (where apartment direction is perpendicular to direction of flow, and streets go up to 31.  In the image file names, the meaning of street and apartment are reversed (i.e. the names like ```BF_16X_St_018_Apt_012_F_000.tif``` go up to ```BF_16X_St_046_Apt_028_F_000.tif```)\n",
    "\n",
    "\n",
    "### Processing\n",
    "\n",
    "- Somewhat large random sample:\n",
    "\n",
    "```bash\n",
    "celldom run-processor \\\n",
    "--experiment-config-path=/lab/repos/celldom/config/experiment/exp-20180217-G1-K562-control-01.yaml \\\n",
    "--data-file-patterns=[\"'/lab/data/celldom/dataset/dataset06/*/*.tif'\"] \\\n",
    "--output-dir=/lab/data/celldom/output/20181003-G1-test \\\n",
    "--sample-count=10 \\\n",
    "--enable-focus-scores=False \\\n",
    "--max-failures=10000 \n",
    "```\n",
    "\n",
    "- Full dataset:\n",
    "\n",
    "```bash\n",
    "celldom run-processor \\\n",
    "--experiment-config-path=/lab/repos/celldom/config/experiment/exp-20180217-G1-K562-control-01.yaml \\\n",
    "--data-file-patterns=[\"'/lab/data/celldom/dataset/dataset06/*/*.tif'\"] \\\n",
    "--output-dir=/lab/data/celldom/output/20181003-G1-full \\\n",
    "--enable-focus-scores=False \\\n",
    "--cell-detection-threshold=.9 \\\n",
    "--max-failures=10000 \n",
    "\n",
    "# --cell-detection-threshold=.7 \\\n",
    "```\n",
    "\n",
    "\n",
    "### Analysis\n",
    "\n",
    "```bash\n",
    "export APP_ARRAY_CELL_COUNT_FILL=none\n",
    "export APP_REMOVE_OOB_ADDRESS=false\n",
    "celldom run-overview-app \\\n",
    "--experiment-config-path=/lab/repos/celldom/config/experiment/exp-20180217-G1-K562-control-01.yaml \\\n",
    "--output-dir=/lab/data/celldom/output/20181003-G1-full\n",
    "```\n"
   ]
  },
  {
   "cell_type": "code",
   "execution_count": null,
   "metadata": {},
   "outputs": [],
   "source": []
  }
 ],
 "metadata": {
  "kernelspec": {
   "display_name": "Python 3",
   "language": "python",
   "name": "python3"
  },
  "language_info": {
   "codemirror_mode": {
    "name": "ipython",
    "version": 3
   },
   "file_extension": ".py",
   "mimetype": "text/x-python",
   "name": "python",
   "nbconvert_exporter": "python",
   "pygments_lexer": "ipython3",
   "version": "3.5.2"
  }
 },
 "nbformat": 4,
 "nbformat_minor": 2
}
