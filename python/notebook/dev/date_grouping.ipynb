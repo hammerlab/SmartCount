{
 "cells": [
  {
   "cell_type": "markdown",
   "metadata": {},
   "source": [
    "## Date Grouping\n",
    "\n",
    "Notebook for developing methods to infer groups of measurements based on patterns in time differences between them"
   ]
  },
  {
   "cell_type": "code",
   "execution_count": 1,
   "metadata": {},
   "outputs": [],
   "source": [
    "import pandas as pd\n",
    "import numpy as np"
   ]
  },
  {
   "cell_type": "code",
   "execution_count": 37,
   "metadata": {},
   "outputs": [
    {
     "data": {
      "text/plain": [
       "0   2018-06-27 14:11:00\n",
       "1   2018-06-27 14:12:01\n",
       "2   2018-06-27 14:12:01\n",
       "3   2018-06-27 14:13:00\n",
       "4   2018-06-28 11:50:00\n",
       "5   2018-06-28 11:50:30\n",
       "6   2018-06-28 11:51:00\n",
       "7   2018-06-28 11:51:59\n",
       "dtype: datetime64[ns]"
      ]
     },
     "execution_count": 37,
     "metadata": {},
     "output_type": "execute_result"
    }
   ],
   "source": [
    "dates = pd.Series([\n",
    "    '2018-06-27 14:11:00', \n",
    "    '2018-06-27 14:12:01', \n",
    "    '2018-06-27 14:12:01', \n",
    "    '2018-06-27 14:13:00', \n",
    "    '2018-06-28 11:50:00',\n",
    "    '2018-06-28 11:50:30',\n",
    "    '2018-06-28 11:51:00',\n",
    "    '2018-06-28 11:51:59'\n",
    "])\n",
    "dates = pd.to_datetime(dates)\n",
    "dates"
   ]
  },
  {
   "cell_type": "code",
   "execution_count": 38,
   "metadata": {},
   "outputs": [
    {
     "data": {
      "text/plain": [
       "0        NaT\n",
       "1   00:01:01\n",
       "2   00:00:00\n",
       "3   00:00:59\n",
       "4   21:37:00\n",
       "5   00:00:30\n",
       "6   00:00:30\n",
       "7   00:00:59\n",
       "dtype: timedelta64[ns]"
      ]
     },
     "execution_count": 38,
     "metadata": {},
     "output_type": "execute_result"
    }
   ],
   "source": [
    "diffs = dates.diff()\n",
    "diffs"
   ]
  },
  {
   "cell_type": "code",
   "execution_count": 39,
   "metadata": {},
   "outputs": [
    {
     "data": {
      "text/plain": [
       "0   2018-06-27 14:11:00\n",
       "1   2018-06-27 14:11:00\n",
       "2   2018-06-27 14:11:00\n",
       "3   2018-06-27 14:11:00\n",
       "4   2018-06-28 11:50:00\n",
       "5   2018-06-28 11:50:00\n",
       "6   2018-06-28 11:50:00\n",
       "7   2018-06-28 11:50:00\n",
       "dtype: datetime64[ns]"
      ]
     },
     "execution_count": 39,
     "metadata": {},
     "output_type": "execute_result"
    }
   ],
   "source": [
    "groups = (dates.diff().dt.seconds >= 3600).cumsum()\n",
    "groups.map(dates.groupby(groups).min())"
   ]
  },
  {
   "cell_type": "code",
   "execution_count": 40,
   "metadata": {},
   "outputs": [
    {
     "data": {
      "text/plain": [
       "0        NaN\n",
       "1       61.0\n",
       "2        0.0\n",
       "3       59.0\n",
       "4    77820.0\n",
       "5       30.0\n",
       "6       30.0\n",
       "7       59.0\n",
       "dtype: float64"
      ]
     },
     "execution_count": 40,
     "metadata": {},
     "output_type": "execute_result"
    }
   ],
   "source": [
    "diffs.dt.seconds"
   ]
  },
  {
   "cell_type": "code",
   "execution_count": 51,
   "metadata": {},
   "outputs": [],
   "source": [
    "x = pd.Series(['a', 'b', 'b'])"
   ]
  },
  {
   "cell_type": "code",
   "execution_count": 57,
   "metadata": {},
   "outputs": [],
   "source": [
    "y = []\n",
    "y.extend([])"
   ]
  },
  {
   "cell_type": "code",
   "execution_count": 41,
   "metadata": {},
   "outputs": [],
   "source": [
    "v = diffs.iloc[0]"
   ]
  },
  {
   "cell_type": "code",
   "execution_count": 42,
   "metadata": {},
   "outputs": [
    {
     "data": {
      "text/plain": [
       "NaT"
      ]
     },
     "execution_count": 42,
     "metadata": {},
     "output_type": "execute_result"
    }
   ],
   "source": [
    "v"
   ]
  },
  {
   "cell_type": "code",
   "execution_count": 43,
   "metadata": {},
   "outputs": [
    {
     "data": {
      "text/plain": [
       "nan"
      ]
     },
     "execution_count": 43,
     "metadata": {},
     "output_type": "execute_result"
    }
   ],
   "source": [
    "v.seconds"
   ]
  },
  {
   "cell_type": "code",
   "execution_count": 44,
   "metadata": {},
   "outputs": [
    {
     "data": {
      "text/plain": [
       "True"
      ]
     },
     "execution_count": 44,
     "metadata": {},
     "output_type": "execute_result"
    }
   ],
   "source": [
    "dates.is_monotonic_increasing"
   ]
  },
  {
   "cell_type": "code",
   "execution_count": 45,
   "metadata": {},
   "outputs": [
    {
     "data": {
      "text/plain": [
       "False"
      ]
     },
     "execution_count": 45,
     "metadata": {},
     "output_type": "execute_result"
    }
   ],
   "source": [
    "dates.is_unique"
   ]
  },
  {
   "cell_type": "code",
   "execution_count": 46,
   "metadata": {},
   "outputs": [
    {
     "data": {
      "text/plain": [
       "True"
      ]
     },
     "execution_count": 46,
     "metadata": {},
     "output_type": "execute_result"
    }
   ],
   "source": [
    "dates.drop_duplicates().is_unique"
   ]
  },
  {
   "cell_type": "code",
   "execution_count": 34,
   "metadata": {},
   "outputs": [],
   "source": [
    "def group_dates(dates, min_gap_seconds):\n",
    "    # Make sure dates are sorted\n",
    "    if not dates.is_monotonic_increasing:\n",
    "        dates = dates.sort_values()\n",
    "        \n",
    "    # Create a new group index each time the difference between steps exceeds the given threshold (in seconds)\n",
    "    groups = (dates.diff().dt.seconds >= min_gap_seconds).cumsum()\n",
    "    \n",
    "    # Get the minimum date for each group and then get a vector of len(dates) continaing the group date\n",
    "    # for each original date\n",
    "    groups = groups.map(dates.groupby(groups).min())\n",
    "    \n",
    "    # Return a series mapping the original dates to the grouped date\n",
    "    return pd.Series(groups.values, index=dates.values)"
   ]
  },
  {
   "cell_type": "code",
   "execution_count": 35,
   "metadata": {},
   "outputs": [
    {
     "name": "stdout",
     "output_type": "stream",
     "text": [
      "0   2018-06-27 14:11:00\n",
      "1   2018-06-27 14:11:00\n",
      "2   2018-06-27 14:11:00\n",
      "3   2018-06-28 11:50:00\n",
      "4   2018-06-28 11:50:00\n",
      "5   2018-06-28 11:50:00\n",
      "6   2018-06-28 11:50:00\n",
      "dtype: datetime64[ns]\n"
     ]
    },
    {
     "data": {
      "text/plain": [
       "2018-06-27 14:11:00   2018-06-27 14:11:00\n",
       "2018-06-27 14:12:01   2018-06-27 14:11:00\n",
       "2018-06-27 14:13:00   2018-06-27 14:11:00\n",
       "2018-06-28 11:50:00   2018-06-28 11:50:00\n",
       "2018-06-28 11:50:30   2018-06-28 11:50:00\n",
       "2018-06-28 11:51:00   2018-06-28 11:50:00\n",
       "2018-06-28 11:51:59   2018-06-28 11:50:00\n",
       "dtype: datetime64[ns]"
      ]
     },
     "execution_count": 35,
     "metadata": {},
     "output_type": "execute_result"
    }
   ],
   "source": [
    "group_dates(dates, 3600)"
   ]
  },
  {
   "cell_type": "code",
   "execution_count": null,
   "metadata": {},
   "outputs": [],
   "source": []
  }
 ],
 "metadata": {
  "kernelspec": {
   "display_name": "Python 3",
   "language": "python",
   "name": "python3"
  },
  "language_info": {
   "codemirror_mode": {
    "name": "ipython",
    "version": 3
   },
   "file_extension": ".py",
   "mimetype": "text/x-python",
   "name": "python",
   "nbconvert_exporter": "python",
   "pygments_lexer": "ipython3",
   "version": "3.5.2"
  }
 },
 "nbformat": 4,
 "nbformat_minor": 2
}
