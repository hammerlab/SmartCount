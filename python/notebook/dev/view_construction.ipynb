{
 "cells": [
  {
   "cell_type": "code",
   "execution_count": 1,
   "metadata": {},
   "outputs": [],
   "source": [
    "%run -m celldom.nb.logging"
   ]
  },
  {
   "cell_type": "code",
   "execution_count": 2,
   "metadata": {},
   "outputs": [],
   "source": [
    "import os\n",
    "import os.path as osp\n",
    "import matplotlib.pyplot as plt\n",
    "import numpy as np\n",
    "import pandas as pd\n",
    "from celldom.core import experiment\n",
    "from celldom.config import experiment_config\n",
    "import celldom\n",
    "plt.gray()\n",
    "None"
   ]
  },
  {
   "cell_type": "code",
   "execution_count": 3,
   "metadata": {},
   "outputs": [],
   "source": [
    "# config = experiment_config.get_exp_config_by_name('exp-20180217-G1-K562-control-01')\n",
    "# data_dir = '/lab/data/celldom/output/20181003-G1-full'"
   ]
  },
  {
   "cell_type": "code",
   "execution_count": null,
   "metadata": {},
   "outputs": [],
   "source": [
    "experiment_config.ExperimentConfig"
   ]
  },
  {
   "cell_type": "code",
   "execution_count": 4,
   "metadata": {},
   "outputs": [],
   "source": [
    "config = experiment_config.get_exp_config_by_name('exp-20180614-G3-K562-imatinib-poc-01')\n",
    "data_dir = '/lab/data/celldom/output/20181005-G3-full'"
   ]
  },
  {
   "cell_type": "code",
   "execution_count": 5,
   "metadata": {},
   "outputs": [],
   "source": [
    "exp = experiment.Experiment(config, data_dir)"
   ]
  },
  {
   "cell_type": "code",
   "execution_count": 6,
   "metadata": {},
   "outputs": [],
   "source": [
    "from celldom.execute import view"
   ]
  },
  {
   "cell_type": "code",
   "execution_count": 7,
   "metadata": {},
   "outputs": [
    {
     "name": "stderr",
     "output_type": "stream",
     "text": [
      "2018-11-15 15:35:14,223:INFO:celldom.execute.view: Building acquisition view\n",
      "2018-11-15 15:35:14,924:INFO:celldom.execute.view: Saving results for calculation \"acquisition\" to path \"/lab/data/celldom/output/20181005-G3-full/views.h5\"\n",
      "2018-11-15 15:35:15,073:INFO:celldom.execute.view: Building cell view\n",
      "2018-11-15 15:35:21,270:INFO:celldom.execute.view: Saving results for calculation \"cell\" to path \"/lab/data/celldom/output/20181005-G3-full/views.h5\"\n",
      "2018-11-15 15:35:23,442:INFO:celldom.execute.view: Building apartment view\n",
      "2018-11-15 15:38:16,672:INFO:celldom.execute.view: Saving results for calculation \"apartment\" to path \"/lab/data/celldom/output/20181005-G3-full/views.h5\"\n",
      "2018-11-15 15:38:17,511:INFO:celldom.execute.view: Building apartment summary view\n",
      "2018-11-15 15:40:30,237:INFO:celldom.execute.view: Invalidating growth rates for 6288 apartments (of 15637) due to lack of match to initial condition filter \"['single_cell']\"\n",
      "2018-11-15 15:40:30,255:INFO:celldom.execute.view: Saving results for calculation \"apartment_summary\" to path \"/lab/data/celldom/output/20181005-G3-full/views.h5\"\n"
     ]
    }
   ],
   "source": [
    "view.build_all(exp, force=True)"
   ]
  },
  {
   "cell_type": "code",
   "execution_count": 10,
   "metadata": {},
   "outputs": [],
   "source": [
    "store = exp.get_view_store()"
   ]
  },
  {
   "cell_type": "code",
   "execution_count": 11,
   "metadata": {},
   "outputs": [
    {
     "data": {
      "text/plain": [
       "['/acquisition', '/apartment', '/apartment_summary', '/cell']"
      ]
     },
     "execution_count": 11,
     "metadata": {},
     "output_type": "execute_result"
    }
   ],
   "source": [
    "store.keys()"
   ]
  },
  {
   "cell_type": "code",
   "execution_count": 12,
   "metadata": {},
   "outputs": [],
   "source": [
    "# import imp\n",
    "# imp.reload(view)"
   ]
  },
  {
   "cell_type": "code",
   "execution_count": 13,
   "metadata": {},
   "outputs": [],
   "source": [
    "# df = view.get_cell_view(exp, store.get('acquisition'))"
   ]
  },
  {
   "cell_type": "code",
   "execution_count": 14,
   "metadata": {},
   "outputs": [],
   "source": [
    "df = store.get('apartment_summary')"
   ]
  },
  {
   "cell_type": "code",
   "execution_count": 15,
   "metadata": {},
   "outputs": [
    {
     "name": "stdout",
     "output_type": "stream",
     "text": [
      "<class 'pandas.core.frame.DataFrame'>\n",
      "Int64Index: 15637 entries, 0 to 15636\n",
      "Data columns (total 22 columns):\n",
      "acq_pump                15637 non-null object\n",
      "acq_color               15637 non-null object\n",
      "acq_condition           15637 non-null object\n",
      "acq_cohort              15637 non-null object\n",
      "st_num                  15637 non-null object\n",
      "apt_num                 15637 non-null object\n",
      "acq_ids                 15637 non-null object\n",
      "cell_counts             15637 non-null object\n",
      "confluence              15637 non-null object\n",
      "dates                   15637 non-null object\n",
      "first_date              15637 non-null datetime64[ns]\n",
      "first_hour              15637 non-null int64\n",
      "growth_rate             9347 non-null float64\n",
      "hours                   15637 non-null object\n",
      "initial_condition       15637 non-null object\n",
      "last_date               15637 non-null datetime64[ns]\n",
      "last_hour               15637 non-null int64\n",
      "max_count               15637 non-null float64\n",
      "min_count               15637 non-null float64\n",
      "n                       15637 non-null int64\n",
      "occupancies             15637 non-null object\n",
      "tz_count_any_chamber    15531 non-null float64\n",
      "dtypes: datetime64[ns](2), float64(4), int64(3), object(13)\n",
      "memory usage: 2.7+ MB\n"
     ]
    }
   ],
   "source": [
    "df.info()"
   ]
  },
  {
   "cell_type": "code",
   "execution_count": 16,
   "metadata": {},
   "outputs": [
    {
     "data": {
      "text/plain": [
       "1.0     9349\n",
       "2.0     2992\n",
       "0.0     1955\n",
       "3.0      895\n",
       "4.0      260\n",
       "5.0       57\n",
       "6.0       10\n",
       "7.0        4\n",
       "10.0       3\n",
       "9.0        1\n",
       "30.0       1\n",
       "11.0       1\n",
       "14.0       1\n",
       "8.0        1\n",
       "12.0       1\n",
       "Name: tz_count_any_chamber, dtype: int64"
      ]
     },
     "execution_count": 16,
     "metadata": {},
     "output_type": "execute_result"
    }
   ],
   "source": [
    "df['tz_count_any_chamber'].value_counts()"
   ]
  },
  {
   "cell_type": "code",
   "execution_count": 17,
   "metadata": {},
   "outputs": [
    {
     "data": {
      "text/plain": [
       "single_cell          9349\n",
       "double_cell          2992\n",
       "no_cell              1955\n",
       "triple_cell           895\n",
       "many_cells            340\n",
       "no_time_zero_data     106\n",
       "Name: initial_condition, dtype: int64"
      ]
     },
     "execution_count": 17,
     "metadata": {},
     "output_type": "execute_result"
    }
   ],
   "source": [
    "df['initial_condition'].value_counts()"
   ]
  },
  {
   "cell_type": "code",
   "execution_count": null,
   "metadata": {},
   "outputs": [],
   "source": []
  }
 ],
 "metadata": {
  "kernelspec": {
   "display_name": "Python 3",
   "language": "python",
   "name": "python3"
  },
  "language_info": {
   "codemirror_mode": {
    "name": "ipython",
    "version": 3
   },
   "file_extension": ".py",
   "mimetype": "text/x-python",
   "name": "python",
   "nbconvert_exporter": "python",
   "pygments_lexer": "ipython3",
   "version": "3.5.2"
  }
 },
 "nbformat": 4,
 "nbformat_minor": 2
}
