{
 "cells": [
  {
   "cell_type": "markdown",
   "metadata": {},
   "source": [
    "# Chip Configuration Generator"
   ]
  },
  {
   "cell_type": "markdown",
   "metadata": {},
   "source": [
    "#### G1"
   ]
  },
  {
   "cell_type": "code",
   "execution_count": 27,
   "metadata": {},
   "outputs": [
    {
     "name": "stdout",
     "output_type": "stream",
     "text": [
      "apt_margins: {bottom: 15, left: -92, right: 93, top: -178}\n",
      "apt_num_digit_bounds:\n",
      "- {bottom: 35, left: 0, right: 27, top: 15}\n",
      "- {bottom: 21, left: 0, right: 27, top: 0}\n",
      "apt_num_digit_count: 2\n",
      "apt_num_margins: {bottom: -11, left: 56, right: 83, top: -46}\n",
      "apt_num_range: [0, 46]\n",
      "apt_num_rotation: -90\n",
      "components:\n",
      "  chamber:\n",
      "    boundary:\n",
      "    - [93, 16]\n",
      "    - [80, 17]\n",
      "    - [69, 19]\n",
      "    - [58, 24]\n",
      "    - [46, 32]\n",
      "    - [36, 41]\n",
      "    - [28, 52]\n",
      "    - [22, 64]\n",
      "    - [19, 75]\n",
      "    - [18, 88]\n",
      "    - [19, 100]\n",
      "    - [22, 116]\n",
      "    - [27, 125]\n",
      "    - [35, 137]\n",
      "    - [44, 147]\n",
      "    - [54, 154]\n",
      "    - [68, 160]\n",
      "    - [76, 162]\n",
      "    - [84, 171]\n",
      "    - [92, 181]\n",
      "    - [101, 170]\n",
      "    - [107, 162]\n",
      "    - [131, 153]\n",
      "    - [139, 147]\n",
      "    - [149, 137]\n",
      "    - [158, 124]\n",
      "    - [164, 109]\n",
      "    - [166, 98]\n",
      "    - [166, 88]\n",
      "    - [165, 75]\n",
      "    - [161, 64]\n",
      "    - [155, 51]\n",
      "    - [148, 41]\n",
      "    - [139, 32]\n",
      "    - [128, 25]\n",
      "    - [116, 19]\n",
      "    - [107, 17]\n",
      "    - [93, 16]\n",
      "marker_spacing: {horizontal: 198, vertical: 198}\n",
      "name: G01\n",
      "st_num_digit_bounds:\n",
      "- {bottom: 35, left: 0, right: 27, top: 15}\n",
      "- {bottom: 21, left: 0, right: 27, top: 0}\n",
      "st_num_digit_count: 2\n",
      "st_num_margins: {bottom: -11, left: -83, right: -56, top: -46}\n",
      "st_num_range: [0, 31]\n",
      "st_num_rotation: -90\n",
      "\n"
     ]
    }
   ],
   "source": [
    "!celldom create_chip_configuration /lab/repos/celldom/config/chip/chip-G01/chip-G01.via.csv \\\n",
    "--chip_name=G01 \\\n",
    "--marker_spacing=[198,198] \\\n",
    "--apt_num_range=[0,46] \\\n",
    "--apt_num_rotation=-90 \\\n",
    "--st_num_range=[0,31] \\\n",
    "--st_num_rotation=-90 \\\n",
    "--single_digit_pad=3 \\\n",
    "> /lab/repos/celldom/config/chip/chip-G01.yaml\n",
    "!cat /lab/repos/celldom/config/chip/chip-G01.yaml"
   ]
  },
  {
   "cell_type": "markdown",
   "metadata": {},
   "source": [
    "#### G1v2"
   ]
  },
  {
   "cell_type": "code",
   "execution_count": 6,
   "metadata": {},
   "outputs": [
    {
     "name": "stdout",
     "output_type": "stream",
     "text": [
      "apt_bbox: {bottom: 209, left: 9, right: 190, top: 5}\n",
      "apt_margins: {bottom: 23, left: -90, right: 91, top: -181}\n",
      "apt_num_digit_bounds:\n",
      "- {bottom: 24, left: 0, right: 16, top: 0}\n",
      "- {bottom: 24, left: 16, right: 32, top: 0}\n",
      "apt_num_digit_count: 2\n",
      "apt_num_margins: {bottom: -9, left: 51, right: 83, top: -33}\n",
      "apt_num_range: [0, 46]\n",
      "apt_num_rotation: 0\n",
      "components:\n",
      "  chamber:\n",
      "    boundary:\n",
      "    - [88, 19]\n",
      "    - [75, 20]\n",
      "    - [60, 25]\n",
      "    - [40, 37]\n",
      "    - [27, 54]\n",
      "    - [18, 74]\n",
      "    - [15, 94]\n",
      "    - [19, 114]\n",
      "    - [28, 134]\n",
      "    - [42, 149]\n",
      "    - [58, 159]\n",
      "    - [76, 165]\n",
      "    - [90, 183]\n",
      "    - [106, 164]\n",
      "    - [125, 157]\n",
      "    - [145, 142]\n",
      "    - [156, 127]\n",
      "    - [162, 108]\n",
      "    - [164, 87]\n",
      "    - [159, 66]\n",
      "    - [149, 49]\n",
      "    - [138, 36]\n",
      "    - [127, 28]\n",
      "    - [112, 22]\n",
      "    - [98, 20]\n",
      "  trap:\n",
      "    boundary:\n",
      "    - [71, 180]\n",
      "    - [109, 180]\n",
      "    - [109, 202]\n",
      "    - [71, 202]\n",
      "marker_spacing: {horizontal: 198, vertical: 198}\n",
      "name: G1v2\n",
      "st_num_digit_bounds:\n",
      "- {bottom: 24, left: 0, right: 17, top: 0}\n",
      "- {bottom: 24, left: 17, right: 34, top: 0}\n",
      "st_num_digit_count: 2\n",
      "st_num_margins: {bottom: -9, left: -81, right: -47, top: -33}\n",
      "st_num_range: [0, 31]\n",
      "st_num_rotation: 0\n",
      "template_image_path: /lab/repos/celldom/config/chip/chip-G1v2/chip-G1v2.png\n",
      "\n"
     ]
    }
   ],
   "source": [
    "!celldom create_chip_configuration /lab/repos/celldom/config/chip/chip-G1v2/chip-G1v2.via.csv \\\n",
    "--chip_name=G1v2 \\\n",
    "--marker_spacing=[198,198] \\\n",
    "--apt_num_range=[0,46] \\\n",
    "--st_num_range=[0,31] \\\n",
    "--single_digit_pad=0 \\\n",
    "> /lab/repos/celldom/config/chip/chip-G1v2.yaml\n",
    "!cat /lab/repos/celldom/config/chip/chip-G1v2.yaml"
   ]
  },
  {
   "cell_type": "markdown",
   "metadata": {},
   "source": [
    "#### G2"
   ]
  },
  {
   "cell_type": "code",
   "execution_count": 14,
   "metadata": {},
   "outputs": [
    {
     "name": "stdout",
     "output_type": "stream",
     "text": [
      "apt_margins: {bottom: 56, left: -148, right: 64, top: -240}\n",
      "apt_num_digit_bounds:\n",
      "- {bottom: 31, left: 0, right: 21, top: 0}\n",
      "- {bottom: 31, left: 15, right: 41, top: 0}\n",
      "- {bottom: 31, left: 35, right: 57, top: 0}\n",
      "apt_num_digit_count: 3\n",
      "apt_num_margins: {bottom: -174, left: 6, right: 63, top: -205}\n",
      "apt_num_range: [0, 46]\n",
      "apt_num_rotation: 0\n",
      "components:\n",
      "  chamber:\n",
      "    boundary:\n",
      "    - [82, 7]\n",
      "    - [128, 7]\n",
      "    - [137, 18]\n",
      "    - [144, 34]\n",
      "    - [149, 52]\n",
      "    - [148, 196]\n",
      "    - [144, 211]\n",
      "    - [136, 228]\n",
      "    - [105, 260]\n",
      "    - [77, 232]\n",
      "    - [66, 211]\n",
      "    - [61, 191]\n",
      "    - [61, 50]\n",
      "    - [68, 27]\n",
      "    - [75, 15]\n",
      "  trap:\n",
      "    boundary:\n",
      "    - [64, 261]\n",
      "    - [146, 261]\n",
      "    - [146, 295]\n",
      "    - [64, 295]\n",
      "marker_spacing: {horizontal: 255, vertical: 275}\n",
      "name: G02\n",
      "st_num_digit_bounds:\n",
      "- {bottom: 31, left: 0, right: 22, top: 0}\n",
      "- {bottom: 31, left: 17, right: 43, top: 0}\n",
      "- {bottom: 31, left: 37, right: 58, top: 0}\n",
      "st_num_digit_count: 3\n",
      "st_num_margins: {bottom: -7, left: -145, right: -87, top: -38}\n",
      "st_num_range: [0, 31]\n",
      "st_num_rotation: 0\n",
      "\n"
     ]
    }
   ],
   "source": [
    "!celldom create_chip_configuration /lab/repos/celldom/config/chip/chip-G02/chip-G02.via.csv \\\n",
    "--chip_name=G02 \\\n",
    "--marker_spacing=[255,275] \\\n",
    "--apt_num_range=[0,46] \\\n",
    "--st_num_range=[0,31] > /lab/repos/celldom/config/chip/chip-G02.yaml\n",
    "!cat /lab/repos/celldom/config/chip/chip-G02.yaml"
   ]
  },
  {
   "cell_type": "markdown",
   "metadata": {},
   "source": [
    "#### G3"
   ]
  },
  {
   "cell_type": "code",
   "execution_count": 17,
   "metadata": {},
   "outputs": [
    {
     "name": "stdout",
     "output_type": "stream",
     "text": [
      "apt_margins: {bottom: 68, left: -192, right: 43, top: -156}\n",
      "apt_num_digit_bounds:\n",
      "- {bottom: 46, left: 0, right: 27, top: 0}\n",
      "- {bottom: 46, left: 21, right: 50, top: 0}\n",
      "apt_num_digit_count: 2\n",
      "apt_num_margins: {bottom: -87, left: -10, right: 40, top: -133}\n",
      "apt_num_range: [0, 57]\n",
      "apt_num_rotation: 0\n",
      "components:\n",
      "  chamber:\n",
      "    boundary:\n",
      "    - [86, 11]\n",
      "    - [147, 11]\n",
      "    - [173, 36]\n",
      "    - [183, 62]\n",
      "    - [182, 115]\n",
      "    - [171, 139]\n",
      "    - [119, 187]\n",
      "    - [64, 139]\n",
      "    - [53, 113]\n",
      "    - [54, 61]\n",
      "    - [64, 33]\n",
      "  trap:\n",
      "    boundary:\n",
      "    - [84, 187]\n",
      "    - [152, 187]\n",
      "    - [152, 223]\n",
      "    - [84, 223]\n",
      "marker_spacing: {horizontal: 260, vertical: 198}\n",
      "name: G03\n",
      "st_num_digit_bounds:\n",
      "- {bottom: 42, left: 0, right: 27, top: 0}\n",
      "- {bottom: 42, left: 21, right: 50, top: 0}\n",
      "st_num_digit_count: 2\n",
      "st_num_margins: {bottom: 8, left: -188, right: -138, top: -34}\n",
      "st_num_range: [0, 15]\n",
      "st_num_rotation: 0\n",
      "\n"
     ]
    }
   ],
   "source": [
    "!celldom create_chip_configuration /lab/repos/celldom/config/chip/chip-G03/chip-G03.via.csv \\\n",
    "--chip_name=G03 \\\n",
    "--marker_spacing=[260,198] \\\n",
    "--apt_num_range=[0,57] \\\n",
    "--st_num_range=[0,15] > /lab/repos/celldom/config/chip/chip-G03.yaml\n",
    "!cat /lab/repos/celldom/config/chip/chip-G03.yaml"
   ]
  },
  {
   "cell_type": "markdown",
   "metadata": {},
   "source": [
    "#### MLadder (ML)"
   ]
  },
  {
   "cell_type": "code",
   "execution_count": 1,
   "metadata": {},
   "outputs": [
    {
     "name": "stdout",
     "output_type": "stream",
     "text": [
      "apt_margins: {bottom: 209, left: -153, right: 46, top: -43}\n",
      "apt_num_digit_bounds:\n",
      "- {bottom: 29, left: 0, right: 21, top: 0}\n",
      "- {bottom: 29, left: 15, right: 38, top: 0}\n",
      "- {bottom: 29, left: 32, right: 53, top: 0}\n",
      "apt_num_digit_count: 3\n",
      "apt_num_margins: {bottom: 44, left: -11, right: 42, top: 15}\n",
      "apt_num_range: [0, 46]\n",
      "apt_num_rotation: 0\n",
      "components:\n",
      "  chamber:\n",
      "    boundary:\n",
      "    - [74, 13]\n",
      "    - [69, 21]\n",
      "    - [61, 36]\n",
      "    - [56, 51]\n",
      "    - [54, 67]\n",
      "    - [54, 152]\n",
      "    - [56, 170]\n",
      "    - [61, 189]\n",
      "    - [74, 210]\n",
      "    - [89, 224]\n",
      "    - [98, 231]\n",
      "    - [106, 225]\n",
      "    - [119, 214]\n",
      "    - [131, 199]\n",
      "    - [137, 186]\n",
      "    - [142, 171]\n",
      "    - [143, 158]\n",
      "    - [143, 64]\n",
      "    - [142, 53]\n",
      "    - [138, 37]\n",
      "    - [133, 28]\n",
      "    - [127, 20]\n",
      "    - [123, 13]\n",
      "marker_spacing: {horizontal: 207, vertical: 217}\n",
      "name: ML\n",
      "st_num_digit_bounds:\n",
      "- {bottom: 30, left: 0, right: 21, top: 0}\n",
      "- {bottom: 30, left: 15, right: 38, top: 0}\n",
      "- {bottom: 30, left: 32, right: 53, top: 0}\n",
      "st_num_digit_count: 3\n",
      "st_num_margins: {bottom: 143, left: -150, right: -97, top: 113}\n",
      "st_num_range: [0, 127]\n",
      "st_num_rotation: 0\n",
      "\n"
     ]
    }
   ],
   "source": [
    "!celldom create_chip_configuration /lab/repos/celldom/config/chip/chip-ML01/chip-ML01.via.csv \\\n",
    "--chip_name=ML01 \\\n",
    "--marker_spacing=[207,217] \\\n",
    "--apt_num_range=[0,46] \\\n",
    "--st_num_range=[0,127] \\\n",
    "--single_digit_pad=3 \\\n",
    "> /lab/repos/celldom/config/chip/chip-ML01.yaml\n",
    "!cat /lab/repos/celldom/config/chip/chip-ML01.yaml"
   ]
  }
 ],
 "metadata": {
  "kernelspec": {
   "display_name": "Python 3",
   "language": "python",
   "name": "python3"
  },
  "language_info": {
   "codemirror_mode": {
    "name": "ipython",
    "version": 3
   },
   "file_extension": ".py",
   "mimetype": "text/x-python",
   "name": "python",
   "nbconvert_exporter": "python",
   "pygments_lexer": "ipython3",
   "version": "3.5.2"
  }
 },
 "nbformat": 4,
 "nbformat_minor": 2
}
