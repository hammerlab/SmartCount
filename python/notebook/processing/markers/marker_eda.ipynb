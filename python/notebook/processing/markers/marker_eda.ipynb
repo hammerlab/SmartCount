{
 "cells": [
  {
   "cell_type": "markdown",
   "metadata": {},
   "source": [
    "# Marker EDA"
   ]
  },
  {
   "cell_type": "code",
   "execution_count": 19,
   "metadata": {},
   "outputs": [
    {
     "name": "stderr",
     "output_type": "stream",
     "text": [
      "/usr/local/lib/python3.5/dist-packages/h5py/__init__.py:36: FutureWarning: Conversion of the second argument of issubdtype from `float` to `np.floating` is deprecated. In future, it will be treated as `np.float64 == np.dtype(float).type`.\n",
      "  from ._conv import register_converters as _register_converters\n"
     ]
    }
   ],
   "source": [
    "%matplotlib inline\n",
    "import os\n",
    "import os.path as osp\n",
    "import celldom\n",
    "import pandas as pd\n",
    "import numpy as np\n",
    "from skimage import io as skimage_io\n",
    "from cvutils.mrcnn import dataset as mrcnn_dataset\n",
    "import matplotlib.pyplot as plt\n",
    "dataset_name = 'dataset03'\n",
    "dataset_dir = celldom.get_dataset_dir()\n",
    "marker_data_dir = osp.join(dataset_dir, dataset_name, 'MarkerTraining')"
   ]
  },
  {
   "cell_type": "code",
   "execution_count": 11,
   "metadata": {},
   "outputs": [
    {
     "data": {
      "text/plain": [
       "array([-3. ,  1.5,  0.5,  1. ])"
      ]
     },
     "execution_count": 11,
     "metadata": {},
     "output_type": "execute_result"
    }
   ],
   "source": [
    "x = pd.Series([1,2.5,3,4]).values\n",
    "x = np.ediff1d(x, to_begin=x[0] - x[-1])"
   ]
  },
  {
   "cell_type": "code",
   "execution_count": 22,
   "metadata": {},
   "outputs": [
    {
     "data": {
      "text/plain": [
       "['/lab/data/celldom/data/dataset03/MarkerTraining/BF_ST_000_APT_000_z_0.tif',\n",
       " '/lab/data/celldom/data/dataset03/MarkerTraining/BF_ST_000_APT_000_zm3.tif',\n",
       " '/lab/data/celldom/data/dataset03/MarkerTraining/BF_ST_000_APT_000_zm6.tif',\n",
       " '/lab/data/celldom/data/dataset03/MarkerTraining/BF_ST_000_APT_000_zm9.tif',\n",
       " '/lab/data/celldom/data/dataset03/MarkerTraining/BF_ST_000_APT_000_zp3.tif',\n",
       " '/lab/data/celldom/data/dataset03/MarkerTraining/BF_ST_000_APT_000_zp6.tif',\n",
       " '/lab/data/celldom/data/dataset03/MarkerTraining/BF_ST_000_APT_000_zp9.tif',\n",
       " '/lab/data/celldom/data/dataset03/MarkerTraining/BF_ST_000_APT_046_z_0.tif',\n",
       " '/lab/data/celldom/data/dataset03/MarkerTraining/BF_ST_000_APT_046_zm3.tif',\n",
       " '/lab/data/celldom/data/dataset03/MarkerTraining/BF_ST_000_APT_046_zm6.tif',\n",
       " '/lab/data/celldom/data/dataset03/MarkerTraining/BF_ST_000_APT_046_zm9.tif',\n",
       " '/lab/data/celldom/data/dataset03/MarkerTraining/BF_ST_000_APT_046_zp3.tif',\n",
       " '/lab/data/celldom/data/dataset03/MarkerTraining/BF_ST_000_APT_046_zp6.tif',\n",
       " '/lab/data/celldom/data/dataset03/MarkerTraining/BF_ST_000_APT_046_zp9.tif',\n",
       " '/lab/data/celldom/data/dataset03/MarkerTraining/BF_ST_003_APT_022_z_0.tif',\n",
       " '/lab/data/celldom/data/dataset03/MarkerTraining/BF_ST_003_APT_022_zm3.tif',\n",
       " '/lab/data/celldom/data/dataset03/MarkerTraining/BF_ST_003_APT_022_zm6.tif',\n",
       " '/lab/data/celldom/data/dataset03/MarkerTraining/BF_ST_003_APT_022_zm9.tif',\n",
       " '/lab/data/celldom/data/dataset03/MarkerTraining/BF_ST_003_APT_022_zp3.tif',\n",
       " '/lab/data/celldom/data/dataset03/MarkerTraining/BF_ST_003_APT_022_zp6.tif',\n",
       " '/lab/data/celldom/data/dataset03/MarkerTraining/BF_ST_003_APT_022_zp9.tif',\n",
       " '/lab/data/celldom/data/dataset03/MarkerTraining/BF_ST_003_APT_042_z_0.tif',\n",
       " '/lab/data/celldom/data/dataset03/MarkerTraining/BF_ST_003_APT_042_zm3.tif',\n",
       " '/lab/data/celldom/data/dataset03/MarkerTraining/BF_ST_003_APT_042_zm6.tif',\n",
       " '/lab/data/celldom/data/dataset03/MarkerTraining/BF_ST_003_APT_042_zm9.tif',\n",
       " '/lab/data/celldom/data/dataset03/MarkerTraining/BF_ST_003_APT_042_zp3.tif',\n",
       " '/lab/data/celldom/data/dataset03/MarkerTraining/BF_ST_003_APT_042_zp6.tif',\n",
       " '/lab/data/celldom/data/dataset03/MarkerTraining/BF_ST_003_APT_042_zp9.tif',\n",
       " '/lab/data/celldom/data/dataset03/MarkerTraining/BF_ST_006_APT_000_z_0.tif',\n",
       " '/lab/data/celldom/data/dataset03/MarkerTraining/BF_ST_006_APT_000_zm3.tif',\n",
       " '/lab/data/celldom/data/dataset03/MarkerTraining/BF_ST_006_APT_000_zm6.tif',\n",
       " '/lab/data/celldom/data/dataset03/MarkerTraining/BF_ST_006_APT_000_zm9.tif',\n",
       " '/lab/data/celldom/data/dataset03/MarkerTraining/BF_ST_006_APT_000_zp3.tif',\n",
       " '/lab/data/celldom/data/dataset03/MarkerTraining/BF_ST_006_APT_000_zp6.tif',\n",
       " '/lab/data/celldom/data/dataset03/MarkerTraining/BF_ST_006_APT_000_zp9.tif',\n",
       " '/lab/data/celldom/data/dataset03/MarkerTraining/BF_ST_006_APT_032_z_0.tif',\n",
       " '/lab/data/celldom/data/dataset03/MarkerTraining/BF_ST_006_APT_032_zm3.tif',\n",
       " '/lab/data/celldom/data/dataset03/MarkerTraining/BF_ST_006_APT_032_zm6.tif',\n",
       " '/lab/data/celldom/data/dataset03/MarkerTraining/BF_ST_006_APT_032_zm9.tif',\n",
       " '/lab/data/celldom/data/dataset03/MarkerTraining/BF_ST_006_APT_032_zp3.tif',\n",
       " '/lab/data/celldom/data/dataset03/MarkerTraining/BF_ST_006_APT_032_zp6.tif',\n",
       " '/lab/data/celldom/data/dataset03/MarkerTraining/BF_ST_006_APT_032_zp9.tif',\n",
       " '/lab/data/celldom/data/dataset03/MarkerTraining/BF_ST_006_APT_046_z_0.tif',\n",
       " '/lab/data/celldom/data/dataset03/MarkerTraining/BF_ST_006_APT_046_zm3.tif',\n",
       " '/lab/data/celldom/data/dataset03/MarkerTraining/BF_ST_006_APT_046_zm6.tif',\n",
       " '/lab/data/celldom/data/dataset03/MarkerTraining/BF_ST_006_APT_046_zm9.tif',\n",
       " '/lab/data/celldom/data/dataset03/MarkerTraining/BF_ST_006_APT_046_zp3.tif',\n",
       " '/lab/data/celldom/data/dataset03/MarkerTraining/BF_ST_006_APT_046_zp6.tif',\n",
       " '/lab/data/celldom/data/dataset03/MarkerTraining/BF_ST_006_APT_046_zp9.tif',\n",
       " '/lab/data/celldom/data/dataset03/MarkerTraining/BF_ST_009_APT_012_z_0.tif',\n",
       " '/lab/data/celldom/data/dataset03/MarkerTraining/BF_ST_009_APT_012_zm3.tif',\n",
       " '/lab/data/celldom/data/dataset03/MarkerTraining/BF_ST_009_APT_012_zm6.tif',\n",
       " '/lab/data/celldom/data/dataset03/MarkerTraining/BF_ST_009_APT_012_zm9.tif',\n",
       " '/lab/data/celldom/data/dataset03/MarkerTraining/BF_ST_009_APT_012_zp3.tif',\n",
       " '/lab/data/celldom/data/dataset03/MarkerTraining/BF_ST_009_APT_012_zp6.tif',\n",
       " '/lab/data/celldom/data/dataset03/MarkerTraining/BF_ST_009_APT_012_zp9.tif',\n",
       " '/lab/data/celldom/data/dataset03/MarkerTraining/BF_ST_012_APT_000_z_0.tif',\n",
       " '/lab/data/celldom/data/dataset03/MarkerTraining/BF_ST_012_APT_000_zm3.tif',\n",
       " '/lab/data/celldom/data/dataset03/MarkerTraining/BF_ST_012_APT_000_zm6.tif',\n",
       " '/lab/data/celldom/data/dataset03/MarkerTraining/BF_ST_012_APT_000_zm9.tif',\n",
       " '/lab/data/celldom/data/dataset03/MarkerTraining/BF_ST_012_APT_000_zp3.tif',\n",
       " '/lab/data/celldom/data/dataset03/MarkerTraining/BF_ST_012_APT_000_zp6.tif',\n",
       " '/lab/data/celldom/data/dataset03/MarkerTraining/BF_ST_012_APT_000_zp9.tif',\n",
       " '/lab/data/celldom/data/dataset03/MarkerTraining/BF_ST_012_APT_008_z_0.tif',\n",
       " '/lab/data/celldom/data/dataset03/MarkerTraining/BF_ST_012_APT_008_zm3.tif',\n",
       " '/lab/data/celldom/data/dataset03/MarkerTraining/BF_ST_012_APT_008_zm6.tif',\n",
       " '/lab/data/celldom/data/dataset03/MarkerTraining/BF_ST_012_APT_008_zm9.tif',\n",
       " '/lab/data/celldom/data/dataset03/MarkerTraining/BF_ST_012_APT_008_zp3.tif',\n",
       " '/lab/data/celldom/data/dataset03/MarkerTraining/BF_ST_012_APT_008_zp6.tif',\n",
       " '/lab/data/celldom/data/dataset03/MarkerTraining/BF_ST_012_APT_008_zp9.tif']"
      ]
     },
     "execution_count": 22,
     "metadata": {},
     "output_type": "execute_result"
    }
   ],
   "source": [
    "marker_image_paths = !ls $marker_data_dir/*.tif\n",
    "marker_image_paths"
   ]
  },
  {
   "cell_type": "code",
   "execution_count": 23,
   "metadata": {},
   "outputs": [],
   "source": [
    "dataset = mrcnn_dataset.RectLabelDataset()\n",
    "dataset.initialize(marker_image_paths, ['Marker'], 'markers')\n",
    "dataset.prepare()"
   ]
  },
  {
   "cell_type": "code",
   "execution_count": 164,
   "metadata": {},
   "outputs": [
    {
     "data": {
      "text/plain": [
       "(1024, 1376)"
      ]
     },
     "execution_count": 164,
     "metadata": {},
     "output_type": "execute_result"
    }
   ],
   "source": [
    "img = dataset.load_image(0)[..., 0]\n",
    "img.shape\n",
    "\n",
    "\n",
    "def get_bbox_for_mask(mask):\n",
    "    ly, lx, uy, ux = list(np.argwhere(mask).min(axis=0)) + list(np.argwhere(mask).max(axis=0))\n",
    "    return ly, lx, uy, ux\n",
    "\n",
    "masks = dataset.load_mask(0)[0]\n",
    "mask = masks[..., 1]\n",
    "ly, lx, uy, ux = get_bbox_for_mask(mask)\n",
    "mask_img = img[ly:uy, lx:ux]\n",
    "plt.imshow(mask)"
   ]
  },
  {
   "cell_type": "code",
   "execution_count": 170,
   "metadata": {},
   "outputs": [],
   "source": [
    "from skimage import morphology\n",
    "from skimage import transform\n",
    "\n",
    "def prep_marker_img(img):\n",
    "    img = rank.median(img)\n",
    "    disk = morphology.disk(radius=np.array(img.shape).min() // 3)\n",
    "    disk = transform.resize(disk, img.shape, mode='constant', order=1)\n",
    "    return img * disk\n",
    "\n",
    "def get_weighted_centroid(img):\n",
    "    if np.any(img < 0):\n",
    "        raise ValueError('Image must be non-negative to use for weighted centroid calculation')\n",
    "    row, col = np.indices(img.shape[:2])\n",
    "    return np.average(row, weights=img), np.average(col, weights=img)"
   ]
  },
  {
   "cell_type": "code",
   "execution_count": 174,
   "metadata": {},
   "outputs": [
    {
     "name": "stderr",
     "output_type": "stream",
     "text": [
      "/usr/local/lib/python3.5/dist-packages/skimage/filters/rank/generic.py:102: UserWarning: Bitdepth of 15 may result in bad rank filter performance due to large number of bins.\n",
      "  \"performance due to large number of bins.\" % bitdepth)\n"
     ]
    },
    {
     "data": {
      "text/plain": [
       "<matplotlib.image.AxesImage at 0x7f69b1d14a58>"
      ]
     },
     "execution_count": 174,
     "metadata": {},
     "output_type": "execute_result"
    },
    {
     "data": {
      "image/png": "[encoded data removed]",
      "text/plain": [
       "<Figure size 432x288 with 1 Axes>"
      ]
     },
     "metadata": {},
     "output_type": "display_data"
    }
   ],
   "source": [
    "plt.imshow(prep_marker_img(mask_img))"
   ]
  },
  {
   "cell_type": "code",
   "execution_count": 175,
   "metadata": {},
   "outputs": [
    {
     "name": "stderr",
     "output_type": "stream",
     "text": [
      "/usr/local/lib/python3.5/dist-packages/skimage/filters/rank/generic.py:102: UserWarning: Bitdepth of 15 may result in bad rank filter performance due to large number of bins.\n",
      "  \"performance due to large number of bins.\" % bitdepth)\n"
     ]
    },
    {
     "data": {
      "text/plain": [
       "(5.668606401587977, 6.700534918409574)"
      ]
     },
     "execution_count": 175,
     "metadata": {},
     "output_type": "execute_result"
    }
   ],
   "source": [
    "get_weighted_centroid(prep_marker_img(mask_img))"
   ]
  }
 ],
 "metadata": {
  "kernelspec": {
   "display_name": "Python 3",
   "language": "python",
   "name": "python3"
  },
  "language_info": {
   "codemirror_mode": {
    "name": "ipython",
    "version": 3
   },
   "file_extension": ".py",
   "mimetype": "text/x-python",
   "name": "python",
   "nbconvert_exporter": "python",
   "pygments_lexer": "ipython3",
   "version": "3.5.2"
  }
 },
 "nbformat": 4,
 "nbformat_minor": 2
}
