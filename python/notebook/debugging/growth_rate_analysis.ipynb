{
 "cells": [
  {
   "cell_type": "markdown",
   "metadata": {},
   "source": [
    "# Growth Rate Analysis Debugging"
   ]
  },
  {
   "cell_type": "code",
   "execution_count": 1,
   "metadata": {},
   "outputs": [],
   "source": [
    "from celldom.core import cytometry\n",
    "from celldom.execute import analysis"
   ]
  },
  {
   "cell_type": "code",
   "execution_count": 12,
   "metadata": {},
   "outputs": [
    {
     "data": {
      "text/plain": [
       "'/lab/data/celldom/dataset/dataset05/_2018.06.14 EXP SUM Control 0.1uM with 5mL gravity/2018.06.14 Orange 1 0.1uM/2018.06.14 Orange 1 0.1uM 0 hr/BFF_16X_St_000_Apt_000_201806142349.tif'"
      ]
     },
     "execution_count": 12,
     "metadata": {},
     "output_type": "execute_result"
    }
   ],
   "source": [
    "store.get('table_acquisition')['raw_image_path'].iloc[0]"
   ]
  },
  {
   "cell_type": "code",
   "execution_count": 2,
   "metadata": {},
   "outputs": [
    {
     "name": "stdout",
     "output_type": "stream",
     "text": [
      "<class 'pandas.core.frame.DataFrame'>\n",
      "Int64Index: 123019 entries, 0 to 4\n",
      "Data columns (total 36 columns):\n",
      "acq_apartment             123019 non-null object\n",
      "acq_cohort                123019 non-null object\n",
      "acq_color                 123019 non-null object\n",
      "acq_condition             123019 non-null object\n",
      "acq_datetime              123019 non-null datetime64[ns]\n",
      "acq_hours                 123019 non-null object\n",
      "acq_id                    123019 non-null object\n",
      "acq_processed_at          123019 non-null datetime64[ns]\n",
      "acq_pump                  123019 non-null object\n",
      "acq_street                123019 non-null object\n",
      "apt_id                    123019 non-null int64\n",
      "apt_image_height          123019 non-null int64\n",
      "apt_image_width           123019 non-null int64\n",
      "apt_num                   123019 non-null object\n",
      "apt_num_digit_scores      123019 non-null object\n",
      "cell_area_mean            113407 non-null float64\n",
      "cell_area_p10             113407 non-null float64\n",
      "cell_area_p50             113407 non-null float64\n",
      "cell_area_p90             113407 non-null float64\n",
      "cell_area_std             91958 non-null float64\n",
      "cell_count                123019 non-null int64\n",
      "cell_eccentricity_mean    113407 non-null float64\n",
      "cell_eccentricity_p10     113407 non-null float64\n",
      "cell_eccentricity_p50     113407 non-null float64\n",
      "cell_eccentricity_p90     113407 non-null float64\n",
      "cell_eccentricity_std     91958 non-null float64\n",
      "cell_solidity_mean        113407 non-null float64\n",
      "cell_solidity_p10         113407 non-null float64\n",
      "cell_solidity_p50         113407 non-null float64\n",
      "cell_solidity_p90         113407 non-null float64\n",
      "cell_solidity_std         91958 non-null float64\n",
      "focus_score               123019 non-null float64\n",
      "marker_center_x           123019 non-null int64\n",
      "marker_center_y           123019 non-null int64\n",
      "st_num                    123019 non-null object\n",
      "st_num_digit_scores       123019 non-null object\n",
      "dtypes: datetime64[ns](2), float64(16), int64(6), object(12)\n",
      "memory usage: 34.7+ MB\n"
     ]
    }
   ],
   "source": [
    "data_dir = '/lab/data/celldom/output/20180820-G3-full'\n",
    "store = cytometry.get_readonly_datastore(data_dir)\n",
    "apt_data = store.get('table_apartment')\n",
    "apt_data.info()"
   ]
  },
  {
   "cell_type": "code",
   "execution_count": 3,
   "metadata": {},
   "outputs": [
    {
     "data": {
      "text/plain": [
       "<module 'celldom.execute.analysis' from '/lab/repos/celldom/python/source/celldom/execute/analysis.py'>"
      ]
     },
     "execution_count": 3,
     "metadata": {},
     "output_type": "execute_result"
    }
   ],
   "source": [
    "import imp\n",
    "imp.reload(analysis)"
   ]
  },
  {
   "cell_type": "code",
   "execution_count": 4,
   "metadata": {},
   "outputs": [
    {
     "name": "stdout",
     "output_type": "stream",
     "text": [
      "CPU times: user 42 s, sys: 371 ms, total: 42.3 s\n",
      "Wall time: 42.3 s\n"
     ]
    }
   ],
   "source": [
    "%%time\n",
    "dfgr = analysis.get_growth_rate_data(apt_data, ['acq_cohort', 'acq_pump', 'acq_color', 'acq_condition'])"
   ]
  },
  {
   "cell_type": "code",
   "execution_count": 5,
   "metadata": {},
   "outputs": [
    {
     "name": "stdout",
     "output_type": "stream",
     "text": [
      "<class 'pandas.core.frame.DataFrame'>\n",
      "RangeIndex: 16924 entries, 0 to 16923\n",
      "Data columns (total 17 columns):\n",
      "acq_cohort           16924 non-null object\n",
      "acq_pump             16924 non-null object\n",
      "acq_color            16924 non-null object\n",
      "acq_condition        16924 non-null object\n",
      "st_num               16924 non-null object\n",
      "apt_num              16924 non-null object\n",
      "acq_ids              16924 non-null object\n",
      "cell_counts          16924 non-null object\n",
      "elapsed_hours_min    16924 non-null float64\n",
      "first_count          16924 non-null float64\n",
      "first_date           16924 non-null datetime64[ns]\n",
      "growth_rate          16019 non-null float64\n",
      "last_count           16924 non-null float64\n",
      "last_date            16924 non-null datetime64[ns]\n",
      "max_cell_count       16924 non-null float64\n",
      "min_cell_count       16924 non-null float64\n",
      "n                    16924 non-null int64\n",
      "dtypes: datetime64[ns](2), float64(6), int64(1), object(8)\n",
      "memory usage: 2.2+ MB\n"
     ]
    }
   ],
   "source": [
    "dfgr.info()"
   ]
  },
  {
   "cell_type": "code",
   "execution_count": 9,
   "metadata": {},
   "outputs": [
    {
     "data": {
      "text/html": [
       "<div>\n",
       "<style scoped>\n",
       "    .dataframe tbody tr th:only-of-type {\n",
       "        vertical-align: middle;\n",
       "    }\n",
       "\n",
       "    .dataframe tbody tr th {\n",
       "        vertical-align: top;\n",
       "    }\n",
       "\n",
       "    .dataframe thead th {\n",
       "        text-align: right;\n",
       "    }\n",
       "</style>\n",
       "<table border=\"1\" class=\"dataframe\">\n",
       "  <thead>\n",
       "    <tr style=\"text-align: right;\">\n",
       "      <th></th>\n",
       "      <th>elapsed_hours_min</th>\n",
       "      <th>first_count</th>\n",
       "      <th>growth_rate</th>\n",
       "      <th>last_count</th>\n",
       "      <th>max_cell_count</th>\n",
       "      <th>min_cell_count</th>\n",
       "      <th>n</th>\n",
       "    </tr>\n",
       "  </thead>\n",
       "  <tbody>\n",
       "    <tr>\n",
       "      <th>count</th>\n",
       "      <td>16924.000000</td>\n",
       "      <td>16924.000000</td>\n",
       "      <td>16019.000000</td>\n",
       "      <td>16924.000000</td>\n",
       "      <td>16924.000000</td>\n",
       "      <td>16924.000000</td>\n",
       "      <td>16924.000000</td>\n",
       "    </tr>\n",
       "    <tr>\n",
       "      <th>mean</th>\n",
       "      <td>5.689993</td>\n",
       "      <td>2.246573</td>\n",
       "      <td>0.105237</td>\n",
       "      <td>12.775880</td>\n",
       "      <td>14.057581</td>\n",
       "      <td>1.827937</td>\n",
       "      <td>7.231742</td>\n",
       "    </tr>\n",
       "    <tr>\n",
       "      <th>std</th>\n",
       "      <td>18.748612</td>\n",
       "      <td>5.104932</td>\n",
       "      <td>18.645348</td>\n",
       "      <td>28.764811</td>\n",
       "      <td>28.856819</td>\n",
       "      <td>5.067805</td>\n",
       "      <td>2.887530</td>\n",
       "    </tr>\n",
       "    <tr>\n",
       "      <th>min</th>\n",
       "      <td>0.000000</td>\n",
       "      <td>0.000000</td>\n",
       "      <td>-2282.346001</td>\n",
       "      <td>0.000000</td>\n",
       "      <td>0.000000</td>\n",
       "      <td>0.000000</td>\n",
       "      <td>1.000000</td>\n",
       "    </tr>\n",
       "    <tr>\n",
       "      <th>25%</th>\n",
       "      <td>0.016667</td>\n",
       "      <td>1.000000</td>\n",
       "      <td>0.000000</td>\n",
       "      <td>2.000000</td>\n",
       "      <td>3.000000</td>\n",
       "      <td>1.000000</td>\n",
       "      <td>5.000000</td>\n",
       "    </tr>\n",
       "    <tr>\n",
       "      <th>50%</th>\n",
       "      <td>0.016667</td>\n",
       "      <td>1.000000</td>\n",
       "      <td>0.168715</td>\n",
       "      <td>4.000000</td>\n",
       "      <td>5.000000</td>\n",
       "      <td>1.000000</td>\n",
       "      <td>8.000000</td>\n",
       "    </tr>\n",
       "    <tr>\n",
       "      <th>75%</th>\n",
       "      <td>0.033333</td>\n",
       "      <td>2.000000</td>\n",
       "      <td>0.370327</td>\n",
       "      <td>8.000000</td>\n",
       "      <td>9.000000</td>\n",
       "      <td>2.000000</td>\n",
       "      <td>9.000000</td>\n",
       "    </tr>\n",
       "    <tr>\n",
       "      <th>max</th>\n",
       "      <td>197.683333</td>\n",
       "      <td>169.000000</td>\n",
       "      <td>597.653999</td>\n",
       "      <td>200.000000</td>\n",
       "      <td>200.000000</td>\n",
       "      <td>169.000000</td>\n",
       "      <td>23.000000</td>\n",
       "    </tr>\n",
       "  </tbody>\n",
       "</table>\n",
       "</div>"
      ],
      "text/plain": [
       "       elapsed_hours_min   first_count   growth_rate    last_count  \\\n",
       "count       16924.000000  16924.000000  16019.000000  16924.000000   \n",
       "mean            5.689993      2.246573      0.105237     12.775880   \n",
       "std            18.748612      5.104932     18.645348     28.764811   \n",
       "min             0.000000      0.000000  -2282.346001      0.000000   \n",
       "25%             0.016667      1.000000      0.000000      2.000000   \n",
       "50%             0.016667      1.000000      0.168715      4.000000   \n",
       "75%             0.033333      2.000000      0.370327      8.000000   \n",
       "max           197.683333    169.000000    597.653999    200.000000   \n",
       "\n",
       "       max_cell_count  min_cell_count             n  \n",
       "count    16924.000000    16924.000000  16924.000000  \n",
       "mean        14.057581        1.827937      7.231742  \n",
       "std         28.856819        5.067805      2.887530  \n",
       "min          0.000000        0.000000      1.000000  \n",
       "25%          3.000000        1.000000      5.000000  \n",
       "50%          5.000000        1.000000      8.000000  \n",
       "75%          9.000000        2.000000      9.000000  \n",
       "max        200.000000      169.000000     23.000000  "
      ]
     },
     "execution_count": 9,
     "metadata": {},
     "output_type": "execute_result"
    }
   ],
   "source": [
    "dfgr.describe()"
   ]
  },
  {
   "cell_type": "code",
   "execution_count": 8,
   "metadata": {},
   "outputs": [
    {
     "data": {
      "text/plain": [
       "1    905\n",
       "Name: n, dtype: int64"
      ]
     },
     "execution_count": 8,
     "metadata": {},
     "output_type": "execute_result"
    }
   ],
   "source": [
    "dfgr[dfgr['growth_rate'].isnull()]['n'].value_counts()"
   ]
  },
  {
   "cell_type": "code",
   "execution_count": 6,
   "metadata": {},
   "outputs": [
    {
     "data": {
      "text/plain": [
       "{'8139849204d381805d36b045e5c1565b',\n",
       " 'cc9afb0c70598fa8747e46eebd0ee42c',\n",
       " 'dfbd9757c74c7a29dc14aed9cbec64b0'}"
      ]
     },
     "execution_count": 6,
     "metadata": {},
     "output_type": "execute_result"
    }
   ],
   "source": [
    "dfgr['acq_ids'].iloc[0]"
   ]
  },
  {
   "cell_type": "code",
   "execution_count": 7,
   "metadata": {},
   "outputs": [
    {
     "data": {
      "text/plain": [
       "0    {2018-06-28 11:50:00: 9.0, 2018-06-29 11:58:00...\n",
       "1    {2018-06-28 11:50:00: 7.0, 2018-07-03 20:22:00...\n",
       "2    {2018-06-27 14:11:00: 4.0, 2018-06-29 11:58:00...\n",
       "3    {2018-06-28 11:50:00: 9.0, 2018-06-27 14:11:00...\n",
       "4    {2018-06-28 11:50:00: 7.0, 2018-07-05 19:52:00...\n",
       "Name: cell_counts, dtype: object"
      ]
     },
     "execution_count": 7,
     "metadata": {},
     "output_type": "execute_result"
    }
   ],
   "source": [
    "dfgr['cell_counts'].head()"
   ]
  }
 ],
 "metadata": {
  "kernelspec": {
   "display_name": "Python 3",
   "language": "python",
   "name": "python3"
  },
  "language_info": {
   "codemirror_mode": {
    "name": "ipython",
    "version": 3
   },
   "file_extension": ".py",
   "mimetype": "text/x-python",
   "name": "python",
   "nbconvert_exporter": "python",
   "pygments_lexer": "ipython3",
   "version": "3.5.2"
  }
 },
 "nbformat": 4,
 "nbformat_minor": 2
}
