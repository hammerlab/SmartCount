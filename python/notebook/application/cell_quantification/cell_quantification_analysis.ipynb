{
 "cells": [
  {
   "cell_type": "code",
   "execution_count": 1,
   "metadata": {},
   "outputs": [],
   "source": [
    "import os\n",
    "import os.path as osp\n",
    "run_name = '20180615'\n",
    "chip_data_path = osp.join(os.environ['CELLDOM_DATA_DIR'], 'result', 'r0.2', 'cell_quantification', run_name, 'chip_data_sample.pkl')\n",
    "result_dir = 'result'\n",
    "min_cell_size = 25 # ~radius of 3 pixels (average radius seems to be around 7 based on average area of 150)\n",
    "max_cell_size = 800 # ~radius of 15 pixels"
   ]
  },
  {
   "cell_type": "code",
   "execution_count": 2,
   "metadata": {},
   "outputs": [],
   "source": [
    "import json\n",
    "from celldom import seed\n",
    "import numpy as np\n",
    "import pandas as pd\n",
    "import matplotlib.pyplot as plt\n",
    "import plotnine as pn\n",
    "plt.gray()"
   ]
  },
  {
   "cell_type": "code",
   "execution_count": 3,
   "metadata": {},
   "outputs": [
    {
     "name": "stdout",
     "output_type": "stream",
     "text": [
      "<class 'pandas.core.frame.DataFrame'>\n",
      "Int64Index: 12093 entries, 23929 to 11588\n",
      "Data columns (total 20 columns):\n",
      "address          12093 non-null object\n",
      "cells            12093 non-null object\n",
      "chip             12093 non-null object\n",
      "cohort           12093 non-null object\n",
      "conc             12093 non-null object\n",
      "date             12093 non-null object\n",
      "day              12093 non-null object\n",
      "filename         12093 non-null object\n",
      "folder           12093 non-null object\n",
      "path             12093 non-null object\n",
      "z                12093 non-null object\n",
      "apt_num          12093 non-null object\n",
      "apt_num_score    12093 non-null object\n",
      "st_num           12093 non-null object\n",
      "st_num_score     12093 non-null object\n",
      "cell_count       12093 non-null int64\n",
      "apt_num_image    12093 non-null object\n",
      "st_num_image     12093 non-null object\n",
      "datetime         12093 non-null datetime64[ns]\n",
      "elapsed_hours    12093 non-null float64\n",
      "dtypes: datetime64[ns](1), float64(1), int64(1), object(17)\n",
      "memory usage: 2.3+ MB\n"
     ]
    }
   ],
   "source": [
    "df = pd.read_pickle(chip_data_path)\n",
    "\n",
    "# Convert date string to datetime\n",
    "df['datetime'] = pd.to_datetime(df['date'], format='%Y%m%d%H%M')\n",
    "assert df['datetime'].notnull().all()\n",
    "\n",
    "# Add hours elapsed since first measurement\n",
    "df['elapsed_hours'] = (df['datetime'] - df['datetime'].min()) / np.timedelta64(1, 'h')\n",
    "df.info()"
   ]
  },
  {
   "cell_type": "code",
   "execution_count": 4,
   "metadata": {},
   "outputs": [
    {
     "data": {
      "text/plain": [
       "NoDrug     7386\n",
       "1nMQuiz    4707\n",
       "Name: cohort, dtype: int64"
      ]
     },
     "execution_count": 4,
     "metadata": {},
     "output_type": "execute_result"
    }
   ],
   "source": [
    "df['cohort'].value_counts()"
   ]
  },
  {
   "cell_type": "code",
   "execution_count": 5,
   "metadata": {},
   "outputs": [],
   "source": [
    "areas = df['cells'].apply(lambda v: [c['area'] for c in v]).tolist()\n",
    "areas = [a for l in areas for a in l]\n",
    "areas = pd.Series(areas)"
   ]
  },
  {
   "cell_type": "code",
   "execution_count": 21,
   "metadata": {},
   "outputs": [
    {
     "data": {
      "image/png": "[encoded data removed]",
      "text/plain": [
       "<Figure size 864x288 with 1 Axes>"
      ]
     },
     "metadata": {},
     "output_type": "display_data"
    }
   ],
   "source": [
    "ax = areas.clip(min_cell_size, max_cell_size).plot(kind='hist', bins=256, log=True, figsize=(12, 4))\n",
    "ax.set_xlabel('Cell Area')\n",
    "ax.set_title('Cell Area Distribution')\n",
    "plt.savefig(osp.join(result_dir, 'cell_area_distribution.png'))"
   ]
  },
  {
   "cell_type": "code",
   "execution_count": 7,
   "metadata": {},
   "outputs": [
    {
     "name": "stdout",
     "output_type": "stream",
     "text": [
      "Cell area counts by status:\n"
     ]
    },
    {
     "data": {
      "text/plain": [
       "Valid        138703\n",
       "Too Big         351\n",
       "Too Small       281\n",
       "dtype: int64"
      ]
     },
     "execution_count": 7,
     "metadata": {},
     "output_type": "execute_result"
    }
   ],
   "source": [
    "print('Cell area counts by status:')\n",
    "def get_size_status(v):\n",
    "    if v > max_cell_size:\n",
    "        return 'Too Big'\n",
    "    if v < min_cell_size:\n",
    "        return 'Too Small'\n",
    "    return 'Valid'\n",
    "areas.apply(get_size_status).value_counts()"
   ]
  },
  {
   "cell_type": "code",
   "execution_count": 8,
   "metadata": {},
   "outputs": [],
   "source": [
    "def get_filtered_cell_count(cells):\n",
    "    return len([c for c in cells if min_cell_size <= c['area'] <= max_cell_size])\n",
    "df['filtered_cell_count'] = df['cells'].apply(get_filtered_cell_count)"
   ]
  },
  {
   "cell_type": "code",
   "execution_count": 9,
   "metadata": {},
   "outputs": [
    {
     "data": {
      "image/png": "[encoded data removed]",
      "text/plain": [
       "<Figure size 864x288 with 1 Axes>"
      ]
     },
     "metadata": {},
     "output_type": "display_data"
    }
   ],
   "source": [
    "ax = df['filtered_cell_count'].value_counts().sort_index().plot(figsize=(12, 4))\n",
    "ax.set_yscale('symlog')"
   ]
  },
  {
   "cell_type": "code",
   "execution_count": 10,
   "metadata": {},
   "outputs": [
    {
     "name": "stderr",
     "output_type": "stream",
     "text": [
      "/usr/local/lib/python3.5/dist-packages/ipykernel_launcher.py:1: FutureWarning: using a dict on a Series for aggregation\n",
      "is deprecated and will be removed in a future version\n",
      "  \"\"\"Entry point for launching an IPython kernel.\n"
     ]
    },
    {
     "data": {
      "text/html": [
       "<div>\n",
       "<style scoped>\n",
       "    .dataframe tbody tr th:only-of-type {\n",
       "        vertical-align: middle;\n",
       "    }\n",
       "\n",
       "    .dataframe tbody tr th {\n",
       "        vertical-align: top;\n",
       "    }\n",
       "\n",
       "    .dataframe thead th {\n",
       "        text-align: right;\n",
       "    }\n",
       "</style>\n",
       "<table border=\"1\" class=\"dataframe\">\n",
       "  <thead>\n",
       "    <tr style=\"text-align: right;\">\n",
       "      <th></th>\n",
       "      <th>st_num</th>\n",
       "      <th>apt_num</th>\n",
       "      <th>cohort</th>\n",
       "      <th>elapsed_hours</th>\n",
       "      <th>cell_count</th>\n",
       "      <th>replicates</th>\n",
       "    </tr>\n",
       "  </thead>\n",
       "  <tbody>\n",
       "    <tr>\n",
       "      <th>0</th>\n",
       "      <td>000</td>\n",
       "      <td>000</td>\n",
       "      <td>1nMQuiz</td>\n",
       "      <td>49.833333</td>\n",
       "      <td>6</td>\n",
       "      <td>1</td>\n",
       "    </tr>\n",
       "    <tr>\n",
       "      <th>1</th>\n",
       "      <td>000</td>\n",
       "      <td>000</td>\n",
       "      <td>NoDrug</td>\n",
       "      <td>0.000000</td>\n",
       "      <td>1</td>\n",
       "      <td>1</td>\n",
       "    </tr>\n",
       "    <tr>\n",
       "      <th>2</th>\n",
       "      <td>000</td>\n",
       "      <td>000</td>\n",
       "      <td>NoDrug</td>\n",
       "      <td>24.200000</td>\n",
       "      <td>8</td>\n",
       "      <td>4</td>\n",
       "    </tr>\n",
       "    <tr>\n",
       "      <th>3</th>\n",
       "      <td>000</td>\n",
       "      <td>000</td>\n",
       "      <td>NoDrug</td>\n",
       "      <td>42.316667</td>\n",
       "      <td>1</td>\n",
       "      <td>1</td>\n",
       "    </tr>\n",
       "    <tr>\n",
       "      <th>4</th>\n",
       "      <td>000</td>\n",
       "      <td>001</td>\n",
       "      <td>1nMQuiz</td>\n",
       "      <td>1.216667</td>\n",
       "      <td>5</td>\n",
       "      <td>1</td>\n",
       "    </tr>\n",
       "  </tbody>\n",
       "</table>\n",
       "</div>"
      ],
      "text/plain": [
       "  st_num apt_num   cohort  elapsed_hours  cell_count  replicates\n",
       "0    000     000  1nMQuiz      49.833333           6           1\n",
       "1    000     000   NoDrug       0.000000           1           1\n",
       "2    000     000   NoDrug      24.200000           8           4\n",
       "3    000     000   NoDrug      42.316667           1           1\n",
       "4    000     001  1nMQuiz       1.216667           5           1"
      ]
     },
     "execution_count": 10,
     "metadata": {},
     "output_type": "execute_result"
    }
   ],
   "source": [
    "df_model = df.groupby(['st_num', 'apt_num', 'cohort', 'elapsed_hours'])['filtered_cell_count']\\\n",
    "    .agg({'replicates': 'count', 'cell_count': 'max'}).sort_index().reset_index()\n",
    "df_model.head()"
   ]
  },
  {
   "cell_type": "code",
   "execution_count": 13,
   "metadata": {},
   "outputs": [
    {
     "data": {
      "text/html": [
       "<div>\n",
       "<style scoped>\n",
       "    .dataframe tbody tr th:only-of-type {\n",
       "        vertical-align: middle;\n",
       "    }\n",
       "\n",
       "    .dataframe tbody tr th {\n",
       "        vertical-align: top;\n",
       "    }\n",
       "\n",
       "    .dataframe thead th {\n",
       "        text-align: right;\n",
       "    }\n",
       "</style>\n",
       "<table border=\"1\" class=\"dataframe\">\n",
       "  <thead>\n",
       "    <tr style=\"text-align: right;\">\n",
       "      <th></th>\n",
       "      <th>st_num</th>\n",
       "      <th>apt_num</th>\n",
       "      <th>cohort</th>\n",
       "      <th>growth_rate</th>\n",
       "    </tr>\n",
       "  </thead>\n",
       "  <tbody>\n",
       "    <tr>\n",
       "      <th>0</th>\n",
       "      <td>000</td>\n",
       "      <td>000</td>\n",
       "      <td>1nMQuiz</td>\n",
       "      <td>NaN</td>\n",
       "    </tr>\n",
       "    <tr>\n",
       "      <th>1</th>\n",
       "      <td>000</td>\n",
       "      <td>000</td>\n",
       "      <td>NoDrug</td>\n",
       "      <td>0.213856</td>\n",
       "    </tr>\n",
       "    <tr>\n",
       "      <th>2</th>\n",
       "      <td>000</td>\n",
       "      <td>001</td>\n",
       "      <td>1nMQuiz</td>\n",
       "      <td>NaN</td>\n",
       "    </tr>\n",
       "    <tr>\n",
       "      <th>3</th>\n",
       "      <td>000</td>\n",
       "      <td>001</td>\n",
       "      <td>NoDrug</td>\n",
       "      <td>0.693283</td>\n",
       "    </tr>\n",
       "    <tr>\n",
       "      <th>4</th>\n",
       "      <td>000</td>\n",
       "      <td>002</td>\n",
       "      <td>1nMQuiz</td>\n",
       "      <td>NaN</td>\n",
       "    </tr>\n",
       "  </tbody>\n",
       "</table>\n",
       "</div>"
      ],
      "text/plain": [
       "  st_num apt_num   cohort  growth_rate\n",
       "0    000     000  1nMQuiz          NaN\n",
       "1    000     000   NoDrug     0.213856\n",
       "2    000     001  1nMQuiz          NaN\n",
       "3    000     001   NoDrug     0.693283\n",
       "4    000     002  1nMQuiz          NaN"
      ]
     },
     "execution_count": 13,
     "metadata": {},
     "output_type": "execute_result"
    }
   ],
   "source": [
    "from sklearn.linear_model import LinearRegression\n",
    "def get_growth_coef(g):\n",
    "    if len(g) < 2:\n",
    "        return np.nan\n",
    "    assert np.all(g['cell_count'] >= 0)\n",
    "    \n",
    "    time = g['elapsed_hours'].values / 24 # Convert to days\n",
    "    X = np.expand_dims(time, -1)\n",
    "    y = np.log2(g['cell_count'] + 1)\n",
    "    m = LinearRegression().fit(X, y)\n",
    "    return m.coef_[0]\n",
    "\n",
    "df_growth = df.groupby(['st_num', 'apt_num', 'cohort']).apply(get_growth_coef).rename('growth_rate').reset_index()\n",
    "df_growth.head()"
   ]
  },
  {
   "cell_type": "code",
   "execution_count": 14,
   "metadata": {},
   "outputs": [
    {
     "data": {
      "image/png": "[encoded data removed]",
      "text/plain": [
       "<Figure size 1200x500 with 1 Axes>"
      ]
     },
     "metadata": {},
     "output_type": "display_data"
    },
    {
     "data": {
      "text/plain": [
       "<ggplot: (-9223363294975647558)>"
      ]
     },
     "execution_count": 14,
     "metadata": {},
     "output_type": "execute_result"
    }
   ],
   "source": [
    "df_plt = df_growth.copy()\n",
    "df_plt = df_plt[df_plt['growth_rate'].notnull()]\n",
    "df_plt['growth_rate'] = df_plt['growth_rate'].clip(-1, 2)\n",
    "p = (\n",
    "    pn.ggplot(df_plt, pn.aes(x='growth_rate', fill='cohort')) +\n",
    "    pn.geom_histogram(alpha=.5, position='dodge', bins=32) + \n",
    "    pn.scale_fill_discrete(guide=pn.guide_legend(title='Cohort')) +\n",
    "    pn.theme(figure_size=(12, 5)) + \n",
    "    pn.xlab('Growth Rate (log2)') +\n",
    "    pn.ylab('Num Apartments') +\n",
    "    pn.ggtitle('Growth Rate Distributions')\n",
    ")\n",
    "p"
   ]
  },
  {
   "cell_type": "code",
   "execution_count": 17,
   "metadata": {},
   "outputs": [
    {
     "name": "stderr",
     "output_type": "stream",
     "text": [
      "/usr/local/lib/python3.5/dist-packages/plotnine/ggplot.py:688: UserWarning: Saving 12 x 5 in image.\n",
      "  from_inches(height, units), units))\n",
      "/usr/local/lib/python3.5/dist-packages/plotnine/ggplot.py:689: UserWarning: Filename: result/growth_rate_distributions.png\n",
      "  warn('Filename: {}'.format(filename))\n"
     ]
    },
    {
     "data": {
      "text/plain": [
       "'result/growth_rate_distributions.png'"
      ]
     },
     "execution_count": 17,
     "metadata": {},
     "output_type": "execute_result"
    }
   ],
   "source": [
    "path = osp.join(result_dir, 'growth_rate_distributions.png')\n",
    "pn.ggsave(p, path)\n",
    "path"
   ]
  },
  {
   "cell_type": "code",
   "execution_count": 21,
   "metadata": {},
   "outputs": [],
   "source": [
    "# df_plt = df_model.copy().head(200).tail(100)\n",
    "# df_plt['loc'] = df_plt.apply(lambda r: '{}-{}'.format(r['apt_num'], r['st_num']), axis=1)\n",
    "# (\n",
    "#     pn.ggplot(df_plt, pn.aes(x='elapsed_hours', y='cell_count', color='loc', group='loc')) +\n",
    "#     pn.geom_line() + \n",
    "#     pn.facet_wrap('~cohort', ncol=1) + \n",
    "#     pn.theme(figure_size=(16, 8))\n",
    "    \n",
    "# )"
   ]
  }
 ],
 "metadata": {
  "kernelspec": {
   "display_name": "Python 3",
   "language": "python",
   "name": "python3"
  },
  "language_info": {
   "codemirror_mode": {
    "name": "ipython",
    "version": 3
   },
   "file_extension": ".py",
   "mimetype": "text/x-python",
   "name": "python",
   "nbconvert_exporter": "python",
   "pygments_lexer": "ipython3",
   "version": "3.5.2"
  }
 },
 "nbformat": 4,
 "nbformat_minor": 2
}
