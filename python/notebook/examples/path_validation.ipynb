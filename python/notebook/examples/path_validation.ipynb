{
 "cells": [
  {
   "cell_type": "markdown",
   "metadata": {},
   "source": [
    "## Path Metadata Validation Example\n",
    "\n",
    "This notebook demonstrates how to check that the metadata associated with an experiment will be interpreted correctly based on an experiment configuration file."
   ]
  },
  {
   "cell_type": "code",
   "execution_count": 3,
   "metadata": {},
   "outputs": [],
   "source": [
    "%run -m celldom.nb.logging\n",
    "import os\n",
    "import os.path as osp\n",
    "import celldom\n",
    "from celldom.config import experiment_config"
   ]
  },
  {
   "cell_type": "markdown",
   "metadata": {},
   "source": [
    "Set the experiment configuration to be loaded:"
   ]
  },
  {
   "cell_type": "code",
   "execution_count": 4,
   "metadata": {},
   "outputs": [
    {
     "data": {
      "text/plain": [
       "'/lab/repos/celldom'"
      ]
     },
     "execution_count": 4,
     "metadata": {},
     "output_type": "execute_result"
    }
   ],
   "source": [
    "celldom.get_repo_dir()"
   ]
  },
  {
   "cell_type": "code",
   "execution_count": 6,
   "metadata": {},
   "outputs": [
    {
     "data": {
      "text/plain": [
       "'/lab/repos/celldom/config/experiment/experiment_example_G3.yaml'"
      ]
     },
     "execution_count": 6,
     "metadata": {},
     "output_type": "execute_result"
    }
   ],
   "source": [
    "exp_config_path = osp.join(celldom.get_repo_dir(), 'config', 'experiment', 'experiment_example_G3.yaml')\n",
    "exp_config_path"
   ]
  },
  {
   "cell_type": "code",
   "execution_count": 25,
   "metadata": {},
   "outputs": [
    {
     "name": "stdout",
     "output_type": "stream",
     "text": [
      "name: G3 Test Experiment\n",
      "chip: {name: chip_G3}\n",
      "cytometer: {name: cytometer_01}\n",
      "acquisition:\n",
      "  magnification: 16\n",
      "  reflection: false\n",
      "metadata:\n",
      "  # Example file path: */_2018.06.14 EXP SUM Control 0.1uM with 5mL gravity/2018.06.14 White 3 Control/2018.06.14 White 3 Control 0 hr/BFF_16X_St_000_Apt_000_201806150024.tif\n",
      "  fields:\n",
      "    datetime:\n",
      "      regex: '[0-9]{12}'\n",
      "      format: '%Y%m%d%H%M'\n",
      "    pump: 'Elveflow|gravity'\n",
      "    color: 'Orange|Red|White|Pink|Green|Blue|Yellow'\n",
      "    condition: '1|3'\n",
      "    hours: '[0-9]{1,3}'\n",
      "    cohort: 'Control|[0-9\\.]{3,}uM'\n",
      "    street: '[0-9]{3}'\n",
      "    apartment: '[0-9]{3}'\n",
      "  path_format: '.*/.*{pump}/.*/.* {color} {condition} {cohort} {hours} hr/BFF_16X_St_{street}_Apt_{apartment}_{datetime}.tif'"
     ]
    }
   ],
   "source": [
    "!cat $exp_config_path"
   ]
  },
  {
   "cell_type": "markdown",
   "metadata": {},
   "source": [
    "#### Load Configuration"
   ]
  },
  {
   "cell_type": "code",
   "execution_count": 26,
   "metadata": {},
   "outputs": [],
   "source": [
    "exp_config = experiment_config.ExperimentConfig(celldom.read_config(exp_config_path))"
   ]
  },
  {
   "cell_type": "code",
   "execution_count": 46,
   "metadata": {},
   "outputs": [
    {
     "data": {
      "text/plain": [
       "{'acquisition': {'magnification': 16, 'reflection': False},\n",
       " 'chip': {'name': 'chip_G3'},\n",
       " 'cytometer': {'name': 'cytometer_01'},\n",
       " 'metadata': {'fields': {'apartment': '[0-9]{3}',\n",
       "   'cohort': 'Control|[0-9\\\\.]{3,}uM',\n",
       "   'color': 'Orange|Red|White|Pink|Green|Blue|Yellow',\n",
       "   'condition': '1|3',\n",
       "   'datetime': {'format': '%Y%m%d%H%M', 'regex': '[0-9]{12}'},\n",
       "   'hours': '[0-9]{1,3}',\n",
       "   'pump': 'Elveflow|gravity',\n",
       "   'street': '[0-9]{3}'},\n",
       "  'path_format': '.*/.*{pump}/.*/.* {color} {condition} {cohort} {hours} hr/BFF_16X_St_{street}_Apt_{apartment}_{datetime}.tif'},\n",
       " 'name': 'G3 Test Experiment'}"
      ]
     },
     "execution_count": 46,
     "metadata": {},
     "output_type": "execute_result"
    }
   ],
   "source": [
    "exp_config.conf"
   ]
  },
  {
   "cell_type": "markdown",
   "metadata": {},
   "source": [
    "#### Test Path Parsing"
   ]
  },
  {
   "cell_type": "code",
   "execution_count": 47,
   "metadata": {},
   "outputs": [
    {
     "data": {
      "text/plain": [
       "'JeffsData/_2018.06.14 EXP SUM Control 0.1uM with 5mL gravity/2018.06.14 White 3 Control/2018.06.14 Pink 3 1.0uM 0 hr/BFF_16X_St_001_Apt_016_201806150024.tif'"
      ]
     },
     "execution_count": 47,
     "metadata": {},
     "output_type": "execute_result"
    }
   ],
   "source": [
    "# Create a path to test parsing of metadata properties on\n",
    "test_path = \\\n",
    "    'JeffsData/_2018.06.14 EXP SUM Control 0.1uM with 5mL gravity/2018.06.14 White 3 Control/' \\\n",
    "    '2018.06.14 Pink 3 1.0uM 0 hr/BFF_16X_St_001_Apt_016_201806150024.tif'\n",
    "test_path"
   ]
  },
  {
   "cell_type": "code",
   "execution_count": 48,
   "metadata": {},
   "outputs": [
    {
     "data": {
      "text/plain": [
       "{'apartment': '016',\n",
       " 'cohort': '1.0uM',\n",
       " 'color': 'Pink',\n",
       " 'condition': '3',\n",
       " 'datetime': Timestamp('2018-06-15 00:24:00'),\n",
       " 'hours': '0',\n",
       " 'pump': 'gravity',\n",
       " 'street': '001'}"
      ]
     },
     "execution_count": 48,
     "metadata": {},
     "output_type": "execute_result"
    }
   ],
   "source": [
    "# Test that the path can be parsed successfully\n",
    "exp_config.parse_path(test_path)"
   ]
  }
 ],
 "metadata": {
  "kernelspec": {
   "display_name": "Python 3",
   "language": "python",
   "name": "python3"
  },
  "language_info": {
   "codemirror_mode": {
    "name": "ipython",
    "version": 3
   },
   "file_extension": ".py",
   "mimetype": "text/x-python",
   "name": "python",
   "nbconvert_exporter": "python",
   "pygments_lexer": "ipython3",
   "version": "3.5.2"
  }
 },
 "nbformat": 4,
 "nbformat_minor": 2
}
