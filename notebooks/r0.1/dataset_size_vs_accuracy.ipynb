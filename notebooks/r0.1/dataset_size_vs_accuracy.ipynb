{
 "cells": [
  {
   "cell_type": "markdown",
   "metadata": {},
   "source": [
    "## Dataset Size vs Prediction Quality\n",
    "\n",
    "**WIP**"
   ]
  },
  {
   "cell_type": "code",
   "execution_count": 1,
   "metadata": {},
   "outputs": [],
   "source": [
    "from cvutils.rectlabel import io as rectlabel_io\n",
    "import papermill as pm\n",
    "import os.path as osp\n",
    "import os"
   ]
  },
  {
   "cell_type": "code",
   "execution_count": 2,
   "metadata": {},
   "outputs": [
    {
     "data": {
      "text/plain": [
       "160"
      ]
     },
     "execution_count": 2,
     "metadata": {},
     "output_type": "execute_result"
    }
   ],
   "source": [
    "data_dir = osp.join(os.environ['CELLDOM_DATA_DIR'], 'data', 'dataset02')\n",
    "full_image_list = rectlabel_io.list_dir(data_dir)\n",
    "annot_image_list = [i for i in full_image_list if i.annot_exists]\n",
    "len(annot_image_list)"
   ]
  },
  {
   "cell_type": "code",
   "execution_count": 4,
   "metadata": {},
   "outputs": [
    {
     "data": {
      "text/html": [
       "<div>\n",
       "<style scoped>\n",
       "    .dataframe tbody tr th:only-of-type {\n",
       "        vertical-align: middle;\n",
       "    }\n",
       "\n",
       "    .dataframe tbody tr th {\n",
       "        vertical-align: top;\n",
       "    }\n",
       "\n",
       "    .dataframe thead th {\n",
       "        text-align: right;\n",
       "    }\n",
       "</style>\n",
       "<table border=\"1\" class=\"dataframe\">\n",
       "  <thead>\n",
       "    <tr style=\"text-align: right;\">\n",
       "      <th></th>\n",
       "      <th>image_name</th>\n",
       "      <th>image_path</th>\n",
       "      <th>annot_path</th>\n",
       "      <th>annot_exists</th>\n",
       "    </tr>\n",
       "  </thead>\n",
       "  <tbody>\n",
       "    <tr>\n",
       "      <th>0</th>\n",
       "      <td>BF_ST_001_APT_010Day2.jpg</td>\n",
       "      <td>/lab/data/celldom/data/dataset02/BF_ST_001_APT...</td>\n",
       "      <td>/lab/data/celldom/data/dataset02/annotations/B...</td>\n",
       "      <td>True</td>\n",
       "    </tr>\n",
       "    <tr>\n",
       "      <th>1</th>\n",
       "      <td>BF_ST_000_APT_004Day2.jpg</td>\n",
       "      <td>/lab/data/celldom/data/dataset02/BF_ST_000_APT...</td>\n",
       "      <td>/lab/data/celldom/data/dataset02/annotations/B...</td>\n",
       "      <td>True</td>\n",
       "    </tr>\n",
       "    <tr>\n",
       "      <th>2</th>\n",
       "      <td>BF_ST_001_APT_000Day1.jpg</td>\n",
       "      <td>/lab/data/celldom/data/dataset02/BF_ST_001_APT...</td>\n",
       "      <td>/lab/data/celldom/data/dataset02/annotations/B...</td>\n",
       "      <td>True</td>\n",
       "    </tr>\n",
       "    <tr>\n",
       "      <th>3</th>\n",
       "      <td>BF_ST_002_APT_002Day0.jpg</td>\n",
       "      <td>/lab/data/celldom/data/dataset02/BF_ST_002_APT...</td>\n",
       "      <td>/lab/data/celldom/data/dataset02/annotations/B...</td>\n",
       "      <td>True</td>\n",
       "    </tr>\n",
       "    <tr>\n",
       "      <th>4</th>\n",
       "      <td>BF_ST_002_APT_001Day3.jpg</td>\n",
       "      <td>/lab/data/celldom/data/dataset02/BF_ST_002_APT...</td>\n",
       "      <td>/lab/data/celldom/data/dataset02/annotations/B...</td>\n",
       "      <td>True</td>\n",
       "    </tr>\n",
       "  </tbody>\n",
       "</table>\n",
       "</div>"
      ],
      "text/plain": [
       "                  image_name  \\\n",
       "0  BF_ST_001_APT_010Day2.jpg   \n",
       "1  BF_ST_000_APT_004Day2.jpg   \n",
       "2  BF_ST_001_APT_000Day1.jpg   \n",
       "3  BF_ST_002_APT_002Day0.jpg   \n",
       "4  BF_ST_002_APT_001Day3.jpg   \n",
       "\n",
       "                                          image_path  \\\n",
       "0  /lab/data/celldom/data/dataset02/BF_ST_001_APT...   \n",
       "1  /lab/data/celldom/data/dataset02/BF_ST_000_APT...   \n",
       "2  /lab/data/celldom/data/dataset02/BF_ST_001_APT...   \n",
       "3  /lab/data/celldom/data/dataset02/BF_ST_002_APT...   \n",
       "4  /lab/data/celldom/data/dataset02/BF_ST_002_APT...   \n",
       "\n",
       "                                          annot_path  annot_exists  \n",
       "0  /lab/data/celldom/data/dataset02/annotations/B...          True  \n",
       "1  /lab/data/celldom/data/dataset02/annotations/B...          True  \n",
       "2  /lab/data/celldom/data/dataset02/annotations/B...          True  \n",
       "3  /lab/data/celldom/data/dataset02/annotations/B...          True  \n",
       "4  /lab/data/celldom/data/dataset02/annotations/B...          True  "
      ]
     },
     "execution_count": 4,
     "metadata": {},
     "output_type": "execute_result"
    }
   ],
   "source": [
    "import pandas as pd\n",
    "pd.DataFrame(annot_image_list[:5])"
   ]
  },
  {
   "cell_type": "code",
   "execution_count": null,
   "metadata": {},
   "outputs": [],
   "source": [
    "run_name = 'dataset_size_vs_accuracy_n10'\n",
    "\n",
    "parameters = dict(\n",
    "    data_dir = osp.join(os.environ['CELLDOM_DATA_DIR'], 'data', 'dataset02')\n",
    "    model_dir = osp.join('..', 'models', run_name),\n",
    "    export_dir = osp.join('..', 'exports', run_name),\n",
    ")\n",
    "pm.execute_notebook(\n",
    "    osp.join('templates', 'training_quantification.ipynb'),\n",
    "    osp.join('renders', run_name + '.ipynb')\n",
    ")"
   ]
  }
 ],
 "metadata": {
  "kernelspec": {
   "display_name": "Python 3",
   "language": "python",
   "name": "python3"
  },
  "language_info": {
   "codemirror_mode": {
    "name": "ipython",
    "version": 3
   },
   "file_extension": ".py",
   "mimetype": "text/x-python",
   "name": "python",
   "nbconvert_exporter": "python",
   "pygments_lexer": "ipython3",
   "version": "3.5.2"
  }
 },
 "nbformat": 4,
 "nbformat_minor": 2
}
