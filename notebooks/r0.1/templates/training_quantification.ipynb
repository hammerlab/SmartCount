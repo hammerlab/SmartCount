{
 "cells": [
  {
   "cell_type": "markdown",
   "metadata": {},
   "source": [
    "# Training Quantification\n",
    "\n",
    "\n",
    "Notebook to train a model using given parameters, apply that model to a validation dataset, and then export a variety of statistics about predictions on that data."
   ]
  },
  {
   "cell_type": "markdown",
   "metadata": {},
   "source": [
    "## Parameters"
   ]
  },
  {
   "cell_type": "code",
   "execution_count": 3,
   "metadata": {
    "tags": [
     "parameters"
    ]
   },
   "outputs": [],
   "source": [
    "# Required\n",
    "data_dir = None\n",
    "model_dir = None\n",
    "export_dir = None\n",
    "train_image_ids = None\n",
    "val_image_ids = None\n",
    "\n",
    "# Optional\n",
    "class_names = ','.join(['Cell', 'StNum', 'AptNum', 'CellClump', 'Marker', 'Chamber'])\n",
    "seed = 1211\n",
    "n_epochs = 10"
   ]
  },
  {
   "cell_type": "code",
   "execution_count": 4,
   "metadata": {},
   "outputs": [
    {
     "ename": "AssertionError",
     "evalue": "Must provided \"data_dir\"",
     "output_type": "error",
     "traceback": [
      "\u001b[0;31m---------------------------------------------------------------------------\u001b[0m",
      "\u001b[0;31mAssertionError\u001b[0m                            Traceback (most recent call last)",
      "\u001b[0;32m<ipython-input-4-a67bf370400a>\u001b[0m in \u001b[0;36m<module>\u001b[0;34m()\u001b[0m\n\u001b[0;32m----> 1\u001b[0;31m \u001b[0;32massert\u001b[0m \u001b[0mdata_dir\u001b[0m \u001b[0;32mis\u001b[0m \u001b[0;32mnot\u001b[0m \u001b[0;32mNone\u001b[0m\u001b[0;34m,\u001b[0m \u001b[0;34m'Must provided \"data_dir\"'\u001b[0m\u001b[0;34m\u001b[0m\u001b[0m\n\u001b[0m\u001b[1;32m      2\u001b[0m \u001b[0;32massert\u001b[0m \u001b[0mmodel_dir\u001b[0m \u001b[0;32mis\u001b[0m \u001b[0;32mnot\u001b[0m \u001b[0;32mNone\u001b[0m\u001b[0;34m,\u001b[0m \u001b[0;34m'Must provided \"model_dir\"'\u001b[0m\u001b[0;34m\u001b[0m\u001b[0m\n\u001b[1;32m      3\u001b[0m \u001b[0;32massert\u001b[0m \u001b[0mtrain_image_ids\u001b[0m \u001b[0;32mis\u001b[0m \u001b[0;32mnot\u001b[0m \u001b[0;32mNone\u001b[0m\u001b[0;34m,\u001b[0m \u001b[0;34m'Must provided training image ids'\u001b[0m\u001b[0;34m\u001b[0m\u001b[0m\n\u001b[1;32m      4\u001b[0m \u001b[0;32massert\u001b[0m \u001b[0mval_image_ids\u001b[0m \u001b[0;32mis\u001b[0m \u001b[0;32mnot\u001b[0m \u001b[0;32mNone\u001b[0m\u001b[0;34m,\u001b[0m \u001b[0;34m'Must provided validation image ids'\u001b[0m\u001b[0;34m\u001b[0m\u001b[0m\n\u001b[1;32m      5\u001b[0m \u001b[0;34m\u001b[0m\u001b[0m\n",
      "\u001b[0;31mAssertionError\u001b[0m: Must provided \"data_dir\""
     ]
    }
   ],
   "source": [
    "assert data_dir is not None, 'Must provided \"data_dir\"'\n",
    "assert model_dir is not None, 'Must provided \"model_dir\"'\n",
    "assert export_dir is not None, 'Must provided \"export_dir\"'\n",
    "assert train_image_ids is not None, 'Must provided training image ids'\n",
    "assert val_image_ids is not None, 'Must provided validation image ids'\n",
    "\n",
    "train_image_ids = train_image_ids.split(',')\n",
    "val_image_ids = train_image_ids.split(',')\n",
    "class_names = class_names.split(',')\n",
    "n_epochs = int(n_epochs)\n",
    "seed = int(seed)"
   ]
  },
  {
   "cell_type": "markdown",
   "metadata": {},
   "source": [
    "## Initialization"
   ]
  },
  {
   "cell_type": "code",
   "execution_count": 2,
   "metadata": {},
   "outputs": [],
   "source": [
    "%run ../config.py\n",
    "%matplotlib inline\n",
    "\n",
    "import os\n",
    "import os.path as osp\n",
    "import warnings\n",
    "import numpy as np\n",
    "import pandas as pd\n",
    "import papermill as pm\n",
    "import matplotlib.pyplot as plt\n",
    "from mrcnn import visualize as mrcnn_viz\n",
    "from mrcnn import model as mrcnn_model_lib\n",
    "from cvutils.mrcnn import model as mrcnn_model\n",
    "from cvutils.mrcnn.session import init_keras_session\n",
    "from celldom.dataset import CelldomDataset\n",
    "init_keras_session()"
   ]
  },
  {
   "cell_type": "code",
   "execution_count": 3,
   "metadata": {},
   "outputs": [
    {
     "data": {
      "text/plain": [
       "['/lab/data/celldom/data/dataset01/BF_ST_001_APT_000Day0.jpg',\n",
       " '/lab/data/celldom/data/dataset01/BF_ST_001_APT_000Day1.jpg',\n",
       " '/lab/data/celldom/data/dataset01/BF_ST_001_APT_000Day2.jpg',\n",
       " '/lab/data/celldom/data/dataset01/BF_ST_001_APT_000Day3.jpg',\n",
       " '/lab/data/celldom/data/dataset01/BF_ST_001_APT_001Day0.jpg']"
      ]
     },
     "execution_count": 3,
     "metadata": {},
     "output_type": "execute_result"
    }
   ],
   "source": [
    "# Training dataset\n",
    "train_image_paths = [osp.join(DATA_DIR, img) for img in train_image_ids]\n",
    "dataset_train = CelldomDataset()\n",
    "dataset_train.initialize(train_image_paths, class_names)\n",
    "dataset_train.prepare()\n",
    "\n",
    "# # Validation dataset\n",
    "dataset_val = CelldomDataset()\n",
    "val_image_paths = [osp.join(DATA_DIR, img) for img in val_image_ids]\n",
    "dataset_val.initialize(val_image_paths, class_names)\n",
    "dataset_val.prepare()"
   ]
  },
  {
   "cell_type": "code",
   "execution_count": 7,
   "metadata": {},
   "outputs": [
    {
     "name": "stdout",
     "output_type": "stream",
     "text": [
      "\n",
      "Configurations:\n",
      "BACKBONE                       resnet50\n",
      "BACKBONE_STRIDES               [4, 8, 16, 32, 64]\n",
      "BATCH_SIZE                     2\n",
      "BBOX_STD_DEV                   [0.1 0.1 0.2 0.2]\n",
      "DETECTION_MAX_INSTANCES        250\n",
      "DETECTION_MIN_CONFIDENCE       0.7\n",
      "DETECTION_NMS_THRESHOLD        0.3\n",
      "GPU_COUNT                      1\n",
      "GRADIENT_CLIP_NORM             5.0\n",
      "IMAGES_PER_GPU                 2\n",
      "IMAGE_MAX_DIM                  384\n",
      "IMAGE_META_SIZE                19\n",
      "IMAGE_MIN_DIM                  384\n",
      "IMAGE_MIN_SCALE                0\n",
      "IMAGE_RESIZE_MODE              square\n",
      "IMAGE_SHAPE                    [384 384   3]\n",
      "LEARNING_MOMENTUM              0.9\n",
      "LEARNING_RATE                  0.001\n",
      "LOSS_WEIGHTS                   {'rpn_bbox_loss': 1.0, 'rpn_class_loss': 1.0, 'mrcnn_class_loss': 1.0, 'mrcnn_bbox_loss': 1.0, 'mrcnn_mask_loss': 1.0}\n",
      "MASK_POOL_SIZE                 14\n",
      "MASK_SHAPE                     [28, 28]\n",
      "MAX_GT_INSTANCES               250\n",
      "MEAN_PIXEL                     [123.7 116.8 103.9]\n",
      "MINI_MASK_SHAPE                (56, 56)\n",
      "NAME                           celldom\n",
      "NUM_CLASSES                    7\n",
      "POOL_SIZE                      7\n",
      "POST_NMS_ROIS_INFERENCE        1000\n",
      "POST_NMS_ROIS_TRAINING         2000\n",
      "ROI_POSITIVE_RATIO             0.33\n",
      "RPN_ANCHOR_RATIOS              [0.5, 1, 2]\n",
      "RPN_ANCHOR_SCALES              (8, 16, 32, 64, 128)\n",
      "RPN_ANCHOR_STRIDE              1\n",
      "RPN_BBOX_STD_DEV               [0.1 0.1 0.2 0.2]\n",
      "RPN_NMS_THRESHOLD              0.7\n",
      "RPN_TRAIN_ANCHORS_PER_IMAGE    256\n",
      "STEPS_PER_EPOCH                50\n",
      "TRAIN_BN                       False\n",
      "TRAIN_ROIS_PER_IMAGE           200\n",
      "USE_MINI_MASK                  True\n",
      "USE_RPN_ROIS                   True\n",
      "VALIDATION_STEPS               10\n",
      "WEIGHT_DECAY                   0.0001\n",
      "\n",
      "\n"
     ]
    }
   ],
   "source": [
    "train_config = CelldomTrainingConfig()\n",
    "train_config.display()"
   ]
  },
  {
   "cell_type": "markdown",
   "metadata": {},
   "source": [
    "## Training"
   ]
  },
  {
   "cell_type": "code",
   "execution_count": 8,
   "metadata": {},
   "outputs": [],
   "source": [
    "model = mrcnn_model.get_model(mode=\"training\", config=train_config, model_dir=model_dir, init_with='coco')"
   ]
  },
  {
   "cell_type": "code",
   "execution_count": 9,
   "metadata": {},
   "outputs": [
    {
     "name": "stdout",
     "output_type": "stream",
     "text": [
      "\n",
      "Starting at epoch 0. LR=0.001\n",
      "\n",
      "Checkpoint Path: models/domain01/celldom20180527T1559/mask_rcnn_celldom_{epoch:04d}.h5\n",
      "Selecting layers to train\n",
      "fpn_c5p5               (Conv2D)\n",
      "fpn_c4p4               (Conv2D)\n",
      "fpn_c3p3               (Conv2D)\n",
      "fpn_c2p2               (Conv2D)\n",
      "fpn_p5                 (Conv2D)\n",
      "fpn_p2                 (Conv2D)\n",
      "fpn_p3                 (Conv2D)\n",
      "fpn_p4                 (Conv2D)\n",
      "In model:  rpn_model\n",
      "    rpn_conv_shared        (Conv2D)\n",
      "    rpn_class_raw          (Conv2D)\n",
      "    rpn_bbox_pred          (Conv2D)\n",
      "mrcnn_mask_conv1       (TimeDistributed)\n",
      "mrcnn_mask_bn1         (TimeDistributed)\n",
      "mrcnn_mask_conv2       (TimeDistributed)\n",
      "mrcnn_mask_bn2         (TimeDistributed)\n",
      "mrcnn_class_conv1      (TimeDistributed)\n",
      "mrcnn_class_bn1        (TimeDistributed)\n",
      "mrcnn_mask_conv3       (TimeDistributed)\n",
      "mrcnn_mask_bn3         (TimeDistributed)\n",
      "mrcnn_class_conv2      (TimeDistributed)\n",
      "mrcnn_class_bn2        (TimeDistributed)\n",
      "mrcnn_mask_conv4       (TimeDistributed)\n",
      "mrcnn_mask_bn4         (TimeDistributed)\n",
      "mrcnn_bbox_fc          (TimeDistributed)\n",
      "mrcnn_mask_deconv      (TimeDistributed)\n",
      "mrcnn_class_logits     (TimeDistributed)\n",
      "mrcnn_mask             (TimeDistributed)\n",
      "Epoch 1/3\n",
      "50/50 [==============================] - 47s 940ms/step - loss: 2.5674 - rpn_class_loss: 0.1663 - rpn_bbox_loss: 0.8216 - mrcnn_class_loss: 0.4464 - mrcnn_bbox_loss: 0.6088 - mrcnn_mask_loss: 0.5243 - val_loss: 1.6709 - val_rpn_class_loss: 0.0889 - val_rpn_bbox_loss: 0.6498 - val_mrcnn_class_loss: 0.1872 - val_mrcnn_bbox_loss: 0.2848 - val_mrcnn_mask_loss: 0.4602\n",
      "Epoch 2/3\n",
      "50/50 [==============================] - 28s 554ms/step - loss: 1.4254 - rpn_class_loss: 0.0715 - rpn_bbox_loss: 0.5337 - mrcnn_class_loss: 0.1739 - mrcnn_bbox_loss: 0.2688 - mrcnn_mask_loss: 0.3775 - val_loss: 1.2917 - val_rpn_class_loss: 0.0531 - val_rpn_bbox_loss: 0.5437 - val_mrcnn_class_loss: 0.1162 - val_mrcnn_bbox_loss: 0.2463 - val_mrcnn_mask_loss: 0.3324\n",
      "Epoch 3/3\n",
      "50/50 [==============================] - 28s 559ms/step - loss: 1.2353 - rpn_class_loss: 0.0571 - rpn_bbox_loss: 0.4638 - mrcnn_class_loss: 0.1565 - mrcnn_bbox_loss: 0.2286 - mrcnn_mask_loss: 0.3293 - val_loss: 1.0396 - val_rpn_class_loss: 0.0386 - val_rpn_bbox_loss: 0.5023 - val_mrcnn_class_loss: 0.0750 - val_mrcnn_bbox_loss: 0.1623 - val_mrcnn_mask_loss: 0.2614\n"
     ]
    }
   ],
   "source": [
    "# Ignore these warnings for now as they seem to be irrelevant so far\n",
    "warnings.filterwarnings(\n",
    "    'ignore', category=UserWarning,\n",
    "    message='Converting sparse IndexedSlices to a dense Tensor of unknown shape'\n",
    ")\n",
    "warnings.filterwarnings(\n",
    "    'ignore', category=UserWarning,\n",
    "    message='Using a generator with `use_multiprocessing=True` and multiple workers may duplicate your data'\n",
    ")\n",
    "\n",
    "model.train(\n",
    "    dataset_train, dataset_val, \n",
    "    learning_rate=train_config.LEARNING_RATE, \n",
    "    epochs=n_epochs, \n",
    "    layers='heads'\n",
    ")"
   ]
  },
  {
   "cell_type": "markdown",
   "metadata": {},
   "source": [
    "## Quantification"
   ]
  },
  {
   "cell_type": "code",
   "execution_count": 8,
   "metadata": {},
   "outputs": [],
   "source": [
    "inference_config = CelldomInferenceConfig()\n",
    "model = mrcnn_model.get_model('inference', inference_config, model_dir, init_with='last')"
   ]
  },
  {
   "cell_type": "code",
   "execution_count": 68,
   "metadata": {},
   "outputs": [
    {
     "data": {
      "text/html": [
       "<div>\n",
       "<style scoped>\n",
       "    .dataframe tbody tr th:only-of-type {\n",
       "        vertical-align: middle;\n",
       "    }\n",
       "\n",
       "    .dataframe tbody tr th {\n",
       "        vertical-align: top;\n",
       "    }\n",
       "\n",
       "    .dataframe thead th {\n",
       "        text-align: right;\n",
       "    }\n",
       "</style>\n",
       "<table border=\"1\" class=\"dataframe\">\n",
       "  <thead>\n",
       "    <tr style=\"text-align: right;\">\n",
       "      <th></th>\n",
       "      <th>counts</th>\n",
       "      <th>image_id</th>\n",
       "      <th>image_info</th>\n",
       "      <th>scores_aptnum</th>\n",
       "      <th>scores_cell</th>\n",
       "      <th>scores_cellclump</th>\n",
       "      <th>scores_cellunion</th>\n",
       "      <th>scores_chamber</th>\n",
       "      <th>scores_stnum</th>\n",
       "      <th>stats_cell</th>\n",
       "      <th>stats_cellclump</th>\n",
       "      <th>stats_cellunion</th>\n",
       "      <th>stats_chamber</th>\n",
       "    </tr>\n",
       "  </thead>\n",
       "  <tbody>\n",
       "    <tr>\n",
       "      <th>0</th>\n",
       "      <td>{'pred': [28, 1, 1, 1, 1, 1], 'true': [34, 1, ...</td>\n",
       "      <td>0</td>\n",
       "      <td>/lab/data/celldom/data/dataset01/BF_ST_001_APT...</td>\n",
       "      <td>{'pred_status': 'Valid', 'dice': 0.85014049328...</td>\n",
       "      <td>{'pred_status': 'Valid', 'dice': 0.90818495880...</td>\n",
       "      <td>{'pred_status': 'Valid', 'dice': 0.92190548108...</td>\n",
       "      <td>{'pred_status': 'Valid', 'dice': 0.93618937347...</td>\n",
       "      <td>{'pred_status': 'Valid', 'dice': 0.96056108463...</td>\n",
       "      <td>{'pred_status': 'Valid', 'dice': 0.82280788993...</td>\n",
       "      <td>{'pred': [28.0, 388.67857142857144, 477.209795...</td>\n",
       "      <td>{'pred': [1.0, 7859.0, nan, 7859.0, 7859.0, 78...</td>\n",
       "      <td>{'pred': [1.0, 7514.0, nan, 7514.0, 7514.0, 75...</td>\n",
       "      <td>{'pred': [1.0, 39310.0, nan, 39310.0, 39310.0,...</td>\n",
       "    </tr>\n",
       "    <tr>\n",
       "      <th>1</th>\n",
       "      <td>{'pred': [74, 1, 1, 1, 1], 'true': [105, 1, 1,...</td>\n",
       "      <td>1</td>\n",
       "      <td>/lab/data/celldom/data/dataset01/BF_ST_001_APT...</td>\n",
       "      <td>{'pred_status': 'Valid', 'dice': 0.79703703703...</td>\n",
       "      <td>{'pred_status': 'Valid', 'dice': 0.88430854069...</td>\n",
       "      <td>{'pred_status': 'Empty', 'dice': nan, 'true_st...</td>\n",
       "      <td>{'pred_status': 'Valid', 'dice': 0.88632875920...</td>\n",
       "      <td>{'pred_status': 'Valid', 'dice': 0.95103313654...</td>\n",
       "      <td>{'pred_status': 'Valid', 'dice': 0.77904328018...</td>\n",
       "      <td>{'pred': [74.0, 340.52702702702703, 268.837080...</td>\n",
       "      <td>{'pred': [0.0, nan, nan, nan, nan, nan, nan, n...</td>\n",
       "      <td>{'pred': [1.0, 20289.0, nan, 20289.0, 20289.0,...</td>\n",
       "      <td>{'pred': [1.0, 41668.0, nan, 41668.0, 41668.0,...</td>\n",
       "    </tr>\n",
       "    <tr>\n",
       "      <th>2</th>\n",
       "      <td>{'pred': [6, 1, 1, 1, 1], 'true': [4, 2, 1, 1,...</td>\n",
       "      <td>2</td>\n",
       "      <td>/lab/data/celldom/data/dataset01/BF_ST_001_APT...</td>\n",
       "      <td>{'pred_status': 'Valid', 'dice': 0.88285004142...</td>\n",
       "      <td>{'pred_status': 'Valid', 'dice': 0.70649689846...</td>\n",
       "      <td>{'pred_status': 'Empty', 'dice': nan, 'true_st...</td>\n",
       "      <td>{'pred_status': 'Valid', 'dice': nan, 'true_st...</td>\n",
       "      <td>{'pred_status': 'Valid', 'dice': 0.94012183392...</td>\n",
       "      <td>{'pred_status': 'Valid', 'dice': 0.90926493108...</td>\n",
       "      <td>{'pred': [6.0, 306.1666666666667, 46.884610125...</td>\n",
       "      <td>{'pred': [0.0, nan, nan, nan, nan, nan, nan, n...</td>\n",
       "      <td>{'pred': [1.0, 1815.0, nan, 1815.0, 1815.0, 18...</td>\n",
       "      <td>{'pred': [1.0, 36663.0, nan, 36663.0, 36663.0,...</td>\n",
       "    </tr>\n",
       "    <tr>\n",
       "      <th>3</th>\n",
       "      <td>{'pred': [1, 1, 1, 1, 1], 'true': [1, 1, 1, 1,...</td>\n",
       "      <td>3</td>\n",
       "      <td>/lab/data/celldom/data/dataset01/BF_ST_001_APT...</td>\n",
       "      <td>{'pred_status': 'Valid', 'dice': 0.82600732600...</td>\n",
       "      <td>{'pred_status': 'Valid', 'dice': 0.94562647754...</td>\n",
       "      <td>{'pred_status': 'Empty', 'dice': nan, 'true_st...</td>\n",
       "      <td>{'pred_status': 'Valid', 'dice': 0.94562647754...</td>\n",
       "      <td>{'pred_status': 'Valid', 'dice': 0.92945220835...</td>\n",
       "      <td>{'pred_status': 'Valid', 'dice': 0.90671579299...</td>\n",
       "      <td>{'pred': [1.0, 208.0, nan, 208.0, 208.0, 208.0...</td>\n",
       "      <td>{'pred': [0.0, nan, nan, nan, nan, nan, nan, n...</td>\n",
       "      <td>{'pred': [1.0, 208.0, nan, 208.0, 208.0, 208.0...</td>\n",
       "      <td>{'pred': [1.0, 37360.0, nan, 37360.0, 37360.0,...</td>\n",
       "    </tr>\n",
       "    <tr>\n",
       "      <th>4</th>\n",
       "      <td>{'pred': [1, 1, 1, 1, 1], 'true': [1, 1, 1, 1,...</td>\n",
       "      <td>4</td>\n",
       "      <td>/lab/data/celldom/data/dataset01/BF_ST_001_APT...</td>\n",
       "      <td>{'pred_status': 'Valid', 'dice': 0.86308286308...</td>\n",
       "      <td>{'pred_status': 'Valid', 'dice': 0.88391038696...</td>\n",
       "      <td>{'pred_status': 'Empty', 'dice': nan, 'true_st...</td>\n",
       "      <td>{'pred_status': 'Valid', 'dice': 0.88391038696...</td>\n",
       "      <td>{'pred_status': 'Valid', 'dice': 0.92573175507...</td>\n",
       "      <td>{'pred_status': 'Valid', 'dice': 0.88046166529...</td>\n",
       "      <td>{'pred': [1.0, 223.0, nan, 223.0, 223.0, 223.0...</td>\n",
       "      <td>{'pred': [0.0, nan, nan, nan, nan, nan, nan, n...</td>\n",
       "      <td>{'pred': [1.0, 223.0, nan, 223.0, 223.0, 223.0...</td>\n",
       "      <td>{'pred': [1.0, 36640.0, nan, 36640.0, 36640.0,...</td>\n",
       "    </tr>\n",
       "  </tbody>\n",
       "</table>\n",
       "</div>"
      ],
      "text/plain": [
       "                                              counts  image_id  \\\n",
       "0  {'pred': [28, 1, 1, 1, 1, 1], 'true': [34, 1, ...         0   \n",
       "1  {'pred': [74, 1, 1, 1, 1], 'true': [105, 1, 1,...         1   \n",
       "2  {'pred': [6, 1, 1, 1, 1], 'true': [4, 2, 1, 1,...         2   \n",
       "3  {'pred': [1, 1, 1, 1, 1], 'true': [1, 1, 1, 1,...         3   \n",
       "4  {'pred': [1, 1, 1, 1, 1], 'true': [1, 1, 1, 1,...         4   \n",
       "\n",
       "                                          image_info  \\\n",
       "0  /lab/data/celldom/data/dataset01/BF_ST_001_APT...   \n",
       "1  /lab/data/celldom/data/dataset01/BF_ST_001_APT...   \n",
       "2  /lab/data/celldom/data/dataset01/BF_ST_001_APT...   \n",
       "3  /lab/data/celldom/data/dataset01/BF_ST_001_APT...   \n",
       "4  /lab/data/celldom/data/dataset01/BF_ST_001_APT...   \n",
       "\n",
       "                                       scores_aptnum  \\\n",
       "0  {'pred_status': 'Valid', 'dice': 0.85014049328...   \n",
       "1  {'pred_status': 'Valid', 'dice': 0.79703703703...   \n",
       "2  {'pred_status': 'Valid', 'dice': 0.88285004142...   \n",
       "3  {'pred_status': 'Valid', 'dice': 0.82600732600...   \n",
       "4  {'pred_status': 'Valid', 'dice': 0.86308286308...   \n",
       "\n",
       "                                         scores_cell  \\\n",
       "0  {'pred_status': 'Valid', 'dice': 0.90818495880...   \n",
       "1  {'pred_status': 'Valid', 'dice': 0.88430854069...   \n",
       "2  {'pred_status': 'Valid', 'dice': 0.70649689846...   \n",
       "3  {'pred_status': 'Valid', 'dice': 0.94562647754...   \n",
       "4  {'pred_status': 'Valid', 'dice': 0.88391038696...   \n",
       "\n",
       "                                    scores_cellclump  \\\n",
       "0  {'pred_status': 'Valid', 'dice': 0.92190548108...   \n",
       "1  {'pred_status': 'Empty', 'dice': nan, 'true_st...   \n",
       "2  {'pred_status': 'Empty', 'dice': nan, 'true_st...   \n",
       "3  {'pred_status': 'Empty', 'dice': nan, 'true_st...   \n",
       "4  {'pred_status': 'Empty', 'dice': nan, 'true_st...   \n",
       "\n",
       "                                    scores_cellunion  \\\n",
       "0  {'pred_status': 'Valid', 'dice': 0.93618937347...   \n",
       "1  {'pred_status': 'Valid', 'dice': 0.88632875920...   \n",
       "2  {'pred_status': 'Valid', 'dice': nan, 'true_st...   \n",
       "3  {'pred_status': 'Valid', 'dice': 0.94562647754...   \n",
       "4  {'pred_status': 'Valid', 'dice': 0.88391038696...   \n",
       "\n",
       "                                      scores_chamber  \\\n",
       "0  {'pred_status': 'Valid', 'dice': 0.96056108463...   \n",
       "1  {'pred_status': 'Valid', 'dice': 0.95103313654...   \n",
       "2  {'pred_status': 'Valid', 'dice': 0.94012183392...   \n",
       "3  {'pred_status': 'Valid', 'dice': 0.92945220835...   \n",
       "4  {'pred_status': 'Valid', 'dice': 0.92573175507...   \n",
       "\n",
       "                                        scores_stnum  \\\n",
       "0  {'pred_status': 'Valid', 'dice': 0.82280788993...   \n",
       "1  {'pred_status': 'Valid', 'dice': 0.77904328018...   \n",
       "2  {'pred_status': 'Valid', 'dice': 0.90926493108...   \n",
       "3  {'pred_status': 'Valid', 'dice': 0.90671579299...   \n",
       "4  {'pred_status': 'Valid', 'dice': 0.88046166529...   \n",
       "\n",
       "                                          stats_cell  \\\n",
       "0  {'pred': [28.0, 388.67857142857144, 477.209795...   \n",
       "1  {'pred': [74.0, 340.52702702702703, 268.837080...   \n",
       "2  {'pred': [6.0, 306.1666666666667, 46.884610125...   \n",
       "3  {'pred': [1.0, 208.0, nan, 208.0, 208.0, 208.0...   \n",
       "4  {'pred': [1.0, 223.0, nan, 223.0, 223.0, 223.0...   \n",
       "\n",
       "                                     stats_cellclump  \\\n",
       "0  {'pred': [1.0, 7859.0, nan, 7859.0, 7859.0, 78...   \n",
       "1  {'pred': [0.0, nan, nan, nan, nan, nan, nan, n...   \n",
       "2  {'pred': [0.0, nan, nan, nan, nan, nan, nan, n...   \n",
       "3  {'pred': [0.0, nan, nan, nan, nan, nan, nan, n...   \n",
       "4  {'pred': [0.0, nan, nan, nan, nan, nan, nan, n...   \n",
       "\n",
       "                                     stats_cellunion  \\\n",
       "0  {'pred': [1.0, 7514.0, nan, 7514.0, 7514.0, 75...   \n",
       "1  {'pred': [1.0, 20289.0, nan, 20289.0, 20289.0,...   \n",
       "2  {'pred': [1.0, 1815.0, nan, 1815.0, 1815.0, 18...   \n",
       "3  {'pred': [1.0, 208.0, nan, 208.0, 208.0, 208.0...   \n",
       "4  {'pred': [1.0, 223.0, nan, 223.0, 223.0, 223.0...   \n",
       "\n",
       "                                       stats_chamber  \n",
       "0  {'pred': [1.0, 39310.0, nan, 39310.0, 39310.0,...  \n",
       "1  {'pred': [1.0, 41668.0, nan, 41668.0, 41668.0,...  \n",
       "2  {'pred': [1.0, 36663.0, nan, 36663.0, 36663.0,...  \n",
       "3  {'pred': [1.0, 37360.0, nan, 37360.0, 37360.0,...  \n",
       "4  {'pred': [1.0, 36640.0, nan, 36640.0, 36640.0,...  "
      ]
     },
     "execution_count": 68,
     "metadata": {},
     "output_type": "execute_result"
    }
   ],
   "source": [
    "from cvutils.mrcnn import inference as mrcnn_inference\n",
    "from celldom import inference as celldom_inference\n",
    "\n",
    "pred_gen = mrcnn_inference.prediction_generator(model, dataset_val)\n",
    "analysis_fns = celldom_inference.get_default_analysis_fns()\n",
    "df = pd.DataFrame([celldom_inference.analyze_prediction(p, analysis_fns) for p in pred_gen])"
   ]
  },
  {
   "cell_type": "code",
   "execution_count": null,
   "metadata": {},
   "outputs": [],
   "source": [
    "df.info()"
   ]
  },
  {
   "cell_type": "code",
   "execution_count": null,
   "metadata": {},
   "outputs": [],
   "source": [
    "df.head()"
   ]
  },
  {
   "cell_type": "code",
   "execution_count": 70,
   "metadata": {},
   "outputs": [
    {
     "data": {
      "text/plain": [
       "{'pred': Cell         28\n",
       " Chamber       1\n",
       " AptNum        1\n",
       " CellClump     1\n",
       " Marker        1\n",
       " StNum         1\n",
       " dtype: int64, 'true': Cell         34\n",
       " Chamber       1\n",
       " AptNum        1\n",
       " CellClump     1\n",
       " Marker        1\n",
       " StNum         1\n",
       " dtype: int64}"
      ]
     },
     "execution_count": 70,
     "metadata": {},
     "output_type": "execute_result"
    }
   ],
   "source": [
    "export_path = osp.join(export_dir, 'stats.pkl')\n",
    "pm.record('stats_path', export_path)\n",
    "df.to_pickle(export_path)"
   ]
  }
 ],
 "metadata": {
  "celltoolbar": "Tags",
  "kernelspec": {
   "display_name": "Python 3",
   "language": "python",
   "name": "python3"
  },
  "language_info": {
   "codemirror_mode": {
    "name": "ipython",
    "version": 3
   },
   "file_extension": ".py",
   "mimetype": "text/x-python",
   "name": "python",
   "nbconvert_exporter": "python",
   "pygments_lexer": "ipython3",
   "version": "3.5.2"
  }
 },
 "nbformat": 4,
 "nbformat_minor": 2
}
